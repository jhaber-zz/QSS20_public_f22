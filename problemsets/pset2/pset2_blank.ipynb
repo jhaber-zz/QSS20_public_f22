{
 "cells": [
  {
   "cell_type": "markdown",
   "id": "c7edf036",
   "metadata": {},
   "source": [
    "# Problem Set 2 (Total: 34 points)\n",
    "\n",
    "This problem set will give you practice with:\n",
    "\n",
    "- Data wrangling with pandas: groupby, subsetting, sorting, etc.\n",
    "- Defining your own functions\n",
    "- Visualizing trends in data\n",
    "\n",
    "We're going to investigate different types of disparities in sentencing between Black defendants and White defendants using the same Cook County sentencing dataset as for problem set 1. This analysis could be extended to study Hispanic defendants or, in a different jurisdiction, Asian and other minoritized groups.\n",
    "\n",
    "As before, this dataset reports the sentence given to defendants convicted of different crimes, and you can find [the data codebook here](https://datacatalog.cookcountyil.gov/api/views/tg8v-tm6u/files/8597cdda-f7e1-44d1-b0ce-0a4e43f8c980?download=true&filename=CCSAO%20Data%20Glossary.pdf) and the latest on these data [at the official website](https://datacatalog.cookcountyil.gov/Courts/Sentencing/tg8v-tm6u).\n",
    "\n",
    "**Details if interested in digging deeper** (optional): There is a lot to think about here in terms of (1) how we might measure disparities, and (2) what factors you would want to adjust for when deciding whether two defendants are 'similarly situated' but for their race. You can read more technical coverage in the following sources:\n",
    "\n",
    "- [Review of sentencing disparities research](https://www.journals.uchicago.edu/doi/full/10.1086/701505)\n",
    "- [Discussion of causal model/blinding race at charging stage of the prosecutorial process](https://5harad.com/papers/blind-charging.pdf)\n",
    "- [Discussion of measuring discrimination in policing that can generalize to the sentencing case](https://www.annualreviews.org/doi/abs/10.1146/annurev-criminol-011518-024731)\n",
    "- [General discussion of causal challenges in measuring between-group disparities](https://osf.io/preprints/socarxiv/gx4y3/)\n",
    "\n",
    "**One major caveat**: when comparing whether two similar defendants received different sentences, we're missing one important attribute that influences sentencing: the defendant's criminal history. This influences sentencing both through sentencing guidelines, which can prescribe longer sentences for those who have certain types of prior convictions, and through judicial discretion if judges are more lenient with first-time defendants. The above sources discuss how much we want to \"control away\" for this prior history, since if we think there are racial biases in which defendants, conditional on *committing* a crime, are arrested and charged, we may not want to adjust for that factor."
   ]
  },
  {
   "cell_type": "markdown",
   "id": "1932aa32",
   "metadata": {},
   "source": [
    "# 0. Load packages and imports"
   ]
  },
  {
   "cell_type": "code",
   "execution_count": null,
   "id": "7402061e",
   "metadata": {},
   "outputs": [],
   "source": [
    "## basic functionality\n",
    "import pandas as pd\n",
    "import numpy as np\n",
    "import re\n",
    "\n",
    "## for plotting; can also use seaborn\n",
    "## note: for plotnine, you likely need to install using pip or conda\n",
    "import plotnine\n",
    "from plotnine import *\n",
    "import matplotlib.pyplot as plt\n",
    "\n",
    "## repeated printouts\n",
    "from IPython.core.interactiveshell import InteractiveShell\n",
    "InteractiveShell.ast_node_interactivity = \"all\"\n",
    "\n",
    "## datetime util\n",
    "from dateutil.relativedelta import relativedelta"
   ]
  },
  {
   "cell_type": "markdown",
   "id": "f63cc59a",
   "metadata": {},
   "source": [
    "## 0.1 Load the data (0 points)\n",
    "\n",
    "Use `pd.read_csv` to load the `sentencing_cleaned.csv` data. This file is included in the same zip file we used for pset1; if you haven't already, you'll need to unzip `pset1_inputdata.zip` (try the `unzip` shell command). When loading in the data, make sure you're pointing to the right directory and *don't* hard-code your user-specific path name--instead, use relative paths with `../` to go up a level if/when needed.\n",
    "\n",
    "You'll notice the data is slightly different from what we used for pset 1. \n",
    "\n",
    "**Hint:**\n",
    "You may receive a warning about mixed data types upon loading the .csv file into pandas; feel free to ignore, or call `low_memory=False` as a parameter.\n",
    "\n",
    "**Concepts tested and resources:** \n",
    "\n",
    "- Filepaths and moving around in terminal, as covered in [the lecture and activities on workflow tools](https://github.com/jhaber-zz/QSS20_public/blob/main/slides/04_qss20_f22_workflow.pdf)"
   ]
  },
  {
   "cell_type": "code",
   "execution_count": null,
   "id": "8b64d744",
   "metadata": {},
   "outputs": [],
   "source": [
    "# your code here"
   ]
  },
  {
   "cell_type": "markdown",
   "id": "f84e7974",
   "metadata": {},
   "source": [
    "# 1. Investigate Black vs. White sentencing disparities"
   ]
  },
  {
   "cell_type": "markdown",
   "id": "b6ce0f3b",
   "metadata": {},
   "source": [
    "## 1.1 Investigating one type of between-group difference: who reaches the sentencing stage? (5 points)\n",
    "\n",
    "Calculate the fraction of Black versus White defendants by month and year:\n",
    "\n",
    "- Denominator is number of unique cases that month\n",
    "- Numerator for black defendants is count of `is_black_derived`\n",
    "- Numerator for white defendants is count of `is_white_derived`\n",
    "- Fraction of each is numerator/denominator\n",
    "\n",
    "**Hint:**\n",
    "For this and other time-based questions in this pset, you can use either `sentenceym_derived` or `sentenceymd_derived` (whichever makes more sense for the question).\n",
    "\n",
    "**Concepts tested and resources**:\n",
    "- Groupby and agg, as covered in [these lecture slides on data wrangling](https://github.com/jhaber-zz/QSS20_public/blob/main/slides/02_qss20_f22_pandas.pdf), [the class activity on data wrangling](https://github.com/jhaber-zz/QSS20_public/blob/main/activities/00_pandas_datacleaning_blank.ipynb) and its [solutions](https://github.com/jhaber-zz/QSS20_public/blob/main/activities/solutions/00_pandas_datacleaning_solutions.ipynb), and [the DataCamp on Data Manipulation with Pandas](https://app.datacamp.com/learn/courses/data-manipulation-with-pandas)\n",
    "\n",
    "- List comprehension (one option), as covered in [these lecture slides on lists & functions](https://github.com/jhaber-zz/QSS20_public/blob/main/slides/03_qss20_f22_userdefinedfunctions.pdf)\n"
   ]
  },
  {
   "cell_type": "code",
   "execution_count": null,
   "id": "94846d65",
   "metadata": {},
   "outputs": [],
   "source": [
    "# your code here"
   ]
  },
  {
   "cell_type": "markdown",
   "id": "9d1f12ad",
   "metadata": {},
   "source": [
    "- With that calculation, create a graph with two lines--- one for Black defendants as fraction of total; another for White defendants. Make sure it includes a legend summarizing which color is for which group, and clean the legend so that it has informative names (e.g., Black or White rather than prop_black or prop_white)\n",
    "- Use mathematical notation to write out each of the proportions using summation notation in a 1-2 sentence writeup describing trends. What seems to be going on in April and May 2020? \n",
    "\n",
    "**Optional challenge** (no extra credit points): improve the viz by shading the background of the visualization for months with fewer than 100 cases \n",
    "\n",
    "**Optional challenge** (no extra credit points): improve the viz by adding a vertical line for 12-01-2016, the month that new State's Attorney Foxx took office \n",
    "\n",
    "**Hints:**\n",
    "\n",
    "- Access mathematical notation in Jupyter notebooks with the dollar sign (`$`) special character and commands like `\\dfrac{Numerator}{Denominator}` and `\\sum_{start}^{end}`, e.g.: \n",
    "$\\dfrac{\\sum_{i}^{N} One thing}{\\sum_{i}^{N} Another thing}$\n",
    "\n",
    "**Concepts tested and resources:** \n",
    "\n",
    "- Visualization, as covered in [this plotnine example code](https://github.com/jhaber-zz/QSS20_public/blob/main/activities/02_plottingexamples_plotnine.ipynb), chapter 4 of [the DataCamp course on Data Manipulation with Pandas](https://app.datacamp.com/learn/courses/data-manipulation-with-pandas), and the optional DataCamp courses on Data Visualization with ggplot2/Matplotlib"
   ]
  },
  {
   "cell_type": "code",
   "execution_count": null,
   "id": "bfa9ce6f",
   "metadata": {},
   "outputs": [],
   "source": [
    "# your code here"
   ]
  },
  {
   "cell_type": "markdown",
   "id": "da2b6481",
   "metadata": {},
   "source": [
    "(Your interpretation here)"
   ]
  },
  {
   "cell_type": "markdown",
   "id": "b42afa5b",
   "metadata": {},
   "source": [
    "## 1.2 Investigating the first type of disparity: probation versus incarceration (9 points)\n",
    "\n",
    "One type of disparity beyond who arrives at the sentencing stage is whether the defendant receives probation or incaceration.\n",
    "\n",
    "According to the codebook, incarceration is indicated by `COMMITMENT_TYPE` == \"Illinois Department of Corrections\"\n",
    "\n",
    "Recreate the previous plot but where the y axis represents the difference between the following proportions (can be either Black - White or White - Black but make sure to label):\n",
    "\n",
    "- Percent of black defendants who are incarcerated out of all black defendants that month/year \n",
    "- Percent of white defendants who are incarcerated out of all white defendants that month/year \n",
    "\n",
    "The resulting line should reflect the disparities in rates between black and white. So, for instance, if the Black incarceration rate is 60% and White is 40%, the line would be at 20% (if looking at Black - white). \n",
    "\n",
    "Briefly interpret the results.\n",
    "\n",
    "**Extra credit** (1 point): Improve the viz by plotting a smoothed/best-fit version of the above line, for a total of **two lines** in a single plot.\n",
    "\n",
    "**Hints**: \n",
    "\n",
    "- There are lots of ways to prepare your data in a way that swaps axes. One option is to flip the table with [`pd.pivot()`](https://pandas.pydata.org/pandas-docs/stable/reference/api/pandas.DataFrame.pivot.html), rename the columns, then divide the number incarcerated for each race by total number of cases for that race. \n",
    "\n",
    "- To rename columns, you can use this general syntax: `df.columns = ['sentences', 'black count', 'white count']`. Make sure the length of colnames list is equivalent to number of cols in the aggregated data you’re working with.\n",
    "\n",
    "**Concepts tested and resources:** \n",
    "\n",
    "- Groupby with agg and row subsetting with logical conditions (e.g., with np.where), as covered in [these lecture slides on data wrangling](https://github.com/jhaber-zz/QSS20_public/blob/main/slides/02_qss20_f22_pandas.pdf), [the class activity on data wrangling](https://github.com/jhaber-zz/QSS20_public/blob/main/activities/00_pandas_datacleaning_blank.ipynb) and its [solutions](https://github.com/jhaber-zz/QSS20_public/blob/main/activities/solutions/00_pandas_datacleaning_solutions.ipynb), and [the DataCamp on Data Manipulation with Pandas](https://app.datacamp.com/learn/courses/data-manipulation-with-pandas)\n",
    "\n",
    "- Visualization, as covered in [this plotnine example code](https://github.com/jhaber-zz/QSS20_public/blob/main/activities/02_plottingexamples_plotnine.ipynb), chapter 4 of [the DataCamp course on Data Manipulation with Pandas](https://app.datacamp.com/learn/courses/data-manipulation-with-pandas), and the optional DataCamp courses on Data Visualization with ggplot2/Matplotlib"
   ]
  },
  {
   "cell_type": "code",
   "execution_count": null,
   "id": "f6413ffe",
   "metadata": {},
   "outputs": [],
   "source": [
    "# your code here"
   ]
  },
  {
   "cell_type": "markdown",
   "id": "25a2f0ee",
   "metadata": {},
   "source": [
    "(Your interpretation here)"
   ]
  },
  {
   "cell_type": "markdown",
   "id": "64a08866",
   "metadata": {},
   "source": [
    "## 1.3 Investigating mechanisms: incarceration rates by charge\n",
    "\n",
    "Your colleague sees the previous graph and is worried that the gap could be different---either wider or smaller---if you adjust for the fact that prosecutors have discretion in what crimes to charge defendants with. If white defendants are charged with crimes that tend to receive probation rather than incarceration, that could explain some of the gaps.\n",
    "\n",
    "In the next questions, you'll begin to investigate this."
   ]
  },
  {
   "cell_type": "code",
   "execution_count": null,
   "id": "bfbb614a",
   "metadata": {},
   "outputs": [],
   "source": [
    "# your code here"
   ]
  },
  {
   "cell_type": "markdown",
   "id": "936f88ca",
   "metadata": {},
   "source": [
    "### 1.3.1 Find the most common offenses (3 points)\n",
    "\n",
    "First, create a set of 'frequent offenses' that represent (over the entire period) the union of the 10 offenses Black defendant are most likely to be charged with and the 10 offenses white defendants are most likely to be charged with (might be far less than 20 total if there's a lot of overlap in common charges)\n",
    "\n",
    "Use the `simplified_offense_derived` for this.\n",
    "\n",
    "**Hint:** To get the unique elements of a list (i.e., remove overlaps), create a `set()`, which only stores unique values (syntax slightly different than with lists).\n",
    "\n",
    "**Concepts tested and resources:**\n",
    "\n",
    "- Row subsetting and sorting, as covered in [these lecture slides on data wrangling](https://github.com/jhaber-zz/QSS20_public/blob/main/slides/02_qss20_f22_pandas.pdf), [the class activity on data wrangling](https://github.com/jhaber-zz/QSS20_public/blob/main/activities/00_pandas_datacleaning_blank.ipynb) and its [solutions](https://github.com/jhaber-zz/QSS20_public/blob/main/activities/solutions/00_pandas_datacleaning_solutions.ipynb), and [the DataCamp on Data Manipulation with Pandas](https://app.datacamp.com/learn/courses/data-manipulation-with-pandas)"
   ]
  },
  {
   "cell_type": "code",
   "execution_count": null,
   "id": "19b307d9",
   "metadata": {},
   "outputs": [],
   "source": [
    "# your code here"
   ]
  },
  {
   "cell_type": "markdown",
   "id": "ba268d9d",
   "metadata": {},
   "source": [
    "### 1.3.2 Look at incarceration rates (again just whether incarcerated) by race and offense type for these top offenses (3 points)\n",
    "\n",
    "Print a wide-format version of the resulting table (so each row is an offense type, one col is black incarceration rate for that offense type; another is the white incarceration rate) and interpret. What offenses show the largest disparities in judges being less likely to sentence White defendants to incarceration/more likely to offer those defendants probation?\n",
    "\n",
    "**Hint:** To create a wide-format version of a table, one option is [`pd.pivot_table()`](https://pandas.pydata.org/pandas-docs/stable/reference/api/pandas.DataFrame.pivot_table.html). \n",
    "\n",
    "**Concepts tested and resources:**\n",
    "\n",
    "- Row subsetting with logical conditions (e.g., with np.where), as covered in [these lecture slides on data wrangling](https://github.com/jhaber-zz/QSS20_public/blob/main/slides/02_qss20_f22_pandas.pdf) and [the class activity on data wrangling](https://github.com/jhaber-zz/QSS20_public/blob/main/activities/00_pandas_datacleaning_blank.ipynb) and its [solutions](https://github.com/jhaber-zz/QSS20_public/blob/main/activities/solutions/00_pandas_datacleaning_solutions.ipynb)"
   ]
  },
  {
   "cell_type": "code",
   "execution_count": null,
   "id": "dd06adb8",
   "metadata": {},
   "outputs": [],
   "source": [
    "# your code here"
   ]
  },
  {
   "cell_type": "markdown",
   "id": "c22f1f2c",
   "metadata": {},
   "source": [
    "(Your text response here)"
   ]
  },
  {
   "cell_type": "markdown",
   "id": "0d714cf2",
   "metadata": {},
   "source": [
    "### 1.3.3 Examine whether this changes pre and post change to charging threshold for retail theft (10 points)\n",
    "\n",
    "One important question is not only whether there are disparities by offense type, but also whether these disparities have changed over time.\n",
    "\n",
    "For instance, the SAO (State Attorney Office) announced in December of 2016 that they would no longer default to charging retail thefts of under \\$1,000 as felonies. This change might have (1) decreased disparities or (2) increased disparities, depending on the correlation between race/ethnicity and magnitude of goods stolen (see [this article](https://www.dnainfo.com/chicago/20161215/little-village/kim-foxx-raises-bar-for-retail-theft-felonies/) for more background). \n",
    "\n",
    "Focusing on `simplified_offense_derived` == \"Retail theft\", write a user-defined function that allows you to efficiently: \n",
    "\n",
    "- Compare Black-White disparities before and after the change using a two-month bandwidth (so pre is October and November 2016; post is January and February 2017)\n",
    "\n",
    "- Compare Black-White disparities before and after the change using a four-month bandwidth (so pre is August- November 2016; post is January - April 2017)\n",
    "\n",
    "- Compare Black-White disparities using an eight-month bandwidth\n",
    "\n",
    "- Compare Black-White disparities using a twelve-month bandwidth\n",
    "\n",
    "In other words, the function should compare percentages of defendants incarcerated for retail theft by race. The numerator in the proportions is the # of defendants incarcerated for retail theft, the denom is # of total defendants for retail theft (calculate this separately for each race and separately for before versus after); disparity is the difference in proportions.\n",
    "\n",
    "Exclude Dec. 2016 as a transition month.\n",
    "\n",
    "------------------ \n",
    "\n",
    "Print a table with the results (any organization is fine as long as it's clear).\n",
    " \n",
    "------------------ \n",
    " \n",
    "**Concepts tested and resources**:\n",
    "    \n",
    "- User-defined functions and list comprehensions, as covered in [these slides](https://github.com/jhaber-zz/QSS20_public/blob/main/slides/03_qss20_f22_userdefinedfunctions.pdf) and [the functions activity](https://github.com/jhaber-zz/QSS20_public/blob/main/activities/01_functions_blank.ipynb) and [its solutions](https://github.com/jhaber-zz/QSS20_public/blob/main/activities/solutions/01_functions_solutions.ipynb)\n",
    "\n",
    "- Row subsetting with logical conditions (e.g., with np.where), as covered in [these lecture slides on data wrangling](https://github.com/jhaber-zz/QSS20_public/blob/main/slides/02_qss20_f22_pandas.pdf) and [the class activity on data wrangling](https://github.com/jhaber-zz/QSS20_public/blob/main/activities/00_pandas_datacleaning_blank.ipynb) and its [solutions](https://github.com/jhaber-zz/QSS20_public/blob/main/activities/solutions/00_pandas_datacleaning_solutions.ipynb)\n",
    "\n",
    "- Visualization, as covered in [this plotnine example code](https://github.com/jhaber-zz/QSS20_public/blob/main/activities/02_plottingexamples_plotnine.ipynb), chapter 4 of [the DataCamp course on Data Manipulation with Pandas](https://app.datacamp.com/learn/courses/data-manipulation-with-pandas), and the optional DataCamp courses on Data Visualization with ggplot2/Matplotlib\n",
    "\n",
    "**Hints on function:** Your function should take these steps:\n",
    "\n",
    "1. Create a December 2016 object. \n",
    "2. Filter to rows within December 2016 +- that # of months. For example, for the 2-month bandwidth, the \"before\" period is Oct and Nov 2016; after is Jan and Feb 2017. \n",
    "3. Within that filtered dataset, examine Black-White disparities in incarceration before versus after. One shortcut for doing this is to keep the full dataframe together and construct an `is_after` indicator (e.g., using `np.where()`) that takes the value of `True` if after Dec 2016 (and otherwise is False), and then group by that and a categorical race variable. This step produces a single dataframe for each time window--e.g., a dataframe for the 2-month bandwidth, a dataframe for the 4-month one, etc. \n",
    "4. Use `pd.concat` to combine those dataframes into a single dataframe.\n",
    "\n",
    "**Hint on output:** The table you make should have two Black-white disparities per bandwidth: one disparity (e.g., a 10 percentage point difference in incarceration rates) before the policy change and another disparity after (e.g., a 5 percentage point difference in incarceration rates). "
   ]
  },
  {
   "cell_type": "code",
   "execution_count": null,
   "id": "0ad3dffe",
   "metadata": {},
   "outputs": [],
   "source": [
    "# your code here"
   ]
  },
  {
   "cell_type": "markdown",
   "id": "26d5e1a9",
   "metadata": {},
   "source": [
    "### 1.3.4 Visualize the above (4 points)\n",
    "\n",
    "Use the table you just made to create a bar chart, where the x axis represents different bandwidths (2, 4, etc); the y axis the size of the Black-White gap, and for each of the x axis points, you have one shaded bar representing \"before\" the change, another representing \"after\" the change (make sure that before is ordered before after and the bandwidths are from smallest to largest)\n",
    "\n",
    "*Note*: for each of the bandwidths include dates spanning the entire month (e.g., for the first, include not only 02-01-2017 but everything up through 02-28-2017; easiest way is for the subsetting to use the rounded `sentenceym_derived`. Also make sure to only include white or black defendants.\n",
    "\n",
    "\n",
    "**Hints**: \n",
    "\n",
    "- Depending on how you calculate/reshape things, you may find [this issue useful for how to collapse column names with a multilevel index](https://stackoverflow.com/questions/24290297/pandas-dataframe-with-multiindex-column-merge-levels) (also may not need it depending on how you structure the code).\n",
    "\n",
    "- The x-axis on the plot should be a categorical variable, with each of the bandwidths and with separate bars for before vs. after. If you want to change the order of the categories, [check out the `reorder_categories` function in this SO issue](https://stackoverflow.com/questions/38023881/pandas-change-the-order-of-levels-of-factor-type-object).\n",
    "\n",
    "**Extra credit** (1 point): because the bandwidths have different sample sizes, a better viz incorporates measures of uncertainty. Add standard errors to the points using the formula: $(\\dfrac{p(1-p)}{n})^{0.5}$ where N is the number of cases in each bandwidth period."
   ]
  },
  {
   "cell_type": "code",
   "execution_count": null,
   "id": "f4cc750f",
   "metadata": {},
   "outputs": [],
   "source": [
    "# your code here"
   ]
  },
  {
   "cell_type": "markdown",
   "id": "bbe49c7a",
   "metadata": {},
   "source": [
    "### 1.3.5 Interpret the results (1 point)\n",
    "\n",
    "Write a two-sentence interpretation of the results. What might this show about how people on both sides of the issue---those arguing the policy change will narrow disparities; those arguing the change may widen disparities--could support their claims? "
   ]
  },
  {
   "cell_type": "markdown",
   "id": "33b2a062",
   "metadata": {},
   "source": [
    "(your interpretation here)"
   ]
  },
  {
   "cell_type": "markdown",
   "id": "278cb1db",
   "metadata": {},
   "source": [
    "# 2. Extra credit (2 points)\n",
    "\n",
    "The above question asked about black-white disparities before and after the policy change. Write a new user-defined function that:\n",
    "\n",
    "- Has an argument(s) to indicate the levels of the `RACE` variable in the original data that will constitute two groups to compare: group 1 and group 2 (eg in one execution of the function, group 1 might be non-Hispanic white; group 2 might be Hispanic and Black; in another execution, group 1 might be Asian; group 2 but might be Hispanic. Note all levels need to be included in a group)\n",
    "- Can be used to calculate the same bandwidth-specific disparities as above for defendants in those two groups\n",
    "- Returns a table or plot with the results\n",
    "\n",
    "**Concepts tested and resources**:\n",
    "    \n",
    "- User-defined functions, as covered in [the lecture on functions](https://github.com/jhaber-zz/QSS20_public/blob/main/slides/03_qss20_f22_userdefinedfunctions.pdf) and [the functions activity](https://github.com/jhaber-zz/QSS20_public/blob/main/activities/01_functions_blank.ipynb) and [its solutions](https://github.com/jhaber-zz/QSS20_public/blob/main/activities/solutions/01_functions_solutions.ipynb)"
   ]
  },
  {
   "cell_type": "code",
   "execution_count": null,
   "id": "038f190f",
   "metadata": {},
   "outputs": [],
   "source": [
    "# your code here"
   ]
  }
 ],
 "metadata": {
  "kernelspec": {
   "display_name": "Python 3 (ipykernel)",
   "language": "python",
   "name": "python3"
  },
  "language_info": {
   "codemirror_mode": {
    "name": "ipython",
    "version": 3
   },
   "file_extension": ".py",
   "mimetype": "text/x-python",
   "name": "python",
   "nbconvert_exporter": "python",
   "pygments_lexer": "ipython3",
   "version": "3.10.5"
  }
 },
 "nbformat": 4,
 "nbformat_minor": 5
}
