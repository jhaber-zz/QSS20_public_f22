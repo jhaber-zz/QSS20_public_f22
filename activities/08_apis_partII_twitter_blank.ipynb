{
 "cells": [
  {
   "cell_type": "code",
   "execution_count": null,
   "metadata": {},
   "outputs": [],
   "source": [
    "## imports\n",
    "import pandas as pd\n",
    "import numpy as np\n",
    "import re\n",
    "import requests\n",
    "import yaml\n",
    "import tweepy\n",
    "import pickle\n",
    "import plotnine\n",
    "from plotnine import *\n",
    "\n",
    "## repeated printouts\n",
    "from IPython.core.interactiveshell import InteractiveShell\n",
    "InteractiveShell.ast_node_interactivity = \"all\"\n",
    "pd.set_option('display.max_colwidth', None)\n",
    "\n",
    "## function to load credentials yaml\n",
    "def load_creds(path: str):\n",
    "    with open(path, 'r') as stream:\n",
    "        try:\n",
    "            creds = yaml.safe_load(stream)\n",
    "        except yaml.YAMLError as exc:\n",
    "            print(exc)\n",
    "    return(creds)"
   ]
  },
  {
   "cell_type": "markdown",
   "metadata": {},
   "source": [
    "# Setup: authenticate to Twitter API"
   ]
  },
  {
   "cell_type": "code",
   "execution_count": null,
   "metadata": {},
   "outputs": [],
   "source": [
    "## read creds file\n",
    "## change to the pathname of where your yaml file is stored\n",
    "creds = load_creds(\"my_cred_JH.yaml\")\n",
    "\n",
    "## use bearer token to initialize a tweepy client (connection with twitter API)\n",
    "client = tweepy.Client(bearer_token= creds['twitter_api']['bearer_token'])\n",
    "\n",
    "## print type\n",
    "print(type(client))"
   ]
  },
  {
   "cell_type": "markdown",
   "metadata": {},
   "source": [
    "# Activity"
   ]
  },
  {
   "cell_type": "markdown",
   "metadata": {},
   "source": [
    "1. Choose a public user (e.g., a politician; celebrity) and pull 100 tweets from their timeline and metadata about those tweets. When pulling metadata, make sure to get the conversation_id and count of replies (latter is in public_metrics)\n",
    "2. Choose one of their tweets to focus on that got a lot of replies and get the conversation_id of that tweet\n",
    "3. Paste the conversation id of that tweet into a query using [this documentation for query building](https://developer.twitter.com/en/docs/twitter-api/tweets/search/integrate/build-a-query#examples). Note that the whole query should be a string, e.g. 'conversation_id:1334987486343299072'.\n",
    "4. Similar to example 1.1 in the example code, use the `search_recent_tweets` method to pull tweets that are in response to the focal tweet from step 2. If this returns no data, manually try a different `conversation_id` (some tweets start retrievable \"conversations\", others don't).\n",
    "5. Place them in a dataframe and do some text analysis of the results (eg sentiment; tokenizing and top words)\n"
   ]
  }
 ],
 "metadata": {
  "kernelspec": {
   "display_name": "Python 3 (ipykernel)",
   "language": "python",
   "name": "python3"
  },
  "language_info": {
   "codemirror_mode": {
    "name": "ipython",
    "version": 3
   },
   "file_extension": ".py",
   "mimetype": "text/x-python",
   "name": "python",
   "nbconvert_exporter": "python",
   "pygments_lexer": "ipython3",
   "version": "3.10.5"
  }
 },
 "nbformat": 4,
 "nbformat_minor": 4
}
