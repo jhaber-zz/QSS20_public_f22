{
 "cells": [
  {
   "cell_type": "code",
   "execution_count": null,
   "metadata": {},
   "outputs": [],
   "source": [
    "## imports\n",
    "import pandas as pd\n",
    "import numpy as np\n",
    "import plotnine\n",
    "from plotnine import *\n",
    "\n",
    "## print multiple things from same cell\n",
    "from IPython.core.interactiveshell import InteractiveShell\n",
    "InteractiveShell.ast_node_interactivity = \"all\"\n"
   ]
  },
  {
   "cell_type": "code",
   "execution_count": null,
   "metadata": {},
   "outputs": [],
   "source": [
    "## load data on 2020 crimes in DC\n",
    "dc_crim_2020 = pd.read_csv(\"https://opendata.arcgis.com/datasets/f516e0dd7b614b088ad781b0c4002331_2.csv\")\n",
    "dc_crim_2020.head()\n",
    "dc_crim_2020.shape\n",
    "dc_crim_2020.info()\n"
   ]
  },
  {
   "cell_type": "markdown",
   "metadata": {},
   "source": [
    "# Example of creating a table to export to latex"
   ]
  },
  {
   "cell_type": "code",
   "execution_count": null,
   "metadata": {},
   "outputs": [],
   "source": [
    "method_v_offense = pd.crosstab(dc_crim_2020.METHOD, \n",
    "                              dc_crim_2020.OFFENSE)\n",
    "method_v_offense\n",
    "\n",
    "## method 1- transpose and print a table to console to copy/paste\n",
    "print(method_v_offense.T.to_latex(index = True, caption = \"Types of weapons in offenses\",\n",
    "                                 label = \"tab:method_offense\"))\n",
    "\n",
    "## method 2- write .tex to folder and upload to overleaf/reference the tex file directly \n",
    "method_v_offense.T.to_latex(\"methodoffense.tex\", \n",
    "                            index = True, caption = \"Types of weapons in offenses\",\n",
    "                            label = \"tab:method_offense_written\")\n",
    "\n",
    "\n",
    "## for method 2, if working with latex locally, can also then\n",
    "## just reference the filepath directly rather than uploading to overleaf"
   ]
  },
  {
   "cell_type": "markdown",
   "metadata": {},
   "source": [
    "## Example of creating a figure to export \n"
   ]
  },
  {
   "cell_type": "code",
   "execution_count": null,
   "metadata": {},
   "outputs": [],
   "source": [
    "## create a fig with the count of crimes by shift \n",
    "\n",
    "count_byshift = pd.DataFrame(dc_crim_2020.groupby('SHIFT')['CCN'].nunique()).reset_index()\n",
    "\n",
    "plot_shifts = (ggplot(count_byshift, aes(x = 'SHIFT', \n",
    "                                       y = 'CCN')) +\n",
    "            geom_bar(stat = \"identity\", fill = \"firebrick\") +\n",
    "            theme_classic() +\n",
    "            xlab(\"Which shift?\") +\n",
    "            ylab(\"Count of crimes\") +\n",
    "            theme(axis_text = element_text(size = 14, color = \"black\")))\n",
    "plot_shifts\n",
    "\n",
    "## method 1- (would avoid)- can left click and save image\n",
    "\n",
    "## method 2 - write image\n",
    "plot_shifts.save(\"plot_shifts.png\", \n",
    "                width = 12,\n",
    "                height = 8,\n",
    "                verbose = False)"
   ]
  },
  {
   "cell_type": "markdown",
   "metadata": {},
   "source": [
    "# Activity "
   ]
  },
  {
   "cell_type": "markdown",
   "metadata": {},
   "source": [
    "1. The previous table you exported shows the COUNT of methods used by type of offense. Export a new Table to your LaTeX doc that contains the PROPORTION that each method represents for each offense (eg 80+% of homicides are with a gun as the method). Hint: you can use the normalize parameter within the pd.crosstab command for this: https://pandas.pydata.org/docs/reference/api/pandas.crosstab.html. Make sure the proportions for each offense type (eg homicides) sums to 1\n",
    "\n",
    "2. Create the same shift versus count of crimes plot but just for Ward 2 (the ward where Georgetown is located). Save it as plot_shifts_ward2.png and import into your LaTeX memo/summarize with a caption\n",
    "\n",
    "3. **Challenge exercise**: an analyst on a different team wants a breakdown of how the workload varies by shift. They want a separate figure showing the count of crimes on the y axis and shift on the x axis for each of the wards. Using a user-defined function that creates a plot for ONE WARD, write a separate bar plot for each WARD and make sure to programatically change the name of the plot filename so you know which is which. "
   ]
  },
  {
   "cell_type": "code",
   "execution_count": null,
   "metadata": {},
   "outputs": [],
   "source": [
    "## your code here"
   ]
  }
 ],
 "metadata": {
  "kernelspec": {
   "display_name": "Python 3",
   "language": "python",
   "name": "python3"
  },
  "language_info": {
   "codemirror_mode": {
    "name": "ipython",
    "version": 3
   },
   "file_extension": ".py",
   "mimetype": "text/x-python",
   "name": "python",
   "nbconvert_exporter": "python",
   "pygments_lexer": "ipython3",
   "version": "3.8.3"
  }
 },
 "nbformat": 4,
 "nbformat_minor": 4
}
