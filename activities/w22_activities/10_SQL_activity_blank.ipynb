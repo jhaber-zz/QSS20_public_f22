{
 "cells": [
  {
   "cell_type": "code",
   "execution_count": 4,
   "metadata": {},
   "outputs": [],
   "source": [
    "## imports \n",
    "import pandas as pd\n",
    "import numpy as np\n",
    "import yaml\n",
    "import plotnine\n",
    "from plotnine import *\n",
    "\n",
    "## way to connect to mysql \n",
    "\n",
    "import mysql.connector\n",
    "\n",
    "## function to feed path name to load\n",
    "## credentials\n",
    "def load_creds(path: str):\n",
    "    with open(path, 'r') as stream:\n",
    "        try:\n",
    "            creds = yaml.safe_load(stream)\n",
    "        except yaml.YAMLError as exc:\n",
    "            print(exc)\n",
    "    return(creds)\n",
    "\n",
    "pd.options.display.max_rows = 999\n",
    "from IPython.core.interactiveshell import InteractiveShell\n",
    "InteractiveShell.ast_node_interactivity = \"all\""
   ]
  },
  {
   "cell_type": "markdown",
   "metadata": {},
   "source": [
    "# Preliminary: define connection and read sample of data"
   ]
  },
  {
   "cell_type": "code",
   "execution_count": 2,
   "metadata": {},
   "outputs": [],
   "source": [
    "## read in creds; change the path name if stored\n",
    "## elsewhere\n",
    "creds = load_creds(\"../../private_data/qss20_w22_dbcred.yaml\")\n"
   ]
  },
  {
   "cell_type": "code",
   "execution_count": 36,
   "metadata": {},
   "outputs": [
    {
     "data": {
      "text/plain": [
       "<mysql.connector.connection.MySQLConnection at 0x7fad73873cd0>"
      ]
     },
     "execution_count": 36,
     "metadata": {},
     "output_type": "execute_result"
    }
   ],
   "source": [
    "## connect to the database\n",
    "cnx = mysql.connector.connect(user=creds['practice_database']['user'], \n",
    "                            password=creds['practice_database']['password'],\n",
    "                            port=creds['practice_database']['port'],\n",
    "                            database= creds['practice_database']['database'],\n",
    "                            host = creds['practice_database']['host'])\n",
    "cnx"
   ]
  },
  {
   "cell_type": "markdown",
   "metadata": {},
   "source": [
    "# Activity 1\n",
    "\n",
    "1. Create a new column -- `in_chicago` when pulling from the `caseinit` table that takes on the value of \"YES\" if INCIDENT_CITY = Chicago; \"NO\" otherwise (which represents incidents in Cook County suburbs outside the city limits);  and pull the table. Use `crosstabs` to confirm that this worked\n",
    "2. Repeat step 1 but also filter out blank strings (`INCIDENT_CITY` == \"\")\n",
    "3. Use `where` to row filter to initiations in Chicago and use group by to find the count of cases diverted and not diverted (`is_in_diversion`); pull the table with those counts\n",
    "4. Modify the query in step 3 to find the proportion of cases in chicago diverted (hint you made need to use case when in a subquery)\n",
    "5. Modify the query in step 4 to find the proportion of cases in chicago versus cases not in chicago sent to diversion \n"
   ]
  },
  {
   "cell_type": "code",
   "execution_count": 53,
   "metadata": {},
   "outputs": [
    {
     "data": {
      "text/html": [
       "<div>\n",
       "<style scoped>\n",
       "    .dataframe tbody tr th:only-of-type {\n",
       "        vertical-align: middle;\n",
       "    }\n",
       "\n",
       "    .dataframe tbody tr th {\n",
       "        vertical-align: top;\n",
       "    }\n",
       "\n",
       "    .dataframe thead th {\n",
       "        text-align: right;\n",
       "    }\n",
       "</style>\n",
       "<table border=\"1\" class=\"dataframe\">\n",
       "  <thead>\n",
       "    <tr style=\"text-align: right;\">\n",
       "      <th></th>\n",
       "      <th>count_cases</th>\n",
       "      <th>is_in_diversion</th>\n",
       "    </tr>\n",
       "  </thead>\n",
       "  <tbody>\n",
       "    <tr>\n",
       "      <th>0</th>\n",
       "      <td>1702</td>\n",
       "      <td>False</td>\n",
       "    </tr>\n",
       "    <tr>\n",
       "      <th>1</th>\n",
       "      <td>1394</td>\n",
       "      <td>True</td>\n",
       "    </tr>\n",
       "  </tbody>\n",
       "</table>\n",
       "</div>"
      ],
      "text/plain": [
       "   count_cases is_in_diversion\n",
       "0         1702           False\n",
       "1         1394            True"
      ]
     },
     "execution_count": 53,
     "metadata": {},
     "output_type": "execute_result"
    },
    {
     "data": {
      "text/html": [
       "<div>\n",
       "<style scoped>\n",
       "    .dataframe tbody tr th:only-of-type {\n",
       "        vertical-align: middle;\n",
       "    }\n",
       "\n",
       "    .dataframe tbody tr th {\n",
       "        vertical-align: top;\n",
       "    }\n",
       "\n",
       "    .dataframe thead th {\n",
       "        text-align: right;\n",
       "    }\n",
       "</style>\n",
       "<table border=\"1\" class=\"dataframe\">\n",
       "  <thead>\n",
       "    <tr style=\"text-align: right;\">\n",
       "      <th></th>\n",
       "      <th>prop_divert</th>\n",
       "    </tr>\n",
       "  </thead>\n",
       "  <tbody>\n",
       "    <tr>\n",
       "      <th>0</th>\n",
       "      <td>0.4503</td>\n",
       "    </tr>\n",
       "  </tbody>\n",
       "</table>\n",
       "</div>"
      ],
      "text/plain": [
       "   prop_divert\n",
       "0       0.4503"
      ]
     },
     "execution_count": 53,
     "metadata": {},
     "output_type": "execute_result"
    }
   ],
   "source": [
    "q1 = \"\"\"\n",
    "select *,\n",
    "case when INCIDENT_CITY = 'Chicago' then 'Yes'\n",
    "else 'No'\n",
    "end as in_chicago\n",
    "from caseinit\n",
    "\"\"\"\n",
    "\n",
    "q1_res = pd.read_sql_query(q1, cnx)\n",
    "\n",
    "\n",
    "q2 = \"\"\"\n",
    "select *,\n",
    "case when INCIDENT_CITY = 'Chicago' then 'Yes'\n",
    "else 'No'\n",
    "end as in_chicago\n",
    "from caseinit\n",
    "where INCIDENT_CITY <> \"\"\n",
    "\"\"\"\n",
    "q2_res = pd.read_sql_query(q2, cnx)\n",
    "#pd.crosstab(q1_res.in_chicago, q1_res.INCIDENT_CITY).T\n",
    "#pd.crosstab(q2_res.in_chicago, q2_res.INCIDENT_CITY).T\n",
    "\n",
    "q3 = \"\"\"\n",
    "select count(*) as count_cases,\n",
    "is_in_diversion\n",
    "from caseinit\n",
    "where INCIDENT_CITY = \"Chicago\"\n",
    "group by is_in_diversion\n",
    "\"\"\"\n",
    "q3_res = pd.read_sql_query(q3, cnx)\n",
    "q3_res\n",
    "\n",
    "q4 = \"\"\"\n",
    "select avg(divert_binary) as prop_divert\n",
    "from (select *,\n",
    "case when is_in_diversion = 'True' then 1\n",
    "else 0\n",
    "end as divert_binary\n",
    "from caseinit) as d\n",
    "where INCIDENT_CITY = \"Chicago\"\n",
    "\"\"\"\n",
    "q4_res = pd.read_sql_query(q4, cnx)\n",
    "q4_res"
   ]
  },
  {
   "cell_type": "code",
   "execution_count": 54,
   "metadata": {},
   "outputs": [
    {
     "data": {
      "text/html": [
       "<div>\n",
       "<style scoped>\n",
       "    .dataframe tbody tr th:only-of-type {\n",
       "        vertical-align: middle;\n",
       "    }\n",
       "\n",
       "    .dataframe tbody tr th {\n",
       "        vertical-align: top;\n",
       "    }\n",
       "\n",
       "    .dataframe thead th {\n",
       "        text-align: right;\n",
       "    }\n",
       "</style>\n",
       "<table border=\"1\" class=\"dataframe\">\n",
       "  <thead>\n",
       "    <tr style=\"text-align: right;\">\n",
       "      <th></th>\n",
       "      <th>count_divert</th>\n",
       "      <th>is_in_diversion</th>\n",
       "    </tr>\n",
       "  </thead>\n",
       "  <tbody>\n",
       "    <tr>\n",
       "      <th>0</th>\n",
       "      <td>1702</td>\n",
       "      <td>False</td>\n",
       "    </tr>\n",
       "    <tr>\n",
       "      <th>1</th>\n",
       "      <td>1394</td>\n",
       "      <td>True</td>\n",
       "    </tr>\n",
       "  </tbody>\n",
       "</table>\n",
       "</div>"
      ],
      "text/plain": [
       "   count_divert is_in_diversion\n",
       "0          1702           False\n",
       "1          1394            True"
      ]
     },
     "execution_count": 54,
     "metadata": {},
     "output_type": "execute_result"
    },
    {
     "data": {
      "text/html": [
       "<div>\n",
       "<style scoped>\n",
       "    .dataframe tbody tr th:only-of-type {\n",
       "        vertical-align: middle;\n",
       "    }\n",
       "\n",
       "    .dataframe tbody tr th {\n",
       "        vertical-align: top;\n",
       "    }\n",
       "\n",
       "    .dataframe thead th {\n",
       "        text-align: right;\n",
       "    }\n",
       "</style>\n",
       "<table border=\"1\" class=\"dataframe\">\n",
       "  <thead>\n",
       "    <tr style=\"text-align: right;\">\n",
       "      <th></th>\n",
       "      <th>prop_div</th>\n",
       "    </tr>\n",
       "  </thead>\n",
       "  <tbody>\n",
       "    <tr>\n",
       "      <th>0</th>\n",
       "      <td>0.4503</td>\n",
       "    </tr>\n",
       "  </tbody>\n",
       "</table>\n",
       "</div>"
      ],
      "text/plain": [
       "   prop_div\n",
       "0    0.4503"
      ]
     },
     "execution_count": 54,
     "metadata": {},
     "output_type": "execute_result"
    },
    {
     "data": {
      "text/html": [
       "<div>\n",
       "<style scoped>\n",
       "    .dataframe tbody tr th:only-of-type {\n",
       "        vertical-align: middle;\n",
       "    }\n",
       "\n",
       "    .dataframe tbody tr th {\n",
       "        vertical-align: top;\n",
       "    }\n",
       "\n",
       "    .dataframe thead th {\n",
       "        text-align: right;\n",
       "    }\n",
       "</style>\n",
       "<table border=\"1\" class=\"dataframe\">\n",
       "  <thead>\n",
       "    <tr style=\"text-align: right;\">\n",
       "      <th></th>\n",
       "      <th>prop_div</th>\n",
       "      <th>in_chicago</th>\n",
       "    </tr>\n",
       "  </thead>\n",
       "  <tbody>\n",
       "    <tr>\n",
       "      <th>0</th>\n",
       "      <td>0.5956</td>\n",
       "      <td>No</td>\n",
       "    </tr>\n",
       "    <tr>\n",
       "      <th>1</th>\n",
       "      <td>0.4503</td>\n",
       "      <td>Yes</td>\n",
       "    </tr>\n",
       "  </tbody>\n",
       "</table>\n",
       "</div>"
      ],
      "text/plain": [
       "   prop_div in_chicago\n",
       "0    0.5956         No\n",
       "1    0.4503        Yes"
      ]
     },
     "execution_count": 54,
     "metadata": {},
     "output_type": "execute_result"
    }
   ],
   "source": [
    "# your code here\n",
    "q1 = \"\"\"\n",
    "select *, \n",
    "CASE WHEN INCIDENT_CITY = 'Chicago' then 'yes' \n",
    "ELSE 'no' end as in_chicago\n",
    "from caseinit\n",
    "\"\"\"\n",
    "res  = pd.read_sql_query(q1, cnx)\n",
    "#res\n",
    "\n",
    "#pd.crosstab(res.INCIDENT_CITY, res.in_chicago)\n",
    "\n",
    "q1_noblank = \"\"\"\n",
    "select *, \n",
    "CASE WHEN INCIDENT_CITY = 'Chicago' then 'yes' \n",
    "ELSE 'no' end as in_chicago\n",
    "from caseinit\n",
    "where INCIDENT_CITY <> \"\"\n",
    "\"\"\"\n",
    "\n",
    "\n",
    "res_nob  = pd.read_sql_query(q1_noblank, cnx)\n",
    "#pd.crosstab(res_nob.INCIDENT_CITY, res_nob.in_chicago)\n",
    "\n",
    "q3 = \"\"\"\n",
    "select count(*) as count_divert, is_in_diversion\n",
    "from caseinit\n",
    "where INCIDENT_CITY = 'Chicago'\n",
    "group by is_in_diversion\n",
    "\"\"\"\n",
    "\n",
    "res_div  = pd.read_sql_query(q3, cnx)\n",
    "res_div\n",
    "\n",
    "q4 = \"\"\"\n",
    "select avg(diversion_bool) as prop_div\n",
    "from\n",
    "(select *, \n",
    "CASE WHEN is_in_diversion = 'True' then 1\n",
    "ELSE 0 \n",
    "END as diversion_bool\n",
    "from caseinit) as d \n",
    "where INCIDENT_CITY = 'Chicago'\n",
    "\"\"\"\n",
    "\n",
    "res_div_p  = pd.read_sql_query(q4, cnx)\n",
    "res_div_p.head()\n",
    "\n",
    "\n",
    "## step 5\n",
    "query_propdiv_compare = \"\"\"\n",
    "select avg(is_div_bool) as prop_div, in_chicago\n",
    "from  (select *,\n",
    "CASE when is_in_diversion = 'True' then 1\n",
    "ELSE 0\n",
    "END as is_div_bool,\n",
    "CASE when INCIDENT_CITY = 'Chicago' then 'Yes'\n",
    "ELSE 'No'\n",
    "END as in_chicago\n",
    "from caseinit) as d\n",
    "where INCIDENT_CITY <> ''\n",
    "group by in_chicago\n",
    "\"\"\"\n",
    "prop_div_compare = pd.read_sql_query(query_propdiv_compare, cnx)\n",
    "prop_div_compare"
   ]
  },
  {
   "cell_type": "markdown",
   "metadata": {},
   "source": [
    "# Activity 2 \n",
    "\n",
    "1. Use the following crosswalk and the `CASE` variable in the `divert` table to create a new variable `DIVERSION_PROGRAM_TEXT` that spells out the diversion programs\n",
    "    - DC: Drug Court\n",
    "\n",
    "    - DDPP: Drug Deferred Prosecution\n",
    "\n",
    "    - DS: Drug School\n",
    "\n",
    "    - RJCC: Restorative Justice\n",
    "\n",
    "    - MHC: Mental Health Court\n",
    "\n",
    "    - VC: Veteran Court\n",
    "\n",
    "2. Build on the query from step 1 to filter to Narcotics as the `UPDATED_OFFENSE_CATEGORY` and Black or White defendants (based on race in the diversions table) (hint: you'll need to join with the caseinit table based on case_id and case_participant_id, you can do a inner join to keep only those diverted). Select the case_id, case_participant_id, case, race, and diversion_program_text columns\n",
    "\n",
    "3. Built on the query from step 2 (and/or modify to just focus on drug school and drug court) to find the (1) rate of Black defendants sent to drug court, (2) rate of white defendants sent to drug court, (3) rate of Black defendants sent to drug school, and (4) rate of white defendants sent to drug school\n"
   ]
  },
  {
   "cell_type": "code",
   "execution_count": null,
   "metadata": {},
   "outputs": [],
   "source": [
    "# your code here"
   ]
  }
 ],
 "metadata": {
  "kernelspec": {
   "display_name": "Python 3",
   "language": "python",
   "name": "python3"
  },
  "language_info": {
   "codemirror_mode": {
    "name": "ipython",
    "version": 3
   },
   "file_extension": ".py",
   "mimetype": "text/x-python",
   "name": "python",
   "nbconvert_exporter": "python",
   "pygments_lexer": "ipython3",
   "version": "3.8.3"
  }
 },
 "nbformat": 4,
 "nbformat_minor": 4
}
