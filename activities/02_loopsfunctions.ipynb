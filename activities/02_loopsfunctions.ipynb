{
 "cells": [
  {
   "cell_type": "code",
   "execution_count": null,
   "metadata": {},
   "outputs": [],
   "source": [
    "## imports\n",
    "import pandas as pd\n",
    "import numpy as np\n",
    "import plotnine\n",
    "from plotnine import *\n",
    "import random\n",
    "\n",
    "## print multiple things from same cell\n",
    "from IPython.core.interactiveshell import InteractiveShell\n",
    "InteractiveShell.ast_node_interactivity = \"all\"\n",
    "\n",
    "from datetime import datetime, timedelta"
   ]
  },
  {
   "cell_type": "markdown",
   "metadata": {},
   "source": [
    "## Load data"
   ]
  },
  {
   "cell_type": "code",
   "execution_count": null,
   "metadata": {
    "scrolled": true
   },
   "outputs": [],
   "source": [
    "## load data on 2020 crimes in DC\n",
    "dc_crim_2020 = pd.read_csv(\"https://opendata.arcgis.com/datasets/f516e0dd7b614b088ad781b0c4002331_2.csv\")\n",
    "\n",
    "## create report_dt column\n",
    "dc_crim_2020['report_dt'] = pd.to_datetime(dc_crim_2020.REPORT_DAT)\n",
    "\n",
    "## define crimes to look for and crimes to look within\n",
    "CCN_examples = ['20165648', '20123250']\n",
    "crimes_lookfor = dc_crim_2020.loc[dc_crim_2020.CCN.astype(str).isin(CCN_examples),\n",
    "                ['CCN', 'WARD', 'OFFENSE', 'report_dt']].copy()\n",
    "other_crimes = dc_crim_2020[~dc_crim_2020.CCN.astype(str).isin(CCN_examples)].copy()\n",
    "\n",
    "## print crimes_lookfor\n",
    "crimes_lookfor.head()\n",
    "# other_crimes.head()"
   ]
  },
  {
   "cell_type": "markdown",
   "metadata": {},
   "source": [
    "**Task**: we have two crimes we want to look for. We want to look in the remaining crime reports for crime reports that are:\n",
    "\n",
    "- Located in the same ward as the two focal crimes\n",
    "- Reported at the same time as the focal crime or up to 1000 minutes later (changed from slides which stated 20 mins since crime ids changed since last time so this long bandwidth helps us find matches!)\n",
    "\n",
    "Solutions compare two ways to solve:\n",
    "\n",
    "- Using a for loop\n",
    "- Using a function"
   ]
  },
  {
   "cell_type": "markdown",
   "metadata": {},
   "source": [
    "## 1. Loop approach"
   ]
  },
  {
   "cell_type": "code",
   "execution_count": null,
   "metadata": {},
   "outputs": [],
   "source": [
    "## create empty container to store results \n",
    "store_matches = {}\n",
    "\n",
    "## loop through two example crimes\n",
    "for i in range(0, crimes_lookfor.shape[0]):\n",
    "    \n",
    "    ## extract row\n",
    "    one_row = crimes_lookfor.iloc[i]\n",
    "    \n",
    "    ## first, subset to crimes in same ward\n",
    "    same_wards = other_crimes[other_crimes.WARD == one_row.WARD].copy()\n",
    "    \n",
    "    ## second, with those same-ward crimes, construct indicator for reported within 20 minutes\n",
    "    ## (interpreting as after but could do either)\n",
    "    ### substep: get time cutoff\n",
    "    cutoff = one_row.report_dt +  timedelta(minutes=1000)\n",
    "    \n",
    "    ### substep: use that to subset\n",
    "    same_wards_sametime = same_wards[(same_wards.report_dt >= one_row.report_dt) & \n",
    "                                    (same_wards.report_dt <= cutoff)].copy()\n",
    "    \n",
    "    ## third, store the results\n",
    "    store_matches[str(one_row.CCN)] = same_wards_sametime\n",
    "    \n",
    "## finally, concatenate results into one df\n",
    "all_matches = pd.concat(store_matches)\n",
    "all_matches.head()\n"
   ]
  },
  {
   "cell_type": "markdown",
   "metadata": {},
   "source": [
    "## 2. Function approach\n",
    "\n",
    "Practice rewriting the above loop as a function"
   ]
  },
  {
   "cell_type": "markdown",
   "metadata": {},
   "source": [
    "### 2.1 define the function"
   ]
  },
  {
   "cell_type": "code",
   "execution_count": null,
   "metadata": {},
   "outputs": [],
   "source": [
    "\n",
    "    "
   ]
  },
  {
   "cell_type": "markdown",
   "metadata": {},
   "source": [
    "### 2.2 apply it to one of the focal crimes"
   ]
  },
  {
   "cell_type": "code",
   "execution_count": null,
   "metadata": {},
   "outputs": [],
   "source": []
  },
  {
   "cell_type": "markdown",
   "metadata": {},
   "source": [
    "### 2.3 Use list comprehension to iterate and apply it over the other focal crimes"
   ]
  },
  {
   "cell_type": "code",
   "execution_count": null,
   "metadata": {},
   "outputs": [],
   "source": []
  }
 ],
 "metadata": {
  "kernelspec": {
   "display_name": "Python 3",
   "language": "python",
   "name": "python3"
  },
  "language_info": {
   "codemirror_mode": {
    "name": "ipython",
    "version": 3
   },
   "file_extension": ".py",
   "mimetype": "text/x-python",
   "name": "python",
   "nbconvert_exporter": "python",
   "pygments_lexer": "ipython3",
   "version": "3.8.3"
  }
 },
 "nbformat": 4,
 "nbformat_minor": 4
}
