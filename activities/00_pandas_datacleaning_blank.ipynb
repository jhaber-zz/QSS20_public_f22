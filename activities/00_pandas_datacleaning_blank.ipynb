{
 "cells": [
  {
   "cell_type": "markdown",
   "metadata": {},
   "source": [
    "## 0. Load imports "
   ]
  },
  {
   "cell_type": "code",
   "execution_count": 1,
   "metadata": {},
   "outputs": [],
   "source": [
    "## imports\n",
    "import pandas as pd\n",
    "import numpy as np\n",
    "\n",
    "\n",
    "## print multiple things from same cell\n",
    "from IPython.core.interactiveshell import InteractiveShell\n",
    "InteractiveShell.ast_node_interactivity = \"all\"\n"
   ]
  },
  {
   "cell_type": "markdown",
   "metadata": {},
   "source": [
    "## 0. Load data"
   ]
  },
  {
   "cell_type": "code",
   "execution_count": 2,
   "metadata": {},
   "outputs": [
    {
     "data": {
      "text/html": [
       "<div>\n",
       "<style scoped>\n",
       "    .dataframe tbody tr th:only-of-type {\n",
       "        vertical-align: middle;\n",
       "    }\n",
       "\n",
       "    .dataframe tbody tr th {\n",
       "        vertical-align: top;\n",
       "    }\n",
       "\n",
       "    .dataframe thead th {\n",
       "        text-align: right;\n",
       "    }\n",
       "</style>\n",
       "<table border=\"1\" class=\"dataframe\">\n",
       "  <thead>\n",
       "    <tr style=\"text-align: right;\">\n",
       "      <th></th>\n",
       "      <th>X</th>\n",
       "      <th>Y</th>\n",
       "      <th>CCN</th>\n",
       "      <th>REPORT_DAT</th>\n",
       "      <th>SHIFT</th>\n",
       "      <th>METHOD</th>\n",
       "      <th>OFFENSE</th>\n",
       "      <th>BLOCK</th>\n",
       "      <th>XBLOCK</th>\n",
       "      <th>YBLOCK</th>\n",
       "      <th>...</th>\n",
       "      <th>BLOCK_GROUP</th>\n",
       "      <th>CENSUS_TRACT</th>\n",
       "      <th>VOTING_PRECINCT</th>\n",
       "      <th>LATITUDE</th>\n",
       "      <th>LONGITUDE</th>\n",
       "      <th>BID</th>\n",
       "      <th>START_DATE</th>\n",
       "      <th>END_DATE</th>\n",
       "      <th>OBJECTID</th>\n",
       "      <th>OCTO_RECORD_ID</th>\n",
       "    </tr>\n",
       "  </thead>\n",
       "  <tbody>\n",
       "    <tr>\n",
       "      <th>0</th>\n",
       "      <td>-77.023988</td>\n",
       "      <td>38.901486</td>\n",
       "      <td>5370</td>\n",
       "      <td>2020/01/17 02:39:05+00</td>\n",
       "      <td>EVENING</td>\n",
       "      <td>OTHERS</td>\n",
       "      <td>THEFT F/AUTO</td>\n",
       "      <td>900 - 999 BLOCK OF 9TH STREET NW</td>\n",
       "      <td>397919.40</td>\n",
       "      <td>137069.63</td>\n",
       "      <td>...</td>\n",
       "      <td>005802 5</td>\n",
       "      <td>5802.0</td>\n",
       "      <td>Precinct 129</td>\n",
       "      <td>38.901478</td>\n",
       "      <td>-77.023986</td>\n",
       "      <td>DOWNTOWN</td>\n",
       "      <td>2020/01/11 02:48:51+00</td>\n",
       "      <td>2020/01/17 02:48:54+00</td>\n",
       "      <td>216265753</td>\n",
       "      <td>NaN</td>\n",
       "    </tr>\n",
       "    <tr>\n",
       "      <th>1</th>\n",
       "      <td>-77.030788</td>\n",
       "      <td>38.911876</td>\n",
       "      <td>16641</td>\n",
       "      <td>2020/01/28 05:14:39+00</td>\n",
       "      <td>MIDNIGHT</td>\n",
       "      <td>OTHERS</td>\n",
       "      <td>THEFT F/AUTO</td>\n",
       "      <td>1300 - 1399 BLOCK OF CORCORAN STREET NW</td>\n",
       "      <td>397330.00</td>\n",
       "      <td>138223.20</td>\n",
       "      <td>...</td>\n",
       "      <td>005001 2</td>\n",
       "      <td>5001.0</td>\n",
       "      <td>Precinct 16</td>\n",
       "      <td>38.911868</td>\n",
       "      <td>-77.030785</td>\n",
       "      <td>NaN</td>\n",
       "      <td>2020/01/28 05:14:58+00</td>\n",
       "      <td>2020/01/28 05:15:02+00</td>\n",
       "      <td>216265754</td>\n",
       "      <td>NaN</td>\n",
       "    </tr>\n",
       "    <tr>\n",
       "      <th>2</th>\n",
       "      <td>-77.001746</td>\n",
       "      <td>38.821637</td>\n",
       "      <td>18048023</td>\n",
       "      <td>2020/10/21 04:00:00+00</td>\n",
       "      <td>MIDNIGHT</td>\n",
       "      <td>OTHERS</td>\n",
       "      <td>HOMICIDE</td>\n",
       "      <td>4600 - 4799 BLOCK OF SOUTH CAPITOL STREET</td>\n",
       "      <td>399848.54</td>\n",
       "      <td>128205.63</td>\n",
       "      <td>...</td>\n",
       "      <td>009811 1</td>\n",
       "      <td>9811.0</td>\n",
       "      <td>Precinct 125</td>\n",
       "      <td>38.821630</td>\n",
       "      <td>-77.001744</td>\n",
       "      <td>NaN</td>\n",
       "      <td>2018/03/26 08:40:06+00</td>\n",
       "      <td>2018/03/26 10:04:44+00</td>\n",
       "      <td>216268429</td>\n",
       "      <td>NaN</td>\n",
       "    </tr>\n",
       "    <tr>\n",
       "      <th>3</th>\n",
       "      <td>-77.004495</td>\n",
       "      <td>38.928807</td>\n",
       "      <td>19073083</td>\n",
       "      <td>2020/12/11 05:00:00+00</td>\n",
       "      <td>MIDNIGHT</td>\n",
       "      <td>KNIFE</td>\n",
       "      <td>HOMICIDE</td>\n",
       "      <td>100 - 379 BLOCK OF MICHIGAN AVENUE NE</td>\n",
       "      <td>399610.40</td>\n",
       "      <td>140102.24</td>\n",
       "      <td>...</td>\n",
       "      <td>002302 2</td>\n",
       "      <td>2302.0</td>\n",
       "      <td>Precinct 44</td>\n",
       "      <td>38.928799</td>\n",
       "      <td>-77.004493</td>\n",
       "      <td>NaN</td>\n",
       "      <td>2019/04/29 20:50:27+00</td>\n",
       "      <td>2019/04/29 20:55:58+00</td>\n",
       "      <td>216477883</td>\n",
       "      <td>NaN</td>\n",
       "    </tr>\n",
       "    <tr>\n",
       "      <th>4</th>\n",
       "      <td>-77.085291</td>\n",
       "      <td>38.959920</td>\n",
       "      <td>20000964</td>\n",
       "      <td>2020/01/02 19:31:26+00</td>\n",
       "      <td>DAY</td>\n",
       "      <td>OTHERS</td>\n",
       "      <td>THEFT/OTHER</td>\n",
       "      <td>5300 - 5399 BLOCK OF WISCONSIN AVENUE NW</td>\n",
       "      <td>392607.98</td>\n",
       "      <td>143559.50</td>\n",
       "      <td>...</td>\n",
       "      <td>001004 1</td>\n",
       "      <td>1004.0</td>\n",
       "      <td>Precinct 31</td>\n",
       "      <td>38.959912</td>\n",
       "      <td>-77.085288</td>\n",
       "      <td>NaN</td>\n",
       "      <td>2020/01/02 18:10:05+00</td>\n",
       "      <td>2020/01/02 19:02:28+00</td>\n",
       "      <td>216490133</td>\n",
       "      <td>NaN</td>\n",
       "    </tr>\n",
       "  </tbody>\n",
       "</table>\n",
       "<p>5 rows × 25 columns</p>\n",
       "</div>"
      ],
      "text/plain": [
       "           X          Y       CCN              REPORT_DAT     SHIFT  METHOD  \\\n",
       "0 -77.023988  38.901486      5370  2020/01/17 02:39:05+00   EVENING  OTHERS   \n",
       "1 -77.030788  38.911876     16641  2020/01/28 05:14:39+00  MIDNIGHT  OTHERS   \n",
       "2 -77.001746  38.821637  18048023  2020/10/21 04:00:00+00  MIDNIGHT  OTHERS   \n",
       "3 -77.004495  38.928807  19073083  2020/12/11 05:00:00+00  MIDNIGHT   KNIFE   \n",
       "4 -77.085291  38.959920  20000964  2020/01/02 19:31:26+00       DAY  OTHERS   \n",
       "\n",
       "        OFFENSE                                      BLOCK     XBLOCK  \\\n",
       "0  THEFT F/AUTO           900 - 999 BLOCK OF 9TH STREET NW  397919.40   \n",
       "1  THEFT F/AUTO    1300 - 1399 BLOCK OF CORCORAN STREET NW  397330.00   \n",
       "2      HOMICIDE  4600 - 4799 BLOCK OF SOUTH CAPITOL STREET  399848.54   \n",
       "3      HOMICIDE      100 - 379 BLOCK OF MICHIGAN AVENUE NE  399610.40   \n",
       "4   THEFT/OTHER   5300 - 5399 BLOCK OF WISCONSIN AVENUE NW  392607.98   \n",
       "\n",
       "      YBLOCK  ...  BLOCK_GROUP CENSUS_TRACT  VOTING_PRECINCT   LATITUDE  \\\n",
       "0  137069.63  ...     005802 5       5802.0     Precinct 129  38.901478   \n",
       "1  138223.20  ...     005001 2       5001.0      Precinct 16  38.911868   \n",
       "2  128205.63  ...     009811 1       9811.0     Precinct 125  38.821630   \n",
       "3  140102.24  ...     002302 2       2302.0      Precinct 44  38.928799   \n",
       "4  143559.50  ...     001004 1       1004.0      Precinct 31  38.959912   \n",
       "\n",
       "   LONGITUDE       BID              START_DATE                END_DATE  \\\n",
       "0 -77.023986  DOWNTOWN  2020/01/11 02:48:51+00  2020/01/17 02:48:54+00   \n",
       "1 -77.030785       NaN  2020/01/28 05:14:58+00  2020/01/28 05:15:02+00   \n",
       "2 -77.001744       NaN  2018/03/26 08:40:06+00  2018/03/26 10:04:44+00   \n",
       "3 -77.004493       NaN  2019/04/29 20:50:27+00  2019/04/29 20:55:58+00   \n",
       "4 -77.085288       NaN  2020/01/02 18:10:05+00  2020/01/02 19:02:28+00   \n",
       "\n",
       "    OBJECTID  OCTO_RECORD_ID  \n",
       "0  216265753             NaN  \n",
       "1  216265754             NaN  \n",
       "2  216268429             NaN  \n",
       "3  216477883             NaN  \n",
       "4  216490133             NaN  \n",
       "\n",
       "[5 rows x 25 columns]"
      ]
     },
     "execution_count": 2,
     "metadata": {},
     "output_type": "execute_result"
    },
    {
     "data": {
      "text/plain": [
       "(27912, 25)"
      ]
     },
     "execution_count": 2,
     "metadata": {},
     "output_type": "execute_result"
    },
    {
     "name": "stdout",
     "output_type": "stream",
     "text": [
      "<class 'pandas.core.frame.DataFrame'>\n",
      "RangeIndex: 27912 entries, 0 to 27911\n",
      "Data columns (total 25 columns):\n",
      " #   Column                Non-Null Count  Dtype  \n",
      "---  ------                --------------  -----  \n",
      " 0   X                     27912 non-null  float64\n",
      " 1   Y                     27912 non-null  float64\n",
      " 2   CCN                   27912 non-null  int64  \n",
      " 3   REPORT_DAT            27912 non-null  object \n",
      " 4   SHIFT                 27912 non-null  object \n",
      " 5   METHOD                27912 non-null  object \n",
      " 6   OFFENSE               27912 non-null  object \n",
      " 7   BLOCK                 27912 non-null  object \n",
      " 8   XBLOCK                27912 non-null  float64\n",
      " 9   YBLOCK                27912 non-null  float64\n",
      " 10  WARD                  27912 non-null  int64  \n",
      " 11  ANC                   27912 non-null  object \n",
      " 12  DISTRICT              27883 non-null  float64\n",
      " 13  PSA                   27877 non-null  float64\n",
      " 14  NEIGHBORHOOD_CLUSTER  27912 non-null  object \n",
      " 15  BLOCK_GROUP           27911 non-null  object \n",
      " 16  CENSUS_TRACT          27911 non-null  float64\n",
      " 17  VOTING_PRECINCT       27912 non-null  object \n",
      " 18  LATITUDE              27912 non-null  float64\n",
      " 19  LONGITUDE             27912 non-null  float64\n",
      " 20  BID                   4657 non-null   object \n",
      " 21  START_DATE            27911 non-null  object \n",
      " 22  END_DATE              24831 non-null  object \n",
      " 23  OBJECTID              27912 non-null  int64  \n",
      " 24  OCTO_RECORD_ID        0 non-null      float64\n",
      "dtypes: float64(10), int64(3), object(12)\n",
      "memory usage: 5.3+ MB\n"
     ]
    }
   ],
   "source": [
    "## load data on 2020 crimes in DC\n",
    "dc_crim_2020 = pd.read_csv(\"https://opendata.arcgis.com/datasets/f516e0dd7b614b088ad781b0c4002331_2.csv\")\n",
    "dc_crim_2020.head()\n",
    "dc_crim_2020.shape\n",
    "dc_crim_2020.info()\n"
   ]
  },
  {
   "cell_type": "markdown",
   "metadata": {},
   "source": [
    "## 1. Aggregation"
   ]
  },
  {
   "cell_type": "markdown",
   "metadata": {},
   "source": [
    "### Example of grouping by one variable and doing one aggregation \n",
    "\n",
    "**Task**: find and print the number of unique offense types (`OFFENSE`) by ward (`WARD`)\n",
    "\n",
    "*Hint:* `'nunique'` is the built-in pandas aggregation function for counting unique elements in a list."
   ]
  },
  {
   "cell_type": "code",
   "execution_count": null,
   "metadata": {},
   "outputs": [],
   "source": [
    "## your code here"
   ]
  },
  {
   "cell_type": "markdown",
   "metadata": {},
   "source": [
    "### Example of grouping by one variable and providing two summaries of the same variable\n",
    "\n",
    "**Task**: The previous task showed number of offenses by ward, but now say we want to find out the content of offenses in each ward. Create an aggregation that summarizes both the number of unique offenses by ward **and** what those offenses are -- for instance, by pasting the unique offenses in that ward separated by the \";\" (e.g., Theft; Burglary;...).\n",
    "\n",
    "*Hint 1*: You can use a lambda function with the join command to paste together a list separated by some delimiter. The syntax looks like (with a comma delimiter): `\", \".join(nameoflist)`. \n",
    "\n",
    "*Hint 2*: You can get a list of all unique elements of a list with `nameoflist.unique()`."
   ]
  },
  {
   "cell_type": "code",
   "execution_count": null,
   "metadata": {},
   "outputs": [],
   "source": [
    "## your code here"
   ]
  },
  {
   "cell_type": "markdown",
   "metadata": {},
   "source": [
    "### Example of grouping by two variables \n",
    "\n",
    "**Task**: group by ward (`WARD`) and police shift (`SHIFT`) and find the offense that is most common in that ward and shift.\n",
    "\n",
    "*Hint*: Use `value_counts()` to count the frequency of each type of `OFFENSE`, then slice the first element from the sorted result. "
   ]
  },
  {
   "cell_type": "code",
   "execution_count": null,
   "metadata": {},
   "outputs": [],
   "source": [
    "## your code here"
   ]
  },
  {
   "cell_type": "markdown",
   "metadata": {},
   "source": [
    "## Summarizing over all rows or all columns (without grouping)\n",
    "\n",
    "We can also use the `apply` function to summarize rows or columns efficiently"
   ]
  },
  {
   "cell_type": "markdown",
   "metadata": {},
   "source": [
    "**Task**: Find the mean latitude and longitude in one line of code."
   ]
  },
  {
   "cell_type": "code",
   "execution_count": null,
   "metadata": {},
   "outputs": [],
   "source": [
    "## your code here"
   ]
  },
  {
   "cell_type": "markdown",
   "metadata": {},
   "source": [
    "## 2. Creating new columns/transforming their type "
   ]
  },
  {
   "cell_type": "markdown",
   "metadata": {},
   "source": [
    "### Simple np.where\n",
    "\n",
    "`np.where` is in the numpy package (aliased as `np`) and operates similar to `ifelse` in R\n",
    "\n",
    "**Task**: Create a new column `is_theft` in `dc_crim_2020` with a True/False indicator for any offense that contains the word \"THEFT\"."
   ]
  },
  {
   "cell_type": "code",
   "execution_count": null,
   "metadata": {},
   "outputs": [],
   "source": [
    "## your code here"
   ]
  },
  {
   "cell_type": "markdown",
   "metadata": {},
   "source": [
    "**Task**: Create another indicator `is_theft_notmotor` for any offense that contains the word \"THEFT\" but does not contain the word \"MOTOR\"\n",
    "\n",
    "*Hint*: Use the tilde (`~`) to negate a condition"
   ]
  },
  {
   "cell_type": "code",
   "execution_count": null,
   "metadata": {},
   "outputs": [],
   "source": [
    "## your code here"
   ]
  },
  {
   "cell_type": "markdown",
   "metadata": {},
   "source": [
    "### np.select\n",
    "\n",
    "**Task**: Create a new variable, `offense_summary`, where you:\n",
    "        \n",
    "- Recode theft offenses that use a `GUN` or `KNIFE` as the method (`METHOD`) as: `violent_theft`\n",
    "- Recode non-theft offenses that use a `GUN` or `KNIFE` as the method as: `violent_other`\n",
    "- Recode all other as `non-violent`\n",
    "\n",
    "*Hint 1*: There are multiple conditons to satisfy here. Use your `is_theft` indicator in conjunction with the one you're creating based on the `METHOD` column.\n",
    "\n",
    "*Hint 2*: When using `np.select()`, remember these steps: \n",
    "1. create a list of conditions\n",
    "2. create a list of corresponding names you want to recode into\n",
    "3. apply the above to create a new column"
   ]
  },
  {
   "cell_type": "code",
   "execution_count": null,
   "metadata": {},
   "outputs": [],
   "source": [
    "## your code here"
   ]
  },
  {
   "cell_type": "markdown",
   "metadata": {},
   "source": [
    "### map and dictionary\n",
    "\n",
    "**Task**: Recode shifts that are MIDNIGHT or EVENING as \"nighttime\"; code other shift to daytime\n",
    "\n",
    "*Hint 1*: You can learn the categories of `SHIFT` with `value_counts()`.\n",
    "\n",
    "*Hint 2*: First define a dictionary and then apply it with `map`. \n",
    "\n",
    "*Hint 3*: You can use the `fillna()` function to assign anything that doesn't fit your dictionary."
   ]
  },
  {
   "cell_type": "code",
   "execution_count": null,
   "metadata": {},
   "outputs": [],
   "source": [
    "## your code here"
   ]
  },
  {
   "cell_type": "markdown",
   "metadata": {},
   "source": [
    "### Using built-in pandas methods\n",
    "\n",
    "Another way of creating variables, used either alone or in combination with np.where and np.select is to use pandas built in `str` methods\n",
    "\n",
    "Basic structure is: `df['namestringcol'].str.someoperation`"
   ]
  },
  {
   "cell_type": "markdown",
   "metadata": {},
   "source": [
    "**Task**: using a `str` method, create a new variable--`OFFENSE_NOSP`--that replaces spaces in the `OFFENSE` column with underscores\n",
    "\n",
    "*Hint*: The string method for *replacing* things is called what you would expect."
   ]
  },
  {
   "cell_type": "code",
   "execution_count": null,
   "metadata": {},
   "outputs": [],
   "source": [
    "## your code here"
   ]
  },
  {
   "cell_type": "markdown",
   "metadata": {},
   "source": [
    "### Transforming column types\n",
    "\n",
    "**Task**: check the type of the `START_DATE` column"
   ]
  },
  {
   "cell_type": "code",
   "execution_count": null,
   "metadata": {},
   "outputs": [],
   "source": [
    "## your code here"
   ]
  },
  {
   "cell_type": "markdown",
   "metadata": {},
   "source": [
    "**Task**: recast the `START_DATE` column to datetime, calling this `START_DATE_CLEAN`; coerce errors rather than cleaning the string; check the type of that new col"
   ]
  },
  {
   "cell_type": "code",
   "execution_count": null,
   "metadata": {},
   "outputs": [],
   "source": [
    "## your code here"
   ]
  },
  {
   "cell_type": "markdown",
   "metadata": {},
   "source": [
    "**Task:** print the min and max of `START_DATE_CLEAN`. What happens if you try to do this with `START_DATE`?"
   ]
  },
  {
   "cell_type": "code",
   "execution_count": null,
   "metadata": {},
   "outputs": [],
   "source": [
    "## your code here"
   ]
  },
  {
   "cell_type": "markdown",
   "metadata": {},
   "source": [
    "## 3. Row and column filtering "
   ]
  },
  {
   "cell_type": "markdown",
   "metadata": {},
   "source": [
    "### Row subsetting\n",
    "\n",
    "**Task**: filter to crime reports about theft using the `is_theft` definition and that are in ward 3"
   ]
  },
  {
   "cell_type": "code",
   "execution_count": null,
   "metadata": {},
   "outputs": [],
   "source": [
    "## your code here"
   ]
  },
  {
   "cell_type": "markdown",
   "metadata": {},
   "source": [
    "### Column subsetting\n"
   ]
  },
  {
   "cell_type": "markdown",
   "metadata": {},
   "source": [
    "**Task**: select two columns--`START_DATE` and `END_DATE`--and print the head of the dataframe"
   ]
  },
  {
   "cell_type": "code",
   "execution_count": null,
   "metadata": {},
   "outputs": [],
   "source": [
    "## your code here"
   ]
  },
  {
   "cell_type": "markdown",
   "metadata": {},
   "source": [
    "**Task**: use list comprehension to automate this a bit and select all columns with the word \"DATE\" in the name; print the head of the dataframe"
   ]
  },
  {
   "cell_type": "code",
   "execution_count": null,
   "metadata": {},
   "outputs": [],
   "source": [
    "## your code here"
   ]
  },
  {
   "cell_type": "markdown",
   "metadata": {},
   "source": [
    "**Task**: filter reports of crime in `START_DATE_CLEAN` before May 2020 and that are located in ward 1; select the ward and `START_DATE` column and print a random sample of rows\n",
    "\n",
    "*Hint*: Use `sample(n = 10)` to get 10 random rows."
   ]
  },
  {
   "cell_type": "code",
   "execution_count": null,
   "metadata": {},
   "outputs": [],
   "source": [
    "## your code here"
   ]
  }
 ],
 "metadata": {
  "kernelspec": {
   "display_name": "Python 3 (ipykernel)",
   "language": "python",
   "name": "python3"
  },
  "language_info": {
   "codemirror_mode": {
    "name": "ipython",
    "version": 3
   },
   "file_extension": ".py",
   "mimetype": "text/x-python",
   "name": "python",
   "nbconvert_exporter": "python",
   "pygments_lexer": "ipython3",
   "version": "3.10.5"
  }
 },
 "nbformat": 4,
 "nbformat_minor": 4
}
