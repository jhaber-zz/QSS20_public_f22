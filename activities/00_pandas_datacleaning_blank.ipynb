{
 "cells": [
  {
   "cell_type": "markdown",
   "metadata": {},
   "source": [
    "## 0. Load imports "
   ]
  },
  {
   "cell_type": "code",
   "execution_count": 1,
   "metadata": {},
   "outputs": [],
   "source": [
    "## imports\n",
    "import pandas as pd\n",
    "import numpy as np\n",
    "\n",
    "\n",
    "## print multiple things from same cell\n",
    "from IPython.core.interactiveshell import InteractiveShell\n",
    "InteractiveShell.ast_node_interactivity = \"all\"\n"
   ]
  },
  {
   "cell_type": "markdown",
   "metadata": {},
   "source": [
    "## 0. Load data"
   ]
  },
  {
   "cell_type": "code",
   "execution_count": 77,
   "metadata": {},
   "outputs": [
    {
     "data": {
      "text/html": [
       "<div>\n",
       "<style scoped>\n",
       "    .dataframe tbody tr th:only-of-type {\n",
       "        vertical-align: middle;\n",
       "    }\n",
       "\n",
       "    .dataframe tbody tr th {\n",
       "        vertical-align: top;\n",
       "    }\n",
       "\n",
       "    .dataframe thead th {\n",
       "        text-align: right;\n",
       "    }\n",
       "</style>\n",
       "<table border=\"1\" class=\"dataframe\">\n",
       "  <thead>\n",
       "    <tr style=\"text-align: right;\">\n",
       "      <th></th>\n",
       "      <th>X</th>\n",
       "      <th>Y</th>\n",
       "      <th>CCN</th>\n",
       "      <th>REPORT_DAT</th>\n",
       "      <th>SHIFT</th>\n",
       "      <th>METHOD</th>\n",
       "      <th>OFFENSE</th>\n",
       "      <th>BLOCK</th>\n",
       "      <th>XBLOCK</th>\n",
       "      <th>YBLOCK</th>\n",
       "      <th>...</th>\n",
       "      <th>BLOCK_GROUP</th>\n",
       "      <th>CENSUS_TRACT</th>\n",
       "      <th>VOTING_PRECINCT</th>\n",
       "      <th>LATITUDE</th>\n",
       "      <th>LONGITUDE</th>\n",
       "      <th>BID</th>\n",
       "      <th>START_DATE</th>\n",
       "      <th>END_DATE</th>\n",
       "      <th>OBJECTID</th>\n",
       "      <th>OCTO_RECORD_ID</th>\n",
       "    </tr>\n",
       "  </thead>\n",
       "  <tbody>\n",
       "    <tr>\n",
       "      <th>0</th>\n",
       "      <td>-77.044885</td>\n",
       "      <td>38.911506</td>\n",
       "      <td>20024652</td>\n",
       "      <td>2020/02/10 05:06:34+00</td>\n",
       "      <td>MIDNIGHT</td>\n",
       "      <td>GUN</td>\n",
       "      <td>ROBBERY</td>\n",
       "      <td>1600 - 1639 BLOCK OF 20TH STREET NW</td>\n",
       "      <td>396107.33</td>\n",
       "      <td>138182.60</td>\n",
       "      <td>...</td>\n",
       "      <td>005502 1</td>\n",
       "      <td>5502.0</td>\n",
       "      <td>Precinct 14</td>\n",
       "      <td>38.911498</td>\n",
       "      <td>-77.044883</td>\n",
       "      <td>DUPONT CIRCLE</td>\n",
       "      <td>2020/02/10 04:09:47+00</td>\n",
       "      <td>2020/02/10 05:06:40+00</td>\n",
       "      <td>97431273</td>\n",
       "      <td>NaN</td>\n",
       "    </tr>\n",
       "    <tr>\n",
       "      <th>1</th>\n",
       "      <td>-77.046632</td>\n",
       "      <td>38.912245</td>\n",
       "      <td>20016623</td>\n",
       "      <td>2020/01/28 04:01:40+00</td>\n",
       "      <td>MIDNIGHT</td>\n",
       "      <td>OTHERS</td>\n",
       "      <td>THEFT F/AUTO</td>\n",
       "      <td>1613 - 1699 BLOCK OF 21ST STREET NW</td>\n",
       "      <td>395955.84</td>\n",
       "      <td>138264.80</td>\n",
       "      <td>...</td>\n",
       "      <td>005502 1</td>\n",
       "      <td>5502.0</td>\n",
       "      <td>Precinct 14</td>\n",
       "      <td>38.912238</td>\n",
       "      <td>-77.046630</td>\n",
       "      <td>NaN</td>\n",
       "      <td>2020/01/28 01:00:07+00</td>\n",
       "      <td>2020/01/28 03:01:00+00</td>\n",
       "      <td>97431275</td>\n",
       "      <td>NaN</td>\n",
       "    </tr>\n",
       "    <tr>\n",
       "      <th>2</th>\n",
       "      <td>-77.044497</td>\n",
       "      <td>38.915343</td>\n",
       "      <td>20027213</td>\n",
       "      <td>2020/02/14 07:38:05+00</td>\n",
       "      <td>MIDNIGHT</td>\n",
       "      <td>OTHERS</td>\n",
       "      <td>THEFT F/AUTO</td>\n",
       "      <td>1907 - 1999 BLOCK OF FLORIDA AVENUE NW</td>\n",
       "      <td>396141.17</td>\n",
       "      <td>138608.55</td>\n",
       "      <td>...</td>\n",
       "      <td>004202 2</td>\n",
       "      <td>4202.0</td>\n",
       "      <td>Precinct 14</td>\n",
       "      <td>38.915335</td>\n",
       "      <td>-77.044495</td>\n",
       "      <td>NaN</td>\n",
       "      <td>2020/02/14 05:40:50+00</td>\n",
       "      <td>2020/02/14 06:30:11+00</td>\n",
       "      <td>97431276</td>\n",
       "      <td>NaN</td>\n",
       "    </tr>\n",
       "    <tr>\n",
       "      <th>3</th>\n",
       "      <td>-77.046639</td>\n",
       "      <td>38.907581</td>\n",
       "      <td>20083061</td>\n",
       "      <td>2020/06/04 23:18:23+00</td>\n",
       "      <td>EVENING</td>\n",
       "      <td>OTHERS</td>\n",
       "      <td>THEFT/OTHER</td>\n",
       "      <td>1301 - 1319 BLOCK OF 21ST STREET NW</td>\n",
       "      <td>395954.99</td>\n",
       "      <td>137747.05</td>\n",
       "      <td>...</td>\n",
       "      <td>005502 2</td>\n",
       "      <td>5502.0</td>\n",
       "      <td>Precinct 14</td>\n",
       "      <td>38.907573</td>\n",
       "      <td>-77.046637</td>\n",
       "      <td>NaN</td>\n",
       "      <td>2020/06/04 00:30:00+00</td>\n",
       "      <td>2020/06/04 12:00:03+00</td>\n",
       "      <td>97431278</td>\n",
       "      <td>NaN</td>\n",
       "    </tr>\n",
       "    <tr>\n",
       "      <th>4</th>\n",
       "      <td>-77.045303</td>\n",
       "      <td>38.907659</td>\n",
       "      <td>20117215</td>\n",
       "      <td>2020/08/16 23:27:28+00</td>\n",
       "      <td>EVENING</td>\n",
       "      <td>OTHERS</td>\n",
       "      <td>BURGLARY</td>\n",
       "      <td>1300 - 1348 BLOCK OF NEW HAMPSHIRE AVENUE NW</td>\n",
       "      <td>396070.88</td>\n",
       "      <td>137755.60</td>\n",
       "      <td>...</td>\n",
       "      <td>005502 3</td>\n",
       "      <td>5502.0</td>\n",
       "      <td>Precinct 14</td>\n",
       "      <td>38.907651</td>\n",
       "      <td>-77.045301</td>\n",
       "      <td>NaN</td>\n",
       "      <td>2020/08/16 03:30:21+00</td>\n",
       "      <td>2020/08/16 06:00:27+00</td>\n",
       "      <td>97431285</td>\n",
       "      <td>NaN</td>\n",
       "    </tr>\n",
       "  </tbody>\n",
       "</table>\n",
       "<p>5 rows × 25 columns</p>\n",
       "</div>"
      ],
      "text/plain": [
       "           X          Y       CCN              REPORT_DAT     SHIFT  METHOD  \\\n",
       "0 -77.044885  38.911506  20024652  2020/02/10 05:06:34+00  MIDNIGHT     GUN   \n",
       "1 -77.046632  38.912245  20016623  2020/01/28 04:01:40+00  MIDNIGHT  OTHERS   \n",
       "2 -77.044497  38.915343  20027213  2020/02/14 07:38:05+00  MIDNIGHT  OTHERS   \n",
       "3 -77.046639  38.907581  20083061  2020/06/04 23:18:23+00   EVENING  OTHERS   \n",
       "4 -77.045303  38.907659  20117215  2020/08/16 23:27:28+00   EVENING  OTHERS   \n",
       "\n",
       "        OFFENSE                                         BLOCK     XBLOCK  \\\n",
       "0       ROBBERY           1600 - 1639 BLOCK OF 20TH STREET NW  396107.33   \n",
       "1  THEFT F/AUTO           1613 - 1699 BLOCK OF 21ST STREET NW  395955.84   \n",
       "2  THEFT F/AUTO        1907 - 1999 BLOCK OF FLORIDA AVENUE NW  396141.17   \n",
       "3   THEFT/OTHER           1301 - 1319 BLOCK OF 21ST STREET NW  395954.99   \n",
       "4      BURGLARY  1300 - 1348 BLOCK OF NEW HAMPSHIRE AVENUE NW  396070.88   \n",
       "\n",
       "      YBLOCK  ...  BLOCK_GROUP CENSUS_TRACT  VOTING_PRECINCT   LATITUDE  \\\n",
       "0  138182.60  ...     005502 1       5502.0      Precinct 14  38.911498   \n",
       "1  138264.80  ...     005502 1       5502.0      Precinct 14  38.912238   \n",
       "2  138608.55  ...     004202 2       4202.0      Precinct 14  38.915335   \n",
       "3  137747.05  ...     005502 2       5502.0      Precinct 14  38.907573   \n",
       "4  137755.60  ...     005502 3       5502.0      Precinct 14  38.907651   \n",
       "\n",
       "   LONGITUDE            BID              START_DATE                END_DATE  \\\n",
       "0 -77.044883  DUPONT CIRCLE  2020/02/10 04:09:47+00  2020/02/10 05:06:40+00   \n",
       "1 -77.046630            NaN  2020/01/28 01:00:07+00  2020/01/28 03:01:00+00   \n",
       "2 -77.044495            NaN  2020/02/14 05:40:50+00  2020/02/14 06:30:11+00   \n",
       "3 -77.046637            NaN  2020/06/04 00:30:00+00  2020/06/04 12:00:03+00   \n",
       "4 -77.045301            NaN  2020/08/16 03:30:21+00  2020/08/16 06:00:27+00   \n",
       "\n",
       "   OBJECTID  OCTO_RECORD_ID  \n",
       "0  97431273             NaN  \n",
       "1  97431275             NaN  \n",
       "2  97431276             NaN  \n",
       "3  97431278             NaN  \n",
       "4  97431285             NaN  \n",
       "\n",
       "[5 rows x 25 columns]"
      ]
     },
     "execution_count": 77,
     "metadata": {},
     "output_type": "execute_result"
    },
    {
     "data": {
      "text/plain": [
       "(27915, 25)"
      ]
     },
     "execution_count": 77,
     "metadata": {},
     "output_type": "execute_result"
    },
    {
     "name": "stdout",
     "output_type": "stream",
     "text": [
      "<class 'pandas.core.frame.DataFrame'>\n",
      "RangeIndex: 27915 entries, 0 to 27914\n",
      "Data columns (total 25 columns):\n",
      " #   Column                Non-Null Count  Dtype  \n",
      "---  ------                --------------  -----  \n",
      " 0   X                     27915 non-null  float64\n",
      " 1   Y                     27915 non-null  float64\n",
      " 2   CCN                   27915 non-null  int64  \n",
      " 3   REPORT_DAT            27915 non-null  object \n",
      " 4   SHIFT                 27915 non-null  object \n",
      " 5   METHOD                27915 non-null  object \n",
      " 6   OFFENSE               27915 non-null  object \n",
      " 7   BLOCK                 27915 non-null  object \n",
      " 8   XBLOCK                27915 non-null  float64\n",
      " 9   YBLOCK                27915 non-null  float64\n",
      " 10  WARD                  27915 non-null  int64  \n",
      " 11  ANC                   27915 non-null  object \n",
      " 12  DISTRICT              27886 non-null  float64\n",
      " 13  PSA                   27880 non-null  float64\n",
      " 14  NEIGHBORHOOD_CLUSTER  27915 non-null  object \n",
      " 15  BLOCK_GROUP           27914 non-null  object \n",
      " 16  CENSUS_TRACT          27914 non-null  float64\n",
      " 17  VOTING_PRECINCT       27915 non-null  object \n",
      " 18  LATITUDE              27915 non-null  float64\n",
      " 19  LONGITUDE             27915 non-null  float64\n",
      " 20  BID                   4659 non-null   object \n",
      " 21  START_DATE            27914 non-null  object \n",
      " 22  END_DATE              24834 non-null  object \n",
      " 23  OBJECTID              27915 non-null  int64  \n",
      " 24  OCTO_RECORD_ID        0 non-null      float64\n",
      "dtypes: float64(10), int64(3), object(12)\n",
      "memory usage: 5.3+ MB\n"
     ]
    }
   ],
   "source": [
    "## load data on 2020 crimes in DC\n",
    "dc_crim_2020 = pd.read_csv(\"https://opendata.arcgis.com/datasets/f516e0dd7b614b088ad781b0c4002331_2.csv\")\n",
    "dc_crim_2020.head()\n",
    "dc_crim_2020.shape\n",
    "dc_crim_2020.info()\n"
   ]
  },
  {
   "cell_type": "markdown",
   "metadata": {},
   "source": [
    "## 1. Aggregation"
   ]
  },
  {
   "cell_type": "markdown",
   "metadata": {},
   "source": [
    "### Example of grouping by one variable and doing one aggregation \n",
    "\n",
    "**Task**: find and print the number of unique offense types (`OFFENSE`) by ward (`WARD`)"
   ]
  },
  {
   "cell_type": "markdown",
   "metadata": {},
   "source": [
    "### Example of grouping by one variable and providing two summaries of the same variable\n",
    "\n",
    "**Task**: previous showed number of offenses by ward but want to find out content of offenses in each ward; create an aggregation that summarizes both the number of unique offenses by ward and what those offenses are -- for instance, by pasting the unique offenses in that ward separated by the \";\" (e.g., Theft; Burglary;...)\n",
    "\n",
    "*Hint*: you can use the join command to paste together a list separated by some delimiter. \n",
    "    - The syntax, if we are using the comma delimiter, is: \", \".join(nameoflist)"
   ]
  },
  {
   "cell_type": "markdown",
   "metadata": {},
   "source": [
    "### Example of grouping by two variables \n",
    "\n",
    "**Task**: group by ward (`WARD`) and police shift (`SHIFT`) and find the offense that is most common in that ward and shift"
   ]
  },
  {
   "cell_type": "markdown",
   "metadata": {},
   "source": [
    "## Summarizing over all rows or all columns (without grouping)\n",
    "\n",
    "We can also use the `apply` function to summarize rows or columns efficiently"
   ]
  },
  {
   "cell_type": "markdown",
   "metadata": {},
   "source": [
    "**Task**: find the mean lat and longitude in one line of code"
   ]
  },
  {
   "cell_type": "markdown",
   "metadata": {},
   "source": [
    "## 2. Creating new columns/transforming their type "
   ]
  },
  {
   "cell_type": "markdown",
   "metadata": {},
   "source": [
    "### Simple np.where\n",
    "\n",
    "`np.where` is in the numpy package (aliased as `np`) and operates similar to `ifelse` in R\n",
    "\n",
    "**Task**: create an indicator `is_theft` for any offense that contains the word \"THEFT\"\n",
    "    \n",
    "**Task**: create an indicator `is_theft_notmotor` for any offense that contains the word \"THEFT\" but does not contain the word \"MOTOR\""
   ]
  },
  {
   "cell_type": "markdown",
   "metadata": {},
   "source": [
    "### np.select\n",
    "\n",
    "**Task**: create a new variable, `offense_summary`, where you:\n",
    "        \n",
    "- Recode theft offenses that use a gun or knife as the method (`METHOD`) as: violent theft\n",
    "- Recode non-theft offenses that use a gun or knife as the method as: violent other\n",
    "- Recode all other as non-violent "
   ]
  },
  {
   "cell_type": "markdown",
   "metadata": {},
   "source": [
    "### map.recode\n",
    "\n",
    "**Task**: recode shifts that are MIDNIGHT or EVENING as \"nighttime\"; code other shift to daytime"
   ]
  },
  {
   "cell_type": "markdown",
   "metadata": {},
   "source": [
    "### Using built-in pandas methods\n",
    "\n",
    "Another way of creating variables, used either alone or in combination with np.where and np.select is to use pandas built in `str` methods\n",
    "\n",
    "Basic structure is: `df['namestringcol'].str.someoperation`"
   ]
  },
  {
   "cell_type": "markdown",
   "metadata": {},
   "source": [
    "**Task**: using a `str` method, create a new variable--`OFFENSE_NOSP`--that replaces spaces in the `OFFENSE` column with underscores"
   ]
  },
  {
   "cell_type": "markdown",
   "metadata": {},
   "source": [
    "### Transforming column types\n",
    "\n",
    "**Task**: check the type of the `START_DATE` column"
   ]
  },
  {
   "cell_type": "markdown",
   "metadata": {},
   "source": [
    "**Task**: recast the `START_DATE` column to datetime, calling this `START_DATE_CLEAN`; coerce errors rather than cleaning the string; check the type of that new col"
   ]
  },
  {
   "cell_type": "markdown",
   "metadata": {},
   "source": [
    "**Task:** print the min and max of `START_DATE_CLEAN`. What happens if you try to do this with `START_DATE`?"
   ]
  },
  {
   "cell_type": "markdown",
   "metadata": {},
   "source": [
    "## 3. Row and column filtering "
   ]
  },
  {
   "cell_type": "markdown",
   "metadata": {},
   "source": [
    "### Row subsetting\n",
    "\n",
    "**Task**: filter to crime reports about theft using the `is_theft` definition and that are in ward 3"
   ]
  },
  {
   "cell_type": "markdown",
   "metadata": {},
   "source": [
    "### Column subsetting\n"
   ]
  },
  {
   "cell_type": "markdown",
   "metadata": {},
   "source": [
    "**Task**: select two columns--`START_DATE` and `END_DATE`--and print the head of the dataframe"
   ]
  },
  {
   "cell_type": "markdown",
   "metadata": {},
   "source": [
    "**Task**: use list comprehension to automate this a bit and select all columns with the word \"DATE\" in the name; print the head of the dataframe"
   ]
  },
  {
   "cell_type": "markdown",
   "metadata": {},
   "source": [
    "**Task**: filter reports of crime in `START_DATE_CLEAN` before May 2020 and that are located in ward 1; select the ward and `START_DATE` column and print a random sample of rows"
   ]
  }
 ],
 "metadata": {
  "kernelspec": {
   "display_name": "Python 3",
   "language": "python",
   "name": "python3"
  },
  "language_info": {
   "codemirror_mode": {
    "name": "ipython",
    "version": 3
   },
   "file_extension": ".py",
   "mimetype": "text/x-python",
   "name": "python",
   "nbconvert_exporter": "python",
   "pygments_lexer": "ipython3",
   "version": "3.8.3"
  }
 },
 "nbformat": 4,
 "nbformat_minor": 4
}
