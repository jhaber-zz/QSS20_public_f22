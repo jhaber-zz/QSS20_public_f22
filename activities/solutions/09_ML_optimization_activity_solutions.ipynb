{
 "cells": [
  {
   "cell_type": "markdown",
   "metadata": {},
   "source": [
    "# Model evaluation and optimization for text classification\n",
    "\n",
    "\n",
    "## Outline\n",
    "\n",
    "* [Metrics for model evaluation](#metrics)\n",
    "* [Load and inspect dataset](#dataset)\n",
    "    * [Import modules](#import)\n",
    "    * [Read and inspect data](#dataset)\n",
    "    * [Preprocess data](#preprocess)\n",
    "    * [Vectorization](#vectorize)\n",
    "    * [Divide data into training and test sets](#split)\n",
    "* [More classification with supervised machine learning](#supervised)\n",
    "    * [Train decision tree model](#model)\n",
    "    * [More model evaluation](#evaluate)\n",
    "    * [Cross-validation](#cv)\n",
    "    * [Optimize parameters with grid search](#gridsearch)\n",
    "    * [Train and optimize Random Forest model](#RF)"
   ]
  },
  {
   "cell_type": "markdown",
   "metadata": {},
   "source": [
    "# Data preparation<a id='preparation'></a>\n",
    "\n",
    "## Import modules<a id='import'></a>"
   ]
  },
  {
   "cell_type": "code",
   "execution_count": 1,
   "metadata": {},
   "outputs": [],
   "source": [
    "import os\n",
    "import re\n",
    "import numpy as np\n",
    "import pandas as pd\n",
    "import warnings\n",
    "import graphviz\n",
    "from sklearn.tree import export_graphviz\n",
    "import seaborn as sns\n",
    "from mpl_toolkits.mplot3d import Axes3D\n",
    "from matplotlib import cm\n",
    "import matplotlib.pyplot as plt\n",
    "\n",
    "#set options\n",
    "warnings.simplefilter(action='ignore', category=FutureWarning)\n",
    "sns.set()\n",
    "%matplotlib inline\n",
    "\n",
    "#scikit-learn is a huge library. We import what we need.\n",
    "from sklearn.model_selection import train_test_split, GridSearchCV, cross_val_score, train_test_split #sklearn utilities\n",
    "from sklearn.metrics import accuracy_score, confusion_matrix, classification_report #For model evaluation\n",
    "from sklearn.feature_extraction.text import CountVectorizer, TfidfVectorizer #Vectorizers\n",
    "from sklearn.linear_model import LogisticRegressionCV #Logit with cross-validation\n",
    "from sklearn.ensemble import RandomForestClassifier, AdaBoostClassifier #Random Forest and AdaBoost classifiers\n",
    "from sklearn.tree import DecisionTreeClassifier #Decision Tree classifier\n",
    "from sklearn.svm import LinearSVC #Linear Support Vector classifier"
   ]
  },
  {
   "cell_type": "markdown",
   "metadata": {},
   "source": [
    "## Read and inspect dataset<a id='dataset'></a>"
   ]
  },
  {
   "cell_type": "code",
   "execution_count": 2,
   "metadata": {},
   "outputs": [
    {
     "data": {
      "text/html": [
       "<div>\n",
       "<style scoped>\n",
       "    .dataframe tbody tr th:only-of-type {\n",
       "        vertical-align: middle;\n",
       "    }\n",
       "\n",
       "    .dataframe tbody tr th {\n",
       "        vertical-align: top;\n",
       "    }\n",
       "\n",
       "    .dataframe thead th {\n",
       "        text-align: right;\n",
       "    }\n",
       "</style>\n",
       "<table border=\"1\" class=\"dataframe\">\n",
       "  <thead>\n",
       "    <tr style=\"text-align: right;\">\n",
       "      <th></th>\n",
       "      <th>tweet_id</th>\n",
       "      <th>airline_sentiment</th>\n",
       "      <th>airline_sentiment_confidence</th>\n",
       "      <th>negativereason</th>\n",
       "      <th>negativereason_confidence</th>\n",
       "      <th>airline</th>\n",
       "      <th>airline_sentiment_gold</th>\n",
       "      <th>name</th>\n",
       "      <th>negativereason_gold</th>\n",
       "      <th>retweet_count</th>\n",
       "      <th>text</th>\n",
       "      <th>tweet_coord</th>\n",
       "      <th>tweet_created</th>\n",
       "      <th>tweet_location</th>\n",
       "      <th>user_timezone</th>\n",
       "    </tr>\n",
       "  </thead>\n",
       "  <tbody>\n",
       "    <tr>\n",
       "      <th>0</th>\n",
       "      <td>570306133677760513</td>\n",
       "      <td>neutral</td>\n",
       "      <td>1.0000</td>\n",
       "      <td>NaN</td>\n",
       "      <td>NaN</td>\n",
       "      <td>Virgin America</td>\n",
       "      <td>NaN</td>\n",
       "      <td>cairdin</td>\n",
       "      <td>NaN</td>\n",
       "      <td>0</td>\n",
       "      <td>@VirginAmerica What @dhepburn said.</td>\n",
       "      <td>NaN</td>\n",
       "      <td>2015-02-24 11:35:52 -0800</td>\n",
       "      <td>NaN</td>\n",
       "      <td>Eastern Time (US &amp; Canada)</td>\n",
       "    </tr>\n",
       "    <tr>\n",
       "      <th>1</th>\n",
       "      <td>570301130888122368</td>\n",
       "      <td>positive</td>\n",
       "      <td>0.3486</td>\n",
       "      <td>NaN</td>\n",
       "      <td>0.0</td>\n",
       "      <td>Virgin America</td>\n",
       "      <td>NaN</td>\n",
       "      <td>jnardino</td>\n",
       "      <td>NaN</td>\n",
       "      <td>0</td>\n",
       "      <td>@VirginAmerica plus you've added commercials t...</td>\n",
       "      <td>NaN</td>\n",
       "      <td>2015-02-24 11:15:59 -0800</td>\n",
       "      <td>NaN</td>\n",
       "      <td>Pacific Time (US &amp; Canada)</td>\n",
       "    </tr>\n",
       "    <tr>\n",
       "      <th>2</th>\n",
       "      <td>570301083672813571</td>\n",
       "      <td>neutral</td>\n",
       "      <td>0.6837</td>\n",
       "      <td>NaN</td>\n",
       "      <td>NaN</td>\n",
       "      <td>Virgin America</td>\n",
       "      <td>NaN</td>\n",
       "      <td>yvonnalynn</td>\n",
       "      <td>NaN</td>\n",
       "      <td>0</td>\n",
       "      <td>@VirginAmerica I didn't today... Must mean I n...</td>\n",
       "      <td>NaN</td>\n",
       "      <td>2015-02-24 11:15:48 -0800</td>\n",
       "      <td>Lets Play</td>\n",
       "      <td>Central Time (US &amp; Canada)</td>\n",
       "    </tr>\n",
       "  </tbody>\n",
       "</table>\n",
       "</div>"
      ],
      "text/plain": [
       "             tweet_id airline_sentiment  airline_sentiment_confidence  \\\n",
       "0  570306133677760513           neutral                        1.0000   \n",
       "1  570301130888122368          positive                        0.3486   \n",
       "2  570301083672813571           neutral                        0.6837   \n",
       "\n",
       "  negativereason  negativereason_confidence         airline  \\\n",
       "0            NaN                        NaN  Virgin America   \n",
       "1            NaN                        0.0  Virgin America   \n",
       "2            NaN                        NaN  Virgin America   \n",
       "\n",
       "  airline_sentiment_gold        name negativereason_gold  retweet_count  \\\n",
       "0                    NaN     cairdin                 NaN              0   \n",
       "1                    NaN    jnardino                 NaN              0   \n",
       "2                    NaN  yvonnalynn                 NaN              0   \n",
       "\n",
       "                                                text tweet_coord  \\\n",
       "0                @VirginAmerica What @dhepburn said.         NaN   \n",
       "1  @VirginAmerica plus you've added commercials t...         NaN   \n",
       "2  @VirginAmerica I didn't today... Must mean I n...         NaN   \n",
       "\n",
       "               tweet_created tweet_location               user_timezone  \n",
       "0  2015-02-24 11:35:52 -0800            NaN  Eastern Time (US & Canada)  \n",
       "1  2015-02-24 11:15:59 -0800            NaN  Pacific Time (US & Canada)  \n",
       "2  2015-02-24 11:15:48 -0800      Lets Play  Central Time (US & Canada)  "
      ]
     },
     "execution_count": 2,
     "metadata": {},
     "output_type": "execute_result"
    }
   ],
   "source": [
    "df = pd.read_csv('../../public_data/crowdflower_tweets.csv')\n",
    "df.head(3)"
   ]
  },
  {
   "cell_type": "code",
   "execution_count": 3,
   "metadata": {},
   "outputs": [
    {
     "data": {
      "text/plain": [
       "<AxesSubplot:xlabel='airline', ylabel='count'>"
      ]
     },
     "execution_count": 3,
     "metadata": {},
     "output_type": "execute_result"
    },
    {
     "data": {
      "image/png": "[encoded data removed]",
      "text/plain": [
       "<Figure size 432x288 with 1 Axes>"
      ]
     },
     "metadata": {
      "needs_background": "light"
     },
     "output_type": "display_data"
    }
   ],
   "source": [
    "sns.countplot(df['airline'], order=df['airline'].value_counts().index)"
   ]
  },
  {
   "cell_type": "markdown",
   "metadata": {},
   "source": [
    "Let's get to know the data:\n",
    "\n",
    "- How many tweets are in the dataset?\n",
    "- How many tweets are positive, neutral and negative?\n",
    "- What **proportion** of tweets are positive, neutral and negative?\n",
    "- What are the main reasons why people are tweeting negatively? \n",
    "\n",
    "To visualize counts, this time let's use the `sns.countplot()` function. To visualize proportions, use the `.plot(kind='bar')` method."
   ]
  },
  {
   "cell_type": "code",
   "execution_count": 4,
   "metadata": {},
   "outputs": [
    {
     "name": "stdout",
     "output_type": "stream",
     "text": [
      "Length is 14640\n"
     ]
    },
    {
     "data": {
      "text/plain": [
       "negative    9178\n",
       "neutral     3099\n",
       "positive    2363\n",
       "Name: airline_sentiment, dtype: int64"
      ]
     },
     "execution_count": 4,
     "metadata": {},
     "output_type": "execute_result"
    }
   ],
   "source": [
    "print(\"Length is\", len(df))\n",
    "\n",
    "df['airline_sentiment'].value_counts()"
   ]
  },
  {
   "cell_type": "code",
   "execution_count": 5,
   "metadata": {},
   "outputs": [
    {
     "data": {
      "text/plain": [
       "negative    0.626913\n",
       "neutral     0.211680\n",
       "positive    0.161407\n",
       "Name: airline_sentiment, dtype: float64"
      ]
     },
     "execution_count": 5,
     "metadata": {},
     "output_type": "execute_result"
    }
   ],
   "source": [
    "df['airline_sentiment'].value_counts(normalize=True)"
   ]
  },
  {
   "cell_type": "code",
   "execution_count": 6,
   "metadata": {},
   "outputs": [
    {
     "data": {
      "text/plain": [
       "<AxesSubplot:>"
      ]
     },
     "execution_count": 6,
     "metadata": {},
     "output_type": "execute_result"
    },
    {
     "data": {
      "image/png": "[encoded data removed]",
      "text/plain": [
       "<Figure size 432x288 with 1 Axes>"
      ]
     },
     "metadata": {
      "needs_background": "light"
     },
     "output_type": "display_data"
    }
   ],
   "source": [
    "df['airline_sentiment'].value_counts(normalize=True, ascending=True).plot(kind='bar', rot=0)"
   ]
  },
  {
   "cell_type": "code",
   "execution_count": 7,
   "metadata": {},
   "outputs": [
    {
     "data": {
      "image/png": "[encoded data removed]",
      "text/plain": [
       "<Figure size 432x288 with 1 Axes>"
      ]
     },
     "metadata": {
      "needs_background": "light"
     },
     "output_type": "display_data"
    }
   ],
   "source": [
    "sns.countplot(df['negativereason'], order=df['negativereason'].value_counts().index)\n",
    "plt.xticks(rotation=90);"
   ]
  },
  {
   "cell_type": "markdown",
   "metadata": {},
   "source": [
    "## Preprocess data<a id='preprocess'></a>"
   ]
  },
  {
   "cell_type": "code",
   "execution_count": 8,
   "metadata": {},
   "outputs": [],
   "source": [
    "twitter_handle_pattern = r'@(\\w+)'\n",
    "hashtag_pattern = r'(?:^|\\s)[＃#]{1}(\\w+)'\n",
    "url_pattern = r'https?:\\/\\/.*.com'\n",
    "\n",
    "def clean_tweet(tweet):\n",
    "    tweet = re.sub(hashtag_pattern, ' HASHTAG', tweet) \n",
    "    tweet = re.sub(twitter_handle_pattern, 'USER', tweet)\n",
    "    return re.sub(url_pattern, 'URL', tweet)\n",
    "\n",
    "# apply function to DF \n",
    "df['clean_text'] = (df['text'].apply(clean_tweet))"
   ]
  },
  {
   "cell_type": "markdown",
   "metadata": {},
   "source": [
    "## Vectorization<a id='vectorization'></a>"
   ]
  },
  {
   "cell_type": "code",
   "execution_count": 9,
   "metadata": {},
   "outputs": [],
   "source": [
    "countvectorizer = CountVectorizer(max_features=5000, binary=True)\n",
    "X = countvectorizer.fit_transform(df['clean_text'])\n",
    "features = X.toarray() # convert matrix to sparse format for easy modeling\n",
    "response = df['airline_sentiment'].values # corresponds to entries in `features` \n",
    "feature_names = countvectorizer.get_feature_names() # get feature names for later\n",
    "label_names = list(set(response)) # get label names for later"
   ]
  },
  {
   "cell_type": "markdown",
   "metadata": {},
   "source": [
    "## Divide data into training and test sets<a id='split'></a>"
   ]
  },
  {
   "cell_type": "code",
   "execution_count": 10,
   "metadata": {},
   "outputs": [
    {
     "data": {
      "text/plain": [
       "((11712, 5000), (2928, 5000))"
      ]
     },
     "execution_count": 10,
     "metadata": {},
     "output_type": "execute_result"
    }
   ],
   "source": [
    "X_train, X_test, y_train, y_test = train_test_split(features, response, test_size=0.2, stratify = df.airline_sentiment)\n",
    "\n",
    "X_train.shape, X_test.shape #look at number of rows and columns in training and test data"
   ]
  },
  {
   "cell_type": "markdown",
   "metadata": {},
   "source": [
    "# More classification with supervised machine learning<a id='supervised'></a>"
   ]
  },
  {
   "cell_type": "markdown",
   "metadata": {},
   "source": [
    "## Train decision tree model<a id='model'></a>"
   ]
  },
  {
   "cell_type": "code",
   "execution_count": 11,
   "metadata": {},
   "outputs": [
    {
     "data": {
      "text/plain": [
       "DecisionTreeClassifier(max_depth=10, min_impurity_decrease=1e-07,\n",
       "                       min_samples_leaf=10, min_samples_split=5,\n",
       "                       random_state=10)"
      ]
     },
     "execution_count": 11,
     "metadata": {},
     "output_type": "execute_result"
    }
   ],
   "source": [
    "dt_classifier = DecisionTreeClassifier(criterion='gini',  # or 'entropy' for information gain\n",
    "                                       splitter='best',  # or 'random' for random best split\n",
    "                                       max_depth=10,  # how deep tree nodes can go\n",
    "                                       min_samples_split=5,  # samples needed to split node\n",
    "                                       min_samples_leaf=10,  # samples needed for a leaf\n",
    "                                       min_weight_fraction_leaf=0.0,  # weight of samples needed for a node\n",
    "                                       max_features=None,  # number of features to look for when splitting\n",
    "                                       max_leaf_nodes=None,  # max nodes\n",
    "                                       min_impurity_decrease=1e-07, #early stopping\n",
    "                                       random_state = 10) #random seed\n",
    "\n",
    "dt_classifier.fit(X_train, y_train) # fit model on training set"
   ]
  },
  {
   "cell_type": "code",
   "execution_count": 12,
   "metadata": {},
   "outputs": [
    {
     "data": {
      "image/svg+xml": [
       "<?xml version=\"1.0\" encoding=\"UTF-8\" standalone=\"no\"?>\n",
       "<!DOCTYPE svg PUBLIC \"-//W3C//DTD SVG 1.1//EN\"\n",
       " \"http://www.w3.org/Graphics/SVG/1.1/DTD/svg11.dtd\">\n",
       "<!-- Generated by graphviz version 2.43.0 (0)\n",
       " -->\n",
       "<!-- Title: Tree Pages: 1 -->\n",
       "<svg width=\"2096pt\" height=\"639pt\"\n",
       " viewBox=\"0.00 0.00 2096.00 639.00\" xmlns=\"http://www.w3.org/2000/svg\" xmlns:xlink=\"http://www.w3.org/1999/xlink\">\n",
       "<g id=\"graph0\" class=\"graph\" transform=\"scale(1 1) rotate(0) translate(4 635)\">\n",
       "<title>Tree</title>\n",
       "<polygon fill=\"white\" stroke=\"transparent\" points=\"-4,4 -4,-635 2092,-635 2092,4 -4,4\"/>\n",
       "<!-- 0 -->\n",
       "<g id=\"node1\" class=\"node\">\n",
       "<title>0</title>\n",
       "<path fill=\"#f1bd97\" stroke=\"black\" d=\"M1488.5,-631C1488.5,-631 1300.5,-631 1300.5,-631 1294.5,-631 1288.5,-625 1288.5,-619 1288.5,-619 1288.5,-560 1288.5,-560 1288.5,-554 1294.5,-548 1300.5,-548 1300.5,-548 1488.5,-548 1488.5,-548 1494.5,-548 1500.5,-554 1500.5,-560 1500.5,-560 1500.5,-619 1500.5,-619 1500.5,-625 1494.5,-631 1488.5,-631\"/>\n",
       "<text text-anchor=\"start\" x=\"1352.5\" y=\"-615.8\" font-family=\"Helvetica,sans-Serif\" font-size=\"14.00\">thank ≤ 0.5</text>\n",
       "<text text-anchor=\"start\" x=\"1350.5\" y=\"-600.8\" font-family=\"Helvetica,sans-Serif\" font-size=\"14.00\">gini = 0.536</text>\n",
       "<text text-anchor=\"start\" x=\"1332.5\" y=\"-585.8\" font-family=\"Helvetica,sans-Serif\" font-size=\"14.00\">samples = 11712</text>\n",
       "<text text-anchor=\"start\" x=\"1296.5\" y=\"-570.8\" font-family=\"Helvetica,sans-Serif\" font-size=\"14.00\">value = [7343, 2479, 1890]</text>\n",
       "<text text-anchor=\"start\" x=\"1336.5\" y=\"-555.8\" font-family=\"Helvetica,sans-Serif\" font-size=\"14.00\">class = negative</text>\n",
       "</g>\n",
       "<!-- 1 -->\n",
       "<g id=\"node2\" class=\"node\">\n",
       "<title>1</title>\n",
       "<path fill=\"#f1ba92\" stroke=\"black\" d=\"M1222.5,-512C1222.5,-512 1034.5,-512 1034.5,-512 1028.5,-512 1022.5,-506 1022.5,-500 1022.5,-500 1022.5,-441 1022.5,-441 1022.5,-435 1028.5,-429 1034.5,-429 1034.5,-429 1222.5,-429 1222.5,-429 1228.5,-429 1234.5,-435 1234.5,-441 1234.5,-441 1234.5,-500 1234.5,-500 1234.5,-506 1228.5,-512 1222.5,-512\"/>\n",
       "<text text-anchor=\"start\" x=\"1083\" y=\"-496.8\" font-family=\"Helvetica,sans-Serif\" font-size=\"14.00\">thanks ≤ 0.5</text>\n",
       "<text text-anchor=\"start\" x=\"1084.5\" y=\"-481.8\" font-family=\"Helvetica,sans-Serif\" font-size=\"14.00\">gini = 0.515</text>\n",
       "<text text-anchor=\"start\" x=\"1066.5\" y=\"-466.8\" font-family=\"Helvetica,sans-Serif\" font-size=\"14.00\">samples = 11233</text>\n",
       "<text text-anchor=\"start\" x=\"1030.5\" y=\"-451.8\" font-family=\"Helvetica,sans-Serif\" font-size=\"14.00\">value = [7278, 2422, 1533]</text>\n",
       "<text text-anchor=\"start\" x=\"1070.5\" y=\"-436.8\" font-family=\"Helvetica,sans-Serif\" font-size=\"14.00\">class = negative</text>\n",
       "</g>\n",
       "<!-- 0&#45;&gt;1 -->\n",
       "<g id=\"edge1\" class=\"edge\">\n",
       "<title>0&#45;&gt;1</title>\n",
       "<path fill=\"none\" stroke=\"black\" d=\"M1302.21,-547.91C1278.9,-537.65 1253.74,-526.59 1230,-516.14\"/>\n",
       "<polygon fill=\"black\" stroke=\"black\" points=\"1231.19,-512.84 1220.62,-512.02 1228.37,-519.25 1231.19,-512.84\"/>\n",
       "<text text-anchor=\"middle\" x=\"1229.69\" y=\"-531.62\" font-family=\"Helvetica,sans-Serif\" font-size=\"14.00\">True</text>\n",
       "</g>\n",
       "<!-- 152 -->\n",
       "<g id=\"node33\" class=\"node\">\n",
       "<title>152</title>\n",
       "<path fill=\"#a673ed\" stroke=\"black\" d=\"M1701,-512C1701,-512 1558,-512 1558,-512 1552,-512 1546,-506 1546,-500 1546,-500 1546,-441 1546,-441 1546,-435 1552,-429 1558,-429 1558,-429 1701,-429 1701,-429 1707,-429 1713,-435 1713,-441 1713,-441 1713,-500 1713,-500 1713,-506 1707,-512 1701,-512\"/>\n",
       "<text text-anchor=\"start\" x=\"1596\" y=\"-496.8\" font-family=\"Helvetica,sans-Serif\" font-size=\"14.00\">but ≤ 0.5</text>\n",
       "<text text-anchor=\"start\" x=\"1585.5\" y=\"-481.8\" font-family=\"Helvetica,sans-Serif\" font-size=\"14.00\">gini = 0.412</text>\n",
       "<text text-anchor=\"start\" x=\"1576.5\" y=\"-466.8\" font-family=\"Helvetica,sans-Serif\" font-size=\"14.00\">samples = 479</text>\n",
       "<text text-anchor=\"start\" x=\"1554\" y=\"-451.8\" font-family=\"Helvetica,sans-Serif\" font-size=\"14.00\">value = [65, 57, 357]</text>\n",
       "<text text-anchor=\"start\" x=\"1574.5\" y=\"-436.8\" font-family=\"Helvetica,sans-Serif\" font-size=\"14.00\">class = positive</text>\n",
       "</g>\n",
       "<!-- 0&#45;&gt;152 -->\n",
       "<g id=\"edge32\" class=\"edge\">\n",
       "<title>0&#45;&gt;152</title>\n",
       "<path fill=\"none\" stroke=\"black\" d=\"M1476.03,-547.91C1496.36,-537.79 1518.27,-526.88 1539,-516.56\"/>\n",
       "<polygon fill=\"black\" stroke=\"black\" points=\"1540.72,-519.61 1548.11,-512.02 1537.6,-513.34 1540.72,-519.61\"/>\n",
       "<text text-anchor=\"middle\" x=\"1540.17\" y=\"-532.02\" font-family=\"Helvetica,sans-Serif\" font-size=\"14.00\">False</text>\n",
       "</g>\n",
       "<!-- 2 -->\n",
       "<g id=\"node3\" class=\"node\">\n",
       "<title>2</title>\n",
       "<path fill=\"#f0b58b\" stroke=\"black\" d=\"M692.5,-393C692.5,-393 504.5,-393 504.5,-393 498.5,-393 492.5,-387 492.5,-381 492.5,-381 492.5,-322 492.5,-322 492.5,-316 498.5,-310 504.5,-310 504.5,-310 692.5,-310 692.5,-310 698.5,-310 704.5,-316 704.5,-322 704.5,-322 704.5,-381 704.5,-381 704.5,-387 698.5,-393 692.5,-393\"/>\n",
       "<text text-anchor=\"start\" x=\"568.5\" y=\"-377.8\" font-family=\"Helvetica,sans-Serif\" font-size=\"14.00\">co ≤ 0.5</text>\n",
       "<text text-anchor=\"start\" x=\"554.5\" y=\"-362.8\" font-family=\"Helvetica,sans-Serif\" font-size=\"14.00\">gini = 0.483</text>\n",
       "<text text-anchor=\"start\" x=\"536.5\" y=\"-347.8\" font-family=\"Helvetica,sans-Serif\" font-size=\"14.00\">samples = 10380</text>\n",
       "<text text-anchor=\"start\" x=\"500.5\" y=\"-332.8\" font-family=\"Helvetica,sans-Serif\" font-size=\"14.00\">value = [7019, 2297, 1064]</text>\n",
       "<text text-anchor=\"start\" x=\"540.5\" y=\"-317.8\" font-family=\"Helvetica,sans-Serif\" font-size=\"14.00\">class = negative</text>\n",
       "</g>\n",
       "<!-- 1&#45;&gt;2 -->\n",
       "<g id=\"edge2\" class=\"edge\">\n",
       "<title>1&#45;&gt;2</title>\n",
       "<path fill=\"none\" stroke=\"black\" d=\"M1022.2,-446.03C933.13,-426.37 806.19,-398.35 714.5,-378.11\"/>\n",
       "<polygon fill=\"black\" stroke=\"black\" points=\"715.14,-374.66 704.62,-375.93 713.63,-381.5 715.14,-374.66\"/>\n",
       "</g>\n",
       "<!-- 107 -->\n",
       "<g id=\"node18\" class=\"node\">\n",
       "<title>107</title>\n",
       "<path fill=\"#d2b9f6\" stroke=\"black\" d=\"M1209,-393C1209,-393 1048,-393 1048,-393 1042,-393 1036,-387 1036,-381 1036,-381 1036,-322 1036,-322 1036,-316 1042,-310 1048,-310 1048,-310 1209,-310 1209,-310 1215,-310 1221,-316 1221,-322 1221,-322 1221,-381 1221,-381 1221,-387 1215,-393 1209,-393\"/>\n",
       "<text text-anchor=\"start\" x=\"1093.5\" y=\"-377.8\" font-family=\"Helvetica,sans-Serif\" font-size=\"14.00\">and ≤ 0.5</text>\n",
       "<text text-anchor=\"start\" x=\"1084.5\" y=\"-362.8\" font-family=\"Helvetica,sans-Serif\" font-size=\"14.00\">gini = 0.584</text>\n",
       "<text text-anchor=\"start\" x=\"1075.5\" y=\"-347.8\" font-family=\"Helvetica,sans-Serif\" font-size=\"14.00\">samples = 853</text>\n",
       "<text text-anchor=\"start\" x=\"1044\" y=\"-332.8\" font-family=\"Helvetica,sans-Serif\" font-size=\"14.00\">value = [259, 125, 469]</text>\n",
       "<text text-anchor=\"start\" x=\"1073.5\" y=\"-317.8\" font-family=\"Helvetica,sans-Serif\" font-size=\"14.00\">class = positive</text>\n",
       "</g>\n",
       "<!-- 1&#45;&gt;107 -->\n",
       "<g id=\"edge17\" class=\"edge\">\n",
       "<title>1&#45;&gt;107</title>\n",
       "<path fill=\"none\" stroke=\"black\" d=\"M1128.5,-428.91C1128.5,-420.65 1128.5,-411.86 1128.5,-403.3\"/>\n",
       "<polygon fill=\"black\" stroke=\"black\" points=\"1132,-403.02 1128.5,-393.02 1125,-403.02 1132,-403.02\"/>\n",
       "</g>\n",
       "<!-- 3 -->\n",
       "<g id=\"node4\" class=\"node\">\n",
       "<title>3</title>\n",
       "<path fill=\"#efb083\" stroke=\"black\" d=\"M394,-274C394,-274 215,-274 215,-274 209,-274 203,-268 203,-262 203,-262 203,-203 203,-203 203,-197 209,-191 215,-191 215,-191 394,-191 394,-191 400,-191 406,-197 406,-203 406,-203 406,-262 406,-262 406,-268 400,-274 394,-274\"/>\n",
       "<text text-anchor=\"start\" x=\"274\" y=\"-258.8\" font-family=\"Helvetica,sans-Serif\" font-size=\"14.00\">no ≤ 0.5</text>\n",
       "<text text-anchor=\"start\" x=\"260.5\" y=\"-243.8\" font-family=\"Helvetica,sans-Serif\" font-size=\"14.00\">gini = 0.457</text>\n",
       "<text text-anchor=\"start\" x=\"247\" y=\"-228.8\" font-family=\"Helvetica,sans-Serif\" font-size=\"14.00\">samples = 9487</text>\n",
       "<text text-anchor=\"start\" x=\"211\" y=\"-213.8\" font-family=\"Helvetica,sans-Serif\" font-size=\"14.00\">value = [6662, 1909, 916]</text>\n",
       "<text text-anchor=\"start\" x=\"246.5\" y=\"-198.8\" font-family=\"Helvetica,sans-Serif\" font-size=\"14.00\">class = negative</text>\n",
       "</g>\n",
       "<!-- 2&#45;&gt;3 -->\n",
       "<g id=\"edge3\" class=\"edge\">\n",
       "<title>2&#45;&gt;3</title>\n",
       "<path fill=\"none\" stroke=\"black\" d=\"M496.5,-309.91C470.39,-299.52 442.18,-288.29 415.64,-277.73\"/>\n",
       "<polygon fill=\"black\" stroke=\"black\" points=\"416.91,-274.47 406.32,-274.02 414.32,-280.97 416.91,-274.47\"/>\n",
       "</g>\n",
       "<!-- 78 -->\n",
       "<g id=\"node11\" class=\"node\">\n",
       "<title>78</title>\n",
       "<path fill=\"#f4fdf8\" stroke=\"black\" d=\"M679,-274C679,-274 518,-274 518,-274 512,-274 506,-268 506,-262 506,-262 506,-203 506,-203 506,-197 512,-191 518,-191 518,-191 679,-191 679,-191 685,-191 691,-197 691,-203 691,-203 691,-262 691,-262 691,-268 685,-274 679,-274\"/>\n",
       "<text text-anchor=\"start\" x=\"561.5\" y=\"-258.8\" font-family=\"Helvetica,sans-Serif\" font-size=\"14.00\">hold ≤ 0.5</text>\n",
       "<text text-anchor=\"start\" x=\"554.5\" y=\"-243.8\" font-family=\"Helvetica,sans-Serif\" font-size=\"14.00\">gini = 0.624</text>\n",
       "<text text-anchor=\"start\" x=\"545.5\" y=\"-228.8\" font-family=\"Helvetica,sans-Serif\" font-size=\"14.00\">samples = 893</text>\n",
       "<text text-anchor=\"start\" x=\"514\" y=\"-213.8\" font-family=\"Helvetica,sans-Serif\" font-size=\"14.00\">value = [357, 388, 148]</text>\n",
       "<text text-anchor=\"start\" x=\"545.5\" y=\"-198.8\" font-family=\"Helvetica,sans-Serif\" font-size=\"14.00\">class = neutral</text>\n",
       "</g>\n",
       "<!-- 2&#45;&gt;78 -->\n",
       "<g id=\"edge10\" class=\"edge\">\n",
       "<title>2&#45;&gt;78</title>\n",
       "<path fill=\"none\" stroke=\"black\" d=\"M598.5,-309.91C598.5,-301.65 598.5,-292.86 598.5,-284.3\"/>\n",
       "<polygon fill=\"black\" stroke=\"black\" points=\"602,-284.02 598.5,-274.02 595,-284.02 602,-284.02\"/>\n",
       "</g>\n",
       "<!-- 4 -->\n",
       "<g id=\"node5\" class=\"node\">\n",
       "<title>4</title>\n",
       "<path fill=\"#f0b58a\" stroke=\"black\" d=\"M191,-155C191,-155 12,-155 12,-155 6,-155 0,-149 0,-143 0,-143 0,-84 0,-84 0,-78 6,-72 12,-72 12,-72 191,-72 191,-72 197,-72 203,-78 203,-84 203,-84 203,-143 203,-143 203,-149 197,-155 191,-155\"/>\n",
       "<text text-anchor=\"start\" x=\"59.5\" y=\"-139.8\" font-family=\"Helvetica,sans-Serif\" font-size=\"14.00\">hours ≤ 0.5</text>\n",
       "<text text-anchor=\"start\" x=\"57.5\" y=\"-124.8\" font-family=\"Helvetica,sans-Serif\" font-size=\"14.00\">gini = 0.481</text>\n",
       "<text text-anchor=\"start\" x=\"44\" y=\"-109.8\" font-family=\"Helvetica,sans-Serif\" font-size=\"14.00\">samples = 8488</text>\n",
       "<text text-anchor=\"start\" x=\"8\" y=\"-94.8\" font-family=\"Helvetica,sans-Serif\" font-size=\"14.00\">value = [5765, 1837, 886]</text>\n",
       "<text text-anchor=\"start\" x=\"43.5\" y=\"-79.8\" font-family=\"Helvetica,sans-Serif\" font-size=\"14.00\">class = negative</text>\n",
       "</g>\n",
       "<!-- 3&#45;&gt;4 -->\n",
       "<g id=\"edge4\" class=\"edge\">\n",
       "<title>3&#45;&gt;4</title>\n",
       "<path fill=\"none\" stroke=\"black\" d=\"M234.07,-190.91C216.91,-181.02 198.43,-170.37 180.89,-160.25\"/>\n",
       "<polygon fill=\"black\" stroke=\"black\" points=\"182.22,-156.98 171.81,-155.02 178.72,-163.05 182.22,-156.98\"/>\n",
       "</g>\n",
       "<!-- 47 -->\n",
       "<g id=\"node8\" class=\"node\">\n",
       "<title>47</title>\n",
       "<path fill=\"#e88f4f\" stroke=\"black\" d=\"M376,-155C376,-155 233,-155 233,-155 227,-155 221,-149 221,-143 221,-143 221,-84 221,-84 221,-78 227,-72 233,-72 233,-72 376,-72 376,-72 382,-72 388,-78 388,-84 388,-84 388,-143 388,-143 388,-149 382,-155 376,-155\"/>\n",
       "<text text-anchor=\"start\" x=\"257.5\" y=\"-139.8\" font-family=\"Helvetica,sans-Serif\" font-size=\"14.00\">worries ≤ 0.5</text>\n",
       "<text text-anchor=\"start\" x=\"260.5\" y=\"-124.8\" font-family=\"Helvetica,sans-Serif\" font-size=\"14.00\">gini = 0.188</text>\n",
       "<text text-anchor=\"start\" x=\"251.5\" y=\"-109.8\" font-family=\"Helvetica,sans-Serif\" font-size=\"14.00\">samples = 999</text>\n",
       "<text text-anchor=\"start\" x=\"229\" y=\"-94.8\" font-family=\"Helvetica,sans-Serif\" font-size=\"14.00\">value = [897, 72, 30]</text>\n",
       "<text text-anchor=\"start\" x=\"246.5\" y=\"-79.8\" font-family=\"Helvetica,sans-Serif\" font-size=\"14.00\">class = negative</text>\n",
       "</g>\n",
       "<!-- 3&#45;&gt;47 -->\n",
       "<g id=\"edge7\" class=\"edge\">\n",
       "<title>3&#45;&gt;47</title>\n",
       "<path fill=\"none\" stroke=\"black\" d=\"M304.5,-190.91C304.5,-182.65 304.5,-173.86 304.5,-165.3\"/>\n",
       "<polygon fill=\"black\" stroke=\"black\" points=\"308,-165.02 304.5,-155.02 301,-165.02 308,-165.02\"/>\n",
       "</g>\n",
       "<!-- 5 -->\n",
       "<g id=\"node6\" class=\"node\">\n",
       "<title>5</title>\n",
       "<path fill=\"#c0c0c0\" stroke=\"black\" d=\"M80.5,-36C80.5,-36 50.5,-36 50.5,-36 44.5,-36 38.5,-30 38.5,-24 38.5,-24 38.5,-12 38.5,-12 38.5,-6 44.5,0 50.5,0 50.5,0 80.5,0 80.5,0 86.5,0 92.5,-6 92.5,-12 92.5,-12 92.5,-24 92.5,-24 92.5,-30 86.5,-36 80.5,-36\"/>\n",
       "<text text-anchor=\"middle\" x=\"65.5\" y=\"-14.3\" font-family=\"Helvetica,sans-Serif\" font-size=\"14.00\">(...)</text>\n",
       "</g>\n",
       "<!-- 4&#45;&gt;5 -->\n",
       "<g id=\"edge5\" class=\"edge\">\n",
       "<title>4&#45;&gt;5</title>\n",
       "<path fill=\"none\" stroke=\"black\" d=\"M85.81,-71.76C82.46,-63.04 78.99,-54.04 75.89,-45.99\"/>\n",
       "<polygon fill=\"black\" stroke=\"black\" points=\"79.06,-44.48 72.2,-36.41 72.53,-46.99 79.06,-44.48\"/>\n",
       "</g>\n",
       "<!-- 36 -->\n",
       "<g id=\"node7\" class=\"node\">\n",
       "<title>36</title>\n",
       "<path fill=\"#c0c0c0\" stroke=\"black\" d=\"M152.5,-36C152.5,-36 122.5,-36 122.5,-36 116.5,-36 110.5,-30 110.5,-24 110.5,-24 110.5,-12 110.5,-12 110.5,-6 116.5,0 122.5,0 122.5,0 152.5,0 152.5,0 158.5,0 164.5,-6 164.5,-12 164.5,-12 164.5,-24 164.5,-24 164.5,-30 158.5,-36 152.5,-36\"/>\n",
       "<text text-anchor=\"middle\" x=\"137.5\" y=\"-14.3\" font-family=\"Helvetica,sans-Serif\" font-size=\"14.00\">(...)</text>\n",
       "</g>\n",
       "<!-- 4&#45;&gt;36 -->\n",
       "<g id=\"edge6\" class=\"edge\">\n",
       "<title>4&#45;&gt;36</title>\n",
       "<path fill=\"none\" stroke=\"black\" d=\"M117.19,-71.76C120.54,-63.04 124.01,-54.04 127.11,-45.99\"/>\n",
       "<polygon fill=\"black\" stroke=\"black\" points=\"130.47,-46.99 130.8,-36.41 123.94,-44.48 130.47,-46.99\"/>\n",
       "</g>\n",
       "<!-- 48 -->\n",
       "<g id=\"node9\" class=\"node\">\n",
       "<title>48</title>\n",
       "<path fill=\"#c0c0c0\" stroke=\"black\" d=\"M290.5,-36C290.5,-36 260.5,-36 260.5,-36 254.5,-36 248.5,-30 248.5,-24 248.5,-24 248.5,-12 248.5,-12 248.5,-6 254.5,0 260.5,0 260.5,0 290.5,0 290.5,0 296.5,0 302.5,-6 302.5,-12 302.5,-12 302.5,-24 302.5,-24 302.5,-30 296.5,-36 290.5,-36\"/>\n",
       "<text text-anchor=\"middle\" x=\"275.5\" y=\"-14.3\" font-family=\"Helvetica,sans-Serif\" font-size=\"14.00\">(...)</text>\n",
       "</g>\n",
       "<!-- 47&#45;&gt;48 -->\n",
       "<g id=\"edge8\" class=\"edge\">\n",
       "<title>47&#45;&gt;48</title>\n",
       "<path fill=\"none\" stroke=\"black\" d=\"M291.86,-71.76C289.16,-63.04 286.37,-54.04 283.87,-45.99\"/>\n",
       "<polygon fill=\"black\" stroke=\"black\" points=\"287.2,-44.92 280.9,-36.41 280.52,-46.99 287.2,-44.92\"/>\n",
       "</g>\n",
       "<!-- 77 -->\n",
       "<g id=\"node10\" class=\"node\">\n",
       "<title>77</title>\n",
       "<path fill=\"#c0c0c0\" stroke=\"black\" d=\"M362.5,-36C362.5,-36 332.5,-36 332.5,-36 326.5,-36 320.5,-30 320.5,-24 320.5,-24 320.5,-12 320.5,-12 320.5,-6 326.5,0 332.5,0 332.5,0 362.5,0 362.5,0 368.5,0 374.5,-6 374.5,-12 374.5,-12 374.5,-24 374.5,-24 374.5,-30 368.5,-36 362.5,-36\"/>\n",
       "<text text-anchor=\"middle\" x=\"347.5\" y=\"-14.3\" font-family=\"Helvetica,sans-Serif\" font-size=\"14.00\">(...)</text>\n",
       "</g>\n",
       "<!-- 47&#45;&gt;77 -->\n",
       "<g id=\"edge9\" class=\"edge\">\n",
       "<title>47&#45;&gt;77</title>\n",
       "<path fill=\"none\" stroke=\"black\" d=\"M323.24,-71.76C327.29,-62.94 331.48,-53.84 335.21,-45.72\"/>\n",
       "<polygon fill=\"black\" stroke=\"black\" points=\"338.5,-46.95 339.5,-36.41 332.14,-44.03 338.5,-46.95\"/>\n",
       "</g>\n",
       "<!-- 79 -->\n",
       "<g id=\"node12\" class=\"node\">\n",
       "<title>79</title>\n",
       "<path fill=\"#e8fcf0\" stroke=\"black\" d=\"M579,-155C579,-155 418,-155 418,-155 412,-155 406,-149 406,-143 406,-143 406,-84 406,-84 406,-78 412,-72 418,-72 418,-72 579,-72 579,-72 585,-72 591,-78 591,-84 591,-84 591,-143 591,-143 591,-149 585,-155 579,-155\"/>\n",
       "<text text-anchor=\"start\" x=\"458.5\" y=\"-139.8\" font-family=\"Helvetica,sans-Serif\" font-size=\"14.00\">great ≤ 0.5</text>\n",
       "<text text-anchor=\"start\" x=\"454.5\" y=\"-124.8\" font-family=\"Helvetica,sans-Serif\" font-size=\"14.00\">gini = 0.625</text>\n",
       "<text text-anchor=\"start\" x=\"445.5\" y=\"-109.8\" font-family=\"Helvetica,sans-Serif\" font-size=\"14.00\">samples = 860</text>\n",
       "<text text-anchor=\"start\" x=\"414\" y=\"-94.8\" font-family=\"Helvetica,sans-Serif\" font-size=\"14.00\">value = [325, 387, 148]</text>\n",
       "<text text-anchor=\"start\" x=\"445.5\" y=\"-79.8\" font-family=\"Helvetica,sans-Serif\" font-size=\"14.00\">class = neutral</text>\n",
       "</g>\n",
       "<!-- 78&#45;&gt;79 -->\n",
       "<g id=\"edge11\" class=\"edge\">\n",
       "<title>78&#45;&gt;79</title>\n",
       "<path fill=\"none\" stroke=\"black\" d=\"M563.81,-190.91C556.05,-181.83 547.75,-172.12 539.76,-162.77\"/>\n",
       "<polygon fill=\"black\" stroke=\"black\" points=\"542.29,-160.35 533.13,-155.02 536.97,-164.9 542.29,-160.35\"/>\n",
       "</g>\n",
       "<!-- 104 -->\n",
       "<g id=\"node15\" class=\"node\">\n",
       "<title>104</title>\n",
       "<path fill=\"#e6853f\" stroke=\"black\" d=\"M737.5,-155C737.5,-155 621.5,-155 621.5,-155 615.5,-155 609.5,-149 609.5,-143 609.5,-143 609.5,-84 609.5,-84 609.5,-78 615.5,-72 621.5,-72 621.5,-72 737.5,-72 737.5,-72 743.5,-72 749.5,-78 749.5,-84 749.5,-84 749.5,-143 749.5,-143 749.5,-149 743.5,-155 737.5,-155\"/>\n",
       "<text text-anchor=\"start\" x=\"647.5\" y=\"-139.8\" font-family=\"Helvetica,sans-Serif\" font-size=\"14.00\">for ≤ 0.5</text>\n",
       "<text text-anchor=\"start\" x=\"635.5\" y=\"-124.8\" font-family=\"Helvetica,sans-Serif\" font-size=\"14.00\">gini = 0.059</text>\n",
       "<text text-anchor=\"start\" x=\"631\" y=\"-109.8\" font-family=\"Helvetica,sans-Serif\" font-size=\"14.00\">samples = 33</text>\n",
       "<text text-anchor=\"start\" x=\"617.5\" y=\"-94.8\" font-family=\"Helvetica,sans-Serif\" font-size=\"14.00\">value = [32, 1, 0]</text>\n",
       "<text text-anchor=\"start\" x=\"621.5\" y=\"-79.8\" font-family=\"Helvetica,sans-Serif\" font-size=\"14.00\">class = negative</text>\n",
       "</g>\n",
       "<!-- 78&#45;&gt;104 -->\n",
       "<g id=\"edge14\" class=\"edge\">\n",
       "<title>78&#45;&gt;104</title>\n",
       "<path fill=\"none\" stroke=\"black\" d=\"M626.6,-190.91C632.76,-182.01 639.34,-172.51 645.69,-163.33\"/>\n",
       "<polygon fill=\"black\" stroke=\"black\" points=\"648.63,-165.24 651.45,-155.02 642.88,-161.25 648.63,-165.24\"/>\n",
       "</g>\n",
       "<!-- 80 -->\n",
       "<g id=\"node13\" class=\"node\">\n",
       "<title>80</title>\n",
       "<path fill=\"#c0c0c0\" stroke=\"black\" d=\"M459.5,-36C459.5,-36 429.5,-36 429.5,-36 423.5,-36 417.5,-30 417.5,-24 417.5,-24 417.5,-12 417.5,-12 417.5,-6 423.5,0 429.5,0 429.5,0 459.5,0 459.5,0 465.5,0 471.5,-6 471.5,-12 471.5,-12 471.5,-24 471.5,-24 471.5,-30 465.5,-36 459.5,-36\"/>\n",
       "<text text-anchor=\"middle\" x=\"444.5\" y=\"-14.3\" font-family=\"Helvetica,sans-Serif\" font-size=\"14.00\">(...)</text>\n",
       "</g>\n",
       "<!-- 79&#45;&gt;80 -->\n",
       "<g id=\"edge12\" class=\"edge\">\n",
       "<title>79&#45;&gt;80</title>\n",
       "<path fill=\"none\" stroke=\"black\" d=\"M474.97,-71.76C469.77,-62.75 464.39,-53.44 459.63,-45.19\"/>\n",
       "<polygon fill=\"black\" stroke=\"black\" points=\"462.58,-43.31 454.55,-36.41 456.52,-46.82 462.58,-43.31\"/>\n",
       "</g>\n",
       "<!-- 103 -->\n",
       "<g id=\"node14\" class=\"node\">\n",
       "<title>103</title>\n",
       "<path fill=\"#c0c0c0\" stroke=\"black\" d=\"M531.5,-36C531.5,-36 501.5,-36 501.5,-36 495.5,-36 489.5,-30 489.5,-24 489.5,-24 489.5,-12 489.5,-12 489.5,-6 495.5,0 501.5,0 501.5,0 531.5,0 531.5,0 537.5,0 543.5,-6 543.5,-12 543.5,-12 543.5,-24 543.5,-24 543.5,-30 537.5,-36 531.5,-36\"/>\n",
       "<text text-anchor=\"middle\" x=\"516.5\" y=\"-14.3\" font-family=\"Helvetica,sans-Serif\" font-size=\"14.00\">(...)</text>\n",
       "</g>\n",
       "<!-- 79&#45;&gt;103 -->\n",
       "<g id=\"edge13\" class=\"edge\">\n",
       "<title>79&#45;&gt;103</title>\n",
       "<path fill=\"none\" stroke=\"black\" d=\"M506.34,-71.76C508,-63.14 509.72,-54.24 511.25,-46.26\"/>\n",
       "<polygon fill=\"black\" stroke=\"black\" points=\"514.7,-46.89 513.15,-36.41 507.82,-45.56 514.7,-46.89\"/>\n",
       "</g>\n",
       "<!-- 105 -->\n",
       "<g id=\"node16\" class=\"node\">\n",
       "<title>105</title>\n",
       "<path fill=\"#c0c0c0\" stroke=\"black\" d=\"M640.5,-36C640.5,-36 610.5,-36 610.5,-36 604.5,-36 598.5,-30 598.5,-24 598.5,-24 598.5,-12 598.5,-12 598.5,-6 604.5,0 610.5,0 610.5,0 640.5,0 640.5,0 646.5,0 652.5,-6 652.5,-12 652.5,-12 652.5,-24 652.5,-24 652.5,-30 646.5,-36 640.5,-36\"/>\n",
       "<text text-anchor=\"middle\" x=\"625.5\" y=\"-14.3\" font-family=\"Helvetica,sans-Serif\" font-size=\"14.00\">(...)</text>\n",
       "</g>\n",
       "<!-- 104&#45;&gt;105 -->\n",
       "<g id=\"edge15\" class=\"edge\">\n",
       "<title>104&#45;&gt;105</title>\n",
       "<path fill=\"none\" stroke=\"black\" d=\"M655.97,-71.76C650.77,-62.75 645.39,-53.44 640.63,-45.19\"/>\n",
       "<polygon fill=\"black\" stroke=\"black\" points=\"643.58,-43.31 635.55,-36.41 637.52,-46.82 643.58,-43.31\"/>\n",
       "</g>\n",
       "<!-- 106 -->\n",
       "<g id=\"node17\" class=\"node\">\n",
       "<title>106</title>\n",
       "<path fill=\"#c0c0c0\" stroke=\"black\" d=\"M712.5,-36C712.5,-36 682.5,-36 682.5,-36 676.5,-36 670.5,-30 670.5,-24 670.5,-24 670.5,-12 670.5,-12 670.5,-6 676.5,0 682.5,0 682.5,0 712.5,0 712.5,0 718.5,0 724.5,-6 724.5,-12 724.5,-12 724.5,-24 724.5,-24 724.5,-30 718.5,-36 712.5,-36\"/>\n",
       "<text text-anchor=\"middle\" x=\"697.5\" y=\"-14.3\" font-family=\"Helvetica,sans-Serif\" font-size=\"14.00\">(...)</text>\n",
       "</g>\n",
       "<!-- 104&#45;&gt;106 -->\n",
       "<g id=\"edge16\" class=\"edge\">\n",
       "<title>104&#45;&gt;106</title>\n",
       "<path fill=\"none\" stroke=\"black\" d=\"M687.34,-71.76C689,-63.14 690.72,-54.24 692.25,-46.26\"/>\n",
       "<polygon fill=\"black\" stroke=\"black\" points=\"695.7,-46.89 694.15,-36.41 688.82,-45.56 695.7,-46.89\"/>\n",
       "</g>\n",
       "<!-- 108 -->\n",
       "<g id=\"node19\" class=\"node\">\n",
       "<title>108</title>\n",
       "<path fill=\"#c6a5f3\" stroke=\"black\" d=\"M1115,-274C1115,-274 954,-274 954,-274 948,-274 942,-268 942,-262 942,-262 942,-203 942,-203 942,-197 948,-191 954,-191 954,-191 1115,-191 1115,-191 1121,-191 1127,-197 1127,-203 1127,-203 1127,-262 1127,-262 1127,-268 1121,-274 1115,-274\"/>\n",
       "<text text-anchor=\"start\" x=\"1001\" y=\"-258.8\" font-family=\"Helvetica,sans-Serif\" font-size=\"14.00\">but ≤ 0.5</text>\n",
       "<text text-anchor=\"start\" x=\"990.5\" y=\"-243.8\" font-family=\"Helvetica,sans-Serif\" font-size=\"14.00\">gini = 0.565</text>\n",
       "<text text-anchor=\"start\" x=\"981.5\" y=\"-228.8\" font-family=\"Helvetica,sans-Serif\" font-size=\"14.00\">samples = 687</text>\n",
       "<text text-anchor=\"start\" x=\"950\" y=\"-213.8\" font-family=\"Helvetica,sans-Serif\" font-size=\"14.00\">value = [169, 113, 405]</text>\n",
       "<text text-anchor=\"start\" x=\"979.5\" y=\"-198.8\" font-family=\"Helvetica,sans-Serif\" font-size=\"14.00\">class = positive</text>\n",
       "</g>\n",
       "<!-- 107&#45;&gt;108 -->\n",
       "<g id=\"edge18\" class=\"edge\">\n",
       "<title>107&#45;&gt;108</title>\n",
       "<path fill=\"none\" stroke=\"black\" d=\"M1095.89,-309.91C1088.67,-300.92 1080.95,-291.32 1073.51,-282.05\"/>\n",
       "<polygon fill=\"black\" stroke=\"black\" points=\"1076.05,-279.62 1067.06,-274.02 1070.59,-284.01 1076.05,-279.62\"/>\n",
       "</g>\n",
       "<!-- 131 -->\n",
       "<g id=\"node26\" class=\"node\">\n",
       "<title>131</title>\n",
       "<path fill=\"#f8dfcd\" stroke=\"black\" d=\"M1290.5,-274C1290.5,-274 1156.5,-274 1156.5,-274 1150.5,-274 1144.5,-268 1144.5,-262 1144.5,-262 1144.5,-203 1144.5,-203 1144.5,-197 1150.5,-191 1156.5,-191 1156.5,-191 1290.5,-191 1290.5,-191 1296.5,-191 1302.5,-197 1302.5,-203 1302.5,-203 1302.5,-262 1302.5,-262 1302.5,-268 1296.5,-274 1290.5,-274\"/>\n",
       "<text text-anchor=\"start\" x=\"1190.5\" y=\"-258.8\" font-family=\"Helvetica,sans-Serif\" font-size=\"14.00\">my ≤ 0.5</text>\n",
       "<text text-anchor=\"start\" x=\"1179.5\" y=\"-243.8\" font-family=\"Helvetica,sans-Serif\" font-size=\"14.00\">gini = 0.552</text>\n",
       "<text text-anchor=\"start\" x=\"1170.5\" y=\"-228.8\" font-family=\"Helvetica,sans-Serif\" font-size=\"14.00\">samples = 166</text>\n",
       "<text text-anchor=\"start\" x=\"1152.5\" y=\"-213.8\" font-family=\"Helvetica,sans-Serif\" font-size=\"14.00\">value = [90, 12, 64]</text>\n",
       "<text text-anchor=\"start\" x=\"1165.5\" y=\"-198.8\" font-family=\"Helvetica,sans-Serif\" font-size=\"14.00\">class = negative</text>\n",
       "</g>\n",
       "<!-- 107&#45;&gt;131 -->\n",
       "<g id=\"edge25\" class=\"edge\">\n",
       "<title>107&#45;&gt;131</title>\n",
       "<path fill=\"none\" stroke=\"black\" d=\"M1161.46,-309.91C1168.75,-300.92 1176.56,-291.32 1184.08,-282.05\"/>\n",
       "<polygon fill=\"black\" stroke=\"black\" points=\"1187.01,-283.99 1190.6,-274.02 1181.58,-279.58 1187.01,-283.99\"/>\n",
       "</g>\n",
       "<!-- 109 -->\n",
       "<g id=\"node20\" class=\"node\">\n",
       "<title>109</title>\n",
       "<path fill=\"#be99f2\" stroke=\"black\" d=\"M941,-155C941,-155 780,-155 780,-155 774,-155 768,-149 768,-143 768,-143 768,-84 768,-84 768,-78 774,-72 780,-72 780,-72 941,-72 941,-72 947,-72 953,-78 953,-84 953,-84 953,-143 953,-143 953,-149 947,-155 941,-155\"/>\n",
       "<text text-anchor=\"start\" x=\"832\" y=\"-139.8\" font-family=\"Helvetica,sans-Serif\" font-size=\"14.00\">hi ≤ 0.5</text>\n",
       "<text text-anchor=\"start\" x=\"816.5\" y=\"-124.8\" font-family=\"Helvetica,sans-Serif\" font-size=\"14.00\">gini = 0.543</text>\n",
       "<text text-anchor=\"start\" x=\"807.5\" y=\"-109.8\" font-family=\"Helvetica,sans-Serif\" font-size=\"14.00\">samples = 635</text>\n",
       "<text text-anchor=\"start\" x=\"776\" y=\"-94.8\" font-family=\"Helvetica,sans-Serif\" font-size=\"14.00\">value = [137, 105, 393]</text>\n",
       "<text text-anchor=\"start\" x=\"805.5\" y=\"-79.8\" font-family=\"Helvetica,sans-Serif\" font-size=\"14.00\">class = positive</text>\n",
       "</g>\n",
       "<!-- 108&#45;&gt;109 -->\n",
       "<g id=\"edge19\" class=\"edge\">\n",
       "<title>108&#45;&gt;109</title>\n",
       "<path fill=\"none\" stroke=\"black\" d=\"M974.13,-190.91C959.69,-181.2 944.17,-170.76 929.37,-160.81\"/>\n",
       "<polygon fill=\"black\" stroke=\"black\" points=\"931.01,-157.7 920.76,-155.02 927.11,-163.51 931.01,-157.7\"/>\n",
       "</g>\n",
       "<!-- 124 -->\n",
       "<g id=\"node23\" class=\"node\">\n",
       "<title>124</title>\n",
       "<path fill=\"#f2c09c\" stroke=\"black\" d=\"M1108,-155C1108,-155 983,-155 983,-155 977,-155 971,-149 971,-143 971,-143 971,-84 971,-84 971,-78 977,-72 983,-72 983,-72 1108,-72 1108,-72 1114,-72 1120,-78 1120,-84 1120,-84 1120,-143 1120,-143 1120,-149 1114,-155 1108,-155\"/>\n",
       "<text text-anchor=\"start\" x=\"1012\" y=\"-139.8\" font-family=\"Helvetica,sans-Serif\" font-size=\"14.00\">the ≤ 0.5</text>\n",
       "<text text-anchor=\"start\" x=\"1001.5\" y=\"-124.8\" font-family=\"Helvetica,sans-Serif\" font-size=\"14.00\">gini = 0.544</text>\n",
       "<text text-anchor=\"start\" x=\"997\" y=\"-109.8\" font-family=\"Helvetica,sans-Serif\" font-size=\"14.00\">samples = 52</text>\n",
       "<text text-anchor=\"start\" x=\"979\" y=\"-94.8\" font-family=\"Helvetica,sans-Serif\" font-size=\"14.00\">value = [32, 8, 12]</text>\n",
       "<text text-anchor=\"start\" x=\"987.5\" y=\"-79.8\" font-family=\"Helvetica,sans-Serif\" font-size=\"14.00\">class = negative</text>\n",
       "</g>\n",
       "<!-- 108&#45;&gt;124 -->\n",
       "<g id=\"edge22\" class=\"edge\">\n",
       "<title>108&#45;&gt;124</title>\n",
       "<path fill=\"none\" stroke=\"black\" d=\"M1038.32,-190.91C1039.1,-182.56 1039.94,-173.67 1040.75,-165.02\"/>\n",
       "<polygon fill=\"black\" stroke=\"black\" points=\"1044.24,-165.3 1041.69,-155.02 1037.27,-164.65 1044.24,-165.3\"/>\n",
       "</g>\n",
       "<!-- 110 -->\n",
       "<g id=\"node21\" class=\"node\">\n",
       "<title>110</title>\n",
       "<path fill=\"#c0c0c0\" stroke=\"black\" d=\"M823.5,-36C823.5,-36 793.5,-36 793.5,-36 787.5,-36 781.5,-30 781.5,-24 781.5,-24 781.5,-12 781.5,-12 781.5,-6 787.5,0 793.5,0 793.5,0 823.5,0 823.5,0 829.5,0 835.5,-6 835.5,-12 835.5,-12 835.5,-24 835.5,-24 835.5,-30 829.5,-36 823.5,-36\"/>\n",
       "<text text-anchor=\"middle\" x=\"808.5\" y=\"-14.3\" font-family=\"Helvetica,sans-Serif\" font-size=\"14.00\">(...)</text>\n",
       "</g>\n",
       "<!-- 109&#45;&gt;110 -->\n",
       "<g id=\"edge20\" class=\"edge\">\n",
       "<title>109&#45;&gt;110</title>\n",
       "<path fill=\"none\" stroke=\"black\" d=\"M837.84,-71.76C832.83,-62.75 827.65,-53.44 823.07,-45.19\"/>\n",
       "<polygon fill=\"black\" stroke=\"black\" points=\"826.1,-43.44 818.18,-36.41 819.98,-46.85 826.1,-43.44\"/>\n",
       "</g>\n",
       "<!-- 123 -->\n",
       "<g id=\"node22\" class=\"node\">\n",
       "<title>123</title>\n",
       "<path fill=\"#c0c0c0\" stroke=\"black\" d=\"M895.5,-36C895.5,-36 865.5,-36 865.5,-36 859.5,-36 853.5,-30 853.5,-24 853.5,-24 853.5,-12 853.5,-12 853.5,-6 859.5,0 865.5,0 865.5,0 895.5,0 895.5,0 901.5,0 907.5,-6 907.5,-12 907.5,-12 907.5,-24 907.5,-24 907.5,-30 901.5,-36 895.5,-36\"/>\n",
       "<text text-anchor=\"middle\" x=\"880.5\" y=\"-14.3\" font-family=\"Helvetica,sans-Serif\" font-size=\"14.00\">(...)</text>\n",
       "</g>\n",
       "<!-- 109&#45;&gt;123 -->\n",
       "<g id=\"edge21\" class=\"edge\">\n",
       "<title>109&#45;&gt;123</title>\n",
       "<path fill=\"none\" stroke=\"black\" d=\"M869.21,-71.76C871.06,-63.14 872.96,-54.24 874.67,-46.26\"/>\n",
       "<polygon fill=\"black\" stroke=\"black\" points=\"878.11,-46.92 876.78,-36.41 871.26,-45.45 878.11,-46.92\"/>\n",
       "</g>\n",
       "<!-- 125 -->\n",
       "<g id=\"node24\" class=\"node\">\n",
       "<title>125</title>\n",
       "<path fill=\"#c0c0c0\" stroke=\"black\" d=\"M999.5,-36C999.5,-36 969.5,-36 969.5,-36 963.5,-36 957.5,-30 957.5,-24 957.5,-24 957.5,-12 957.5,-12 957.5,-6 963.5,0 969.5,0 969.5,0 999.5,0 999.5,0 1005.5,0 1011.5,-6 1011.5,-12 1011.5,-12 1011.5,-24 1011.5,-24 1011.5,-30 1005.5,-36 999.5,-36\"/>\n",
       "<text text-anchor=\"middle\" x=\"984.5\" y=\"-14.3\" font-family=\"Helvetica,sans-Serif\" font-size=\"14.00\">(...)</text>\n",
       "</g>\n",
       "<!-- 124&#45;&gt;125 -->\n",
       "<g id=\"edge23\" class=\"edge\">\n",
       "<title>124&#45;&gt;125</title>\n",
       "<path fill=\"none\" stroke=\"black\" d=\"M1018.92,-71.76C1012.98,-62.65 1006.84,-53.24 1001.41,-44.92\"/>\n",
       "<polygon fill=\"black\" stroke=\"black\" points=\"1004.25,-42.87 995.86,-36.41 998.39,-46.69 1004.25,-42.87\"/>\n",
       "</g>\n",
       "<!-- 128 -->\n",
       "<g id=\"node25\" class=\"node\">\n",
       "<title>128</title>\n",
       "<path fill=\"#c0c0c0\" stroke=\"black\" d=\"M1071.5,-36C1071.5,-36 1041.5,-36 1041.5,-36 1035.5,-36 1029.5,-30 1029.5,-24 1029.5,-24 1029.5,-12 1029.5,-12 1029.5,-6 1035.5,0 1041.5,0 1041.5,0 1071.5,0 1071.5,0 1077.5,0 1083.5,-6 1083.5,-12 1083.5,-12 1083.5,-24 1083.5,-24 1083.5,-30 1077.5,-36 1071.5,-36\"/>\n",
       "<text text-anchor=\"middle\" x=\"1056.5\" y=\"-14.3\" font-family=\"Helvetica,sans-Serif\" font-size=\"14.00\">(...)</text>\n",
       "</g>\n",
       "<!-- 124&#45;&gt;128 -->\n",
       "<g id=\"edge24\" class=\"edge\">\n",
       "<title>124&#45;&gt;128</title>\n",
       "<path fill=\"none\" stroke=\"black\" d=\"M1050.29,-71.76C1051.3,-63.24 1052.33,-54.44 1053.26,-46.53\"/>\n",
       "<polygon fill=\"black\" stroke=\"black\" points=\"1056.76,-46.75 1054.45,-36.41 1049.81,-45.93 1056.76,-46.75\"/>\n",
       "</g>\n",
       "<!-- 132 -->\n",
       "<g id=\"node27\" class=\"node\">\n",
       "<title>132</title>\n",
       "<path fill=\"#fdfcff\" stroke=\"black\" d=\"M1275,-155C1275,-155 1150,-155 1150,-155 1144,-155 1138,-149 1138,-143 1138,-143 1138,-84 1138,-84 1138,-78 1144,-72 1150,-72 1150,-72 1275,-72 1275,-72 1281,-72 1287,-78 1287,-84 1287,-84 1287,-143 1287,-143 1287,-149 1281,-155 1275,-155\"/>\n",
       "<text text-anchor=\"start\" x=\"1182\" y=\"-139.8\" font-family=\"Helvetica,sans-Serif\" font-size=\"14.00\">no ≤ 0.5</text>\n",
       "<text text-anchor=\"start\" x=\"1173\" y=\"-124.8\" font-family=\"Helvetica,sans-Serif\" font-size=\"14.00\">gini = 0.57</text>\n",
       "<text text-anchor=\"start\" x=\"1159.5\" y=\"-109.8\" font-family=\"Helvetica,sans-Serif\" font-size=\"14.00\">samples = 114</text>\n",
       "<text text-anchor=\"start\" x=\"1146\" y=\"-94.8\" font-family=\"Helvetica,sans-Serif\" font-size=\"14.00\">value = [52, 9, 53]</text>\n",
       "<text text-anchor=\"start\" x=\"1157.5\" y=\"-79.8\" font-family=\"Helvetica,sans-Serif\" font-size=\"14.00\">class = positive</text>\n",
       "</g>\n",
       "<!-- 131&#45;&gt;132 -->\n",
       "<g id=\"edge26\" class=\"edge\">\n",
       "<title>131&#45;&gt;132</title>\n",
       "<path fill=\"none\" stroke=\"black\" d=\"M1219.68,-190.91C1218.9,-182.56 1218.06,-173.67 1217.25,-165.02\"/>\n",
       "<polygon fill=\"black\" stroke=\"black\" points=\"1220.73,-164.65 1216.31,-155.02 1213.76,-165.3 1220.73,-164.65\"/>\n",
       "</g>\n",
       "<!-- 145 -->\n",
       "<g id=\"node30\" class=\"node\">\n",
       "<title>145</title>\n",
       "<path fill=\"#eeac7d\" stroke=\"black\" d=\"M1442,-155C1442,-155 1317,-155 1317,-155 1311,-155 1305,-149 1305,-143 1305,-143 1305,-84 1305,-84 1305,-78 1311,-72 1317,-72 1317,-72 1442,-72 1442,-72 1448,-72 1454,-78 1454,-84 1454,-84 1454,-143 1454,-143 1454,-149 1448,-155 1442,-155\"/>\n",
       "<text text-anchor=\"start\" x=\"1350.5\" y=\"-139.8\" font-family=\"Helvetica,sans-Serif\" font-size=\"14.00\">to ≤ 0.5</text>\n",
       "<text text-anchor=\"start\" x=\"1335.5\" y=\"-124.8\" font-family=\"Helvetica,sans-Serif\" font-size=\"14.00\">gini = 0.418</text>\n",
       "<text text-anchor=\"start\" x=\"1331\" y=\"-109.8\" font-family=\"Helvetica,sans-Serif\" font-size=\"14.00\">samples = 52</text>\n",
       "<text text-anchor=\"start\" x=\"1313\" y=\"-94.8\" font-family=\"Helvetica,sans-Serif\" font-size=\"14.00\">value = [38, 3, 11]</text>\n",
       "<text text-anchor=\"start\" x=\"1321.5\" y=\"-79.8\" font-family=\"Helvetica,sans-Serif\" font-size=\"14.00\">class = negative</text>\n",
       "</g>\n",
       "<!-- 131&#45;&gt;145 -->\n",
       "<g id=\"edge29\" class=\"edge\">\n",
       "<title>131&#45;&gt;145</title>\n",
       "<path fill=\"none\" stroke=\"black\" d=\"M1277.62,-190.91C1290.45,-181.29 1304.23,-170.95 1317.38,-161.09\"/>\n",
       "<polygon fill=\"black\" stroke=\"black\" points=\"1319.57,-163.82 1325.47,-155.02 1315.37,-158.22 1319.57,-163.82\"/>\n",
       "</g>\n",
       "<!-- 133 -->\n",
       "<g id=\"node28\" class=\"node\">\n",
       "<title>133</title>\n",
       "<path fill=\"#c0c0c0\" stroke=\"black\" d=\"M1166.5,-36C1166.5,-36 1136.5,-36 1136.5,-36 1130.5,-36 1124.5,-30 1124.5,-24 1124.5,-24 1124.5,-12 1124.5,-12 1124.5,-6 1130.5,0 1136.5,0 1136.5,0 1166.5,0 1166.5,0 1172.5,0 1178.5,-6 1178.5,-12 1178.5,-12 1178.5,-24 1178.5,-24 1178.5,-30 1172.5,-36 1166.5,-36\"/>\n",
       "<text text-anchor=\"middle\" x=\"1151.5\" y=\"-14.3\" font-family=\"Helvetica,sans-Serif\" font-size=\"14.00\">(...)</text>\n",
       "</g>\n",
       "<!-- 132&#45;&gt;133 -->\n",
       "<g id=\"edge27\" class=\"edge\">\n",
       "<title>132&#45;&gt;133</title>\n",
       "<path fill=\"none\" stroke=\"black\" d=\"M1185.92,-71.76C1179.98,-62.65 1173.84,-53.24 1168.41,-44.92\"/>\n",
       "<polygon fill=\"black\" stroke=\"black\" points=\"1171.25,-42.87 1162.86,-36.41 1165.39,-46.69 1171.25,-42.87\"/>\n",
       "</g>\n",
       "<!-- 144 -->\n",
       "<g id=\"node29\" class=\"node\">\n",
       "<title>144</title>\n",
       "<path fill=\"#c0c0c0\" stroke=\"black\" d=\"M1238.5,-36C1238.5,-36 1208.5,-36 1208.5,-36 1202.5,-36 1196.5,-30 1196.5,-24 1196.5,-24 1196.5,-12 1196.5,-12 1196.5,-6 1202.5,0 1208.5,0 1208.5,0 1238.5,0 1238.5,0 1244.5,0 1250.5,-6 1250.5,-12 1250.5,-12 1250.5,-24 1250.5,-24 1250.5,-30 1244.5,-36 1238.5,-36\"/>\n",
       "<text text-anchor=\"middle\" x=\"1223.5\" y=\"-14.3\" font-family=\"Helvetica,sans-Serif\" font-size=\"14.00\">(...)</text>\n",
       "</g>\n",
       "<!-- 132&#45;&gt;144 -->\n",
       "<g id=\"edge28\" class=\"edge\">\n",
       "<title>132&#45;&gt;144</title>\n",
       "<path fill=\"none\" stroke=\"black\" d=\"M1217.29,-71.76C1218.3,-63.24 1219.33,-54.44 1220.26,-46.53\"/>\n",
       "<polygon fill=\"black\" stroke=\"black\" points=\"1223.76,-46.75 1221.45,-36.41 1216.81,-45.93 1223.76,-46.75\"/>\n",
       "</g>\n",
       "<!-- 146 -->\n",
       "<g id=\"node31\" class=\"node\">\n",
       "<title>146</title>\n",
       "<path fill=\"#c0c0c0\" stroke=\"black\" d=\"M1338.5,-36C1338.5,-36 1308.5,-36 1308.5,-36 1302.5,-36 1296.5,-30 1296.5,-24 1296.5,-24 1296.5,-12 1296.5,-12 1296.5,-6 1302.5,0 1308.5,0 1308.5,0 1338.5,0 1338.5,0 1344.5,0 1350.5,-6 1350.5,-12 1350.5,-12 1350.5,-24 1350.5,-24 1350.5,-30 1344.5,-36 1338.5,-36\"/>\n",
       "<text text-anchor=\"middle\" x=\"1323.5\" y=\"-14.3\" font-family=\"Helvetica,sans-Serif\" font-size=\"14.00\">(...)</text>\n",
       "</g>\n",
       "<!-- 145&#45;&gt;146 -->\n",
       "<g id=\"edge30\" class=\"edge\">\n",
       "<title>145&#45;&gt;146</title>\n",
       "<path fill=\"none\" stroke=\"black\" d=\"M1355.1,-71.76C1349.7,-62.75 1344.13,-53.44 1339.19,-45.19\"/>\n",
       "<polygon fill=\"black\" stroke=\"black\" points=\"1342.07,-43.19 1333.92,-36.41 1336.06,-46.78 1342.07,-43.19\"/>\n",
       "</g>\n",
       "<!-- 149 -->\n",
       "<g id=\"node32\" class=\"node\">\n",
       "<title>149</title>\n",
       "<path fill=\"#c0c0c0\" stroke=\"black\" d=\"M1410.5,-36C1410.5,-36 1380.5,-36 1380.5,-36 1374.5,-36 1368.5,-30 1368.5,-24 1368.5,-24 1368.5,-12 1368.5,-12 1368.5,-6 1374.5,0 1380.5,0 1380.5,0 1410.5,0 1410.5,0 1416.5,0 1422.5,-6 1422.5,-12 1422.5,-12 1422.5,-24 1422.5,-24 1422.5,-30 1416.5,-36 1410.5,-36\"/>\n",
       "<text text-anchor=\"middle\" x=\"1395.5\" y=\"-14.3\" font-family=\"Helvetica,sans-Serif\" font-size=\"14.00\">(...)</text>\n",
       "</g>\n",
       "<!-- 145&#45;&gt;149 -->\n",
       "<g id=\"edge31\" class=\"edge\">\n",
       "<title>145&#45;&gt;149</title>\n",
       "<path fill=\"none\" stroke=\"black\" d=\"M1386.47,-71.76C1387.93,-63.24 1389.44,-54.44 1390.79,-46.53\"/>\n",
       "<polygon fill=\"black\" stroke=\"black\" points=\"1394.28,-46.85 1392.52,-36.41 1387.38,-45.67 1394.28,-46.85\"/>\n",
       "</g>\n",
       "<!-- 153 -->\n",
       "<g id=\"node34\" class=\"node\">\n",
       "<title>153</title>\n",
       "<path fill=\"#a26eec\" stroke=\"black\" d=\"M1701,-393C1701,-393 1558,-393 1558,-393 1552,-393 1546,-387 1546,-381 1546,-381 1546,-322 1546,-322 1546,-316 1552,-310 1558,-310 1558,-310 1701,-310 1701,-310 1707,-310 1713,-316 1713,-322 1713,-322 1713,-381 1713,-381 1713,-387 1707,-393 1701,-393\"/>\n",
       "<text text-anchor=\"start\" x=\"1589.5\" y=\"-377.8\" font-family=\"Helvetica,sans-Serif\" font-size=\"14.00\">there ≤ 0.5</text>\n",
       "<text text-anchor=\"start\" x=\"1585.5\" y=\"-362.8\" font-family=\"Helvetica,sans-Serif\" font-size=\"14.00\">gini = 0.384</text>\n",
       "<text text-anchor=\"start\" x=\"1576.5\" y=\"-347.8\" font-family=\"Helvetica,sans-Serif\" font-size=\"14.00\">samples = 456</text>\n",
       "<text text-anchor=\"start\" x=\"1554\" y=\"-332.8\" font-family=\"Helvetica,sans-Serif\" font-size=\"14.00\">value = [57, 49, 350]</text>\n",
       "<text text-anchor=\"start\" x=\"1574.5\" y=\"-317.8\" font-family=\"Helvetica,sans-Serif\" font-size=\"14.00\">class = positive</text>\n",
       "</g>\n",
       "<!-- 152&#45;&gt;153 -->\n",
       "<g id=\"edge33\" class=\"edge\">\n",
       "<title>152&#45;&gt;153</title>\n",
       "<path fill=\"none\" stroke=\"black\" d=\"M1629.5,-428.91C1629.5,-420.65 1629.5,-411.86 1629.5,-403.3\"/>\n",
       "<polygon fill=\"black\" stroke=\"black\" points=\"1633,-403.02 1629.5,-393.02 1626,-403.02 1633,-403.02\"/>\n",
       "</g>\n",
       "<!-- 182 -->\n",
       "<g id=\"node43\" class=\"node\">\n",
       "<title>182</title>\n",
       "<path fill=\"#ffffff\" stroke=\"black\" d=\"M1926.5,-393C1926.5,-393 1818.5,-393 1818.5,-393 1812.5,-393 1806.5,-387 1806.5,-381 1806.5,-381 1806.5,-322 1806.5,-322 1806.5,-316 1812.5,-310 1818.5,-310 1818.5,-310 1926.5,-310 1926.5,-310 1932.5,-310 1938.5,-316 1938.5,-322 1938.5,-322 1938.5,-381 1938.5,-381 1938.5,-387 1932.5,-393 1926.5,-393\"/>\n",
       "<text text-anchor=\"start\" x=\"1839\" y=\"-377.8\" font-family=\"Helvetica,sans-Serif\" font-size=\"14.00\">the ≤ 0.5</text>\n",
       "<text text-anchor=\"start\" x=\"1828.5\" y=\"-362.8\" font-family=\"Helvetica,sans-Serif\" font-size=\"14.00\">gini = 0.665</text>\n",
       "<text text-anchor=\"start\" x=\"1824\" y=\"-347.8\" font-family=\"Helvetica,sans-Serif\" font-size=\"14.00\">samples = 23</text>\n",
       "<text text-anchor=\"start\" x=\"1815\" y=\"-332.8\" font-family=\"Helvetica,sans-Serif\" font-size=\"14.00\">value = [8, 8, 7]</text>\n",
       "<text text-anchor=\"start\" x=\"1814.5\" y=\"-317.8\" font-family=\"Helvetica,sans-Serif\" font-size=\"14.00\">class = negative</text>\n",
       "</g>\n",
       "<!-- 152&#45;&gt;182 -->\n",
       "<g id=\"edge42\" class=\"edge\">\n",
       "<title>152&#45;&gt;182</title>\n",
       "<path fill=\"none\" stroke=\"black\" d=\"M1713.13,-429.24C1740.39,-416.11 1770.48,-401.62 1797.1,-388.8\"/>\n",
       "<polygon fill=\"black\" stroke=\"black\" points=\"1798.87,-391.83 1806.37,-384.34 1795.84,-385.53 1798.87,-391.83\"/>\n",
       "</g>\n",
       "<!-- 154 -->\n",
       "<g id=\"node35\" class=\"node\">\n",
       "<title>154</title>\n",
       "<path fill=\"#a06aeb\" stroke=\"black\" d=\"M1627,-274C1627,-274 1484,-274 1484,-274 1478,-274 1472,-268 1472,-262 1472,-262 1472,-203 1472,-203 1472,-197 1478,-191 1484,-191 1484,-191 1627,-191 1627,-191 1633,-191 1639,-197 1639,-203 1639,-203 1639,-262 1639,-262 1639,-268 1633,-274 1627,-274\"/>\n",
       "<text text-anchor=\"start\" x=\"1521\" y=\"-258.8\" font-family=\"Helvetica,sans-Serif\" font-size=\"14.00\">can ≤ 0.5</text>\n",
       "<text text-anchor=\"start\" x=\"1511.5\" y=\"-243.8\" font-family=\"Helvetica,sans-Serif\" font-size=\"14.00\">gini = 0.364</text>\n",
       "<text text-anchor=\"start\" x=\"1502.5\" y=\"-228.8\" font-family=\"Helvetica,sans-Serif\" font-size=\"14.00\">samples = 445</text>\n",
       "<text text-anchor=\"start\" x=\"1480\" y=\"-213.8\" font-family=\"Helvetica,sans-Serif\" font-size=\"14.00\">value = [55, 42, 348]</text>\n",
       "<text text-anchor=\"start\" x=\"1500.5\" y=\"-198.8\" font-family=\"Helvetica,sans-Serif\" font-size=\"14.00\">class = positive</text>\n",
       "</g>\n",
       "<!-- 153&#45;&gt;154 -->\n",
       "<g id=\"edge34\" class=\"edge\">\n",
       "<title>153&#45;&gt;154</title>\n",
       "<path fill=\"none\" stroke=\"black\" d=\"M1603.83,-309.91C1598.26,-301.1 1592.31,-291.7 1586.56,-282.61\"/>\n",
       "<polygon fill=\"black\" stroke=\"black\" points=\"1589.43,-280.6 1581.13,-274.02 1583.52,-284.34 1589.43,-280.6\"/>\n",
       "</g>\n",
       "<!-- 181 -->\n",
       "<g id=\"node42\" class=\"node\">\n",
       "<title>181</title>\n",
       "<path fill=\"#91f1b9\" stroke=\"black\" d=\"M1776,-266.5C1776,-266.5 1669,-266.5 1669,-266.5 1663,-266.5 1657,-260.5 1657,-254.5 1657,-254.5 1657,-210.5 1657,-210.5 1657,-204.5 1663,-198.5 1669,-198.5 1669,-198.5 1776,-198.5 1776,-198.5 1782,-198.5 1788,-204.5 1788,-210.5 1788,-210.5 1788,-254.5 1788,-254.5 1788,-260.5 1782,-266.5 1776,-266.5\"/>\n",
       "<text text-anchor=\"start\" x=\"1678.5\" y=\"-251.3\" font-family=\"Helvetica,sans-Serif\" font-size=\"14.00\">gini = 0.529</text>\n",
       "<text text-anchor=\"start\" x=\"1674\" y=\"-236.3\" font-family=\"Helvetica,sans-Serif\" font-size=\"14.00\">samples = 11</text>\n",
       "<text text-anchor=\"start\" x=\"1665\" y=\"-221.3\" font-family=\"Helvetica,sans-Serif\" font-size=\"14.00\">value = [2, 7, 2]</text>\n",
       "<text text-anchor=\"start\" x=\"1669.5\" y=\"-206.3\" font-family=\"Helvetica,sans-Serif\" font-size=\"14.00\">class = neutral</text>\n",
       "</g>\n",
       "<!-- 153&#45;&gt;181 -->\n",
       "<g id=\"edge41\" class=\"edge\">\n",
       "<title>153&#45;&gt;181</title>\n",
       "<path fill=\"none\" stroke=\"black\" d=\"M1661.77,-309.91C1670.8,-298.54 1680.63,-286.18 1689.69,-274.77\"/>\n",
       "<polygon fill=\"black\" stroke=\"black\" points=\"1692.65,-276.67 1696.14,-266.67 1687.17,-272.32 1692.65,-276.67\"/>\n",
       "</g>\n",
       "<!-- 155 -->\n",
       "<g id=\"node36\" class=\"node\">\n",
       "<title>155</title>\n",
       "<path fill=\"#9d65eb\" stroke=\"black\" d=\"M1627,-155C1627,-155 1484,-155 1484,-155 1478,-155 1472,-149 1472,-143 1472,-143 1472,-84 1472,-84 1472,-78 1478,-72 1484,-72 1484,-72 1627,-72 1627,-72 1633,-72 1639,-78 1639,-84 1639,-84 1639,-143 1639,-143 1639,-149 1633,-155 1627,-155\"/>\n",
       "<text text-anchor=\"start\" x=\"1525\" y=\"-139.8\" font-family=\"Helvetica,sans-Serif\" font-size=\"14.00\">no ≤ 0.5</text>\n",
       "<text text-anchor=\"start\" x=\"1511.5\" y=\"-124.8\" font-family=\"Helvetica,sans-Serif\" font-size=\"14.00\">gini = 0.334</text>\n",
       "<text text-anchor=\"start\" x=\"1502.5\" y=\"-109.8\" font-family=\"Helvetica,sans-Serif\" font-size=\"14.00\">samples = 418</text>\n",
       "<text text-anchor=\"start\" x=\"1480\" y=\"-94.8\" font-family=\"Helvetica,sans-Serif\" font-size=\"14.00\">value = [47, 35, 336]</text>\n",
       "<text text-anchor=\"start\" x=\"1500.5\" y=\"-79.8\" font-family=\"Helvetica,sans-Serif\" font-size=\"14.00\">class = positive</text>\n",
       "</g>\n",
       "<!-- 154&#45;&gt;155 -->\n",
       "<g id=\"edge35\" class=\"edge\">\n",
       "<title>154&#45;&gt;155</title>\n",
       "<path fill=\"none\" stroke=\"black\" d=\"M1555.5,-190.91C1555.5,-182.65 1555.5,-173.86 1555.5,-165.3\"/>\n",
       "<polygon fill=\"black\" stroke=\"black\" points=\"1559,-165.02 1555.5,-155.02 1552,-165.02 1559,-165.02\"/>\n",
       "</g>\n",
       "<!-- 178 -->\n",
       "<g id=\"node39\" class=\"node\">\n",
       "<title>178</title>\n",
       "<path fill=\"#e4d5fa\" stroke=\"black\" d=\"M1785.5,-155C1785.5,-155 1669.5,-155 1669.5,-155 1663.5,-155 1657.5,-149 1657.5,-143 1657.5,-143 1657.5,-84 1657.5,-84 1657.5,-78 1663.5,-72 1669.5,-72 1669.5,-72 1785.5,-72 1785.5,-72 1791.5,-72 1797.5,-78 1797.5,-84 1797.5,-84 1797.5,-143 1797.5,-143 1797.5,-149 1791.5,-155 1785.5,-155\"/>\n",
       "<text text-anchor=\"start\" x=\"1698.5\" y=\"-139.8\" font-family=\"Helvetica,sans-Serif\" font-size=\"14.00\">to ≤ 0.5</text>\n",
       "<text text-anchor=\"start\" x=\"1683.5\" y=\"-124.8\" font-family=\"Helvetica,sans-Serif\" font-size=\"14.00\">gini = 0.647</text>\n",
       "<text text-anchor=\"start\" x=\"1679\" y=\"-109.8\" font-family=\"Helvetica,sans-Serif\" font-size=\"14.00\">samples = 27</text>\n",
       "<text text-anchor=\"start\" x=\"1665.5\" y=\"-94.8\" font-family=\"Helvetica,sans-Serif\" font-size=\"14.00\">value = [8, 7, 12]</text>\n",
       "<text text-anchor=\"start\" x=\"1672.5\" y=\"-79.8\" font-family=\"Helvetica,sans-Serif\" font-size=\"14.00\">class = positive</text>\n",
       "</g>\n",
       "<!-- 154&#45;&gt;178 -->\n",
       "<g id=\"edge38\" class=\"edge\">\n",
       "<title>154&#45;&gt;178</title>\n",
       "<path fill=\"none\" stroke=\"black\" d=\"M1615.17,-190.91C1629.45,-181.2 1644.8,-170.76 1659.42,-160.81\"/>\n",
       "<polygon fill=\"black\" stroke=\"black\" points=\"1661.63,-163.54 1667.93,-155.02 1657.69,-157.75 1661.63,-163.54\"/>\n",
       "</g>\n",
       "<!-- 156 -->\n",
       "<g id=\"node37\" class=\"node\">\n",
       "<title>156</title>\n",
       "<path fill=\"#c0c0c0\" stroke=\"black\" d=\"M1512.5,-36C1512.5,-36 1482.5,-36 1482.5,-36 1476.5,-36 1470.5,-30 1470.5,-24 1470.5,-24 1470.5,-12 1470.5,-12 1470.5,-6 1476.5,0 1482.5,0 1482.5,0 1512.5,0 1512.5,0 1518.5,0 1524.5,-6 1524.5,-12 1524.5,-12 1524.5,-24 1524.5,-24 1524.5,-30 1518.5,-36 1512.5,-36\"/>\n",
       "<text text-anchor=\"middle\" x=\"1497.5\" y=\"-14.3\" font-family=\"Helvetica,sans-Serif\" font-size=\"14.00\">(...)</text>\n",
       "</g>\n",
       "<!-- 155&#45;&gt;156 -->\n",
       "<g id=\"edge36\" class=\"edge\">\n",
       "<title>155&#45;&gt;156</title>\n",
       "<path fill=\"none\" stroke=\"black\" d=\"M1530.23,-71.76C1524.58,-62.65 1518.74,-53.24 1513.58,-44.92\"/>\n",
       "<polygon fill=\"black\" stroke=\"black\" points=\"1516.54,-43.06 1508.3,-36.41 1510.59,-46.75 1516.54,-43.06\"/>\n",
       "</g>\n",
       "<!-- 177 -->\n",
       "<g id=\"node38\" class=\"node\">\n",
       "<title>177</title>\n",
       "<path fill=\"#c0c0c0\" stroke=\"black\" d=\"M1584.5,-36C1584.5,-36 1554.5,-36 1554.5,-36 1548.5,-36 1542.5,-30 1542.5,-24 1542.5,-24 1542.5,-12 1542.5,-12 1542.5,-6 1548.5,0 1554.5,0 1554.5,0 1584.5,0 1584.5,0 1590.5,0 1596.5,-6 1596.5,-12 1596.5,-12 1596.5,-24 1596.5,-24 1596.5,-30 1590.5,-36 1584.5,-36\"/>\n",
       "<text text-anchor=\"middle\" x=\"1569.5\" y=\"-14.3\" font-family=\"Helvetica,sans-Serif\" font-size=\"14.00\">(...)</text>\n",
       "</g>\n",
       "<!-- 155&#45;&gt;177 -->\n",
       "<g id=\"edge37\" class=\"edge\">\n",
       "<title>155&#45;&gt;177</title>\n",
       "<path fill=\"none\" stroke=\"black\" d=\"M1561.6,-71.76C1562.88,-63.24 1564.19,-54.44 1565.38,-46.53\"/>\n",
       "<polygon fill=\"black\" stroke=\"black\" points=\"1568.87,-46.81 1566.89,-36.41 1561.95,-45.78 1568.87,-46.81\"/>\n",
       "</g>\n",
       "<!-- 179 -->\n",
       "<g id=\"node40\" class=\"node\">\n",
       "<title>179</title>\n",
       "<path fill=\"#c0c0c0\" stroke=\"black\" d=\"M1706.5,-36C1706.5,-36 1676.5,-36 1676.5,-36 1670.5,-36 1664.5,-30 1664.5,-24 1664.5,-24 1664.5,-12 1664.5,-12 1664.5,-6 1670.5,0 1676.5,0 1676.5,0 1706.5,0 1706.5,0 1712.5,0 1718.5,-6 1718.5,-12 1718.5,-12 1718.5,-24 1718.5,-24 1718.5,-30 1712.5,-36 1706.5,-36\"/>\n",
       "<text text-anchor=\"middle\" x=\"1691.5\" y=\"-14.3\" font-family=\"Helvetica,sans-Serif\" font-size=\"14.00\">(...)</text>\n",
       "</g>\n",
       "<!-- 178&#45;&gt;179 -->\n",
       "<g id=\"edge39\" class=\"edge\">\n",
       "<title>178&#45;&gt;179</title>\n",
       "<path fill=\"none\" stroke=\"black\" d=\"M1711.81,-71.76C1708.46,-63.04 1704.99,-54.04 1701.89,-45.99\"/>\n",
       "<polygon fill=\"black\" stroke=\"black\" points=\"1705.06,-44.48 1698.2,-36.41 1698.53,-46.99 1705.06,-44.48\"/>\n",
       "</g>\n",
       "<!-- 180 -->\n",
       "<g id=\"node41\" class=\"node\">\n",
       "<title>180</title>\n",
       "<path fill=\"#c0c0c0\" stroke=\"black\" d=\"M1778.5,-36C1778.5,-36 1748.5,-36 1748.5,-36 1742.5,-36 1736.5,-30 1736.5,-24 1736.5,-24 1736.5,-12 1736.5,-12 1736.5,-6 1742.5,0 1748.5,0 1748.5,0 1778.5,0 1778.5,0 1784.5,0 1790.5,-6 1790.5,-12 1790.5,-12 1790.5,-24 1790.5,-24 1790.5,-30 1784.5,-36 1778.5,-36\"/>\n",
       "<text text-anchor=\"middle\" x=\"1763.5\" y=\"-14.3\" font-family=\"Helvetica,sans-Serif\" font-size=\"14.00\">(...)</text>\n",
       "</g>\n",
       "<!-- 178&#45;&gt;180 -->\n",
       "<g id=\"edge40\" class=\"edge\">\n",
       "<title>178&#45;&gt;180</title>\n",
       "<path fill=\"none\" stroke=\"black\" d=\"M1743.19,-71.76C1746.54,-63.04 1750.01,-54.04 1753.11,-45.99\"/>\n",
       "<polygon fill=\"black\" stroke=\"black\" points=\"1756.47,-46.99 1756.8,-36.41 1749.94,-44.48 1756.47,-46.99\"/>\n",
       "</g>\n",
       "<!-- 183 -->\n",
       "<g id=\"node44\" class=\"node\">\n",
       "<title>183</title>\n",
       "<path fill=\"#ffffff\" stroke=\"black\" d=\"M1926.5,-266.5C1926.5,-266.5 1818.5,-266.5 1818.5,-266.5 1812.5,-266.5 1806.5,-260.5 1806.5,-254.5 1806.5,-254.5 1806.5,-210.5 1806.5,-210.5 1806.5,-204.5 1812.5,-198.5 1818.5,-198.5 1818.5,-198.5 1926.5,-198.5 1926.5,-198.5 1932.5,-198.5 1938.5,-204.5 1938.5,-210.5 1938.5,-210.5 1938.5,-254.5 1938.5,-254.5 1938.5,-260.5 1932.5,-266.5 1926.5,-266.5\"/>\n",
       "<text text-anchor=\"start\" x=\"1828.5\" y=\"-251.3\" font-family=\"Helvetica,sans-Serif\" font-size=\"14.00\">gini = 0.651</text>\n",
       "<text text-anchor=\"start\" x=\"1824\" y=\"-236.3\" font-family=\"Helvetica,sans-Serif\" font-size=\"14.00\">samples = 13</text>\n",
       "<text text-anchor=\"start\" x=\"1815\" y=\"-221.3\" font-family=\"Helvetica,sans-Serif\" font-size=\"14.00\">value = [5, 5, 3]</text>\n",
       "<text text-anchor=\"start\" x=\"1814.5\" y=\"-206.3\" font-family=\"Helvetica,sans-Serif\" font-size=\"14.00\">class = negative</text>\n",
       "</g>\n",
       "<!-- 182&#45;&gt;183 -->\n",
       "<g id=\"edge43\" class=\"edge\">\n",
       "<title>182&#45;&gt;183</title>\n",
       "<path fill=\"none\" stroke=\"black\" d=\"M1872.5,-309.91C1872.5,-299.2 1872.5,-287.62 1872.5,-276.78\"/>\n",
       "<polygon fill=\"black\" stroke=\"black\" points=\"1876,-276.67 1872.5,-266.67 1869,-276.67 1876,-276.67\"/>\n",
       "</g>\n",
       "<!-- 184 -->\n",
       "<g id=\"node45\" class=\"node\">\n",
       "<title>184</title>\n",
       "<path fill=\"#ede3fb\" stroke=\"black\" d=\"M2076,-266.5C2076,-266.5 1969,-266.5 1969,-266.5 1963,-266.5 1957,-260.5 1957,-254.5 1957,-254.5 1957,-210.5 1957,-210.5 1957,-204.5 1963,-198.5 1969,-198.5 1969,-198.5 2076,-198.5 2076,-198.5 2082,-198.5 2088,-204.5 2088,-210.5 2088,-210.5 2088,-254.5 2088,-254.5 2088,-260.5 2082,-266.5 2076,-266.5\"/>\n",
       "<text text-anchor=\"start\" x=\"1983\" y=\"-251.3\" font-family=\"Helvetica,sans-Serif\" font-size=\"14.00\">gini = 0.66</text>\n",
       "<text text-anchor=\"start\" x=\"1974\" y=\"-236.3\" font-family=\"Helvetica,sans-Serif\" font-size=\"14.00\">samples = 10</text>\n",
       "<text text-anchor=\"start\" x=\"1965\" y=\"-221.3\" font-family=\"Helvetica,sans-Serif\" font-size=\"14.00\">value = [3, 3, 4]</text>\n",
       "<text text-anchor=\"start\" x=\"1967.5\" y=\"-206.3\" font-family=\"Helvetica,sans-Serif\" font-size=\"14.00\">class = positive</text>\n",
       "</g>\n",
       "<!-- 182&#45;&gt;184 -->\n",
       "<g id=\"edge44\" class=\"edge\">\n",
       "<title>182&#45;&gt;184</title>\n",
       "<path fill=\"none\" stroke=\"black\" d=\"M1924.54,-309.91C1939.82,-297.99 1956.51,-284.98 1971.71,-273.12\"/>\n",
       "<polygon fill=\"black\" stroke=\"black\" points=\"1974.25,-275.58 1979.98,-266.67 1969.94,-270.06 1974.25,-275.58\"/>\n",
       "</g>\n",
       "</g>\n",
       "</svg>\n"
      ],
      "text/plain": [
       "<graphviz.sources.Source at 0x7f739b4e1f70>"
      ]
     },
     "execution_count": 12,
     "metadata": {},
     "output_type": "execute_result"
    }
   ],
   "source": [
    "dt_data = export_graphviz(dt_classifier, \n",
    "                          out_file=None, \n",
    "                          feature_names=feature_names,  \n",
    "                          class_names=label_names,\n",
    "                          max_depth=4,\n",
    "                          filled=True, \n",
    "                          rounded=True,  \n",
    "                          special_characters=True)  \n",
    "graphviz.Source(dt_data)  "
   ]
  },
  {
   "cell_type": "code",
   "execution_count": 13,
   "metadata": {},
   "outputs": [
    {
     "data": {
      "text/plain": [
       "0.701844262295082"
      ]
     },
     "execution_count": 13,
     "metadata": {},
     "output_type": "execute_result"
    }
   ],
   "source": [
    "#predict the labels on the test set using the trained model\n",
    "predictions_dt = dt_classifier.predict(X_test) \n",
    "\n",
    "accuracy_score(predictions_dt, y_test)"
   ]
  },
  {
   "cell_type": "code",
   "execution_count": 14,
   "metadata": {},
   "outputs": [
    {
     "name": "stdout",
     "output_type": "stream",
     "text": [
      "0.701844262295082\n"
     ]
    }
   ],
   "source": [
    "# We can also use the built-in `model.score()` method instead this time, results are same as for `accuracy_score()`\n",
    "print(dt_classifier.score(X_test, y_test))"
   ]
  },
  {
   "cell_type": "markdown",
   "metadata": {},
   "source": [
    "### Challenge\n",
    "\n",
    "Use the Decisition Tree model you just built to predict the label for three unlabeled reviews. Predict both the label and the probability of being in each category. Do the predictions make sense? Do the probabilities provide any useful information beyond the predicted labels?\n",
    "\n",
    "_Hint:_ Remember to use `countvectorizer()` and convert to sparse format with `.toarray()` to vectorize the texts prior to prediction. Use `model.predict()` to predict the class and `model.predict_proba()` to predict class probabilities."
   ]
  },
  {
   "cell_type": "code",
   "execution_count": 15,
   "metadata": {},
   "outputs": [],
   "source": [
    "careless_review = \"I made my flight reservation with UnitedAirlines and the service is ridiculous and they just bluntly \\\n",
    "deny solving your problem. I booked my flight but they were having some technical issues and didn't appear \\\n",
    "in their system. United customer service just said they can not do anything and asked me to book a new ticket to fly. \\\n",
    "This is just insane and troubling and also really costly at the airport. Thus, I made my flight reservation \\\n",
    "with United Airlines for the next day through an online flight booking portal that offered much cheaper flights. \\\n",
    "You can contact them over the phone by calling a toll-free number +1-888-720-1433 and book flights that are light \\\n",
    "on your pocket.\"\n",
    "\n",
    "good_review = \"United was very accommodating for our vacation recently and even got us home a little quicker. \\\n",
    "We were travelling in a group of 12 coming home from a vacation and because of storms back east our connecting flight \\\n",
    "was delayed by hours. Knowing this was completely out of their control we started talking with one of the United \\\n",
    "employees and told them where we were headed. She said she could get us on a flight that actually leaves earlier \\\n",
    "than our original flight. It was such great service and resulted in all of us getting home hours later. The only \\\n",
    "issue was our bags, but United had them delivered to our homes that next morning.\"\n",
    "\n",
    "canceled_review = \"Canceled my trip twice, the first time I received no notification. The second time I got a notice \\\n",
    "that one of my trips may have been canceled or changed, the website didn’t say which it was. It instructed me to cancel \\\n",
    "it myself. Probably so they could avoid having to refund me. Now I all the money I spent on tickets sitting in a United \\\n",
    "account but I never want to fly with them in the future so that’s a nice chunk of about $2000 wasted. \\\n",
    "EDIT: After I cancelled my second trip I was able to select an option for refund, the refund was not only \\\n",
    "for the second trip but also my first trip that was cancelled earlier. I will upgrade the rating from 1 to 3 stars \\\n",
    "would have given higher with better customer service/website service/website information.\""
   ]
  },
  {
   "cell_type": "code",
   "execution_count": 16,
   "metadata": {},
   "outputs": [
    {
     "name": "stdout",
     "output_type": "stream",
     "text": [
      "Predicted classes:\n",
      "['negative' 'negative' 'negative']\n",
      "\n",
      "Predicted probabilities for each review\n",
      "(order: ['negative' 'neutral' 'positive']):\n",
      "[[0.87799043 0.09330144 0.02870813]\n",
      " [0.88888889 0.11111111 0.        ]\n",
      " [1.         0.         0.        ]]\n"
     ]
    }
   ],
   "source": [
    "# solution\n",
    "# Transform these into DTMs with the same feature-columns as previously\n",
    "unknown_dtm = countvectorizer.transform([careless_review, good_review, canceled_review]).toarray()\n",
    "\n",
    "# Use model to predict the class for these three. Predict class\n",
    "print(\"Predicted classes:\")\n",
    "print(dt_classifier.predict(unknown_dtm))\n",
    "print()\n",
    "print(f\"Predicted probabilities for each review\\n(order: {dt_classifier.classes_}):\")\n",
    "print(dt_classifier.predict_proba(unknown_dtm)) # Predict probability of membership in each category"
   ]
  },
  {
   "cell_type": "markdown",
   "metadata": {},
   "source": [
    "## Cross-validation<a id='cv'></a>"
   ]
  },
  {
   "cell_type": "code",
   "execution_count": 17,
   "metadata": {},
   "outputs": [
    {
     "data": {
      "text/plain": [
       "array([0.69569672, 0.6826332 , 0.69544057])"
      ]
     },
     "execution_count": 17,
     "metadata": {},
     "output_type": "execute_result"
    }
   ],
   "source": [
    "scores = cross_val_score(dt_classifier, X_train, y_train, cv=3)\n",
    "scores   "
   ]
  },
  {
   "cell_type": "code",
   "execution_count": 18,
   "metadata": {},
   "outputs": [
    {
     "name": "stdout",
     "output_type": "stream",
     "text": [
      "Accuracy: 0.6913 (+/- 0.0122)\n"
     ]
    }
   ],
   "source": [
    "# Show average accuracy across folds along with sigma (std. squared)\n",
    "print(\"Accuracy: %0.4f (+/- %0.4f)\" % (scores.mean(), scores.std() * 2))"
   ]
  },
  {
   "cell_type": "markdown",
   "metadata": {},
   "source": [
    "## More model evaluation <a id=\"evaluate\"></a>"
   ]
  },
  {
   "cell_type": "code",
   "execution_count": 19,
   "metadata": {},
   "outputs": [
    {
     "data": {
      "text/plain": [
       "Text(0.5, 12.5, 'Prediction')"
      ]
     },
     "execution_count": 19,
     "metadata": {},
     "output_type": "execute_result"
    },
    {
     "data": {
      "image/png": "[encoded data removed]",
      "text/plain": [
       "<Figure size 432x288 with 1 Axes>"
      ]
     },
     "metadata": {
      "needs_background": "light"
     },
     "output_type": "display_data"
    }
   ],
   "source": [
    "model = dt_classifier # change this one line to visualize confusion matrix for other models\n",
    "y_predict = model.predict(X_test) \n",
    "labels = model.classes_\n",
    "conmat = confusion_matrix(y_test, y_predict)\n",
    "\n",
    "sns.heatmap(conmat, \n",
    "            annot=True, \n",
    "            fmt='d', \n",
    "            xticklabels=labels, \n",
    "            yticklabels=labels, \n",
    "            cmap=\"YlGnBu\", \n",
    "            cbar=False)\n",
    "plt.ylabel('Ground truth')\n",
    "plt.xlabel('Prediction')"
   ]
  },
  {
   "cell_type": "code",
   "execution_count": 20,
   "metadata": {
    "scrolled": true
   },
   "outputs": [
    {
     "name": "stdout",
     "output_type": "stream",
     "text": [
      "Classification report:\n",
      "              precision    recall  f1-score   support\n",
      "\n",
      "    negative       0.71      0.95      0.81      1835\n",
      "     neutral       0.61      0.15      0.24       620\n",
      "    positive       0.70      0.48      0.57       473\n",
      "\n",
      "    accuracy                           0.70      2928\n",
      "   macro avg       0.67      0.52      0.54      2928\n",
      "weighted avg       0.69      0.70      0.65      2928\n",
      "\n"
     ]
    }
   ],
   "source": [
    "dt_predicted = dt_classifier.predict(X_test)\n",
    "print(\"Classification report:\")\n",
    "print(classification_report(y_test, dt_predicted)) "
   ]
  },
  {
   "cell_type": "markdown",
   "metadata": {},
   "source": [
    "## Optimize parameters with grid search <a id=\"gridsearch\"></a>"
   ]
  },
  {
   "cell_type": "code",
   "execution_count": 21,
   "metadata": {},
   "outputs": [
    {
     "data": {
      "text/plain": [
       "{'min_samples_split': [5, 10], 'min_samples_leaf': [10, 20]}"
      ]
     },
     "execution_count": 21,
     "metadata": {},
     "output_type": "execute_result"
    }
   ],
   "source": [
    "# Grid searching is computationally expensive, so for time's sake we'll test a minimal range for each parameter\n",
    "# In real-world data analytics there would be a much larger range, making exponentially more permutations (and time cost)\n",
    "\n",
    "param_grid = {'min_samples_split': [5,10], # define dictionary with possible model parameters\n",
    "              'min_samples_leaf': [10,20]}\n",
    "\n",
    "param_grid"
   ]
  },
  {
   "cell_type": "code",
   "execution_count": 22,
   "metadata": {},
   "outputs": [
    {
     "data": {
      "text/plain": [
       "GridSearchCV(cv=3,\n",
       "             estimator=DecisionTreeClassifier(max_depth=10,\n",
       "                                              min_impurity_decrease=1e-07,\n",
       "                                              random_state=10),\n",
       "             param_grid={'min_samples_leaf': [10, 20],\n",
       "                         'min_samples_split': [5, 10]},\n",
       "             return_train_score=True)"
      ]
     },
     "execution_count": 22,
     "metadata": {},
     "output_type": "execute_result"
    }
   ],
   "source": [
    "# Warning: This can take a long time!\n",
    "model_dt = GridSearchCV(DecisionTreeClassifier(max_depth=10, \n",
    "                                               criterion='gini',  # or 'entropy' for information gain\n",
    "                                               splitter='best',  # or 'random' for random best split\n",
    "                                               min_impurity_decrease=1e-07, #early stopping \n",
    "                                               random_state = 10), #random seed\n",
    "                        param_grid, \n",
    "                        cv=3, \n",
    "                        return_train_score=True)\n",
    "\n",
    "model_dt.fit(X_train, y_train)"
   ]
  },
  {
   "cell_type": "code",
   "execution_count": 23,
   "metadata": {},
   "outputs": [
    {
     "name": "stdout",
     "output_type": "stream",
     "text": [
      "Best parameter values are: {'min_samples_leaf': 10, 'min_samples_split': 5}\n",
      "Best mean cross-validation train accuracy: 0.705\n",
      "Overall mean test accuracy: 0.702\n"
     ]
    }
   ],
   "source": [
    "# Get information on model parameters that perform best\n",
    "model = model_dt # Change this to visualize other models\n",
    "\n",
    "# Get index of best model parameters\n",
    "best_index = np.argmax(\n",
    "    model.cv_results_[\"mean_train_score\"]\n",
    "                      )\n",
    "\n",
    "print('Best parameter values are:', \n",
    "      model.cv_results_[\"params\"][best_index]\n",
    "     )\n",
    "print('Best mean cross-validation train accuracy: %.03f' % \n",
    "      model.cv_results_[\"mean_train_score\"][best_index]\n",
    "     )\n",
    "print('Overall mean test accuracy: %.03f' % \n",
    "      model.score(X_test, y_test)\n",
    "     )"
   ]
  },
  {
   "cell_type": "code",
   "execution_count": 24,
   "metadata": {},
   "outputs": [],
   "source": [
    "# Prepare for visualization: get combinations on tested model parameters\n",
    "n_grid_points = len(model_dt.cv_results_['params'])\n",
    "min_samples_leaf_vals = np.empty((n_grid_points,))\n",
    "min_samples_split_vals = np.empty((n_grid_points,))\n",
    "mean_train_scores = np.empty((n_grid_points,))\n",
    "mean_test_scores = np.empty((n_grid_points,))\n",
    "\n",
    "for i in range(n_grid_points):\n",
    "    min_samples_leaf_vals[i] = model.cv_results_['params'][i]['min_samples_leaf']\n",
    "    min_samples_split_vals[i] = model.cv_results_['params'][i]['min_samples_split']\n",
    "    mean_train_scores[i] = model.cv_results_['mean_train_score'][i]\n",
    "    mean_test_scores[i] = model.cv_results_['mean_test_score'][i]"
   ]
  },
  {
   "cell_type": "code",
   "execution_count": 25,
   "metadata": {},
   "outputs": [],
   "source": [
    "def gridsearch_viz(mean_scores, \n",
    "                   param1_vals, \n",
    "                   param2_vals, \n",
    "                   param1_name, \n",
    "                   param2_name, \n",
    "                   scorename = \"Mean Model Accuracy on Training Set\"):\n",
    "    \n",
    "    \"\"\"\n",
    "    Build 3-d visualization to show model parameter combinations and their resulting scores. \n",
    "    Takes in only two parameters with any number of candidate settings thereof.\n",
    "    \n",
    "    Args:\n",
    "        mean_scores: List of model scores, as long as list of model parameters being tested.\n",
    "        param1_vals: list of values for first parameter, as long as list of model parameters being tested.\n",
    "        param2_vals: list of values for second parameter, as long as list of model parameters being tested.\n",
    "        param1_name: str indicating name of first parameter being tested\n",
    "        param2_name: str indicating name of second parameter being tested\n",
    "        scorename: str indicating name of scores being displayed (train or test).\n",
    "        \n",
    "    Output:\n",
    "        3-d visualization of model params & performance\n",
    "    \"\"\"\n",
    "\n",
    "    fig = plt.figure(figsize=(20,10))\n",
    "    ax = fig.gca(projection='3d')\n",
    "\n",
    "    surf = ax.plot_trisurf(param1_vals, \n",
    "                           param2_vals, \n",
    "                           mean_scores, \n",
    "                           cmap=cm.coolwarm,\n",
    "                           linewidth=10, \n",
    "                           antialiased=False)\n",
    "\n",
    "    ax.set_title(scorename, fontsize=18)\n",
    "    ax.set_xlabel(param1_name, fontsize=18)\n",
    "    ax.set_ylabel(param2_name, fontsize=18)"
   ]
  },
  {
   "cell_type": "code",
   "execution_count": 26,
   "metadata": {},
   "outputs": [
    {
     "name": "stderr",
     "output_type": "stream",
     "text": [
      "<ipython-input-25-90f8f7ad7ebb>:25: MatplotlibDeprecationWarning: Calling gca() with keyword arguments was deprecated in Matplotlib 3.4. Starting two minor releases later, gca() will take no keyword arguments. The gca() function should only be used to get the current axes, or if no axes exist, create new axes with default keyword arguments. To create a new axes with non-default arguments, use plt.axes() or plt.subplot().\n",
      "  ax = fig.gca(projection='3d')\n"
     ]
    },
    {
     "data": {
      "image/png": "[encoded data removed]",
      "text/plain": [
       "<Figure size 1440x720 with 1 Axes>"
      ]
     },
     "metadata": {
      "needs_background": "light"
     },
     "output_type": "display_data"
    }
   ],
   "source": [
    "# Visualize model performance on training set\n",
    "gridsearch_viz(mean_scores = mean_train_scores, \n",
    "               param1_vals = min_samples_leaf_vals, \n",
    "               param2_vals = min_samples_split_vals, \n",
    "               param1_name = \"min_samples_split\", \n",
    "               param2_name = \"min_samples_leaf\")"
   ]
  },
  {
   "cell_type": "markdown",
   "metadata": {},
   "source": [
    "## Train and optimize Random Forest model <a id=\"RF\"></a>"
   ]
  },
  {
   "cell_type": "code",
   "execution_count": 27,
   "metadata": {},
   "outputs": [],
   "source": [
    "rf_classifier = RandomForestClassifier(n_estimators=10,  # number of trees\n",
    "                       criterion='gini',  # or 'entropy' for information gain\n",
    "                       max_depth=10,  # how deep tree nodes can go\n",
    "                       min_samples_split=5,  # samples needed to split node\n",
    "                       min_samples_leaf=10,  # samples needed for a leaf\n",
    "                       min_weight_fraction_leaf=0.0,  # weight of samples needed for a node\n",
    "                       max_features='auto',  # number of features for best split\n",
    "                       max_leaf_nodes=None,  # max nodes\n",
    "                       min_impurity_decrease=1e-07,  # early stopping\n",
    "                       n_jobs=1,  # CPUs to use\n",
    "                       random_state = 10,  # random seed\n",
    "                       class_weight=\"balanced\")  # adjusts weights inverse of freq, also \"balanced_subsample\" or None\n",
    "\n",
    "rf_model = rf_classifier.fit(X_train, y_train) # fit model on training data"
   ]
  },
  {
   "cell_type": "code",
   "execution_count": 28,
   "metadata": {},
   "outputs": [
    {
     "name": "stdout",
     "output_type": "stream",
     "text": [
      "Accuracy of Random Forest model (with 3-fold CV) with test data defined above:\n",
      "0.6117 (+/- 0.0189)\n",
      "\n",
      "Classification report:\n",
      "              precision    recall  f1-score   support\n",
      "\n",
      "    negative       0.85      0.66      0.74      1835\n",
      "     neutral       0.39      0.65      0.49       620\n",
      "    positive       0.49      0.52      0.51       473\n",
      "\n",
      "    accuracy                           0.63      2928\n",
      "   macro avg       0.58      0.61      0.58      2928\n",
      "weighted avg       0.70      0.63      0.65      2928\n",
      "\n",
      "\n"
     ]
    }
   ],
   "source": [
    "print(\"Accuracy of Random Forest model (with 3-fold CV) with test data defined above:\")\n",
    "scores = cross_val_score(rf_model, X_test, y_test, cv=3)\n",
    "print(\"%0.4f (+/- %0.4f)\" % (scores.mean(), scores.std() * 2)) # Show average accuracy across folds\n",
    "print()\n",
    "\n",
    "predicted = rf_model.predict(X_test)\n",
    "print(\"Classification report:\")\n",
    "print(classification_report(y_test, predicted)) \n",
    "print()"
   ]
  },
  {
   "cell_type": "markdown",
   "metadata": {},
   "source": [
    "### Challenge: Grid Search on Random Forest\n",
    "\n",
    "Do another grid search to determine the best parameters for the Random Forest we just created. Use two possible levels for `min_samples_split` and `min_samples_leaf`, each between 5 and 20. "
   ]
  },
  {
   "cell_type": "code",
   "execution_count": 31,
   "metadata": {},
   "outputs": [
    {
     "data": {
      "text/plain": [
       "GridSearchCV(cv=3,\n",
       "             estimator=RandomForestClassifier(class_weight='balanced_subsample',\n",
       "                                              max_depth=10,\n",
       "                                              min_impurity_decrease=1e-07,\n",
       "                                              n_estimators=10,\n",
       "                                              random_state=10),\n",
       "             param_grid={'min_samples_leaf': [10, 20],\n",
       "                         'min_samples_split': [5, 10]},\n",
       "             return_train_score=True)"
      ]
     },
     "execution_count": 31,
     "metadata": {},
     "output_type": "execute_result"
    }
   ],
   "source": [
    "# solution\n",
    "param_grid = {'min_samples_split': [5,10],\n",
    "              'min_samples_leaf': [10,20]}\n",
    "\n",
    "rf_model = GridSearchCV(RandomForestClassifier(n_estimators=10, \n",
    "                                               max_depth=10,  # how deep tree nodes can go\n",
    "                                               min_impurity_decrease=1e-07,  # early stopping\n",
    "                                               random_state = 10,  # random seed\n",
    "                                               class_weight=\"balanced_subsample\"), # adjusts weights inverse of freq with subsampling\n",
    "                        param_grid, \n",
    "                        cv=3, \n",
    "                        return_train_score=True)\n",
    "\n",
    "rf_model.fit(X_train, y_train)"
   ]
  },
  {
   "cell_type": "code",
   "execution_count": 32,
   "metadata": {},
   "outputs": [
    {
     "name": "stdout",
     "output_type": "stream",
     "text": [
      "Best parameter values: {'min_samples_leaf': 10, 'min_samples_split': 5}\n",
      "Best mean cross-validated training accuracy: 0.6450221994535519\n",
      "Best model test accuracy: 0.6041666666666666\n"
     ]
    }
   ],
   "source": [
    "best_index = np.argmax(rf_model.cv_results_[\"mean_train_score\"])\n",
    "\n",
    "print(\"Best parameter values:\", rf_model.cv_results_[\"params\"][best_index])\n",
    "print(\"Best mean cross-validated training accuracy:\", rf_model.cv_results_[\"mean_train_score\"][best_index])\n",
    "print(\"Best model test accuracy:\", rf_model.score(X_test, y_test))"
   ]
  },
  {
   "cell_type": "markdown",
   "metadata": {},
   "source": [
    "### Extra challenge: Adjust text preprocessing\n",
    "\n",
    "Preprocessing methods matter for machine learning performance: Depending on the algorithm, less or more preprocessing may be better. Let's see how a simple Random Forest model does with minimal preprocessing--without removing usernames, hashtags, or URLs. Compare this model's performance with that of Random Forest trained on cleaned text."
   ]
  },
  {
   "cell_type": "code",
   "execution_count": 29,
   "metadata": {},
   "outputs": [
    {
     "data": {
      "text/plain": [
       "((11712, 5000), (2928, 5000))"
      ]
     },
     "execution_count": 29,
     "metadata": {},
     "output_type": "execute_result"
    }
   ],
   "source": [
    "# solution\n",
    "# Vectorize texts\n",
    "countvec_dirty = CountVectorizer(max_features=5000, binary=True)\n",
    "features_dirty = countvec_dirty.fit_transform(df['text']).toarray() # convert matrix to sparse format for easy modeling\n",
    "response_dirty = df['airline_sentiment'].values # corresponds to entries in `features` \n",
    "\n",
    "X_train_dirty, X_test_dirty, y_train_dirty, y_test_dirty = train_test_split(features_dirty, response_dirty, test_size=0.2)\n",
    "X_train_dirty.shape, X_test_dirty.shape #look at number of rows and columns in training and test data"
   ]
  },
  {
   "cell_type": "code",
   "execution_count": 30,
   "metadata": {},
   "outputs": [],
   "source": [
    "rf_dirty = RandomForestClassifier(n_estimators=10,  # number of trees\n",
    "                                  min_impurity_decrease=1e-07,  # early stopping\n",
    "                                  random_state = 10,  # random seed\n",
    "                                  class_weight=\"balanced\")  # adjusts weights inverse of freq\n",
    "\n",
    "rf_dirty = rf_dirty.fit(X_train_dirty, y_train_dirty)"
   ]
  },
  {
   "cell_type": "code",
   "execution_count": 31,
   "metadata": {},
   "outputs": [
    {
     "name": "stdout",
     "output_type": "stream",
     "text": [
      "Mean cross-validation train accuracy: 0.7388 (+/- 0.0131)\n",
      "Overall mean test accuracy: 0.742827868852459\n"
     ]
    }
   ],
   "source": [
    "scores = cross_val_score(rf_dirty, X_train_dirty, y_train_dirty, cv=3)\n",
    "print(\"Mean cross-validation train accuracy: %0.4f (+/- %0.4f)\" % (scores.mean(), scores.std() * 2)) # Show average accuracy across folds\n",
    "print(\"Overall mean test accuracy:\", rf_dirty.score(X_test_dirty, y_test_dirty))"
   ]
  },
  {
   "cell_type": "markdown",
   "metadata": {},
   "source": [
    "Random Forest with text preprocessing gave a mean accuracy of just over 0.61, so removing text preprocessing improves model accuracy by about **13 percent**! "
   ]
  },
  {
   "cell_type": "markdown",
   "metadata": {},
   "source": [
    "### Extra extra challenge: Adaboost\n",
    "\n",
    "Adaboost is another ensemble method that relies on 'boosting'. Similar to 'bagging', 'boosting' samples many subsets of data to fit multiple classifiers, but resamples preferentially for misclassified data points. "
   ]
  },
  {
   "cell_type": "markdown",
   "metadata": {},
   "source": [
    "**Part 1**\n",
    "\n",
    "Using the scikit-learn [documentation](http://scikit-learn.org/stable/modules/ensemble.html#adaboost), build your own AdaBoost model to test on our review tweets! Start off with `n_estimators` at 100, and `learning_rate` at .5. Use 10 as the `random_state` value."
   ]
  },
  {
   "cell_type": "code",
   "execution_count": 35,
   "metadata": {},
   "outputs": [],
   "source": [
    "# solution\n",
    "adaboost_model = AdaBoostClassifier(n_estimators=100,  # number of trees\n",
    "                                         learning_rate=0.5,  # or 'entropy' for information gain\n",
    "                                         random_state = 10)  # random seed\n",
    "\n",
    "adaboost_model = adaboost_model.fit(X_train, y_train)"
   ]
  },
  {
   "cell_type": "code",
   "execution_count": 36,
   "metadata": {},
   "outputs": [
    {
     "name": "stdout",
     "output_type": "stream",
     "text": [
      "Score of Adaboost model with test data defined above:\n",
      "0.7482923497267759\n",
      "\n",
      "Classification report:\n",
      "              precision    recall  f1-score   support\n",
      "\n",
      "    negative       0.75      0.94      0.84      1881\n",
      "     neutral       0.68      0.27      0.39       591\n",
      "    positive       0.75      0.57      0.65       456\n",
      "\n",
      "    accuracy                           0.75      2928\n",
      "   macro avg       0.73      0.59      0.63      2928\n",
      "weighted avg       0.74      0.75      0.72      2928\n",
      "\n",
      "\n"
     ]
    }
   ],
   "source": [
    "print(\"Score of Adaboost model with test data defined above:\")\n",
    "print(adaboost_model.score(X_test, y_test))\n",
    "print()\n",
    "\n",
    "predicted = adaboost_model.predict(X_test)\n",
    "print(\"Classification report:\")\n",
    "print(classification_report(y_test, predicted)) \n",
    "print()"
   ]
  },
  {
   "cell_type": "markdown",
   "metadata": {},
   "source": [
    "**Part 2**\n",
    "\n",
    "Now use a grid search to determine what are the best values for the `n_estimators` and `learning_rate` parameters. For `n_estimators` try both 100 and 500, and for `learning_rate` try 0.1 and 1.0. "
   ]
  },
  {
   "cell_type": "code",
   "execution_count": 37,
   "metadata": {},
   "outputs": [
    {
     "name": "stdout",
     "output_type": "stream",
     "text": [
      "Best parameter values: {'learning_rate': 1.0, 'n_estimators': 500}\n",
      "Best mean cross-validated train accuracy: 0.8078466530054644\n",
      "Overall mean test accuracy: 0.7817622950819673\n"
     ]
    }
   ],
   "source": [
    "# solution\n",
    "param_grid = {'n_estimators': [100,500],\n",
    "              'learning_rate': [0.1,1.0]}\n",
    "\n",
    "adaboost_model = GridSearchCV(AdaBoostClassifier(n_estimators=10), \n",
    "                              param_grid, \n",
    "                              cv=3,\n",
    "                              return_train_score=True)\n",
    "adaboost_model.fit(X_train, y_train)\n",
    "\n",
    "# Get index on model parameters that perform best\n",
    "best_index = np.argmax(adaboost_model.cv_results_[\"mean_train_score\"]) # Get index of best model parameters\n",
    "\n",
    "# Display information on best model parameters\n",
    "print(\"Best parameter values:\", adaboost_model.cv_results_[\"params\"][best_index])\n",
    "print(\"Best mean cross-validated train accuracy:\", adaboost_model.cv_results_[\"mean_train_score\"][best_index])\n",
    "print(\"Overall mean test accuracy:\", adaboost_model.score(X_test, y_test))"
   ]
  },
  {
   "cell_type": "markdown",
   "metadata": {},
   "source": [
    "**Part 3**\n",
    "\n",
    "Build a 3-d visualization showing combinations of model parameters and their resulting performance on the training set. \n",
    "\n",
    "_Hint:_ Use the `gridsearch_viz()` function we defined earlier."
   ]
  },
  {
   "cell_type": "code",
   "execution_count": 38,
   "metadata": {},
   "outputs": [],
   "source": [
    "# solution\n",
    "model = adaboost_model # Change this to visualize other models\n",
    "\n",
    "# Prepare for visualization: get combinations on tested model parameters\n",
    "n_grid_points = len(model.cv_results_['params'])\n",
    "n_estimators_vals = np.empty((n_grid_points,))\n",
    "learning_rate_vals = np.empty((n_grid_points,))\n",
    "mean_train_scores = np.empty((n_grid_points,))\n",
    "mean_test_scores = np.empty((n_grid_points,))\n",
    "\n",
    "for i in range(n_grid_points):\n",
    "    n_estimators_vals[i] = model.cv_results_['params'][i]['n_estimators']\n",
    "    learning_rate_vals[i] = model.cv_results_['params'][i]['learning_rate']\n",
    "    mean_train_scores[i] = model.cv_results_['mean_train_score'][i]\n",
    "    mean_test_scores[i] = model.cv_results_['mean_test_score'][i]"
   ]
  },
  {
   "cell_type": "code",
   "execution_count": 39,
   "metadata": {},
   "outputs": [
    {
     "data": {
      "image/png": "[encoded data removed]",
      "text/plain": [
       "<Figure size 1440x720 with 1 Axes>"
      ]
     },
     "metadata": {},
     "output_type": "display_data"
    }
   ],
   "source": [
    "# Visualize model performance on training set\n",
    "gridsearch_viz(mean_scores = mean_train_scores, \n",
    "               param1_vals = n_estimators_vals, \n",
    "               param2_vals = learning_rate_vals, \n",
    "               param1_name = \"n_estimators\", \n",
    "               param2_name = \"learning_rate\", \n",
    "               scorename = \"Mean Train Scores\")"
   ]
  }
 ],
 "metadata": {
  "anaconda-cloud": {},
  "hide_input": false,
  "kernelspec": {
   "display_name": "Python 3",
   "language": "python",
   "name": "python3"
  },
  "language_info": {
   "codemirror_mode": {
    "name": "ipython",
    "version": 3
   },
   "file_extension": ".py",
   "mimetype": "text/x-python",
   "name": "python",
   "nbconvert_exporter": "python",
   "pygments_lexer": "ipython3",
   "version": "3.8.10"
  },
  "toc": {
   "base_numbering": 1,
   "nav_menu": {},
   "number_sections": false,
   "sideBar": true,
   "skip_h1_title": false,
   "title_cell": "Table of Contents",
   "title_sidebar": "Contents",
   "toc_cell": false,
   "toc_position": {},
   "toc_section_display": "block",
   "toc_window_display": true
  },
  "varInspector": {
   "cols": {
    "lenName": 16,
    "lenType": 16,
    "lenVar": 40
   },
   "kernels_config": {
    "python": {
     "delete_cmd_postfix": "",
     "delete_cmd_prefix": "del ",
     "library": "var_list.py",
     "varRefreshCmd": "print(var_dic_list())"
    },
    "r": {
     "delete_cmd_postfix": ") ",
     "delete_cmd_prefix": "rm(",
     "library": "var_list.r",
     "varRefreshCmd": "cat(var_dic_list()) "
    }
   },
   "types_to_exclude": [
    "module",
    "function",
    "builtin_function_or_method",
    "instance",
    "_Feature"
   ],
   "window_display": false
  }
 },
 "nbformat": 4,
 "nbformat_minor": 1
}
