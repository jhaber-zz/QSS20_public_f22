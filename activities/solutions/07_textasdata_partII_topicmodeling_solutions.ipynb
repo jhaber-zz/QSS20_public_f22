{
 "cells": [
  {
   "cell_type": "markdown",
   "metadata": {},
   "source": [
    "# Notebook for topic modeling "
   ]
  },
  {
   "cell_type": "markdown",
   "metadata": {},
   "source": [
    "# 0. Imports"
   ]
  },
  {
   "cell_type": "code",
   "execution_count": 1,
   "metadata": {},
   "outputs": [
    {
     "name": "stderr",
     "output_type": "stream",
     "text": [
      "[nltk_data] Downloading package stopwords to\n",
      "[nltk_data]     /Users/rebeccajohnson/nltk_data...\n",
      "[nltk_data]   Package stopwords is already up-to-date!\n"
     ]
    }
   ],
   "source": [
    "## load packages \n",
    "import pandas as pd\n",
    "import re\n",
    "import numpy as np\n",
    "\n",
    "## nltk imports\n",
    "import nltk\n",
    "nltk.download(\"stopwords\")\n",
    "from nltk.tokenize import word_tokenize, wordpunct_tokenize\n",
    "from nltk.corpus import stopwords\n",
    "from nltk.stem.porter import PorterStemmer\n",
    "\n",
    "## sklearn imports\n",
    "from sklearn.feature_extraction.text import CountVectorizer\n",
    "\n",
    "## lda \n",
    "from gensim import corpora\n",
    "import gensim\n",
    "\n",
    "## print mult things\n",
    "from IPython.core.interactiveshell import InteractiveShell\n",
    "InteractiveShell.ast_node_interactivity = \"all\"\n",
    "\n",
    "## random\n",
    "import random"
   ]
  },
  {
   "cell_type": "markdown",
   "metadata": {},
   "source": [
    "# 0. Load data"
   ]
  },
  {
   "cell_type": "code",
   "execution_count": 2,
   "metadata": {},
   "outputs": [
    {
     "data": {
      "text/html": [
       "<div>\n",
       "<style scoped>\n",
       "    .dataframe tbody tr th:only-of-type {\n",
       "        vertical-align: middle;\n",
       "    }\n",
       "\n",
       "    .dataframe tbody tr th {\n",
       "        vertical-align: top;\n",
       "    }\n",
       "\n",
       "    .dataframe thead th {\n",
       "        text-align: right;\n",
       "    }\n",
       "</style>\n",
       "<table border=\"1\" class=\"dataframe\">\n",
       "  <thead>\n",
       "    <tr style=\"text-align: right;\">\n",
       "      <th></th>\n",
       "      <th>id</th>\n",
       "      <th>name</th>\n",
       "      <th>name_upper</th>\n",
       "      <th>neighbourhood_group</th>\n",
       "      <th>price</th>\n",
       "    </tr>\n",
       "  </thead>\n",
       "  <tbody>\n",
       "    <tr>\n",
       "      <th>0</th>\n",
       "      <td>2539</td>\n",
       "      <td>Clean &amp; quiet apt home by the park</td>\n",
       "      <td>CLEAN &amp; QUIET APT HOME BY THE PARK</td>\n",
       "      <td>Brooklyn</td>\n",
       "      <td>149</td>\n",
       "    </tr>\n",
       "    <tr>\n",
       "      <th>1</th>\n",
       "      <td>2595</td>\n",
       "      <td>Skylit Midtown Castle</td>\n",
       "      <td>SKYLIT MIDTOWN CASTLE</td>\n",
       "      <td>Manhattan</td>\n",
       "      <td>225</td>\n",
       "    </tr>\n",
       "    <tr>\n",
       "      <th>2</th>\n",
       "      <td>3647</td>\n",
       "      <td>THE VILLAGE OF HARLEM....NEW YORK !</td>\n",
       "      <td>THE VILLAGE OF HARLEM....NEW YORK !</td>\n",
       "      <td>Manhattan</td>\n",
       "      <td>150</td>\n",
       "    </tr>\n",
       "    <tr>\n",
       "      <th>3</th>\n",
       "      <td>3831</td>\n",
       "      <td>Cozy Entire Floor of Brownstone</td>\n",
       "      <td>COZY ENTIRE FLOOR OF BROWNSTONE</td>\n",
       "      <td>Brooklyn</td>\n",
       "      <td>89</td>\n",
       "    </tr>\n",
       "    <tr>\n",
       "      <th>4</th>\n",
       "      <td>5022</td>\n",
       "      <td>Entire Apt: Spacious Studio/Loft by central park</td>\n",
       "      <td>ENTIRE APT: SPACIOUS STUDIO/LOFT BY CENTRAL PARK</td>\n",
       "      <td>Manhattan</td>\n",
       "      <td>80</td>\n",
       "    </tr>\n",
       "  </tbody>\n",
       "</table>\n",
       "</div>"
      ],
      "text/plain": [
       "     id                                              name  \\\n",
       "0  2539                Clean & quiet apt home by the park   \n",
       "1  2595                             Skylit Midtown Castle   \n",
       "2  3647               THE VILLAGE OF HARLEM....NEW YORK !   \n",
       "3  3831                   Cozy Entire Floor of Brownstone   \n",
       "4  5022  Entire Apt: Spacious Studio/Loft by central park   \n",
       "\n",
       "                                         name_upper neighbourhood_group  price  \n",
       "0                CLEAN & QUIET APT HOME BY THE PARK            Brooklyn    149  \n",
       "1                             SKYLIT MIDTOWN CASTLE           Manhattan    225  \n",
       "2               THE VILLAGE OF HARLEM....NEW YORK !           Manhattan    150  \n",
       "3                   COZY ENTIRE FLOOR OF BROWNSTONE            Brooklyn     89  \n",
       "4  ENTIRE APT: SPACIOUS STUDIO/LOFT BY CENTRAL PARK           Manhattan     80  "
      ]
     },
     "execution_count": 2,
     "metadata": {},
     "output_type": "execute_result"
    }
   ],
   "source": [
    "ab = pd.read_csv(\"../../public_data/airbnb_text.zip\")\n",
    "ab.head()\n"
   ]
  },
  {
   "cell_type": "markdown",
   "metadata": {},
   "source": [
    "# 1. Preprocess documents\n",
    "\n",
    "In this case, each name/name_upper, or listing title, we're treating as a document"
   ]
  },
  {
   "cell_type": "markdown",
   "metadata": {},
   "source": [
    "## 1.1 Load stopwords list and augment with our own custom ones"
   ]
  },
  {
   "cell_type": "code",
   "execution_count": 3,
   "metadata": {},
   "outputs": [],
   "source": [
    "list_stopwords = stopwords.words(\"english\")\n",
    "custom_words_toadd = ['apartment', 'new york', 'nyc',\n",
    "                      'bronx', 'brooklyn',\n",
    "                     'manhattan', 'queens', \n",
    "                      'staten island']\n",
    "list_stopwords_new = list_stopwords + custom_words_toadd\n"
   ]
  },
  {
   "cell_type": "markdown",
   "metadata": {},
   "source": [
    "## 1.2 Remove stopwords from lowercase version of corpus\n"
   ]
  },
  {
   "cell_type": "code",
   "execution_count": 4,
   "metadata": {},
   "outputs": [
    {
     "data": {
      "text/plain": [
       "['cozy', 'entire', 'floor', 'of', 'brownstone']"
      ]
     },
     "execution_count": 4,
     "metadata": {},
     "output_type": "execute_result"
    }
   ],
   "source": [
    "## convert to lowercase and a list\n",
    "corpus_lower = ab.name.str.lower().to_list()\n",
    "\n",
    "## use wordpunct tokenize and filter out with one\n",
    "example_listing = corpus_lower[3]\n",
    "wordpunct_tokenize(example_listing)\n",
    "nostop_listing = [word \n",
    "                for word in wordpunct_tokenize(example_listing) \n",
    "                if word not in list_stopwords_new]\n"
   ]
  },
  {
   "cell_type": "markdown",
   "metadata": {},
   "source": [
    "## 1.3 stem and remove non-alpha\n",
    "\n",
    "Other contexts we may want to leave digits in"
   ]
  },
  {
   "cell_type": "code",
   "execution_count": 5,
   "metadata": {},
   "outputs": [],
   "source": [
    "## initialize stemmer\n",
    "porter = PorterStemmer()\n",
    "\n",
    "## apply to one by iterating\n",
    "## over the tokens in the list\n",
    "example_listing_preprocess = [porter.stem(token) \n",
    "                            for token in nostop_listing \n",
    "                            if token.isalpha() and \n",
    "                            len(token) > 2]\n"
   ]
  },
  {
   "cell_type": "markdown",
   "metadata": {},
   "source": [
    "## 1.4 Activity 1\n",
    "\n",
    "The above example performed preprocessing on a single Airbnb listing. We want to generalize this preprocessing across all listings.\n",
    "\n",
    "- Embed step two (remove stopwords) and step three (stem) into one or two functions that take in a raw string (eg the raw text of an Airbnb review) and return a preprocessed string \n",
    "- Apply the function to all the texts in `corpus_lower`"
   ]
  },
  {
   "cell_type": "code",
   "execution_count": 6,
   "metadata": {},
   "outputs": [],
   "source": [
    "def process_step1(one_str):   \n",
    "    try:\n",
    "        nostop_listing1 = [word for word in wordpunct_tokenize(one_str)\n",
    "                          if word not in list_stopwords_new]\n",
    "        clean_listing = [porter.stem(word) for word in nostop_listing1\n",
    "                        if word.isalpha() \n",
    "                        and len(word) > 3]\n",
    "        clean_listing_str = \" \".join(clean_listing)\n",
    "        return(clean_listing_str)\n",
    "    except:\n",
    "        return(\"\")\n",
    "\n",
    "cleaned_listings = [process_step1(one_listing) for one_listing in \n",
    "                   corpus_lower]\n"
   ]
  },
  {
   "cell_type": "code",
   "execution_count": 7,
   "metadata": {},
   "outputs": [],
   "source": [
    "ab['proc_name'] = cleaned_listings\n"
   ]
  },
  {
   "cell_type": "markdown",
   "metadata": {},
   "source": [
    "# 2. Create a document-term matrix and do some basic diagnostics (more manual approach)\n",
    "\n",
    "Here we'll create a DTM first using the raw documents; in the activity, you'll create one using the preprocessed docs\n",
    "that you created in activity 1"
   ]
  },
  {
   "cell_type": "markdown",
   "metadata": {},
   "source": [
    "## 2.1 Define the dtm function and select data to transform into a document-term matrix"
   ]
  },
  {
   "cell_type": "code",
   "execution_count": 8,
   "metadata": {},
   "outputs": [],
   "source": [
    "## function I'm providing\n",
    "def create_dtm(list_of_strings, metadata):\n",
    "    vectorizer = CountVectorizer(lowercase = True)\n",
    "    dtm_sparse = vectorizer.fit_transform(list_of_strings)\n",
    "    dtm_dense_named = pd.DataFrame(dtm_sparse.todense(),\n",
    "                columns=vectorizer.get_feature_names())\n",
    "    metadata.columns = [\"metadata_\" + col for col in metadata.columns]\n",
    "    dtm_dense_named_withid = pd.concat([metadata.reset_index(), \n",
    "                                        dtm_dense_named], axis = 1)\n",
    "    return(dtm_dense_named_withid)"
   ]
  },
  {
   "cell_type": "code",
   "execution_count": 9,
   "metadata": {},
   "outputs": [
    {
     "data": {
      "text/html": [
       "<div>\n",
       "<style scoped>\n",
       "    .dataframe tbody tr th:only-of-type {\n",
       "        vertical-align: middle;\n",
       "    }\n",
       "\n",
       "    .dataframe tbody tr th {\n",
       "        vertical-align: top;\n",
       "    }\n",
       "\n",
       "    .dataframe thead th {\n",
       "        text-align: right;\n",
       "    }\n",
       "</style>\n",
       "<table border=\"1\" class=\"dataframe\">\n",
       "  <thead>\n",
       "    <tr style=\"text-align: right;\">\n",
       "      <th></th>\n",
       "      <th>id</th>\n",
       "      <th>neighbourhood_group</th>\n",
       "      <th>price_rawdata</th>\n",
       "      <th>name</th>\n",
       "      <th>name_lower</th>\n",
       "    </tr>\n",
       "  </thead>\n",
       "  <tbody>\n",
       "    <tr>\n",
       "      <th>22540</th>\n",
       "      <td>18227529</td>\n",
       "      <td>Manhattan</td>\n",
       "      <td>140</td>\n",
       "      <td>Live in New York Near Central Park and Columbi...</td>\n",
       "      <td>live in new york near central park and columbi...</td>\n",
       "    </tr>\n",
       "    <tr>\n",
       "      <th>47531</th>\n",
       "      <td>35794273</td>\n",
       "      <td>Brooklyn</td>\n",
       "      <td>130</td>\n",
       "      <td>Hope Garden</td>\n",
       "      <td>hope garden</td>\n",
       "    </tr>\n",
       "    <tr>\n",
       "      <th>33906</th>\n",
       "      <td>26858196</td>\n",
       "      <td>Brooklyn</td>\n",
       "      <td>75</td>\n",
       "      <td>AWESOME 2 BEDS - QUEEN + SOFA - NEXT TO METRO</td>\n",
       "      <td>awesome 2 beds - queen + sofa - next to metro</td>\n",
       "    </tr>\n",
       "    <tr>\n",
       "      <th>12047</th>\n",
       "      <td>9369514</td>\n",
       "      <td>Brooklyn</td>\n",
       "      <td>25</td>\n",
       "      <td>STARTUP CHEAP PLACE BROOKLYN</td>\n",
       "      <td>startup cheap place brooklyn</td>\n",
       "    </tr>\n",
       "    <tr>\n",
       "      <th>2908</th>\n",
       "      <td>1669149</td>\n",
       "      <td>Manhattan</td>\n",
       "      <td>250</td>\n",
       "      <td>Beautiful Modern Midtown Apartment</td>\n",
       "      <td>beautiful modern midtown apartment</td>\n",
       "    </tr>\n",
       "  </tbody>\n",
       "</table>\n",
       "</div>"
      ],
      "text/plain": [
       "             id neighbourhood_group  price_rawdata  \\\n",
       "22540  18227529           Manhattan            140   \n",
       "47531  35794273            Brooklyn            130   \n",
       "33906  26858196            Brooklyn             75   \n",
       "12047   9369514            Brooklyn             25   \n",
       "2908    1669149           Manhattan            250   \n",
       "\n",
       "                                                    name  \\\n",
       "22540  Live in New York Near Central Park and Columbi...   \n",
       "47531                                        Hope Garden   \n",
       "33906      AWESOME 2 BEDS - QUEEN + SOFA - NEXT TO METRO   \n",
       "12047                       STARTUP CHEAP PLACE BROOKLYN   \n",
       "2908                  Beautiful Modern Midtown Apartment   \n",
       "\n",
       "                                              name_lower  \n",
       "22540  live in new york near central park and columbi...  \n",
       "47531                                        hope garden  \n",
       "33906      awesome 2 beds - queen + sofa - next to metro  \n",
       "12047                       startup cheap place brooklyn  \n",
       "2908                  beautiful modern midtown apartment  "
      ]
     },
     "execution_count": 9,
     "metadata": {},
     "output_type": "execute_result"
    }
   ],
   "source": [
    "## filter out na's\n",
    "## for shorter runtime, random sampling of 1000\n",
    "## get metadata for those\n",
    "## and also renaming price col since it's likely to be corpus word\n",
    "ab_small = ab.loc[~ab.name.isnull(),\n",
    "           ['id', 'neighbourhood_group', 'price',\n",
    "            'name']].copy().rename(columns = {'price':\n",
    "            'price_rawdata'}).sample(n = 1000, random_state = 9899)\n",
    "\n",
    "ab_small['name_lower'] = ab_small['name'].str.lower()\n",
    "ab_small.head()"
   ]
  },
  {
   "cell_type": "markdown",
   "metadata": {},
   "source": [
    "## 2.2 Execute the dtm function to create the document-term matrix"
   ]
  },
  {
   "cell_type": "code",
   "execution_count": 12,
   "metadata": {},
   "outputs": [
    {
     "data": {
      "text/html": [
       "<div>\n",
       "<style scoped>\n",
       "    .dataframe tbody tr th:only-of-type {\n",
       "        vertical-align: middle;\n",
       "    }\n",
       "\n",
       "    .dataframe tbody tr th {\n",
       "        vertical-align: top;\n",
       "    }\n",
       "\n",
       "    .dataframe thead th {\n",
       "        text-align: right;\n",
       "    }\n",
       "</style>\n",
       "<table border=\"1\" class=\"dataframe\">\n",
       "  <thead>\n",
       "    <tr style=\"text-align: right;\">\n",
       "      <th></th>\n",
       "      <th>index</th>\n",
       "      <th>metadata_id</th>\n",
       "      <th>metadata_neighbourhood_group</th>\n",
       "      <th>metadata_price_rawdata</th>\n",
       "      <th>10</th>\n",
       "      <th>100</th>\n",
       "      <th>1000</th>\n",
       "      <th>1000sq</th>\n",
       "      <th>10292</th>\n",
       "      <th>10ft</th>\n",
       "      <th>...</th>\n",
       "      <th>交通便利</th>\n",
       "      <th>位于北上远离开辆</th>\n",
       "      <th>家庭式獨立衛生間套房g</th>\n",
       "      <th>温馨小筑</th>\n",
       "      <th>简单的四房一厅两卫生间</th>\n",
       "      <th>纽约之家</th>\n",
       "      <th>走路四分钟到地铁站</th>\n",
       "      <th>건물</th>\n",
       "      <th>따뜻한</th>\n",
       "      <th>작은</th>\n",
       "    </tr>\n",
       "  </thead>\n",
       "  <tbody>\n",
       "    <tr>\n",
       "      <th>0</th>\n",
       "      <td>22540</td>\n",
       "      <td>18227529</td>\n",
       "      <td>Manhattan</td>\n",
       "      <td>140</td>\n",
       "      <td>0</td>\n",
       "      <td>0</td>\n",
       "      <td>0</td>\n",
       "      <td>0</td>\n",
       "      <td>0</td>\n",
       "      <td>0</td>\n",
       "      <td>...</td>\n",
       "      <td>0</td>\n",
       "      <td>0</td>\n",
       "      <td>0</td>\n",
       "      <td>0</td>\n",
       "      <td>0</td>\n",
       "      <td>0</td>\n",
       "      <td>0</td>\n",
       "      <td>0</td>\n",
       "      <td>0</td>\n",
       "      <td>0</td>\n",
       "    </tr>\n",
       "    <tr>\n",
       "      <th>1</th>\n",
       "      <td>47531</td>\n",
       "      <td>35794273</td>\n",
       "      <td>Brooklyn</td>\n",
       "      <td>130</td>\n",
       "      <td>0</td>\n",
       "      <td>0</td>\n",
       "      <td>0</td>\n",
       "      <td>0</td>\n",
       "      <td>0</td>\n",
       "      <td>0</td>\n",
       "      <td>...</td>\n",
       "      <td>0</td>\n",
       "      <td>0</td>\n",
       "      <td>0</td>\n",
       "      <td>0</td>\n",
       "      <td>0</td>\n",
       "      <td>0</td>\n",
       "      <td>0</td>\n",
       "      <td>0</td>\n",
       "      <td>0</td>\n",
       "      <td>0</td>\n",
       "    </tr>\n",
       "    <tr>\n",
       "      <th>2</th>\n",
       "      <td>33906</td>\n",
       "      <td>26858196</td>\n",
       "      <td>Brooklyn</td>\n",
       "      <td>75</td>\n",
       "      <td>0</td>\n",
       "      <td>0</td>\n",
       "      <td>0</td>\n",
       "      <td>0</td>\n",
       "      <td>0</td>\n",
       "      <td>0</td>\n",
       "      <td>...</td>\n",
       "      <td>0</td>\n",
       "      <td>0</td>\n",
       "      <td>0</td>\n",
       "      <td>0</td>\n",
       "      <td>0</td>\n",
       "      <td>0</td>\n",
       "      <td>0</td>\n",
       "      <td>0</td>\n",
       "      <td>0</td>\n",
       "      <td>0</td>\n",
       "    </tr>\n",
       "    <tr>\n",
       "      <th>3</th>\n",
       "      <td>12047</td>\n",
       "      <td>9369514</td>\n",
       "      <td>Brooklyn</td>\n",
       "      <td>25</td>\n",
       "      <td>0</td>\n",
       "      <td>0</td>\n",
       "      <td>0</td>\n",
       "      <td>0</td>\n",
       "      <td>0</td>\n",
       "      <td>0</td>\n",
       "      <td>...</td>\n",
       "      <td>0</td>\n",
       "      <td>0</td>\n",
       "      <td>0</td>\n",
       "      <td>0</td>\n",
       "      <td>0</td>\n",
       "      <td>0</td>\n",
       "      <td>0</td>\n",
       "      <td>0</td>\n",
       "      <td>0</td>\n",
       "      <td>0</td>\n",
       "    </tr>\n",
       "    <tr>\n",
       "      <th>4</th>\n",
       "      <td>2908</td>\n",
       "      <td>1669149</td>\n",
       "      <td>Manhattan</td>\n",
       "      <td>250</td>\n",
       "      <td>0</td>\n",
       "      <td>0</td>\n",
       "      <td>0</td>\n",
       "      <td>0</td>\n",
       "      <td>0</td>\n",
       "      <td>0</td>\n",
       "      <td>...</td>\n",
       "      <td>0</td>\n",
       "      <td>0</td>\n",
       "      <td>0</td>\n",
       "      <td>0</td>\n",
       "      <td>0</td>\n",
       "      <td>0</td>\n",
       "      <td>0</td>\n",
       "      <td>0</td>\n",
       "      <td>0</td>\n",
       "      <td>0</td>\n",
       "    </tr>\n",
       "  </tbody>\n",
       "</table>\n",
       "<p>5 rows × 983 columns</p>\n",
       "</div>"
      ],
      "text/plain": [
       "   index  metadata_id metadata_neighbourhood_group  metadata_price_rawdata  \\\n",
       "0  22540     18227529                    Manhattan                     140   \n",
       "1  47531     35794273                     Brooklyn                     130   \n",
       "2  33906     26858196                     Brooklyn                      75   \n",
       "3  12047      9369514                     Brooklyn                      25   \n",
       "4   2908      1669149                    Manhattan                     250   \n",
       "\n",
       "   10  100  1000  1000sq  10292  10ft  ...  交通便利  位于北上远离开辆  家庭式獨立衛生間套房g  温馨小筑  \\\n",
       "0   0    0     0       0      0     0  ...     0         0            0     0   \n",
       "1   0    0     0       0      0     0  ...     0         0            0     0   \n",
       "2   0    0     0       0      0     0  ...     0         0            0     0   \n",
       "3   0    0     0       0      0     0  ...     0         0            0     0   \n",
       "4   0    0     0       0      0     0  ...     0         0            0     0   \n",
       "\n",
       "   简单的四房一厅两卫生间  纽约之家  走路四分钟到地铁站  건물  따뜻한  작은  \n",
       "0            0     0          0   0    0   0  \n",
       "1            0     0          0   0    0   0  \n",
       "2            0     0          0   0    0   0  \n",
       "3            0     0          0   0    0   0  \n",
       "4            0     0          0   0    0   0  \n",
       "\n",
       "[5 rows x 983 columns]"
      ]
     },
     "execution_count": 12,
     "metadata": {},
     "output_type": "execute_result"
    }
   ],
   "source": [
    "## example application on raw lowercase texts; \n",
    "dtm_nopre = create_dtm(list_of_strings= ab_small.name_lower,\n",
    "                metadata = \n",
    "                ab_small[['id', 'neighbourhood_group', 'price_rawdata']])\n",
    "\n",
    "dtm_nopre.head()"
   ]
  },
  {
   "cell_type": "markdown",
   "metadata": {},
   "source": [
    "## 2.3 Use that matrix/column sums to get basic summary stats of top words"
   ]
  },
  {
   "cell_type": "code",
   "execution_count": 13,
   "metadata": {},
   "outputs": [
    {
     "data": {
      "text/plain": [
       "in            357\n",
       "room          204\n",
       "bedroom       164\n",
       "private       146\n",
       "cozy          134\n",
       "             ... \n",
       "fitness         1\n",
       "fl              1\n",
       "flatbushbk      1\n",
       "flatiron        1\n",
       "작은              1\n",
       "Length: 979, dtype: int64"
      ]
     },
     "execution_count": 13,
     "metadata": {},
     "output_type": "execute_result"
    }
   ],
   "source": [
    "## summing each col\n",
    "top_terms = dtm_nopre[[col for col in dtm_nopre.columns\n",
    "                      if \"metadata\" not in col and\n",
    "                      col != \"index\"]].sum(axis = 0)\n",
    "\n",
    "## sorting from most frequent to least frequent\n",
    "top_terms.sort_values(ascending = False)"
   ]
  },
  {
   "cell_type": "markdown",
   "metadata": {},
   "source": [
    "## 2.4 Activity 2: repeat the above but using the preprocessed text data\n",
    "\n",
    "- Stick with the same random sample of 1000 `ab_small`\n",
    "- Apply the preprocessing steps from activity 1 to create a new column in `ab_small` with the \n",
    "preprocessed text (if you got stuck on that, try just removing stopwords)\n",
    "- Use the `create_dtm` function to create a document-term matrix from the preprocessed data\n",
    "-  Take the sum of each of the term columns to find the top words "
   ]
  },
  {
   "cell_type": "code",
   "execution_count": 14,
   "metadata": {},
   "outputs": [],
   "source": [
    "ab_small['processed'] = [process_step1(one_list)\n",
    "                         for one_list in ab_small.name_lower.to_list()]"
   ]
  },
  {
   "cell_type": "code",
   "execution_count": 15,
   "metadata": {},
   "outputs": [
    {
     "data": {
      "text/plain": [
       "room         208\n",
       "bedroom      167\n",
       "privat       146\n",
       "cozi         134\n",
       "studio        94\n",
       "            ... \n",
       "industri       1\n",
       "indoor         1\n",
       "independ       1\n",
       "incred         1\n",
       "走路四分钟到地铁站      1\n",
       "Length: 642, dtype: int64"
      ]
     },
     "execution_count": 15,
     "metadata": {},
     "output_type": "execute_result"
    }
   ],
   "source": [
    "metadata_list = ['id', 'neighbourhood_group', 'price_rawdata']\n",
    "dtm_pre = create_dtm(list_of_strings= ab_small.processed,\n",
    "                metadata = \n",
    "                ab_small[metadata_list])\n",
    "\n",
    "\n",
    "dtm_pre_termsonly = dtm_pre[[col for col in dtm_pre.columns if \n",
    "                            \"metadata\" not in col and col != \"index\"]]\n",
    "\n",
    "dtm_pre_termsonly.sum().sort_values(ascending = False)"
   ]
  },
  {
   "cell_type": "markdown",
   "metadata": {},
   "source": [
    "# 3. Use gensim to more automatically preprocess/estimate a topic model"
   ]
  },
  {
   "cell_type": "markdown",
   "metadata": {},
   "source": [
    "## 3.1 Creating the objects to feed the LDA modeling function\n",
    "\n",
    "Different outputs described below: \n",
    "- Tokenized and preprocessed text \n",
    "- Dictionary \n",
    "- Corpus "
   ]
  },
  {
   "cell_type": "code",
   "execution_count": 19,
   "metadata": {},
   "outputs": [],
   "source": [
    "## Step 1: re-tokenize and store in list\n",
    "## here, i'm doing with the raw random sample of text\n",
    "## in activity, you should do with the preprocessed texts\n",
    "text_raw_tokens = [wordpunct_tokenize(one_text) \n",
    "                for one_text in \n",
    "                ab_small.name_lower]\n",
    "\n",
    "## Step 2: use gensim create dictionary - gets all unique words across documents\n",
    "text_raw_dict = corpora.Dictionary(text_raw_tokens)\n",
    "\n",
    "## Step 3: filter out very rare and very common words\n",
    "## here, i'm using the threshold that a word needs to appear in at least\n",
    "## 5% of docs but not more than 95%\n",
    "## this is an integer count of docs so i round\n",
    "lower_bound = round(ab_small.shape[0]*0.05)\n",
    "upper_bound = round(ab_small.shape[0]*0.95)\n",
    "\n",
    "### apply filtering to dictionary\n",
    "text_raw_dict.filter_extremes(no_below = lower_bound,\n",
    "                             no_above = upper_bound)\n",
    "\n",
    "# Step 4: apply dictionary to TOKENIZED texts\n",
    "## this creates a mapping between each word \n",
    "## in a specific listing and the key in the dictionary\n",
    "## for words that remain in the filtered dictionary\n",
    "## output is a list where len(list) == n documents\n",
    "## and each element in the list is a list of tuples\n",
    "## containing the mappings\n",
    "corpus_fromdict = [text_raw_dict.doc2bow(one_text) \n",
    "                   for one_text in text_raw_tokens]\n",
    "\n"
   ]
  },
  {
   "cell_type": "markdown",
   "metadata": {},
   "source": [
    "##  3.2 Estimating the model"
   ]
  },
  {
   "cell_type": "code",
   "execution_count": 20,
   "metadata": {},
   "outputs": [],
   "source": [
    "## Step 5: we're finally ready to estimate the model!\n",
    "## full documentation here - https://radimrehurek.com/gensim/models/ldamodel.html\n",
    "## here, we're feed the lda function (1) the corpus we created from the dictionary\n",
    "## (2) a parameter we decide on for the number of topics,\n",
    "## (3) the dictionary itself,\n",
    "## (4) parameter for number of passes through training data\n",
    "## (5) parameter that returns, for each word remaining in dict, the \n",
    "## topic probabilities\n",
    "## see documentation for many other arguments you can vary\n",
    "ldamod = gensim.models.ldamodel.LdaModel(corpus_fromdict, \n",
    "                                num_topics = 4, id2word=text_raw_dict, \n",
    "                                passes=6, alpha = 'auto',\n",
    "                                per_word_topics = True, random_state = 91988)\n"
   ]
  },
  {
   "cell_type": "markdown",
   "metadata": {},
   "source": [
    "## 3.3  Seeing what topics the estimated model discovers"
   ]
  },
  {
   "cell_type": "code",
   "execution_count": 21,
   "metadata": {},
   "outputs": [
    {
     "name": "stdout",
     "output_type": "stream",
     "text": [
      "(0, '0.218*\"in\" + 0.122*\"apartment\" + 0.101*\"room\" + 0.089*\"the\" + 0.076*\"of\" + 0.055*\"manhattan\" + 0.044*\"apt\" + 0.044*\"near\" + 0.038*\"to\" + 0.036*\"park\"')\n",
      "(1, '0.134*\"bedroom\" + 0.110*\"in\" + 0.110*\",\" + 0.104*\"-\" + 0.086*\"1\" + 0.077*\"spacious\" + 0.070*\"east\" + 0.046*\"to\" + 0.040*\"apartment\" + 0.039*\"sunny\"')\n",
      "(2, '0.168*\"cozy\" + 0.109*\",\" + 0.094*\"/\" + 0.081*\"park\" + 0.077*\"room\" + 0.065*\"with\" + 0.058*\"2\" + 0.047*\"!\" + 0.039*\"-\" + 0.039*\"and\"')\n",
      "(3, '0.156*\"private\" + 0.124*\".\" + 0.099*\"studio\" + 0.092*\"in\" + 0.083*\"room\" + 0.057*\"!\" + 0.044*\"to\" + 0.043*\"brooklyn\" + 0.039*\"manhattan\" + 0.037*\"/\"')\n"
     ]
    }
   ],
   "source": [
    "## Post-model 1: explore corpus-wide summary of topics\n",
    "### getting the topics and top words; can retrieve diff top words\n",
    "topics = ldamod.print_topics(num_words = 10)\n",
    "for topic in topics:\n",
    "    print(topic)\n"
   ]
  },
  {
   "cell_type": "code",
   "execution_count": 22,
   "metadata": {},
   "outputs": [
    {
     "data": {
      "text/plain": [
       "[['live',\n",
       "  'in',\n",
       "  'new',\n",
       "  'york',\n",
       "  'near',\n",
       "  'central',\n",
       "  'park',\n",
       "  'and',\n",
       "  'columbia',\n",
       "  'u',\n",
       "  '.'],\n",
       " ['hope', 'garden'],\n",
       " ['awesome',\n",
       "  '2',\n",
       "  'beds',\n",
       "  '-',\n",
       "  'queen',\n",
       "  '+',\n",
       "  'sofa',\n",
       "  '-',\n",
       "  'next',\n",
       "  'to',\n",
       "  'metro'],\n",
       " ['startup', 'cheap', 'place', 'brooklyn'],\n",
       " ['beautiful', 'modern', 'midtown', 'apartment']]"
      ]
     },
     "execution_count": 22,
     "metadata": {},
     "output_type": "execute_result"
    },
    {
     "data": {
      "text/plain": [
       "[[(0, 0.72918946), (1, 0.04131915), (2, 0.031489324), (3, 0.19800213)],\n",
       " [(0, 0.24624157), (1, 0.2782907), (2, 0.21267198), (3, 0.26279575)],\n",
       " [(0, 0.043327782), (1, 0.87221545), (2, 0.037635386), (3, 0.046821382)],\n",
       " [(0, 0.11719988), (1, 0.1318188), (2, 0.09832001), (3, 0.6526613)],\n",
       " [(0, 0.6515131), (1, 0.13048814), (2, 0.09749238), (3, 0.12050636)]]"
      ]
     },
     "execution_count": 22,
     "metadata": {},
     "output_type": "execute_result"
    }
   ],
   "source": [
    "    \n",
    "## Post-model 2: explore topics associated with each document\n",
    "### for each item in our original dictionary, get list of topic probabilities\n",
    "l=[ldamod.get_document_topics(item) for item in corpus_fromdict]\n",
    "### print result\n",
    "text_raw_tokens[0:5]\n",
    "l[0:5]"
   ]
  },
  {
   "cell_type": "markdown",
   "metadata": {},
   "source": [
    "### Visualizing "
   ]
  },
  {
   "cell_type": "code",
   "execution_count": 23,
   "metadata": {},
   "outputs": [
    {
     "data": {
      "text/html": [
       "\n",
       "<link rel=\"stylesheet\" type=\"text/css\" href=\"https://cdn.rawgit.com/bmabey/pyLDAvis/files/ldavis.v1.0.0.css\">\n",
       "\n",
       "\n",
       "<div id=\"ldavis_el340701405916690994241077457792\"></div>\n",
       "<script type=\"text/javascript\">\n",
       "\n",
       "var ldavis_el340701405916690994241077457792_data = {\"mdsDat\": {\"x\": [0.05972071984505459, -0.007370283306060333, -0.18478384492987868, 0.13243340839088444], \"y\": [0.1658361321406653, -0.126785045749419, 0.017863550492367423, -0.056914636883613735], \"topics\": [1, 2, 3, 4], \"cluster\": [1, 1, 1, 1], \"Freq\": [28.882792546466295, 27.221156993353535, 23.433636567369405, 20.462413892810766]}, \"tinfo\": {\"Term\": [\"cozy\", \"private\", \".\", \"apartment\", \"1\", \"studio\", \",\", \"the\", \"east\", \"bedroom\", \"in\", \"of\", \"park\", \"/\", \"spacious\", \"with\", \"room\", \"2\", \"-\", \"manhattan\", \"near\", \"!\", \"to\", \"sunny\", \"&\", \"and\", \"apt\", \"brooklyn\", \"east\", \"1\", \"spacious\", \"bedroom\", \"-\", \"sunny\", \",\", \"to\", \"2\", \"and\", \"apt\", \"in\", \"apartment\", \"brooklyn\", \"!\", \"&\", \"/\", \"manhattan\", \"studio\", \"room\", \"with\", \"near\", \".\", \"the\", \"cozy\", \"park\", \"private\", \"of\", \"private\", \".\", \"studio\", \"!\", \"manhattan\", \"brooklyn\", \"with\", \"room\", \"to\", \"/\", \"in\", \"cozy\", \"&\", \"bedroom\", \"-\", \"and\", \"2\", \"apt\", \",\", \"near\", \"of\", \"sunny\", \"the\", \"spacious\", \"apartment\", \"park\", \"1\", \"east\", \"of\", \"the\", \"apartment\", \"near\", \"manhattan\", \"in\", \"&\", \"room\", \"apt\", \"park\", \"sunny\", \"brooklyn\", \"to\", \"and\", \".\", \"!\", \"private\", \"-\", \"spacious\", \"bedroom\", \",\", \"/\", \"with\", \"east\", \"studio\", \"cozy\", \"1\", \"2\", \"cozy\", \"park\", \"/\", \"with\", \"2\", \",\", \"and\", \"near\", \"!\", \"&\", \"room\", \"apt\", \"-\", \"sunny\", \"brooklyn\", \"the\", \"spacious\", \"bedroom\", \"in\", \"studio\", \"1\", \"private\", \"apartment\", \"manhattan\", \"of\", \"east\", \"to\", \".\"], \"Freq\": [137.0, 143.0, 114.0, 129.0, 81.0, 93.0, 192.0, 76.0, 64.0, 163.0, 352.0, 61.0, 79.0, 100.0, 83.0, 75.0, 202.0, 68.0, 148.0, 79.0, 56.0, 100.0, 106.0, 66.0, 65.0, 68.0, 97.0, 92.0, 62.61389626545758, 77.43790334972097, 68.67747425300799, 119.73392846350481, 93.60747803713839, 34.61116066237424, 98.87320012215908, 41.1590011578818, 22.718819118176338, 22.165558451112688, 31.159416406482887, 99.02105904377866, 36.23068427768955, 18.496541442821552, 16.518732215871857, 9.41755092382138, 8.368735334998293, 5.740897409219578, 4.880236688585126, 10.481224688274184, 3.175905200967299, 1.6749396190153294, 2.510430501656745, 1.389630782936568, 2.432247292318617, 1.2256562371402147, 1.4560351674927947, 0.4546677594426312, 131.52271928760723, 104.43645435937373, 83.44401124572023, 48.197006359210775, 33.09344687396942, 36.60491664218277, 29.555545243393528, 70.4699378983673, 36.837126846338265, 30.919158729376477, 77.83263385226223, 26.752065495161972, 12.597089697069741, 27.562013277556993, 23.31534912435525, 9.38383505597405, 8.417156556382572, 11.592606554336696, 20.91915605527793, 5.823443135844172, 5.125680515939022, 2.003345581401198, 2.130205934140272, 2.148771564130961, 2.1274522218128884, 0.8415097663770419, 0.7116142236096443, 0.308343825624943, 55.51458412661602, 65.02793734880201, 88.94255233332186, 32.07096407320467, 39.64428377274983, 158.83141828557135, 25.92182204835503, 73.37730675571193, 32.333406260682466, 26.075065921749953, 19.390796085134237, 25.707572637366827, 27.40919128563552, 12.781399636105531, 6.756850200466095, 5.767364408016184, 7.596713146668093, 7.309580660190326, 3.80912924760767, 3.608596669397227, 2.9733278518665283, 1.523510095007826, 1.117790069927248, 0.9066441304479191, 1.0682487198571684, 1.0320080587118792, 0.3862901873204758, 0.2614227154563762, 106.93605613139508, 51.64072432513581, 59.92771156013543, 41.501123909318856, 37.13038699884756, 69.4262262196465, 24.587092273119136, 17.054469462515154, 29.882988570398727, 17.587501649191523, 48.665857448230085, 22.209253803528583, 24.690491980720346, 10.434400991324878, 11.912046535966747, 8.241651995812825, 8.70576858723623, 12.384073510154147, 16.520929904349547, 3.6913830439621376, 2.654117324702096, 3.2826459323204213, 2.449822834474509, 0.8817355869193019, 0.6339659978788431, 0.4654291490478747, 0.7293355020307324, 0.7214519514128014], \"Total\": [137.0, 143.0, 114.0, 129.0, 81.0, 93.0, 192.0, 76.0, 64.0, 163.0, 352.0, 61.0, 79.0, 100.0, 83.0, 75.0, 202.0, 68.0, 148.0, 79.0, 56.0, 100.0, 106.0, 66.0, 65.0, 68.0, 97.0, 92.0, 64.29431337057832, 81.18992508535318, 83.34114365198286, 163.28861192061316, 148.92289980240432, 66.43970332023456, 192.19191024895002, 106.1346547918863, 68.52778538886285, 68.9178854163114, 97.29468302503062, 352.2060410859618, 129.7505116672988, 92.7210772583379, 100.36609155349754, 65.52396431843768, 100.73911571951803, 79.36036364285813, 93.08387969812466, 202.9943267905835, 75.35036442360692, 56.62381629057933, 114.42518701290936, 76.78942606169169, 137.15237697758755, 79.78295625040302, 143.85811353408855, 61.72889839987652, 143.85811353408855, 114.42518701290936, 93.08387969812466, 100.36609155349754, 79.36036364285813, 92.7210772583379, 75.35036442360692, 202.9943267905835, 106.1346547918863, 100.73911571951803, 352.2060410859618, 137.15237697758755, 65.52396431843768, 163.28861192061316, 148.92289980240432, 68.9178854163114, 68.52778538886285, 97.29468302503062, 192.19191024895002, 56.62381629057933, 61.72889839987652, 66.43970332023456, 76.78942606169169, 83.34114365198286, 129.7505116672988, 79.78295625040302, 81.18992508535318, 64.29431337057832, 61.72889839987652, 76.78942606169169, 129.7505116672988, 56.62381629057933, 79.36036364285813, 352.2060410859618, 65.52396431843768, 202.9943267905835, 97.29468302503062, 79.78295625040302, 66.43970332023456, 92.7210772583379, 106.1346547918863, 68.9178854163114, 114.42518701290936, 100.36609155349754, 143.85811353408855, 148.92289980240432, 83.34114365198286, 163.28861192061316, 192.19191024895002, 100.73911571951803, 75.35036442360692, 64.29431337057832, 93.08387969812466, 137.15237697758755, 81.18992508535318, 68.52778538886285, 137.15237697758755, 79.78295625040302, 100.73911571951803, 75.35036442360692, 68.52778538886285, 192.19191024895002, 68.9178854163114, 56.62381629057933, 100.36609155349754, 65.52396431843768, 202.9943267905835, 97.29468302503062, 148.92289980240432, 66.43970332023456, 92.7210772583379, 76.78942606169169, 83.34114365198286, 163.28861192061316, 352.2060410859618, 93.08387969812466, 81.18992508535318, 143.85811353408855, 129.7505116672988, 79.36036364285813, 61.72889839987652, 64.29431337057832, 106.1346547918863, 114.42518701290936], \"Category\": [\"Default\", \"Default\", \"Default\", \"Default\", \"Default\", \"Default\", \"Default\", \"Default\", \"Default\", \"Default\", \"Default\", \"Default\", \"Default\", \"Default\", \"Default\", \"Default\", \"Default\", \"Default\", \"Default\", \"Default\", \"Default\", \"Default\", \"Default\", \"Default\", \"Default\", \"Default\", \"Default\", \"Default\", \"Topic1\", \"Topic1\", \"Topic1\", \"Topic1\", \"Topic1\", \"Topic1\", \"Topic1\", \"Topic1\", \"Topic1\", \"Topic1\", \"Topic1\", \"Topic1\", \"Topic1\", \"Topic1\", \"Topic1\", \"Topic1\", \"Topic1\", \"Topic1\", \"Topic1\", \"Topic1\", \"Topic1\", \"Topic1\", \"Topic1\", \"Topic1\", \"Topic1\", \"Topic1\", \"Topic1\", \"Topic1\", \"Topic2\", \"Topic2\", \"Topic2\", \"Topic2\", \"Topic2\", \"Topic2\", \"Topic2\", \"Topic2\", \"Topic2\", \"Topic2\", \"Topic2\", \"Topic2\", \"Topic2\", \"Topic2\", \"Topic2\", \"Topic2\", \"Topic2\", \"Topic2\", \"Topic2\", \"Topic2\", \"Topic2\", \"Topic2\", \"Topic2\", \"Topic2\", \"Topic2\", \"Topic2\", \"Topic2\", \"Topic2\", \"Topic3\", \"Topic3\", \"Topic3\", \"Topic3\", \"Topic3\", \"Topic3\", \"Topic3\", \"Topic3\", \"Topic3\", \"Topic3\", \"Topic3\", \"Topic3\", \"Topic3\", \"Topic3\", \"Topic3\", \"Topic3\", \"Topic3\", \"Topic3\", \"Topic3\", \"Topic3\", \"Topic3\", \"Topic3\", \"Topic3\", \"Topic3\", \"Topic3\", \"Topic3\", \"Topic3\", \"Topic3\", \"Topic4\", \"Topic4\", \"Topic4\", \"Topic4\", \"Topic4\", \"Topic4\", \"Topic4\", \"Topic4\", \"Topic4\", \"Topic4\", \"Topic4\", \"Topic4\", \"Topic4\", \"Topic4\", \"Topic4\", \"Topic4\", \"Topic4\", \"Topic4\", \"Topic4\", \"Topic4\", \"Topic4\", \"Topic4\", \"Topic4\", \"Topic4\", \"Topic4\", \"Topic4\", \"Topic4\", \"Topic4\"], \"logprob\": [28.0, 27.0, 26.0, 25.0, 24.0, 23.0, 22.0, 21.0, 20.0, 19.0, 18.0, 17.0, 16.0, 15.0, 14.0, 13.0, 12.0, 11.0, 10.0, 9.0, 8.0, 7.0, 6.0, 5.0, 4.0, 3.0, 2.0, 1.0, -2.6612000465393066, -2.448699951171875, -2.5687999725341797, -2.0129001140594482, -2.2590999603271484, -3.253999948501587, -2.204400062561035, -3.0808000564575195, -3.674999952316284, -3.699700117111206, -3.359100103378296, -2.202899932861328, -3.2083001136779785, -3.8805999755859375, -3.9937000274658203, -4.555600166320801, -4.673699855804443, -5.050600051879883, -5.2129998207092285, -4.448599815368652, -5.642600059509277, -6.282400131225586, -5.877699851989746, -6.469200134277344, -5.90939998626709, -6.594699859619141, -6.422500133514404, -7.586400032043457, -1.8597999811172485, -2.090399980545044, -2.3148000240325928, -2.8636999130249023, -3.2395999431610107, -3.1387999057769775, -3.3526999950408936, -2.483799934387207, -3.1324000358581543, -3.3076000213623047, -2.384399890899658, -3.4523000717163086, -4.20550012588501, -3.422499895095825, -3.5897998809814453, -4.5, -4.608699798583984, -4.288599967956543, -3.6982998847961426, -4.977099895477295, -5.104700088500977, -6.044099807739258, -5.982699871063232, -5.974100112915039, -5.984000205993652, -6.911499977111816, -7.07919979095459, -7.915500164031982, -2.572499990463257, -2.414299964904785, -2.101099967956543, -3.1212000846862793, -2.9091999530792236, -1.521299958229065, -3.3340001106262207, -2.2934999465942383, -3.11299991607666, -3.3280999660491943, -3.624300003051758, -3.3422999382019043, -3.2781999111175537, -4.041100025177002, -4.678599834442139, -4.836900234222412, -4.561399936676025, -4.599899768829346, -5.251699924468994, -5.305799961090088, -5.4994001388549805, -6.168099880218506, -6.477799892425537, -6.687099933624268, -6.523099899291992, -6.557600021362305, -7.540299892425537, -7.930699825286865, -1.7812999486923218, -2.509200096130371, -2.3603999614715576, -2.727799892425537, -2.839099884033203, -2.2132999897003174, -3.251300096511841, -3.6171000003814697, -3.056299924850464, -3.586400032043457, -2.5685999393463135, -3.3529999256134033, -3.2471001148223877, -4.108399868011475, -3.9760000705718994, -4.344299793243408, -4.289599895477295, -3.9370999336242676, -3.648900032043457, -5.147500038146973, -5.477399826049805, -5.264900207519531, -5.557499885559082, -6.579400062561035, -6.909299850463867, -7.218299865722656, -6.769199848175049, -6.78000020980835], \"loglift\": [28.0, 27.0, 26.0, 25.0, 24.0, 23.0, 22.0, 21.0, 20.0, 19.0, 18.0, 17.0, 16.0, 15.0, 14.0, 13.0, 12.0, 11.0, 10.0, 9.0, 8.0, 7.0, 6.0, 5.0, 4.0, 3.0, 2.0, 1.0, 1.2154, 1.1946, 1.0484, 0.9317, 0.7776, 0.5898, 0.5773, 0.2947, 0.1379, 0.1075, 0.1033, -0.027, -0.0338, -0.3701, -0.5624, -0.6979, -1.2461, -1.3845, -1.7064, -1.7217, -1.9246, -2.2787, -2.5775, -2.7701, -2.7904, -2.9339, -3.3512, -3.669, 1.2115, 1.2098, 1.1919, 0.5676, 0.4265, 0.3718, 0.3653, 0.2432, 0.243, 0.12, -0.2085, -0.3333, -0.3478, -0.4779, -0.5531, -0.6928, -0.7958, -0.8262, -0.9167, -0.9734, -1.1873, -2.2003, -2.2837, -2.3569, -2.8095, -3.2507, -3.4358, -4.0388, 1.3449, 1.2847, 1.0734, 0.8825, 0.7569, 0.6546, 0.5237, 0.4334, 0.3494, 0.3327, 0.2195, 0.1682, 0.0972, -0.2339, -1.3784, -1.4056, -1.4901, -1.5632, -1.6345, -2.3612, -2.7178, -2.7405, -2.7598, -2.8105, -3.0165, -3.4386, -3.897, -4.1179, 1.3377, 1.1516, 1.0672, 0.9902, 0.9738, 0.5684, 0.5559, 0.3866, 0.375, 0.2714, 0.1584, 0.1093, -0.2104, -0.2646, -0.4655, -0.6453, -0.6724, -0.9925, -1.473, -1.6409, -1.8341, -2.1936, -2.383, -2.9133, -2.9919, -3.3417, -3.3937, -3.4798]}, \"token.table\": {\"Topic\": [1, 2, 3, 4, 1, 2, 3, 4, 1, 2, 3, 4, 1, 2, 3, 4, 1, 2, 3, 4, 1, 2, 3, 4, 1, 2, 4, 1, 2, 4, 1, 2, 3, 4, 1, 2, 3, 4, 1, 2, 3, 4, 1, 2, 3, 4, 1, 2, 3, 4, 1, 2, 3, 4, 1, 3, 1, 2, 3, 4, 1, 2, 3, 4, 1, 2, 3, 4, 2, 3, 4, 1, 2, 3, 4, 1, 2, 3, 4, 1, 2, 3, 4, 1, 2, 3, 4, 1, 2, 3, 4, 1, 2, 3, 4, 1, 2, 3, 4, 1, 2, 3, 4, 1, 2, 3, 4], \"Freq\": [0.16937991443991413, 0.4782491701832869, 0.05978114627291086, 0.29890573136455434, 0.13735432667445466, 0.1984006940853234, 0.3968013881706468, 0.2747086533489093, 0.5151101306593151, 0.10926578529136986, 0.015609397898767124, 0.35901615167164386, 0.6311990978198935, 0.1544423324452931, 0.04700418813552398, 0.16787210048401421, 0.026218003905569692, 0.9088908020597493, 0.06117534244632928, 0.008739334635189897, 0.07941304569591347, 0.3077255520716647, 0.019853261423978367, 0.595597842719351, 0.9483935342845999, 0.012316799146553245, 0.036950397439659735, 0.33563028294998665, 0.11674096798260405, 0.5399269769195437, 0.3192204732792493, 0.13059019361423835, 0.18863027966501095, 0.36275053781732874, 0.2774555532567748, 0.015414197403154153, 0.6859317844403598, 0.015414197403154153, 0.31861967207421554, 0.12333664725453504, 0.32889772601209344, 0.22611718663331423, 0.7348950951848436, 0.17147552220979684, 0.02449650317282812, 0.07348950951848436, 0.19413061767874745, 0.3990462696729809, 0.2804108922026352, 0.12942041178583163, 0.014582321094783692, 0.19686133477957982, 0.007291160547391846, 0.7801541785709275, 0.9798689292610034, 0.015553475067634976, 0.28108546830926556, 0.22146127806184562, 0.45144029758760834, 0.04826720162886379, 0.07560449227528152, 0.4158247075140484, 0.5040299485018768, 0.01260074871254692, 0.03532082665951899, 0.10596247997855697, 0.5651332265523038, 0.30022702660591144, 0.08099933952506759, 0.9071926026807571, 0.01619986790501352, 0.012534005343966538, 0.012534005343966538, 0.32588413894313, 0.65176827788626, 0.006951293711793604, 0.9175707699567557, 0.05561034969434883, 0.020853881135380812, 0.049262460474160795, 0.3448372233191256, 0.3596159614613738, 0.24138605632338792, 0.8279224039464972, 0.023997750839028904, 0.04799550167805781, 0.10798987877563006, 0.053714993575850425, 0.891668893359117, 0.010742998715170085, 0.04297199486068034, 0.526793442037249, 0.03010248240212851, 0.28597358282022084, 0.15051241201064255, 0.013022626307906146, 0.02604525261581229, 0.8464707100138995, 0.10418101046324917, 0.3863017228481562, 0.3486137498873605, 0.25439381748537115, 0.009421993240198932, 0.039814007841216414, 0.3981400784121641, 0.013271335947072136, 0.5573961097770298], \"Term\": [\"!\", \"!\", \"!\", \"!\", \"&\", \"&\", \"&\", \"&\", \",\", \",\", \",\", \",\", \"-\", \"-\", \"-\", \"-\", \".\", \".\", \".\", \".\", \"/\", \"/\", \"/\", \"/\", \"1\", \"1\", \"1\", \"2\", \"2\", \"2\", \"and\", \"and\", \"and\", \"and\", \"apartment\", \"apartment\", \"apartment\", \"apartment\", \"apt\", \"apt\", \"apt\", \"apt\", \"bedroom\", \"bedroom\", \"bedroom\", \"bedroom\", \"brooklyn\", \"brooklyn\", \"brooklyn\", \"brooklyn\", \"cozy\", \"cozy\", \"cozy\", \"cozy\", \"east\", \"east\", \"in\", \"in\", \"in\", \"in\", \"manhattan\", \"manhattan\", \"manhattan\", \"manhattan\", \"near\", \"near\", \"near\", \"near\", \"of\", \"of\", \"of\", \"park\", \"park\", \"park\", \"park\", \"private\", \"private\", \"private\", \"private\", \"room\", \"room\", \"room\", \"room\", \"spacious\", \"spacious\", \"spacious\", \"spacious\", \"studio\", \"studio\", \"studio\", \"studio\", \"sunny\", \"sunny\", \"sunny\", \"sunny\", \"the\", \"the\", \"the\", \"the\", \"to\", \"to\", \"to\", \"to\", \"with\", \"with\", \"with\", \"with\"]}, \"R\": 28, \"lambda.step\": 0.01, \"plot.opts\": {\"xlab\": \"PC1\", \"ylab\": \"PC2\"}, \"topic.order\": [2, 4, 1, 3]};\n",
       "\n",
       "function LDAvis_load_lib(url, callback){\n",
       "  var s = document.createElement('script');\n",
       "  s.src = url;\n",
       "  s.async = true;\n",
       "  s.onreadystatechange = s.onload = callback;\n",
       "  s.onerror = function(){console.warn(\"failed to load library \" + url);};\n",
       "  document.getElementsByTagName(\"head\")[0].appendChild(s);\n",
       "}\n",
       "\n",
       "if(typeof(LDAvis) !== \"undefined\"){\n",
       "   // already loaded: just create the visualization\n",
       "   !function(LDAvis){\n",
       "       new LDAvis(\"#\" + \"ldavis_el340701405916690994241077457792\", ldavis_el340701405916690994241077457792_data);\n",
       "   }(LDAvis);\n",
       "}else if(typeof define === \"function\" && define.amd){\n",
       "   // require.js is available: use it to load d3/LDAvis\n",
       "   require.config({paths: {d3: \"https://cdnjs.cloudflare.com/ajax/libs/d3/3.5.5/d3.min\"}});\n",
       "   require([\"d3\"], function(d3){\n",
       "      window.d3 = d3;\n",
       "      LDAvis_load_lib(\"https://cdn.rawgit.com/bmabey/pyLDAvis/files/ldavis.v1.0.0.js\", function(){\n",
       "        new LDAvis(\"#\" + \"ldavis_el340701405916690994241077457792\", ldavis_el340701405916690994241077457792_data);\n",
       "      });\n",
       "    });\n",
       "}else{\n",
       "    // require.js not available: dynamically load d3 & LDAvis\n",
       "    LDAvis_load_lib(\"https://cdnjs.cloudflare.com/ajax/libs/d3/3.5.5/d3.min.js\", function(){\n",
       "         LDAvis_load_lib(\"https://cdn.rawgit.com/bmabey/pyLDAvis/files/ldavis.v1.0.0.js\", function(){\n",
       "                 new LDAvis(\"#\" + \"ldavis_el340701405916690994241077457792\", ldavis_el340701405916690994241077457792_data);\n",
       "            })\n",
       "         });\n",
       "}\n",
       "</script>"
      ],
      "text/plain": [
       "<IPython.core.display.HTML object>"
      ]
     },
     "execution_count": 23,
     "metadata": {},
     "output_type": "execute_result"
    }
   ],
   "source": [
    "## Visualize - may not work on jhub yet\n",
    "import pyLDAvis.gensim as gensimvis\n",
    "# alternate: import pyLDAvis.gensim_models as gensimvis \n",
    "import pyLDAvis\n",
    "#pyLDAvis.enable_notebook()\n",
    "lda_display = gensimvis.prepare(ldamod, corpus_fromdict, text_raw_dict)\n",
    "pyLDAvis.display(lda_display)"
   ]
  },
  {
   "cell_type": "markdown",
   "metadata": {},
   "source": [
    "## 3.4 Activity 3\n",
    "\n",
    "- Preprocess the texts\n",
    "- Repeat the preprocessing steps and running of the topic model with preprocessed texts (can also play around with other parameters like n_topics)- what seems to produce useful topics?\n",
    "\n",
    "If you get stuck on the preprocessing part, you can use below function and I show example of how to apply"
   ]
  },
  {
   "cell_type": "code",
   "execution_count": 25,
   "metadata": {},
   "outputs": [],
   "source": [
    "# your code here\n",
    "ab_small = ab_small[ab_small.processed != \"\"].copy()\n",
    "\n",
    "tokenized_text = [wordpunct_tokenize(one_text) \n",
    "                for one_text in \n",
    "                ab_small.processed]\n"
   ]
  },
  {
   "cell_type": "code",
   "execution_count": 26,
   "metadata": {},
   "outputs": [],
   "source": [
    "## preprocess and estimate topicmod\n",
    "### create dictionary\n",
    "text_proc_dict = corpora.Dictionary(tokenized_text)\n",
    "### filter dictionary- using 2% as bounds\n",
    "text_proc_dict.filter_extremes(no_below = round(ab_small.shape[0]*0.02),\n",
    "                             no_above = round(ab_small.shape[0]*0.98))\n",
    "\n",
    "### create corpus from dictionary\n",
    "corpus_fromdict_proc = [text_proc_dict.doc2bow(one_text) \n",
    "                       for one_text in tokenized_text]\n"
   ]
  },
  {
   "cell_type": "code",
   "execution_count": 27,
   "metadata": {},
   "outputs": [
    {
     "name": "stdout",
     "output_type": "stream",
     "text": [
      "(0, '0.161*\"room\" + 0.122*\"bedroom\" + 0.113*\"privat\" + 0.072*\"cozi\" + 0.063*\"spaciou\" + 0.048*\"park\" + 0.037*\"near\" + 0.036*\"home\" + 0.031*\"larg\" + 0.030*\"beauti\" + 0.028*\"view\" + 0.028*\"central\" + 0.025*\"charm\" + 0.024*\"luxuri\" + 0.024*\"bushwick\"')\n",
      "(1, '0.132*\"east\" + 0.099*\"villag\" + 0.098*\"modern\" + 0.093*\"williamsburg\" + 0.072*\"brownston\" + 0.062*\"quiet\" + 0.058*\"garden\" + 0.047*\"harlem\" + 0.043*\"suit\" + 0.035*\"bright\" + 0.031*\"beauti\" + 0.026*\"loft\" + 0.026*\"near\" + 0.025*\"cozi\" + 0.021*\"studio\"')\n",
      "(2, '0.112*\"studio\" + 0.089*\"sunni\" + 0.062*\"cozi\" + 0.060*\"heart\" + 0.053*\"locat\" + 0.051*\"west\" + 0.044*\"side\" + 0.041*\"upper\" + 0.040*\"close\" + 0.039*\"train\" + 0.039*\"prime\" + 0.036*\"midtown\" + 0.033*\"time\" + 0.033*\"park\" + 0.031*\"loft\"')\n"
     ]
    }
   ],
   "source": [
    "### estimate model\n",
    "n_topics = 3\n",
    "ldamod_proc = gensim.models.ldamodel.LdaModel(corpus_fromdict_proc, \n",
    "                                         num_topics = n_topics, id2word=text_proc_dict, \n",
    "                                         passes=6, alpha = 'auto',\n",
    "                                        per_word_topics = True, random_state = 91988)\n",
    "\n",
    "### print topics and words\n",
    "topics = ldamod_proc.print_topics(num_words = 15)\n",
    "for topic in topics:\n",
    "    print(topic)\n",
    "    "
   ]
  },
  {
   "cell_type": "code",
   "execution_count": 28,
   "metadata": {},
   "outputs": [
    {
     "data": {
      "text/html": [
       "\n",
       "<link rel=\"stylesheet\" type=\"text/css\" href=\"https://cdn.rawgit.com/bmabey/pyLDAvis/files/ldavis.v1.0.0.css\">\n",
       "\n",
       "\n",
       "<div id=\"ldavis_el340701405916690998729365824258\"></div>\n",
       "<script type=\"text/javascript\">\n",
       "\n",
       "var ldavis_el340701405916690998729365824258_data = {\"mdsDat\": {\"x\": [0.1991748671846716, 0.010279705223275265, -0.20945457240794685], \"y\": [0.10291721700079469, -0.1913902790262299, 0.08847306202543517], \"topics\": [1, 2, 3], \"cluster\": [1, 1, 1], \"Freq\": [54.58627732983842, 27.64609246137621, 17.767630208785377]}, \"tinfo\": {\"Term\": [\"east\", \"modern\", \"villag\", \"williamsburg\", \"sunni\", \"studio\", \"room\", \"brownston\", \"quiet\", \"garden\", \"privat\", \"west\", \"heart\", \"locat\", \"harlem\", \"side\", \"suit\", \"close\", \"train\", \"prime\", \"bedroom\", \"upper\", \"midtown\", \"time\", \"loft\", \"spaciou\", \"clean\", \"home\", \"bright\", \"near\", \"home\", \"larg\", \"room\", \"privat\", \"citi\", \"view\", \"spaciou\", \"charm\", \"great\", \"bedroom\", \"huge\", \"bushwick\", \"near\", \"park\", \"luxuri\", \"central\", \"beauti\", \"cozi\", \"bright\", \"subway\", \"suit\", \"harlem\", \"studio\", \"williamsburg\", \"loft\", \"sunni\", \"locat\", \"garden\", \"close\", \"train\", \"heart\", \"villag\", \"east\", \"west\", \"train\", \"prime\", \"close\", \"side\", \"time\", \"heart\", \"upper\", \"locat\", \"clean\", \"sunni\", \"midtown\", \"studio\", \"loft\", \"subway\", \"cozi\", \"luxuri\", \"central\", \"park\", \"east\", \"villag\", \"bedroom\", \"bright\", \"modern\", \"beauti\", \"huge\", \"williamsburg\", \"spaciou\", \"citi\", \"privat\", \"room\", \"near\", \"quiet\", \"brownston\", \"garden\", \"modern\", \"villag\", \"east\", \"williamsburg\", \"harlem\", \"suit\", \"bright\", \"loft\", \"beauti\", \"near\", \"midtown\", \"clean\", \"subway\", \"upper\", \"bushwick\", \"heart\", \"studio\", \"great\", \"time\", \"cozi\", \"side\", \"view\", \"locat\", \"charm\", \"central\", \"huge\", \"larg\", \"luxuri\", \"room\", \"bedroom\", \"privat\"], \"Freq\": [66.0, 41.0, 46.0, 48.0, 65.0, 93.0, 201.0, 28.0, 24.0, 23.0, 141.0, 31.0, 40.0, 37.0, 26.0, 28.0, 26.0, 25.0, 24.0, 24.0, 162.0, 28.0, 26.0, 21.0, 34.0, 80.0, 20.0, 43.0, 42.0, 55.0, 42.10605045100291, 36.726938934694914, 189.3428068392978, 132.490905363878, 23.19560238788234, 33.00403673270112, 74.36015317206352, 29.808898185558515, 22.445363672940466, 143.08667988677294, 22.980203459135673, 28.16721160053617, 43.281275739611296, 56.36878671871446, 28.63341642007056, 32.68452353561988, 35.73354260104068, 84.53499871705333, 24.595016966665366, 13.024001165813576, 9.306313993704357, 7.708008719173095, 18.594369902537498, 9.515839163486872, 6.493057463635009, 11.465321021148252, 3.9276776172565926, 1.2114307267467332, 1.1695627942533646, 0.9338210154442549, 1.3124515167352566, 1.4001112587683961, 1.4601271226013752, 30.465916656657384, 23.25302633924554, 23.118211209723505, 24.00863499749427, 26.463986769110072, 19.71710182792585, 35.6023453357174, 24.632270712925866, 31.615276975995023, 17.14089827920503, 53.13821097696519, 21.34993142851772, 66.63533375146208, 18.304943599927725, 10.974658759082374, 37.09111159770448, 10.73246337334489, 12.040505418921478, 19.690549586818634, 14.584053796723815, 7.025562457829177, 16.984482530725728, 4.419812379898359, 3.53556729508051, 4.2882002615652475, 2.124775204090349, 3.675640192449322, 5.5678448651347985, 1.4700472428706692, 7.610956884215054, 8.68982486701059, 2.3657934693380374, 23.585649293962224, 27.45467292316073, 22.160822425789586, 37.3626113272729, 37.766654098664645, 50.47984223365954, 35.65626797351053, 17.98750235409176, 16.529231204134167, 13.4151955397769, 10.000520241764564, 11.911769043924945, 9.946204678905804, 4.6891384676513095, 3.2491966706684745, 3.4231680135769667, 3.290516113275676, 3.168063320412389, 3.5713472593737174, 8.220366431242418, 1.9756485951451603, 1.6111503762142632, 9.738041994922616, 1.584136726567622, 1.9457542720338432, 1.8424736819886818, 1.3666035145162643, 1.8375248601464311, 0.9780970076659452, 1.4158615323625028, 1.3628042685080035, 3.391968120517791, 2.011286070332068, 1.5418319077625835], \"Total\": [66.0, 41.0, 46.0, 48.0, 65.0, 93.0, 201.0, 28.0, 24.0, 23.0, 141.0, 31.0, 40.0, 37.0, 26.0, 28.0, 26.0, 25.0, 24.0, 24.0, 162.0, 28.0, 26.0, 21.0, 34.0, 80.0, 20.0, 43.0, 42.0, 55.0, 43.333838986588376, 38.578522052509136, 201.42459982682618, 141.64369415585563, 25.06444604092922, 35.74029791318495, 80.97889568724027, 32.83243853955868, 25.163396292659044, 162.08244848783073, 26.083075670891965, 31.97985212615017, 55.59327388785513, 77.47563032243427, 40.72868406192345, 46.56255381468779, 51.93351190653088, 131.36415230968043, 42.430024886340625, 27.421827938472916, 26.21946744486811, 26.33175774319163, 93.450070085242, 48.847747329446726, 34.7985213053273, 65.70089065318807, 37.385428275240294, 23.74620120468237, 25.56919784087267, 24.591631744753244, 40.48614411182638, 46.19232781526222, 66.52402315298473, 31.495695803973245, 24.591631744753244, 24.605609320372483, 25.56919784087267, 28.596413898076154, 21.715647960348306, 40.48614411182638, 28.68010146697711, 37.385428275240294, 20.816022555296065, 65.70089065318807, 26.785464951592807, 93.450070085242, 34.7985213053273, 27.421827938472916, 131.36415230968043, 40.72868406192345, 46.56255381468779, 77.47563032243427, 66.52402315298473, 46.19232781526222, 162.08244848783073, 42.430024886340625, 41.27638368302995, 51.93351190653088, 26.083075670891965, 48.847747329446726, 80.97889568724027, 25.06444604092922, 141.64369415585563, 201.42459982682618, 55.59327388785513, 24.81797661834369, 28.952087371875955, 23.74620120468237, 41.27638368302995, 46.19232781526222, 66.52402315298473, 48.847747329446726, 26.33175774319163, 26.21946744486811, 42.430024886340625, 34.7985213053273, 51.93351190653088, 55.59327388785513, 26.785464951592807, 20.816022555296065, 27.421827938472916, 28.68010146697711, 31.97985212615017, 40.48614411182638, 93.450070085242, 25.163396292659044, 21.715647960348306, 131.36415230968043, 28.596413898076154, 35.74029791318495, 37.385428275240294, 32.83243853955868, 46.56255381468779, 26.083075670891965, 38.578522052509136, 40.72868406192345, 201.42459982682618, 162.08244848783073, 141.64369415585563], \"Category\": [\"Default\", \"Default\", \"Default\", \"Default\", \"Default\", \"Default\", \"Default\", \"Default\", \"Default\", \"Default\", \"Default\", \"Default\", \"Default\", \"Default\", \"Default\", \"Default\", \"Default\", \"Default\", \"Default\", \"Default\", \"Default\", \"Default\", \"Default\", \"Default\", \"Default\", \"Default\", \"Default\", \"Default\", \"Default\", \"Default\", \"Topic1\", \"Topic1\", \"Topic1\", \"Topic1\", \"Topic1\", \"Topic1\", \"Topic1\", \"Topic1\", \"Topic1\", \"Topic1\", \"Topic1\", \"Topic1\", \"Topic1\", \"Topic1\", \"Topic1\", \"Topic1\", \"Topic1\", \"Topic1\", \"Topic1\", \"Topic1\", \"Topic1\", \"Topic1\", \"Topic1\", \"Topic1\", \"Topic1\", \"Topic1\", \"Topic1\", \"Topic1\", \"Topic1\", \"Topic1\", \"Topic1\", \"Topic1\", \"Topic1\", \"Topic2\", \"Topic2\", \"Topic2\", \"Topic2\", \"Topic2\", \"Topic2\", \"Topic2\", \"Topic2\", \"Topic2\", \"Topic2\", \"Topic2\", \"Topic2\", \"Topic2\", \"Topic2\", \"Topic2\", \"Topic2\", \"Topic2\", \"Topic2\", \"Topic2\", \"Topic2\", \"Topic2\", \"Topic2\", \"Topic2\", \"Topic2\", \"Topic2\", \"Topic2\", \"Topic2\", \"Topic2\", \"Topic2\", \"Topic2\", \"Topic2\", \"Topic2\", \"Topic3\", \"Topic3\", \"Topic3\", \"Topic3\", \"Topic3\", \"Topic3\", \"Topic3\", \"Topic3\", \"Topic3\", \"Topic3\", \"Topic3\", \"Topic3\", \"Topic3\", \"Topic3\", \"Topic3\", \"Topic3\", \"Topic3\", \"Topic3\", \"Topic3\", \"Topic3\", \"Topic3\", \"Topic3\", \"Topic3\", \"Topic3\", \"Topic3\", \"Topic3\", \"Topic3\", \"Topic3\", \"Topic3\", \"Topic3\", \"Topic3\", \"Topic3\", \"Topic3\", \"Topic3\"], \"logprob\": [30.0, 29.0, 28.0, 27.0, 26.0, 25.0, 24.0, 23.0, 22.0, 21.0, 20.0, 19.0, 18.0, 17.0, 16.0, 15.0, 14.0, 13.0, 12.0, 11.0, 10.0, 9.0, 8.0, 7.0, 6.0, 5.0, 4.0, 3.0, 2.0, 1.0, -3.330399990081787, -3.467099905014038, -1.8271000385284424, -2.1840999126434326, -3.9267001152038574, -3.5739998817443848, -2.761699914932251, -3.675800085067749, -3.9595000743865967, -2.1071999073028564, -3.936000108718872, -3.7325000762939453, -3.3029000759124756, -3.0387001037597656, -3.7160000801086426, -3.583699941635132, -3.494499921798706, -2.633500099182129, -3.8680999279022217, -4.503799915313721, -4.839900016784668, -5.02839994430542, -4.147799968719482, -4.817699909210205, -5.199900150299072, -4.63129997253418, -5.702600002288818, -6.878799915313721, -6.914000034332275, -7.139100074768066, -6.798699855804443, -6.734099864959717, -6.6921000480651855, -2.9737000465393066, -3.2439000606536865, -3.2497000694274902, -3.211899995803833, -3.114500045776367, -3.408799886703491, -2.8178999423980713, -3.186300039291382, -2.9367001056671143, -3.5488998889923096, -2.4173998832702637, -3.3292999267578125, -2.1910998821258545, -3.4832000732421875, -3.9946999549865723, -2.776900053024292, -4.017099857330322, -3.9019999504089355, -3.4102001190185547, -3.710400104522705, -4.440800189971924, -3.558000087738037, -4.904200077056885, -5.127500057220459, -4.934500217437744, -5.63670015335083, -5.088600158691406, -4.673299789428711, -6.005000114440918, -4.3607001304626465, -4.2281999588012695, -5.529200077056885, -2.787600040435791, -2.635699987411499, -2.849900007247925, -2.327500104904175, -2.316800117492676, -2.026599884033203, -2.374300003051758, -3.058500051498413, -3.1431000232696533, -3.351799964904785, -3.6456000804901123, -3.4707000255584717, -3.6510000228881836, -4.4029998779296875, -4.769800186157227, -4.717700004577637, -4.757199764251709, -4.795100212097168, -4.675300121307373, -3.841599941253662, -5.267300128936768, -5.47130012512207, -3.6721999645233154, -5.4882001876831055, -5.282599925994873, -5.337100028991699, -5.635900020599365, -5.339799880981445, -5.970399856567383, -5.600500106811523, -5.638700008392334, -4.726799964904785, -5.2494001388549805, -5.515200138092041], \"loglift\": [30.0, 29.0, 28.0, 27.0, 26.0, 25.0, 24.0, 23.0, 22.0, 21.0, 20.0, 19.0, 18.0, 17.0, 16.0, 15.0, 14.0, 13.0, 12.0, 11.0, 10.0, 9.0, 8.0, 7.0, 6.0, 5.0, 4.0, 3.0, 2.0, 1.0, 0.5766, 0.5562, 0.5435, 0.5386, 0.5279, 0.5257, 0.5201, 0.5088, 0.4911, 0.4807, 0.4787, 0.4784, 0.355, 0.2873, 0.253, 0.2515, 0.2315, 0.1646, 0.0601, -0.1392, -0.4304, -0.6231, -1.0092, -1.0304, -1.0735, -1.1404, -1.6478, -2.3702, -2.4794, -2.6655, -2.8237, -2.8909, -3.2137, 1.2524, 1.2297, 1.2233, 1.2227, 1.2082, 1.1891, 1.1571, 1.1335, 1.118, 1.0914, 1.0735, 1.0589, 0.9475, 0.6433, 0.3699, 0.0211, -0.048, -0.0668, -0.0841, -0.2319, -0.5976, -0.9701, -0.9761, -1.1717, -1.2084, -1.2219, -1.3013, -1.3915, -1.5505, -1.638, -1.8576, -1.8713, 1.6769, 1.6747, 1.6587, 1.6282, 1.5264, 1.4518, 1.413, 1.3467, 1.2664, 0.5763, 0.4809, 0.2554, 0.0069, -0.0148, -0.1295, -0.353, -0.4374, -0.5842, -0.7002, -0.703, -0.8167, -0.8733, -0.8741, -1.1654, -1.1828, -1.2824, -1.4513, -1.5046, -1.5556, -1.5772, -1.6696, -2.3562, -2.6615, -2.7926]}, \"token.table\": {\"Topic\": [1, 2, 3, 1, 2, 3, 1, 2, 3, 1, 2, 3, 1, 2, 3, 1, 2, 3, 1, 2, 3, 1, 2, 2, 3, 1, 2, 1, 2, 3, 1, 2, 3, 1, 3, 1, 2, 3, 1, 2, 3, 1, 2, 3, 1, 2, 3, 1, 2, 3, 1, 3, 1, 2, 3, 1, 2, 3, 1, 2, 3, 1, 2, 3, 2, 3, 1, 2, 3, 1, 2, 3, 1, 2, 3, 1, 2, 3, 1, 2, 3, 1, 2, 3, 1, 2, 3, 1, 2, 3, 1, 2, 3, 1, 2, 3, 1, 3, 1, 2, 3, 2, 3, 1, 2, 1, 2, 3, 1, 2, 3, 1, 2, 3, 2, 3, 1, 2, 3], \"Freq\": [0.6931940220948707, 0.0770215580105412, 0.23106467403162356, 0.8822670272699918, 0.10488489135377525, 0.012339398982797088, 0.5892054050632475, 0.0942728648101196, 0.3063868106328887, 0.034539823922036084, 0.034539823922036084, 0.9325752458949743, 0.8755512655139573, 0.031269688054069905, 0.09380906416220972, 0.7087240131057935, 0.25771782294756124, 0.042952970491260206, 0.9137304852898461, 0.06091536568598974, 0.03045768284299487, 0.9176344836204214, 0.03989715146175745, 0.8166785924083665, 0.14411975160147644, 0.039109556984282395, 0.9386293676227775, 0.647056282140194, 0.2816597934022021, 0.07612426848708165, 0.015032163609532584, 0.22548245414298876, 0.7516081804766291, 0.04211199894165876, 0.9264639767164927, 0.8742857976774023, 0.03974026353079101, 0.07948052706158203, 0.3038156464153438, 0.037976955801917976, 0.6835852044345235, 0.02469980834030304, 0.8891931002509095, 0.09879923336121216, 0.9692194594852029, 0.023076653797266738, 0.023076653797266738, 0.881797848160499, 0.07667807375308687, 0.038339036876543435, 0.9590828790599958, 0.0259211588935134, 0.10699355830702437, 0.8559484664561949, 0.05349677915351218, 0.17242111948824276, 0.5172633584647283, 0.2873685324804046, 0.7120288972732022, 0.27007992655190427, 0.024552720595627662, 0.03733368085292597, 0.7840072979114453, 0.18666840426462986, 0.09690771436560051, 0.8963963578818047, 0.7734748647244851, 0.03597557510346443, 0.17987787551732212, 0.7228079302735835, 0.2581456893834227, 0.012907284469171134, 0.04064113946457075, 0.9347462076851273, 0.04064113946457075, 0.9319158243271718, 0.0564797469289195, 0.014119936732229875, 0.04029337344370253, 0.04029337344370253, 0.9670409626488607, 0.9383163732855462, 0.044681732061216485, 0.014893910687072161, 0.03496941971689939, 0.9092049126393842, 0.06993883943379878, 0.9138183396054891, 0.07409337888693154, 0.012348896481155258, 0.20331712948603292, 0.7169604039770635, 0.08560721241517176, 0.4740748876832152, 0.40114028957810516, 0.10940189715766505, 0.3432563998076763, 0.6483731996367219, 0.16742543199399135, 0.8066861723346855, 0.015220493817635575, 0.9209948529520743, 0.09209948529520742, 0.040664239379452946, 0.9352775057274177, 0.034867380129439976, 0.8716845032359994, 0.10460214038831993, 0.9233275021981832, 0.02797962127873282, 0.05595924255746564, 0.02164861671399886, 0.151540316997992, 0.8226474351319566, 0.9525111045876764, 0.03175037015292255, 0.20471773104615068, 0.08188709241846027, 0.7369838317661425], \"Term\": [\"beauti\", \"beauti\", \"beauti\", \"bedroom\", \"bedroom\", \"bedroom\", \"bright\", \"bright\", \"bright\", \"brownston\", \"brownston\", \"brownston\", \"bushwick\", \"bushwick\", \"bushwick\", \"central\", \"central\", \"central\", \"charm\", \"charm\", \"charm\", \"citi\", \"citi\", \"clean\", \"clean\", \"close\", \"close\", \"cozi\", \"cozi\", \"cozi\", \"east\", \"east\", \"east\", \"garden\", \"garden\", \"great\", \"great\", \"great\", \"harlem\", \"harlem\", \"harlem\", \"heart\", \"heart\", \"heart\", \"home\", \"home\", \"home\", \"huge\", \"huge\", \"huge\", \"larg\", \"larg\", \"locat\", \"locat\", \"locat\", \"loft\", \"loft\", \"loft\", \"luxuri\", \"luxuri\", \"luxuri\", \"midtown\", \"midtown\", \"midtown\", \"modern\", \"modern\", \"near\", \"near\", \"near\", \"park\", \"park\", \"park\", \"prime\", \"prime\", \"prime\", \"privat\", \"privat\", \"privat\", \"quiet\", \"quiet\", \"quiet\", \"room\", \"room\", \"room\", \"side\", \"side\", \"side\", \"spaciou\", \"spaciou\", \"spaciou\", \"studio\", \"studio\", \"studio\", \"subway\", \"subway\", \"subway\", \"suit\", \"suit\", \"sunni\", \"sunni\", \"sunni\", \"time\", \"time\", \"train\", \"train\", \"upper\", \"upper\", \"upper\", \"view\", \"view\", \"view\", \"villag\", \"villag\", \"villag\", \"west\", \"west\", \"williamsburg\", \"williamsburg\", \"williamsburg\"]}, \"R\": 30, \"lambda.step\": 0.01, \"plot.opts\": {\"xlab\": \"PC1\", \"ylab\": \"PC2\"}, \"topic.order\": [1, 3, 2]};\n",
       "\n",
       "function LDAvis_load_lib(url, callback){\n",
       "  var s = document.createElement('script');\n",
       "  s.src = url;\n",
       "  s.async = true;\n",
       "  s.onreadystatechange = s.onload = callback;\n",
       "  s.onerror = function(){console.warn(\"failed to load library \" + url);};\n",
       "  document.getElementsByTagName(\"head\")[0].appendChild(s);\n",
       "}\n",
       "\n",
       "if(typeof(LDAvis) !== \"undefined\"){\n",
       "   // already loaded: just create the visualization\n",
       "   !function(LDAvis){\n",
       "       new LDAvis(\"#\" + \"ldavis_el340701405916690998729365824258\", ldavis_el340701405916690998729365824258_data);\n",
       "   }(LDAvis);\n",
       "}else if(typeof define === \"function\" && define.amd){\n",
       "   // require.js is available: use it to load d3/LDAvis\n",
       "   require.config({paths: {d3: \"https://cdnjs.cloudflare.com/ajax/libs/d3/3.5.5/d3.min\"}});\n",
       "   require([\"d3\"], function(d3){\n",
       "      window.d3 = d3;\n",
       "      LDAvis_load_lib(\"https://cdn.rawgit.com/bmabey/pyLDAvis/files/ldavis.v1.0.0.js\", function(){\n",
       "        new LDAvis(\"#\" + \"ldavis_el340701405916690998729365824258\", ldavis_el340701405916690998729365824258_data);\n",
       "      });\n",
       "    });\n",
       "}else{\n",
       "    // require.js not available: dynamically load d3 & LDAvis\n",
       "    LDAvis_load_lib(\"https://cdnjs.cloudflare.com/ajax/libs/d3/3.5.5/d3.min.js\", function(){\n",
       "         LDAvis_load_lib(\"https://cdn.rawgit.com/bmabey/pyLDAvis/files/ldavis.v1.0.0.js\", function(){\n",
       "                 new LDAvis(\"#\" + \"ldavis_el340701405916690998729365824258\", ldavis_el340701405916690998729365824258_data);\n",
       "            })\n",
       "         });\n",
       "}\n",
       "</script>"
      ],
      "text/plain": [
       "<IPython.core.display.HTML object>"
      ]
     },
     "execution_count": 28,
     "metadata": {},
     "output_type": "execute_result"
    }
   ],
   "source": [
    "### visualize\n",
    "pyLDAvis.enable_notebook()\n",
    "lda_display_proc = gensimvis.prepare(ldamod_proc, corpus_fromdict_proc, text_proc_dict)\n",
    "pyLDAvis.display(lda_display_proc)"
   ]
  },
  {
   "cell_type": "markdown",
   "metadata": {},
   "source": [
    "# Additional summaries of topics and documents \n",
    "\n",
    "What if we want to find which topics are associated with higher listing prices?"
   ]
  },
  {
   "cell_type": "code",
   "execution_count": 31,
   "metadata": {
    "scrolled": true
   },
   "outputs": [
    {
     "data": {
      "text/html": [
       "<div>\n",
       "<style scoped>\n",
       "    .dataframe tbody tr th:only-of-type {\n",
       "        vertical-align: middle;\n",
       "    }\n",
       "\n",
       "    .dataframe tbody tr th {\n",
       "        vertical-align: top;\n",
       "    }\n",
       "\n",
       "    .dataframe thead th {\n",
       "        text-align: right;\n",
       "    }\n",
       "</style>\n",
       "<table border=\"1\" class=\"dataframe\">\n",
       "  <thead>\n",
       "    <tr style=\"text-align: right;\">\n",
       "      <th></th>\n",
       "      <th>doc_id</th>\n",
       "      <th>topic_0</th>\n",
       "      <th>topic_1</th>\n",
       "      <th>topic_2</th>\n",
       "      <th>id</th>\n",
       "      <th>neighbourhood_group</th>\n",
       "      <th>price_rawdata</th>\n",
       "      <th>name</th>\n",
       "      <th>name_lower</th>\n",
       "      <th>processed</th>\n",
       "      <th>toptopic</th>\n",
       "    </tr>\n",
       "  </thead>\n",
       "  <tbody>\n",
       "    <tr>\n",
       "      <th>487</th>\n",
       "      <td>19691179</td>\n",
       "      <td>0.362412</td>\n",
       "      <td>0.252194</td>\n",
       "      <td>0.385394</td>\n",
       "      <td>19691179</td>\n",
       "      <td>Manhattan</td>\n",
       "      <td>125</td>\n",
       "      <td>Sun-filled Lower East Side Guest Room</td>\n",
       "      <td>sun-filled lower east side guest room</td>\n",
       "      <td>fill lower east side guest room</td>\n",
       "      <td>topic_2</td>\n",
       "    </tr>\n",
       "    <tr>\n",
       "      <th>635</th>\n",
       "      <td>24712037</td>\n",
       "      <td>0.288123</td>\n",
       "      <td>0.127989</td>\n",
       "      <td>0.583888</td>\n",
       "      <td>24712037</td>\n",
       "      <td>Brooklyn</td>\n",
       "      <td>198</td>\n",
       "      <td>Stylish Design Apartment in the Heart of Brooklyn</td>\n",
       "      <td>stylish design apartment in the heart of brooklyn</td>\n",
       "      <td>stylish design heart</td>\n",
       "      <td>topic_2</td>\n",
       "    </tr>\n",
       "    <tr>\n",
       "      <th>713</th>\n",
       "      <td>28165121</td>\n",
       "      <td>0.561977</td>\n",
       "      <td>0.056605</td>\n",
       "      <td>0.381417</td>\n",
       "      <td>28165121</td>\n",
       "      <td>Brooklyn</td>\n",
       "      <td>70</td>\n",
       "      <td>Large, Sunny Retreat- B/Q subway, Prospect Park!</td>\n",
       "      <td>large, sunny retreat- b/q subway, prospect park!</td>\n",
       "      <td>larg sunni retreat subway prospect park</td>\n",
       "      <td>topic_0</td>\n",
       "    </tr>\n",
       "    <tr>\n",
       "      <th>262</th>\n",
       "      <td>10105477</td>\n",
       "      <td>0.287588</td>\n",
       "      <td>0.130862</td>\n",
       "      <td>0.581550</td>\n",
       "      <td>10105477</td>\n",
       "      <td>Manhattan</td>\n",
       "      <td>97</td>\n",
       "      <td>Midtown Manhattan</td>\n",
       "      <td>midtown manhattan</td>\n",
       "      <td>midtown</td>\n",
       "      <td>topic_2</td>\n",
       "    </tr>\n",
       "    <tr>\n",
       "      <th>941</th>\n",
       "      <td>35009512</td>\n",
       "      <td>0.528180</td>\n",
       "      <td>0.351627</td>\n",
       "      <td>0.120193</td>\n",
       "      <td>35009512</td>\n",
       "      <td>Brooklyn</td>\n",
       "      <td>123</td>\n",
       "      <td>One bedroom in Williamsburg, Brooklyn</td>\n",
       "      <td>one bedroom in williamsburg, brooklyn</td>\n",
       "      <td>bedroom williamsburg</td>\n",
       "      <td>topic_0</td>\n",
       "    </tr>\n",
       "  </tbody>\n",
       "</table>\n",
       "</div>"
      ],
      "text/plain": [
       "       doc_id   topic_0   topic_1   topic_2        id neighbourhood_group  \\\n",
       "487  19691179  0.362412  0.252194  0.385394  19691179           Manhattan   \n",
       "635  24712037  0.288123  0.127989  0.583888  24712037            Brooklyn   \n",
       "713  28165121  0.561977  0.056605  0.381417  28165121            Brooklyn   \n",
       "262  10105477  0.287588  0.130862  0.581550  10105477           Manhattan   \n",
       "941  35009512  0.528180  0.351627  0.120193  35009512            Brooklyn   \n",
       "\n",
       "     price_rawdata                                               name  \\\n",
       "487            125              Sun-filled Lower East Side Guest Room   \n",
       "635            198  Stylish Design Apartment in the Heart of Brooklyn   \n",
       "713             70   Large, Sunny Retreat- B/Q subway, Prospect Park!   \n",
       "262             97                                  Midtown Manhattan   \n",
       "941            123              One bedroom in Williamsburg, Brooklyn   \n",
       "\n",
       "                                            name_lower  \\\n",
       "487              sun-filled lower east side guest room   \n",
       "635  stylish design apartment in the heart of brooklyn   \n",
       "713   large, sunny retreat- b/q subway, prospect park!   \n",
       "262                                  midtown manhattan   \n",
       "941              one bedroom in williamsburg, brooklyn   \n",
       "\n",
       "                                   processed toptopic  \n",
       "487          fill lower east side guest room  topic_2  \n",
       "635                     stylish design heart  topic_2  \n",
       "713  larg sunni retreat subway prospect park  topic_0  \n",
       "262                                  midtown  topic_2  \n",
       "941                     bedroom williamsburg  topic_0  "
      ]
     },
     "execution_count": 31,
     "metadata": {},
     "output_type": "execute_result"
    },
    {
     "data": {
      "text/html": [
       "<div>\n",
       "<style scoped>\n",
       "    .dataframe tbody tr th:only-of-type {\n",
       "        vertical-align: middle;\n",
       "    }\n",
       "\n",
       "    .dataframe tbody tr th {\n",
       "        vertical-align: top;\n",
       "    }\n",
       "\n",
       "    .dataframe thead th {\n",
       "        text-align: right;\n",
       "    }\n",
       "</style>\n",
       "<table border=\"1\" class=\"dataframe\">\n",
       "  <thead>\n",
       "    <tr style=\"text-align: right;\">\n",
       "      <th></th>\n",
       "      <th>price_rawdata</th>\n",
       "    </tr>\n",
       "    <tr>\n",
       "      <th>toptopic</th>\n",
       "      <th></th>\n",
       "    </tr>\n",
       "  </thead>\n",
       "  <tbody>\n",
       "    <tr>\n",
       "      <th>topic_0</th>\n",
       "      <td>146.550432</td>\n",
       "    </tr>\n",
       "    <tr>\n",
       "      <th>topic_1</th>\n",
       "      <td>203.549020</td>\n",
       "    </tr>\n",
       "    <tr>\n",
       "      <th>topic_2</th>\n",
       "      <td>156.869347</td>\n",
       "    </tr>\n",
       "  </tbody>\n",
       "</table>\n",
       "</div>"
      ],
      "text/plain": [
       "          price_rawdata\n",
       "toptopic               \n",
       "topic_0      146.550432\n",
       "topic_1      203.549020\n",
       "topic_2      156.869347"
      ]
     },
     "execution_count": 31,
     "metadata": {},
     "output_type": "execute_result"
    },
    {
     "data": {
      "text/html": [
       "<div>\n",
       "<style scoped>\n",
       "    .dataframe tbody tr th:only-of-type {\n",
       "        vertical-align: middle;\n",
       "    }\n",
       "\n",
       "    .dataframe tbody tr th {\n",
       "        vertical-align: top;\n",
       "    }\n",
       "\n",
       "    .dataframe thead th {\n",
       "        text-align: right;\n",
       "    }\n",
       "</style>\n",
       "<table border=\"1\" class=\"dataframe\">\n",
       "  <thead>\n",
       "    <tr style=\"text-align: right;\">\n",
       "      <th></th>\n",
       "      <th></th>\n",
       "      <th>price_rawdata</th>\n",
       "    </tr>\n",
       "    <tr>\n",
       "      <th>toptopic</th>\n",
       "      <th>neighbourhood_group</th>\n",
       "      <th></th>\n",
       "    </tr>\n",
       "  </thead>\n",
       "  <tbody>\n",
       "    <tr>\n",
       "      <th rowspan=\"5\" valign=\"top\">topic_0</th>\n",
       "      <th>Bronx</th>\n",
       "      <td>49.200000</td>\n",
       "    </tr>\n",
       "    <tr>\n",
       "      <th>Brooklyn</th>\n",
       "      <td>122.790000</td>\n",
       "    </tr>\n",
       "    <tr>\n",
       "      <th>Manhattan</th>\n",
       "      <td>199.262963</td>\n",
       "    </tr>\n",
       "    <tr>\n",
       "      <th>Queens</th>\n",
       "      <td>91.196262</td>\n",
       "    </tr>\n",
       "    <tr>\n",
       "      <th>Staten Island</th>\n",
       "      <td>116.857143</td>\n",
       "    </tr>\n",
       "    <tr>\n",
       "      <th rowspan=\"4\" valign=\"top\">topic_1</th>\n",
       "      <th>Bronx</th>\n",
       "      <td>82.500000</td>\n",
       "    </tr>\n",
       "    <tr>\n",
       "      <th>Brooklyn</th>\n",
       "      <td>147.976744</td>\n",
       "    </tr>\n",
       "    <tr>\n",
       "      <th>Manhattan</th>\n",
       "      <td>256.592593</td>\n",
       "    </tr>\n",
       "    <tr>\n",
       "      <th>Queens</th>\n",
       "      <td>126.000000</td>\n",
       "    </tr>\n",
       "    <tr>\n",
       "      <th rowspan=\"4\" valign=\"top\">topic_2</th>\n",
       "      <th>Bronx</th>\n",
       "      <td>200.000000</td>\n",
       "    </tr>\n",
       "    <tr>\n",
       "      <th>Brooklyn</th>\n",
       "      <td>133.063492</td>\n",
       "    </tr>\n",
       "    <tr>\n",
       "      <th>Manhattan</th>\n",
       "      <td>177.933333</td>\n",
       "    </tr>\n",
       "    <tr>\n",
       "      <th>Queens</th>\n",
       "      <td>85.466667</td>\n",
       "    </tr>\n",
       "  </tbody>\n",
       "</table>\n",
       "</div>"
      ],
      "text/plain": [
       "                              price_rawdata\n",
       "toptopic neighbourhood_group               \n",
       "topic_0  Bronx                    49.200000\n",
       "         Brooklyn                122.790000\n",
       "         Manhattan               199.262963\n",
       "         Queens                   91.196262\n",
       "         Staten Island           116.857143\n",
       "topic_1  Bronx                    82.500000\n",
       "         Brooklyn                147.976744\n",
       "         Manhattan               256.592593\n",
       "         Queens                  126.000000\n",
       "topic_2  Bronx                   200.000000\n",
       "         Brooklyn                133.063492\n",
       "         Manhattan               177.933333\n",
       "         Queens                   85.466667"
      ]
     },
     "execution_count": 31,
     "metadata": {},
     "output_type": "execute_result"
    }
   ],
   "source": [
    "## get topic probabilities by doc and find mean listing by topic\n",
    "### get document topics - list of list tuples\n",
    "topic_probs_bydoc =[ldamod_proc.get_document_topics(item) for item in corpus_fromdict_proc]\n",
    "\n",
    "## each document has a list containing topic, probability\n",
    "## tuples- example w/ first document\n",
    "one_list_tup = topic_probs_bydoc[0]\n",
    "\n",
    "## create a long for dataframe by flattening the list\n",
    "topic_probs_bydoc_long = pd.DataFrame([t for lst in topic_probs_bydoc for t in lst],\n",
    "                                     columns = ['topic', 'probability'])\n",
    "\n",
    "## add id var- we're repeating each id in the original data k times\n",
    "## for the number of topics\n",
    "topic_probs_bydoc_long['doc_id'] = list(np.concatenate([[one_id] * \n",
    "                                    n_topics for one_id in ab_small.id]).flat)\n",
    "\n",
    "## pivot to wide format\n",
    "topic_probs_bydoc_wide = pd.pivot_table(topic_probs_bydoc_long, index = ['doc_id'],\n",
    "                        columns = ['topic']).reset_index().reset_index(drop = True)\n",
    "topic_probs_bydoc_wide.columns = ['doc_id'] + [\"topic_\" + str(i) for i in np.arange(0, n_topics)]\n",
    "\n",
    "## merge with original data using doc id\n",
    "topic_wmeta = pd.merge(topic_probs_bydoc_wide,\n",
    "                      ab_small,\n",
    "                      left_on = 'doc_id',\n",
    "                      right_on = 'id')\n",
    "\n",
    "## create indicator for listing's top topic\n",
    "topic_wmeta['toptopic'] = topic_wmeta[[col for col in topic_wmeta.columns if \n",
    "                                    \"topic_\" in col]].idxmax(axis=1)\n",
    "topic_wmeta.sample(n = 5, random_state = 555)\n",
    "\n",
    "## group by topic and find mean price\n",
    "topic_wmeta.groupby('toptopic').agg({'price_rawdata': np.mean})\n",
    "\n",
    "## group by borough and topic -- higher price for some also reflects\n",
    "## diff borough composition\n",
    "topic_wmeta.groupby(['toptopic', \n",
    "                    'neighbourhood_group']).agg({'price_rawdata': np.mean})"
   ]
  }
 ],
 "metadata": {
  "kernelspec": {
   "display_name": "Python 3",
   "language": "python",
   "name": "python3"
  },
  "language_info": {
   "codemirror_mode": {
    "name": "ipython",
    "version": 3
   },
   "file_extension": ".py",
   "mimetype": "text/x-python",
   "name": "python",
   "nbconvert_exporter": "python",
   "pygments_lexer": "ipython3",
   "version": "3.8.3"
  }
 },
 "nbformat": 4,
 "nbformat_minor": 2
}
