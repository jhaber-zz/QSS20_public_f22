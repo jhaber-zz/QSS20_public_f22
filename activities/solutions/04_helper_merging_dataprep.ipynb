{
 "cells": [
  {
   "cell_type": "markdown",
   "metadata": {},
   "source": [
    "# Imports "
   ]
  },
  {
   "cell_type": "code",
   "execution_count": 1,
   "metadata": {},
   "outputs": [],
   "source": [
    "import pandas as pd\n",
    "import re \n",
    "import numpy as np\n",
    "\n",
    "## repeated printouts\n",
    "from IPython.core.interactiveshell import InteractiveShell\n",
    "InteractiveShell.ast_node_interactivity = \"all\""
   ]
  },
  {
   "cell_type": "markdown",
   "metadata": {},
   "source": [
    "# Clean up san diego business tax certificate data"
   ]
  },
  {
   "cell_type": "code",
   "execution_count": 2,
   "metadata": {},
   "outputs": [],
   "source": [
    "## general link: https://data.sandiego.gov/datasets/business-listings/\n",
    "\n",
    "## active tax certificates\n",
    "sd_active_biz = pd.read_csv(\"https://seshat.datasd.org/ttcs/sd_businesses_active_datasd.csv\")\n"
   ]
  },
  {
   "cell_type": "code",
   "execution_count": 8,
   "metadata": {},
   "outputs": [
    {
     "name": "stderr",
     "output_type": "stream",
     "text": [
      "<ipython-input-8-666c7dcd551f>:8: FutureWarning: The default value of regex will change from True to False in a future version.\n",
      "  sd_lp['council_district'] = \"cd_\" + sd_lp.council_district.astype(str).str.replace(\"\\.0\",\n"
     ]
    }
   ],
   "source": [
    "## create col for count of characters\n",
    "sd_active_biz['naics_nchar'] = sd_active_biz.naics_code.astype(str).str.len()\n",
    "\n",
    "## filter to limited p\n",
    "sd_lp = sd_active_biz[sd_active_biz.ownership_type == \"LP\"].copy()\n",
    "\n",
    "## create council district as character/factor\n",
    "sd_lp['council_district'] = \"cd_\" + sd_lp.council_district.astype(str).str.replace(\"\\.0\", \n",
    "                                                                              \"\")"
   ]
  },
  {
   "cell_type": "markdown",
   "metadata": {},
   "source": [
    "# Clean up naics code data\n"
   ]
  },
  {
   "cell_type": "code",
   "execution_count": 7,
   "metadata": {},
   "outputs": [],
   "source": [
    "naics_raw = pd.read_csv(\"../../public_data/2017-2022 SIC to NAICS crosswalk.csv\",\n",
    "                   encoding='cp1252')\n",
    "\n",
    "naics_clean = naics_raw.iloc[1:, ].copy()\n",
    "naics_clean.columns = naics_raw.iloc[0, ]\n",
    "naics_clean.columns = [re.sub(\"\\s+\", \"_\", col.lower()) \n",
    "                      for col in naics_clean.columns]\n",
    "\n",
    "naics_clean['naics_twodig'] = naics_clean.naics.astype(str).str[:2]\n"
   ]
  },
  {
   "cell_type": "code",
   "execution_count": 5,
   "metadata": {},
   "outputs": [],
   "source": [
    "## clean up sd pre-writing\n",
    "cols_keepact_sd = ['account_key', 'dba_name', 'council_district',\n",
    "                    'naics_code',\n",
    "                  'naics_description', \n",
    "                  'naics_nchar']\n",
    "\n",
    "sd_towrite = sd_lp.loc[sd_lp.council_district != \"cd_nan\",\n",
    "                      cols_keepact_sd].copy()\n",
    "\n",
    "## clean up naics pre writing\n",
    "naics_clean_towrite = naics_clean[['naics', 'naics_description']].copy()"
   ]
  },
  {
   "cell_type": "code",
   "execution_count": 9,
   "metadata": {},
   "outputs": [],
   "source": [
    "## write the two df to public data\n",
    "write = False\n",
    "if write:\n",
    "    sd_towrite.to_csv(\"../../../public_data/sd_df.csv\",\n",
    "            index = False)\n",
    "\n",
    "    naics_clean_towrite.to_csv(\"../../../public_data/naics_df.csv\",\n",
    "            index = False)"
   ]
  }
 ],
 "metadata": {
  "kernelspec": {
   "display_name": "Python 3 (ipykernel)",
   "language": "python",
   "name": "python3"
  },
  "language_info": {
   "codemirror_mode": {
    "name": "ipython",
    "version": 3
   },
   "file_extension": ".py",
   "mimetype": "text/x-python",
   "name": "python",
   "nbconvert_exporter": "python",
   "pygments_lexer": "ipython3",
   "version": "3.10.5"
  }
 },
 "nbformat": 4,
 "nbformat_minor": 4
}
