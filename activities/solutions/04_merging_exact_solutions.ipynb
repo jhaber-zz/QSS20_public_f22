{
 "cells": [
  {
   "cell_type": "markdown",
   "metadata": {},
   "source": [
    "# Imports "
   ]
  },
  {
   "cell_type": "code",
   "execution_count": 1,
   "metadata": {},
   "outputs": [],
   "source": [
    "import pandas as pd\n",
    "import numpy as np\n",
    "\n",
    "## repeated printouts\n",
    "from IPython.core.interactiveshell import InteractiveShell\n",
    "InteractiveShell.ast_node_interactivity = \"all\""
   ]
  },
  {
   "cell_type": "markdown",
   "metadata": {},
   "source": [
    "## Read in data and make sure relevant columns are string/character \n",
    "\n",
    "- San Diego data: `naics_code` and `account_key`\n",
    "- NAICS details data: `naics` \n",
    "\n",
    "Run code below; if pulling from github, pathname should be fine; if working elsewhere may need to edit path name at read in "
   ]
  },
  {
   "cell_type": "code",
   "execution_count": 2,
   "metadata": {},
   "outputs": [],
   "source": [
    "sd_df = pd.read_csv(\"../../../public_data/sd_df.csv\")\n",
    "naics_df = pd.read_csv(\"../../../public_data/naics_df.csv\")"
   ]
  },
  {
   "cell_type": "code",
   "execution_count": 3,
   "metadata": {},
   "outputs": [
    {
     "data": {
      "text/plain": [
       "account_key          object\n",
       "dba_name             object\n",
       "council_district     object\n",
       "naics_code           object\n",
       "naics_description    object\n",
       "naics_nchar           int64\n",
       "dtype: object"
      ]
     },
     "execution_count": 3,
     "metadata": {},
     "output_type": "execute_result"
    },
    {
     "data": {
      "text/plain": [
       "naics                object\n",
       "naics_description    object\n",
       "dtype: object"
      ]
     },
     "execution_count": 3,
     "metadata": {},
     "output_type": "execute_result"
    }
   ],
   "source": [
    "cols_sd_use = [\"naics_code\", \"account_key\"]\n",
    "cols_naics_use = [\"naics\"]\n",
    "\n",
    "sd_df[cols_sd_use] = sd_df[cols_sd_use].astype(str)\n",
    "naics_df[cols_naics_use] = naics_df[cols_naics_use].astype(str)\n",
    "\n",
    "sd_df.dtypes\n",
    "naics_df.dtypes"
   ]
  },
  {
   "cell_type": "markdown",
   "metadata": {},
   "source": [
    "## \"Inner join\"- retain only San Diego businesses with details on their NAICS code\n",
    "\n",
    "- Use the `naics_sector` column in the San Diego business data as the join key\n",
    "- Use the `naics_twodig` column in the NAICS code details data as the join key\n",
    "\n",
    "- Do an inner join of the San Diego data onto the NAICS code details using these join keys\n",
    "- After the inner join, print some examples of San Diego businesses lost in the merge\n",
    "- Use value_counts() on the `naics_nchar` column in the San Diego data to see why they might have gotten lost\n"
   ]
  },
  {
   "cell_type": "code",
   "execution_count": 4,
   "metadata": {},
   "outputs": [],
   "source": [
    "sd_cen_inner = pd.merge(sd_df,\n",
    "                       naics_df,\n",
    "                       how = \"inner\",\n",
    "                       left_on = \"naics_code\",\n",
    "                       right_on = \"naics\")\n"
   ]
  },
  {
   "cell_type": "code",
   "execution_count": 5,
   "metadata": {},
   "outputs": [
    {
     "data": {
      "text/plain": [
       "'In our original data, there were 353 rows; now after dropping ones without a naics code in our current census data there are 52 rows'"
      ]
     },
     "execution_count": 5,
     "metadata": {},
     "output_type": "execute_result"
    },
    {
     "data": {
      "text/html": [
       "<div>\n",
       "<style scoped>\n",
       "    .dataframe tbody tr th:only-of-type {\n",
       "        vertical-align: middle;\n",
       "    }\n",
       "\n",
       "    .dataframe tbody tr th {\n",
       "        vertical-align: top;\n",
       "    }\n",
       "\n",
       "    .dataframe thead th {\n",
       "        text-align: right;\n",
       "    }\n",
       "</style>\n",
       "<table border=\"1\" class=\"dataframe\">\n",
       "  <thead>\n",
       "    <tr style=\"text-align: right;\">\n",
       "      <th></th>\n",
       "      <th>naics_code</th>\n",
       "      <th>naics_description</th>\n",
       "      <th>naics_nchar</th>\n",
       "    </tr>\n",
       "  </thead>\n",
       "  <tbody>\n",
       "    <tr>\n",
       "      <th>1</th>\n",
       "      <td>5411</td>\n",
       "      <td>LEGAL SERVICES</td>\n",
       "      <td>4</td>\n",
       "    </tr>\n",
       "    <tr>\n",
       "      <th>4</th>\n",
       "      <td>5412</td>\n",
       "      <td>ACCOUNTING/TAX PREP/BOOKKEEP/PAYROLL SERVICES</td>\n",
       "      <td>4</td>\n",
       "    </tr>\n",
       "    <tr>\n",
       "      <th>12</th>\n",
       "      <td>7221</td>\n",
       "      <td>FULL-SERVICE RESTAURANTS</td>\n",
       "      <td>4</td>\n",
       "    </tr>\n",
       "    <tr>\n",
       "      <th>13</th>\n",
       "      <td>48841</td>\n",
       "      <td>MOTOR VEHICLE TOWING</td>\n",
       "      <td>5</td>\n",
       "    </tr>\n",
       "    <tr>\n",
       "      <th>14</th>\n",
       "      <td>54111</td>\n",
       "      <td>OFFICES OF LAWYERS</td>\n",
       "      <td>5</td>\n",
       "    </tr>\n",
       "  </tbody>\n",
       "</table>\n",
       "</div>"
      ],
      "text/plain": [
       "   naics_code                              naics_description  naics_nchar\n",
       "1        5411                                 LEGAL SERVICES            4\n",
       "4        5412  ACCOUNTING/TAX PREP/BOOKKEEP/PAYROLL SERVICES            4\n",
       "12       7221                       FULL-SERVICE RESTAURANTS            4\n",
       "13      48841                           MOTOR VEHICLE TOWING            5\n",
       "14      54111                             OFFICES OF LAWYERS            5"
      ]
     },
     "execution_count": 5,
     "metadata": {},
     "output_type": "execute_result"
    },
    {
     "data": {
      "text/plain": [
       "5    56\n",
       "4    26\n",
       "3    16\n",
       "6     9\n",
       "2     7\n",
       "Name: naics_nchar, dtype: int64"
      ]
     },
     "execution_count": 5,
     "metadata": {},
     "output_type": "execute_result"
    }
   ],
   "source": [
    "\"\"\"In our original data, there were {n_orig} rows; \\\n",
    "now after dropping ones without a naics code \\\n",
    "in our current census data there are {n_new} rows\\\n",
    "\"\"\".format(n_orig = sd_df.shape[0], \n",
    "          n_new = sd_cen_inner.shape[0])\n",
    "\n",
    "## which naics codes got lost\n",
    "## subset to account keys not in the \n",
    "## inner join and to the naics columns\n",
    "lost_merge = sd_df.loc[~sd_df.account_key.isin(sd_cen_inner.account_key),\n",
    "                     ['naics_code', 'naics_description', 'naics_nchar']].drop_duplicates()\n",
    "\n",
    "lost_merge.head()\n",
    "lost_merge.naics_nchar.value_counts()\n"
   ]
  },
  {
   "cell_type": "markdown",
   "metadata": {},
   "source": [
    "## \"Left join\"- retain all sd businesses even if naics code isn't in the naics_details df\n",
    "\n",
    "- Using the same join keys as above, and treating the San Diego businesses as the left hand side data, left join the naics code details onto the San Diego businesses\n",
    "- Use the `indicator` argument within merge to create an indicator, `naics_merge_status`, to help with later merge diagnostics and examine sample of ones that didn't merge]\n",
    "- Use the `suffixes` argument within merge to add `_sd` as the left suffix, `_census` as the right suffix\n"
   ]
  },
  {
   "cell_type": "code",
   "execution_count": 6,
   "metadata": {},
   "outputs": [
    {
     "data": {
      "text/plain": [
       "left_only     0.859459\n",
       "both          0.140541\n",
       "right_only    0.000000\n",
       "Name: naics_merge_status, dtype: float64"
      ]
     },
     "execution_count": 6,
     "metadata": {},
     "output_type": "execute_result"
    },
    {
     "data": {
      "text/html": [
       "<div>\n",
       "<style scoped>\n",
       "    .dataframe tbody tr th:only-of-type {\n",
       "        vertical-align: middle;\n",
       "    }\n",
       "\n",
       "    .dataframe tbody tr th {\n",
       "        vertical-align: top;\n",
       "    }\n",
       "\n",
       "    .dataframe thead th {\n",
       "        text-align: right;\n",
       "    }\n",
       "</style>\n",
       "<table border=\"1\" class=\"dataframe\">\n",
       "  <thead>\n",
       "    <tr style=\"text-align: right;\">\n",
       "      <th></th>\n",
       "      <th>account_key</th>\n",
       "      <th>dba_name</th>\n",
       "      <th>council_district</th>\n",
       "      <th>naics_code</th>\n",
       "      <th>naics_description_sd</th>\n",
       "      <th>naics_nchar</th>\n",
       "      <th>naics</th>\n",
       "      <th>naics_description_census</th>\n",
       "      <th>naics_merge_status</th>\n",
       "    </tr>\n",
       "  </thead>\n",
       "  <tbody>\n",
       "    <tr>\n",
       "      <th>5</th>\n",
       "      <td>1979053082</td>\n",
       "      <td>GRIMM VRANJES GREER STEPHAN &amp; BRIDGMAN LLP</td>\n",
       "      <td>cd_3</td>\n",
       "      <td>5411</td>\n",
       "      <td>LEGAL SERVICES</td>\n",
       "      <td>4</td>\n",
       "      <td>NaN</td>\n",
       "      <td>NaN</td>\n",
       "      <td>left_only</td>\n",
       "    </tr>\n",
       "    <tr>\n",
       "      <th>243</th>\n",
       "      <td>2018021800</td>\n",
       "      <td>SPRINGHILL SUITES SAN DIEGO RANCHO BERNARDO</td>\n",
       "      <td>cd_5</td>\n",
       "      <td>45</td>\n",
       "      <td>RETAIL TRADE</td>\n",
       "      <td>2</td>\n",
       "      <td>NaN</td>\n",
       "      <td>NaN</td>\n",
       "      <td>left_only</td>\n",
       "    </tr>\n",
       "    <tr>\n",
       "      <th>299</th>\n",
       "      <td>2020006672</td>\n",
       "      <td>TEXLA TECHNOLOGY</td>\n",
       "      <td>cd_7</td>\n",
       "      <td>54133</td>\n",
       "      <td>ENGINEERING SERVICES</td>\n",
       "      <td>5</td>\n",
       "      <td>NaN</td>\n",
       "      <td>NaN</td>\n",
       "      <td>left_only</td>\n",
       "    </tr>\n",
       "    <tr>\n",
       "      <th>352</th>\n",
       "      <td>2021008299</td>\n",
       "      <td>RED DOOR ESCAPE ROOM LLC</td>\n",
       "      <td>cd_7</td>\n",
       "      <td>7139</td>\n",
       "      <td>OTHER AMUSEMENT &amp; RECREATION INDUSTRIES</td>\n",
       "      <td>4</td>\n",
       "      <td>NaN</td>\n",
       "      <td>NaN</td>\n",
       "      <td>left_only</td>\n",
       "    </tr>\n",
       "    <tr>\n",
       "      <th>141</th>\n",
       "      <td>2008010814</td>\n",
       "      <td>SANTE FE SHOPPING DEPOT LTD</td>\n",
       "      <td>cd_3</td>\n",
       "      <td>5313</td>\n",
       "      <td>ACTIVITIES RELATED TO REAL ESTATE</td>\n",
       "      <td>4</td>\n",
       "      <td>NaN</td>\n",
       "      <td>NaN</td>\n",
       "      <td>left_only</td>\n",
       "    </tr>\n",
       "  </tbody>\n",
       "</table>\n",
       "</div>"
      ],
      "text/plain": [
       "    account_key                                     dba_name council_district  \\\n",
       "5    1979053082   GRIMM VRANJES GREER STEPHAN & BRIDGMAN LLP             cd_3   \n",
       "243  2018021800  SPRINGHILL SUITES SAN DIEGO RANCHO BERNARDO             cd_5   \n",
       "299  2020006672                             TEXLA TECHNOLOGY             cd_7   \n",
       "352  2021008299                     RED DOOR ESCAPE ROOM LLC             cd_7   \n",
       "141  2008010814                  SANTE FE SHOPPING DEPOT LTD             cd_3   \n",
       "\n",
       "    naics_code                     naics_description_sd  naics_nchar naics  \\\n",
       "5         5411                           LEGAL SERVICES            4   NaN   \n",
       "243         45                             RETAIL TRADE            2   NaN   \n",
       "299      54133                     ENGINEERING SERVICES            5   NaN   \n",
       "352       7139  OTHER AMUSEMENT & RECREATION INDUSTRIES            4   NaN   \n",
       "141       5313        ACTIVITIES RELATED TO REAL ESTATE            4   NaN   \n",
       "\n",
       "    naics_description_census naics_merge_status  \n",
       "5                        NaN          left_only  \n",
       "243                      NaN          left_only  \n",
       "299                      NaN          left_only  \n",
       "352                      NaN          left_only  \n",
       "141                      NaN          left_only  "
      ]
     },
     "execution_count": 6,
     "metadata": {},
     "output_type": "execute_result"
    }
   ],
   "source": [
    "## try merging \n",
    "sd_cen_left = pd.merge(sd_df,\n",
    "                       naics_df,\n",
    "                       how = \"left\",\n",
    "                       left_on = \"naics_code\",\n",
    "                       right_on = \"naics\",\n",
    "                    indicator = \"naics_merge_status\",\n",
    "                    suffixes = [\"_sd\", \"_census\"])\n",
    "sd_cen_left.naics_merge_status.value_counts(normalize = True)\n",
    "\n",
    "## look at sample of ones that didnt merge\n",
    "sd_cen_left[sd_cen_left.naics_merge_status == \"left_only\"].sample(5)\n"
   ]
  },
  {
   "cell_type": "markdown",
   "metadata": {},
   "source": [
    "## Use group by and agg to see if there are differences in merge rates by area\n",
    "\n",
    "- Using the left-joined dataframe created in previous step, create a boolean indicator---`is_lost` if the merge indicator is equal to \"left_only\"\n",
    "- Group by `council_district` and use the shortcut of taking the mean of a True/False indicator to find the proportions in order to find the proportion lost in the merge (so in the left join, ones that failed to match to `naics_df`) by council_district\n"
   ]
  },
  {
   "cell_type": "code",
   "execution_count": 7,
   "metadata": {},
   "outputs": [
    {
     "data": {
      "text/plain": [
       "True     318\n",
       "False     52\n",
       "Name: is_lost, dtype: int64"
      ]
     },
     "execution_count": 7,
     "metadata": {},
     "output_type": "execute_result"
    },
    {
     "data": {
      "text/plain": [
       "council_district\n",
       "cd_1    0.880597\n",
       "cd_2    0.804348\n",
       "cd_3    0.812500\n",
       "cd_4    1.000000\n",
       "cd_5    0.916667\n",
       "cd_6    0.859649\n",
       "cd_7    0.918919\n",
       "cd_8    0.933333\n",
       "cd_9    1.000000\n",
       "Name: is_lost, dtype: float64"
      ]
     },
     "execution_count": 7,
     "metadata": {},
     "output_type": "execute_result"
    },
    {
     "data": {
      "text/html": [
       "<div>\n",
       "<style scoped>\n",
       "    .dataframe tbody tr th:only-of-type {\n",
       "        vertical-align: middle;\n",
       "    }\n",
       "\n",
       "    .dataframe tbody tr th {\n",
       "        vertical-align: top;\n",
       "    }\n",
       "\n",
       "    .dataframe thead th {\n",
       "        text-align: right;\n",
       "    }\n",
       "</style>\n",
       "<table border=\"1\" class=\"dataframe\">\n",
       "  <thead>\n",
       "    <tr style=\"text-align: right;\">\n",
       "      <th></th>\n",
       "      <th>council_district</th>\n",
       "      <th>is_lost</th>\n",
       "      <th>account_key</th>\n",
       "    </tr>\n",
       "  </thead>\n",
       "  <tbody>\n",
       "    <tr>\n",
       "      <th>0</th>\n",
       "      <td>cd_1</td>\n",
       "      <td>0.880597</td>\n",
       "      <td>67</td>\n",
       "    </tr>\n",
       "    <tr>\n",
       "      <th>1</th>\n",
       "      <td>cd_2</td>\n",
       "      <td>0.804348</td>\n",
       "      <td>42</td>\n",
       "    </tr>\n",
       "    <tr>\n",
       "      <th>2</th>\n",
       "      <td>cd_3</td>\n",
       "      <td>0.812500</td>\n",
       "      <td>103</td>\n",
       "    </tr>\n",
       "    <tr>\n",
       "      <th>3</th>\n",
       "      <td>cd_4</td>\n",
       "      <td>1.000000</td>\n",
       "      <td>4</td>\n",
       "    </tr>\n",
       "    <tr>\n",
       "      <th>4</th>\n",
       "      <td>cd_5</td>\n",
       "      <td>0.916667</td>\n",
       "      <td>24</td>\n",
       "    </tr>\n",
       "    <tr>\n",
       "      <th>5</th>\n",
       "      <td>cd_6</td>\n",
       "      <td>0.859649</td>\n",
       "      <td>54</td>\n",
       "    </tr>\n",
       "    <tr>\n",
       "      <th>6</th>\n",
       "      <td>cd_7</td>\n",
       "      <td>0.918919</td>\n",
       "      <td>36</td>\n",
       "    </tr>\n",
       "    <tr>\n",
       "      <th>7</th>\n",
       "      <td>cd_8</td>\n",
       "      <td>0.933333</td>\n",
       "      <td>15</td>\n",
       "    </tr>\n",
       "    <tr>\n",
       "      <th>8</th>\n",
       "      <td>cd_9</td>\n",
       "      <td>1.000000</td>\n",
       "      <td>8</td>\n",
       "    </tr>\n",
       "  </tbody>\n",
       "</table>\n",
       "</div>"
      ],
      "text/plain": [
       "  council_district   is_lost  account_key\n",
       "0             cd_1  0.880597           67\n",
       "1             cd_2  0.804348           42\n",
       "2             cd_3  0.812500          103\n",
       "3             cd_4  1.000000            4\n",
       "4             cd_5  0.916667           24\n",
       "5             cd_6  0.859649           54\n",
       "6             cd_7  0.918919           36\n",
       "7             cd_8  0.933333           15\n",
       "8             cd_9  1.000000            8"
      ]
     },
     "execution_count": 7,
     "metadata": {},
     "output_type": "execute_result"
    }
   ],
   "source": [
    "sd_cen_left['is_lost'] = sd_cen_left.naics_merge_status == \"left_only\"\n",
    "sd_cen_left.is_lost.value_counts()\n",
    "\n",
    "sd_cen_left.groupby('council_district')['is_lost'].mean()\n",
    "\n",
    "## can see this is likely because low N\n",
    "sd_cen_left.groupby('council_district').agg({'is_lost': np.mean,\n",
    "                                             'account_key': 'nunique'}).reset_index()"
   ]
  },
  {
   "cell_type": "markdown",
   "metadata": {},
   "source": [
    "## Optional challenge exercise: add lagging 0's and see if merge rate improves\n",
    "\n",
    "You noticed earlier that a big reason for non-matches is that the San Diego tax certificate NAICS codes were oftentimes not 6-digits long, while the Census ones were always 6 digits\n",
    "\n",
    "You wonder if this is an issue where 0's in some of the SD's data naics codes got cutoff (eg 540000 became 54) and if adding these lagging zeros would improve the merge rate in a left join\n",
    "\n",
    "- Using one of two approaches, pad the `naics_code` column in `sd_df` with 0's to get that column up to 6-digits: (1) str.pad in pandas (https://pandas.pydata.org/docs/reference/api/pandas.Series.str.pad.html); (2) for more of a challenge, write your own function that checks the # of digits in the naics code string and pads with 0's at the end up to 6 digits and use row-wise apply---`df.apply(funcname, axis = 1)`---to execute it\n",
    "- Perform the same left join as above and see how the match rate changes\n",
    "- Create an indicator variable--`is_new_match`---for new matches under the padded NAICS code; compare the `naics_description` column from San Diego versus Census in the new dataset for a sample of these new matches and comment on whether the padding seems to be correct"
   ]
  },
  {
   "cell_type": "code",
   "execution_count": 8,
   "metadata": {},
   "outputs": [],
   "source": [
    "## auto way\n",
    "sd_df['naics_padded_auto'] = sd_df.naics_code.str.pad(width = 6,\n",
    "                                                     side = \"right\",\n",
    "                                                     fillchar = \"0\")\n"
   ]
  },
  {
   "cell_type": "code",
   "execution_count": 9,
   "metadata": {},
   "outputs": [],
   "source": [
    "## function way- could also parametrize\n",
    "## the colnames as second and third args\n",
    "def pad_naics(one_row):\n",
    "    \n",
    "    if one_row.naics_nchar == 2:\n",
    "        padded_n = one_row.naics_code + \"0000\"\n",
    "    elif one_row.naics_nchar == 3:\n",
    "        padded_n = one_row.naics_code + \"000\"\n",
    "    elif one_row.naics_nchar == 4:\n",
    "        padded_n = one_row.naics_code + \"00\"\n",
    "    elif one_row.naics_nchar == 5:\n",
    "        padded_n = one_row.naics_code + \"0\"\n",
    "    else:\n",
    "        padded_n = one_row.naics_code\n",
    "    return(padded_n)"
   ]
  },
  {
   "cell_type": "code",
   "execution_count": 10,
   "metadata": {},
   "outputs": [
    {
     "data": {
      "text/plain": [
       "both          0.53139\n",
       "left_only     0.46861\n",
       "right_only    0.00000\n",
       "Name: naics_merge_status_padded, dtype: float64"
      ]
     },
     "execution_count": 10,
     "metadata": {},
     "output_type": "execute_result"
    }
   ],
   "source": [
    "sd_df['naics_padded_func'] = sd_df.apply(pad_naics, axis = 1)\n",
    "\n",
    "## re-merge and check match rate\n",
    "lj_update = pd.merge(sd_df,\n",
    "                       naics_df,\n",
    "                       how = \"left\",\n",
    "                       left_on = \"naics_padded_auto\",\n",
    "                       right_on = \"naics\",\n",
    "                    indicator = \"naics_merge_status_padded\",\n",
    "                    suffixes = [\"_sd\", \"_census\"])\n",
    "lj_update.naics_merge_status_padded.value_counts(normalize = True)\n",
    "\n",
    "## create indicator for match with padded\n",
    "## not match with non-padded\n",
    "lost_r1_accountkey = sd_cen_left[sd_cen_left.is_lost].account_key"
   ]
  },
  {
   "cell_type": "code",
   "execution_count": 11,
   "metadata": {},
   "outputs": [
    {
     "data": {
      "text/plain": [
       "False    261\n",
       "True     185\n",
       "Name: is_new_match, dtype: int64"
      ]
     },
     "execution_count": 11,
     "metadata": {},
     "output_type": "execute_result"
    }
   ],
   "source": [
    "lj_update['is_new_match'] = np.where((lj_update.account_key.isin(lost_r1_accountkey)) & \n",
    "                            (lj_update.naics_merge_status_padded == \"both\"), True, False)\n",
    "lj_update.is_new_match.value_counts()\n"
   ]
  },
  {
   "cell_type": "code",
   "execution_count": 12,
   "metadata": {},
   "outputs": [
    {
     "data": {
      "text/html": [
       "<div>\n",
       "<style scoped>\n",
       "    .dataframe tbody tr th:only-of-type {\n",
       "        vertical-align: middle;\n",
       "    }\n",
       "\n",
       "    .dataframe tbody tr th {\n",
       "        vertical-align: top;\n",
       "    }\n",
       "\n",
       "    .dataframe thead th {\n",
       "        text-align: right;\n",
       "    }\n",
       "</style>\n",
       "<table border=\"1\" class=\"dataframe\">\n",
       "  <thead>\n",
       "    <tr style=\"text-align: right;\">\n",
       "      <th></th>\n",
       "      <th>dba_name</th>\n",
       "      <th>naics_description_sd</th>\n",
       "      <th>naics_description_census</th>\n",
       "    </tr>\n",
       "  </thead>\n",
       "  <tbody>\n",
       "    <tr>\n",
       "      <th>204</th>\n",
       "      <td>INTELLIGENT BLENDS</td>\n",
       "      <td>COFFEE &amp; TEA MFG</td>\n",
       "      <td>Coffee and Tea Manufacturing</td>\n",
       "    </tr>\n",
       "    <tr>\n",
       "      <th>345</th>\n",
       "      <td>AR WORKSHOP SAN DIEGO</td>\n",
       "      <td>GIFT, NOVELTY &amp; SOUVENIR STORES</td>\n",
       "      <td>Gift, Novelty, and Souvenir Stores</td>\n",
       "    </tr>\n",
       "    <tr>\n",
       "      <th>285</th>\n",
       "      <td>THRIVE AFFORDABLE VET CARE</td>\n",
       "      <td>VETERINARY SERVICES</td>\n",
       "      <td>Veterinary Services</td>\n",
       "    </tr>\n",
       "    <tr>\n",
       "      <th>14</th>\n",
       "      <td>LATHAM &amp; WATKINS LLP</td>\n",
       "      <td>OFFICES OF LAWYERS</td>\n",
       "      <td>Offices of Lawyers</td>\n",
       "    </tr>\n",
       "    <tr>\n",
       "      <th>326</th>\n",
       "      <td>GS MISSION GORGE PROJECT OWNER LP</td>\n",
       "      <td>LESSORS OF RESIDENTIAL BUILDINGS &amp; DWELLINGS</td>\n",
       "      <td>Lessors of Residential Buildings and Dwellings</td>\n",
       "    </tr>\n",
       "  </tbody>\n",
       "</table>\n",
       "</div>"
      ],
      "text/plain": [
       "                              dba_name  \\\n",
       "204                 INTELLIGENT BLENDS   \n",
       "345              AR WORKSHOP SAN DIEGO   \n",
       "285         THRIVE AFFORDABLE VET CARE   \n",
       "14                LATHAM & WATKINS LLP   \n",
       "326  GS MISSION GORGE PROJECT OWNER LP   \n",
       "\n",
       "                             naics_description_sd  \\\n",
       "204                              COFFEE & TEA MFG   \n",
       "345               GIFT, NOVELTY & SOUVENIR STORES   \n",
       "285                           VETERINARY SERVICES   \n",
       "14                             OFFICES OF LAWYERS   \n",
       "326  LESSORS OF RESIDENTIAL BUILDINGS & DWELLINGS   \n",
       "\n",
       "                           naics_description_census  \n",
       "204                    Coffee and Tea Manufacturing  \n",
       "345              Gift, Novelty, and Souvenir Stores  \n",
       "285                             Veterinary Services  \n",
       "14                               Offices of Lawyers  \n",
       "326  Lessors of Residential Buildings and Dwellings  "
      ]
     },
     "execution_count": 12,
     "metadata": {},
     "output_type": "execute_result"
    }
   ],
   "source": [
    "## compare descriptions\n",
    "lj_update.loc[lj_update.is_new_match,\n",
    "              ['dba_name',\n",
    "               'naics_description_sd', 'naics_description_census']].sample(n = 5,\n",
    "                                                                          random_state = \n",
    "                                                                          52092)\n",
    "\n",
    "## seems correct"
   ]
  }
 ],
 "metadata": {
  "kernelspec": {
   "display_name": "Python 3 (ipykernel)",
   "language": "python",
   "name": "python3"
  },
  "language_info": {
   "codemirror_mode": {
    "name": "ipython",
    "version": 3
   },
   "file_extension": ".py",
   "mimetype": "text/x-python",
   "name": "python",
   "nbconvert_exporter": "python",
   "pygments_lexer": "ipython3",
   "version": "3.10.5"
  }
 },
 "nbformat": 4,
 "nbformat_minor": 4
}
