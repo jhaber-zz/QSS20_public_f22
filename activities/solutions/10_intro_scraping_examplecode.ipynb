{
 "cells": [
  {
   "cell_type": "markdown",
   "metadata": {},
   "source": [
    "# Web scraping example\n",
    "\n"
   ]
  },
  {
   "cell_type": "markdown",
   "metadata": {},
   "source": [
    "## Imports and functions"
   ]
  },
  {
   "cell_type": "code",
   "execution_count": 1,
   "metadata": {},
   "outputs": [],
   "source": [
    "\n",
    "import pandas as pd\n",
    "from IPython.core.interactiveshell import InteractiveShell\n",
    "InteractiveShell.ast_node_interactivity = \"all\"\n",
    "\n",
    "## scraping and processing\n",
    "import urllib\n",
    "from bs4 import BeautifulSoup\n",
    "from urllib.request import Request, urlopen\n",
    "import requests \n",
    "import itertools\n",
    "import re\n",
    "\n",
    "import warnings\n",
    "warnings.filterwarnings('ignore')"
   ]
  },
  {
   "cell_type": "markdown",
   "metadata": {},
   "source": [
    "# Example 1: use html parser to bulk download files and write them locally (e.g., data files; pdfs)\n"
   ]
  },
  {
   "cell_type": "markdown",
   "metadata": {},
   "source": [
    "## Step 1: parse the content of main url"
   ]
  },
  {
   "cell_type": "code",
   "execution_count": 2,
   "metadata": {},
   "outputs": [],
   "source": [
    "main_link = \"https://osse.dc.gov/service/hearing-officer-determinations\"\n",
    "\n",
    "## similar to an API call, use a requests.get call\n",
    "## to fetch the raw HTML content\n",
    "raw_content = requests.get(main_link).text\n",
    "\n",
    "## print the content- not very meaningful\n",
    "# html_content\n",
    "\n",
    "## parse that content using beautiful soup\n",
    "## constructor\n",
    "## here, we're using the html parser\n",
    "parsed_content = BeautifulSoup(raw_content, \"html.parser\")\n",
    "#print(parsed_content.prettify())\n"
   ]
  },
  {
   "cell_type": "markdown",
   "metadata": {},
   "source": [
    "## Step 2: look for the links you want in that content"
   ]
  },
  {
   "cell_type": "code",
   "execution_count": 18,
   "metadata": {},
   "outputs": [
    {
     "data": {
      "text/plain": [
       "[<a class=\"active-trail active-trail active\" href=\"/service/hearing-officer-determinations\">Hearing Officer Determinations</a>,\n",
       " <a class=\"active-trail active\" href=\"/service/hearing-officer-determinations\">Hearing Officer Determinations</a>,\n",
       " <a accesskey=\"L\" class=\"rsbtn_play\" href=\"//app-na.readspeaker.com/cgi-bin/rsent?customerid=6295&amp;lang=en_us&amp;readid=content-start&amp;url=https://osse.dc.gov/service/hearing-officer-determinations\" rel=\"nofollow\" title=\"Listen to this page using ReadSpeaker webReader\">\n",
       " <span class=\"rsbtn_left rsimg rspart\"><span class=\"rsbtn_text\"><span>Listen</span></span></span>\n",
       " <span class=\"rsbtn_right rsimg rsplay rspart\"></span>\n",
       " </a>,\n",
       " <a href=\"https://osse.dc.gov/page/2009-hearing-officer-determinations\">2009</a>,\n",
       " <a href=\"https://osse.dc.gov/page/2010-hearing-officer-determinations\">2010</a>,\n",
       " <a href=\"https://osse.dc.gov/page/2011-hearing-officer-determinations\">2011</a>,\n",
       " <a href=\"https://osse.dc.gov/page/2012-hearing-officer-determinations\">2012</a>,\n",
       " <a href=\"https://osse.dc.gov/page/2013-hearing-officer-determinations\">2013</a>,\n",
       " <a href=\"https://osse.dc.gov/page/2014-hearing-officer-determinations\">2014</a>,\n",
       " <a href=\"/page/2015-hearing-officer-determinations\" title=\"2015 Hearing Officer Determinations\">2015</a>,\n",
       " <a href=\"/page/2016-hearing-officers-determinations\" title=\"2016 Hearing Officers Determinations\">2016</a>,\n",
       " <a href=\"/page/2017-hearing-officers-determinations\" title=\"2017 Hearing Officers Determinations\">2017</a>,\n",
       " <a href=\"/page/2018-hearing-officers-determinations\" title=\"2018 Hearing Officers Determinations\">2018</a>,\n",
       " <a href=\"https://osse.dc.gov/page/2019-hearing-officers-determinations\">2019</a>,\n",
       " <a href=\"https://osse.dc.gov/page/2020-hearing-officers-determinations\">2020</a>,\n",
       " <a href=\"/page/2021-hearing-officers-determinations\" title=\"2021 Hearing Officers Determinations\">2021</a>]"
      ]
     },
     "execution_count": 18,
     "metadata": {},
     "output_type": "execute_result"
    },
    {
     "data": {
      "text/plain": [
       "['https://osse.dc.gov/page/2009-hearing-officer-determinations']"
      ]
     },
     "execution_count": 18,
     "metadata": {},
     "output_type": "execute_result"
    }
   ],
   "source": [
    "\n",
    "## first, we try extracting all links on the page with hearing-officer \n",
    "## in the link\n",
    "## using the findAll method: https://www.crummy.com/software/BeautifulSoup/bs4/doc/#find-all\n",
    "## which takes the name of a tag (a)\n",
    "## and any attributes (href)\n",
    "links_hearoff = parsed_content.findAll(\"a\", attrs = {\"href\": re.compile(\"hearing-officer\")})\n",
    "links_hearoff\n",
    "\n",
    "## see that combination of a few different patterns:\n",
    "### 1. base url + year - eg https://osse.dc.gov/page/2009-hearing-officer-determinations\n",
    "### 2. no base url and directly to page - eg https://osse.dc.gov/page/2019-hearing-officers-determinations\n",
    "\n",
    "## let's follow one and see what it contains\n",
    "## use the .get(\"href\") to extract\n",
    "## what belongs to the href attribute\n",
    "example_link_hearoff = [link.get(\"href\") \n",
    "                    for link in links_hearoff if \"2009-hearing-officer-determinations\"\n",
    "                    in link.get(\"href\")]\n",
    "example_link_hearoff\n",
    "\n"
   ]
  },
  {
   "cell_type": "markdown",
   "metadata": {},
   "source": [
    "## Step 3: follow the link to one year of data"
   ]
  },
  {
   "cell_type": "code",
   "execution_count": 43,
   "metadata": {},
   "outputs": [
    {
     "data": {
      "text/plain": [
       "[<a href=\"https://oca.dc.gov/node/160652\" target=\"_blank\" title=\"Agency Performance\">Agency Performance</a>,\n",
       " <a href=\"/node/1269671\">Amharic (አማርኛ)</a>,\n",
       " <a href=\"/node/1269696\">Korean (한국어)</a>,\n",
       " <a href=\"/node/1269736\">Spanish (Español)</a>,\n",
       " <a href=\"/node/1269741\">Vietnamese (Tiếng Việt)</a>,\n",
       " <a href=\"/node/484662\">January 2009</a>,\n",
       " <a href=\"/node/484682\">February 2009</a>,\n",
       " <a href=\"/node/540262\" title=\"March 2009\">March 2009</a>,\n",
       " <a href=\"/node/540312\" title=\"April 2009\">April 2009</a>,\n",
       " <a href=\"/node/540372\" title=\"June 2009\">June 2009</a>,\n",
       " <a href=\"/node/540402\" title=\"July 2009\">July 2009</a>,\n",
       " <a href=\"/node/540452\" title=\"August 2009\">August 2009</a>,\n",
       " <a href=\"/node/540502\" title=\"September 2009\">September 2009</a>,\n",
       " <a href=\"/node/540522\" title=\"October 2009\">October 2009</a>,\n",
       " <a href=\"/node/540542\" title=\"November 2009\">November 2009</a>,\n",
       " <a href=\"/node/540602\" title=\"December 2009\">December 2009</a>]"
      ]
     },
     "execution_count": 43,
     "metadata": {},
     "output_type": "execute_result"
    },
    {
     "data": {
      "text/plain": [
       "['https://osse.dc.gov/node/540262']"
      ]
     },
     "execution_count": 43,
     "metadata": {},
     "output_type": "execute_result"
    }
   ],
   "source": [
    "soupified_link_oneyear = BeautifulSoup(requests.get(example_link_hearoff[0]).text,\n",
    "                               \"html.parser\")\n",
    "#print(soupified_link.prettify())\n",
    "\n",
    "## see that the individual month links are stored with pattern node\n",
    "## get those links\n",
    "month_links = soupified_link_oneyear.findAll(\"a\", attrs = {\"href\": re.compile(\"node\")})\n",
    "month_links\n",
    "\n",
    "## example where we want to get the link\n",
    "## with March in title\n",
    "## see from inspecting the page that we need\n",
    "## to add the site url prefix back\n",
    "march_link = [\"https://osse.dc.gov\" + str(link.get(\"href\")) for link in month_links \n",
    "             if link.get(\"title\") is not None\n",
    "              and \"March\" in link.get(\"title\")]\n",
    "march_link\n"
   ]
  },
  {
   "cell_type": "markdown",
   "metadata": {},
   "source": [
    "## Step 4: follow the link to one month of data"
   ]
  },
  {
   "cell_type": "code",
   "execution_count": 44,
   "metadata": {},
   "outputs": [
    {
     "data": {
      "text/plain": [
       "[<a href=\"https://osse.dc.gov/sites/default/files/dc/sites/osse/page_content/attachments/HOD.0309.01_0.pdf\" type=\"application/pdf; length=931802\">HOD.0309.01.pdf</a>,\n",
       " <a href=\"https://osse.dc.gov/sites/default/files/dc/sites/osse/page_content/attachments/HOD.0309.02.pdf\" type=\"application/pdf; length=628539\">HOD.0309.02.pdf</a>,\n",
       " <a href=\"https://osse.dc.gov/sites/default/files/dc/sites/osse/page_content/attachments/HOD.0309.03r.pdf\" type=\"application/pdf; length=1010847\">HOD.0309.03r.pdf</a>,\n",
       " <a href=\"https://osse.dc.gov/sites/default/files/dc/sites/osse/page_content/attachments/HOD.0309.04r.pdf\" type=\"application/pdf; length=1432454\">HOD.0309.04r.pdf</a>,\n",
       " <a href=\"https://osse.dc.gov/sites/default/files/dc/sites/osse/page_content/attachments/HOD.0309.05.pdf\" type=\"application/pdf; length=955708\">HOD.0309.05.pdf</a>]"
      ]
     },
     "execution_count": 44,
     "metadata": {},
     "output_type": "execute_result"
    },
    {
     "data": {
      "text/plain": [
       "[<a href=\"https://osse.dc.gov/sites/default/files/dc/sites/osse/page_content/attachments/HOD.0309.01_0.pdf\" type=\"application/pdf; length=931802\">HOD.0309.01.pdf</a>,\n",
       " <a href=\"https://osse.dc.gov/sites/default/files/dc/sites/osse/page_content/attachments/HOD.0309.02.pdf\" type=\"application/pdf; length=628539\">HOD.0309.02.pdf</a>,\n",
       " <a href=\"https://osse.dc.gov/sites/default/files/dc/sites/osse/page_content/attachments/HOD.0309.03r.pdf\" type=\"application/pdf; length=1010847\">HOD.0309.03r.pdf</a>,\n",
       " <a href=\"https://osse.dc.gov/sites/default/files/dc/sites/osse/page_content/attachments/HOD.0309.04r.pdf\" type=\"application/pdf; length=1432454\">HOD.0309.04r.pdf</a>,\n",
       " <a href=\"https://osse.dc.gov/sites/default/files/dc/sites/osse/page_content/attachments/HOD.0309.05.pdf\" type=\"application/pdf; length=955708\">HOD.0309.05.pdf</a>]"
      ]
     },
     "execution_count": 44,
     "metadata": {},
     "output_type": "execute_result"
    }
   ],
   "source": [
    "## follow that march link\n",
    "soupified_link_oneyear_onemonth = BeautifulSoup(requests.get(march_link[0]).text,\n",
    "                               \"html.parser\")\n",
    "\n",
    "#print(soupified_link_oneyear_onemonth.prettify())\n",
    "\n",
    "## approach one: search the href attributes for links with HOD and \"pdf\" in the name\n",
    "pdfs_oneyear_onemonth = soupified_link_oneyear_onemonth.findAll(\"a\", \n",
    "                                                    attrs = {\"href\": re.compile(\".*HOD.*\\.pdf$\")})\n",
    "pdfs_oneyear_onemonth[0:5]\n",
    "\n",
    "## approach two: search the type attributes for ones that are application/pdf type\n",
    "pdfs_oneyear_onemonth_approach2 = soupified_link_oneyear_onemonth.findAll(\"a\", \n",
    "                                                    attrs = {\"type\": re.compile(\"pdf\")})\n",
    "pdfs_oneyear_onemonth_approach2[0:5]"
   ]
  },
  {
   "cell_type": "markdown",
   "metadata": {},
   "source": [
    "## Step 5: write the results"
   ]
  },
  {
   "cell_type": "code",
   "execution_count": 41,
   "metadata": {},
   "outputs": [
    {
     "data": {
      "text/plain": [
       "931802"
      ]
     },
     "execution_count": 41,
     "metadata": {},
     "output_type": "execute_result"
    },
    {
     "data": {
      "text/plain": [
       "'../public_data/HOD.0309.01_0.pdf'"
      ]
     },
     "execution_count": 41,
     "metadata": {},
     "output_type": "execute_result"
    }
   ],
   "source": [
    "## write one pdf\n",
    "### first, need to create connection to the pdf\n",
    "first_pdf = requests.get(pdfs_oneyear_onemonth_approach2[0].get(\"href\"), verify=False,stream=True)\n",
    "### then, tell it where to put the file\n",
    "### and that we're writing rather than reading\n",
    "folder = open(\"../public_data/firstpdf.pdf\", 'wb')\n",
    "\n",
    "### write the file\n",
    "folder.write(first_pdf.content)\n",
    "\n",
    "### close the connection\n",
    "folder.close()\n",
    "\n",
    "### can make more general by writing it with the name of the file\n",
    "more_specific_fname = \"../public_data/\" + re.sub(\".*attachments\\/\", \"\", \n",
    "                                                 pdfs_oneyear_onemonth_approach2[0].get(\"href\"))\n",
    "more_specific_fname\n",
    "\n",
    "### then would feed that to the open step above"
   ]
  },
  {
   "cell_type": "markdown",
   "metadata": {},
   "source": [
    "# Example 2: using xml parser to pull DOJ press releases\n",
    "\n",
    "- Based on code in: https://github.com/jbencina/dojreleases\n",
    "- See here for a discussion of html parser versus lxml parser: https://stackoverflow.com/questions/25714417/beautiful-soup-and-table-scraping-lxml-vs-html-parser"
   ]
  },
  {
   "cell_type": "markdown",
   "metadata": {},
   "source": [
    "## Step 1: parse the content of the main url"
   ]
  },
  {
   "cell_type": "code",
   "execution_count": 73,
   "metadata": {},
   "outputs": [],
   "source": [
    "doj_news = \"https://www.justice.gov/news\"\n",
    "doj_news_soupified = BeautifulSoup(requests.get(doj_news).content, \"lxml\")\n",
    "# print(doj_news_soupified.prettify())\n"
   ]
  },
  {
   "cell_type": "markdown",
   "metadata": {},
   "source": [
    "## Step 2: from that content, extract links to the press releases"
   ]
  },
  {
   "cell_type": "code",
   "execution_count": 54,
   "metadata": {},
   "outputs": [
    {
     "data": {
      "text/plain": [
       "[<div class=\"views-field views-field-title\"> <span class=\"field-content\"><a href=\"/opa/pr/joint-press-statement-us-attorney-general-merrick-garland-and-european-commissioner-justice\">Joint Press Statement by U.S. Attorney General Merrick Garland and European Commissioner for Justice Didier Reynders</a></span> </div>,\n",
       " <div class=\"views-field views-field-title\"> <span class=\"field-content\"><a href=\"/opa/pr/former-minister-government-bolivia-owner-florida-based-company-and-three-others-charged\">Former Minister of Government of Bolivia, Owner of Florida-Based Company, and Three Others Charged in Bribery and Money Laundering Scheme</a></span> </div>,\n",
       " <div class=\"views-field views-field-title\"> <span class=\"field-content\"><a href=\"/opa/pr/attorney-general-merrick-b-garland-announces-new-effort-reduce-violent-crime\">Attorney General Merrick B. Garland Announces New Effort to Reduce Violent Crime</a></span> </div>,\n",
       " <div class=\"views-field views-field-title\"> <span class=\"field-content\"><a href=\"/opa/pr/doj-announces-coordinated-law-enforcement-action-combat-health-care-fraud-related-covid-19\">DOJ Announces Coordinated Law Enforcement Action to Combat Health Care Fraud Related to COVID-19</a></span> </div>,\n",
       " <div class=\"views-field views-field-title\"> <span class=\"field-content\"><a href=\"/opa/pr/two-bank-executives-charged-conspiring-launder-hundreds-millions-dollars-through-us-financial\">Two Bank Executives Charged for Conspiring to Launder Hundreds of Millions of Dollars Through U.S. Financial System in Connection with Odebrecht Bribery and Fraud Scheme</a></span> </div>]"
      ]
     },
     "execution_count": 54,
     "metadata": {},
     "output_type": "execute_result"
    },
    {
     "data": {
      "text/plain": [
       "[<a href=\"/opa/pr/joint-press-statement-us-attorney-general-merrick-garland-and-european-commissioner-justice\">Joint Press Statement by U.S. Attorney General Merrick Garland and European Commissioner for Justice Didier Reynders</a>,\n",
       " <a href=\"/opa/pr/former-minister-government-bolivia-owner-florida-based-company-and-three-others-charged\">Former Minister of Government of Bolivia, Owner of Florida-Based Company, and Three Others Charged in Bribery and Money Laundering Scheme</a>,\n",
       " <a href=\"/opa/pr/attorney-general-merrick-b-garland-announces-new-effort-reduce-violent-crime\">Attorney General Merrick B. Garland Announces New Effort to Reduce Violent Crime</a>,\n",
       " <a href=\"/opa/pr/doj-announces-coordinated-law-enforcement-action-combat-health-care-fraud-related-covid-19\">DOJ Announces Coordinated Law Enforcement Action to Combat Health Care Fraud Related to COVID-19</a>,\n",
       " <a href=\"/opa/pr/two-bank-executives-charged-conspiring-launder-hundreds-millions-dollars-through-us-financial\">Two Bank Executives Charged for Conspiring to Launder Hundreds of Millions of Dollars Through U.S. Financial System in Connection with Odebrecht Bribery and Fraud Scheme</a>]"
      ]
     },
     "execution_count": 54,
     "metadata": {},
     "output_type": "execute_result"
    }
   ],
   "source": [
    "### Approach 1: pulls paragraphs of the relevant type\n",
    "### using the div tag\n",
    "all_releases = doj_news_soupified.findAll('div', \n",
    "                                          {'class': 'views-field views-field-title'})\n",
    "all_releases[0:5]\n",
    "\n",
    "### Approach 2: pulls links of the relevant type using a and href\n",
    "all_releases_v2 = doj_news_soupified.findAll(\"a\",\n",
    "                                        {'href': re.compile(\"opa/pr\")})\n",
    "all_releases_v2[0:5]"
   ]
  },
  {
   "cell_type": "markdown",
   "metadata": {},
   "source": [
    "## Step 3: visit a link and extract the text"
   ]
  },
  {
   "cell_type": "code",
   "execution_count": 72,
   "metadata": {},
   "outputs": [
    {
     "data": {
      "text/plain": [
       "['/opa/pr/former-minister-government-bolivia-owner-florida-based-company-and-three-others-charged']"
      ]
     },
     "execution_count": 72,
     "metadata": {},
     "output_type": "execute_result"
    },
    {
     "data": {
      "text/plain": [
       "'https://justice.gov/opa/pr/former-minister-government-bolivia-owner-florida-based-company-and-three-others-charged'"
      ]
     },
     "execution_count": 72,
     "metadata": {},
     "output_type": "execute_result"
    },
    {
     "data": {
      "text/plain": [
       "['Two Bolivian nationals and three U.S. citizens were arrested on May 21, and May\\xa022, in Florida and Georgia on criminal charges related to their alleged roles in a bribery and money laundering scheme. The former Minister of Government of Bolivia and another former Bolivian official are accused of receiving bribes paid by a U.S. company and individuals to secure a Bolivian government contract, and then using the U.S. financial system to launder those bribes.',\n",
       " 'According to court documents, Arturo Carlos Murillo Prijic, 57, Sergio Rodrigo Mendez Mendizabal, 51, Luis Berkman, 58, Bryan Berkman, 36, and Philip Lichtenfeld, 48, engaged in the bribery scheme between approximately November 2019 and April 2020.\\xa0During that time, Luis Berkman, Bryan Berkman, and Lichtenfeld paid $602,000 in bribes to Bolivian government officials for the benefit of Murillo, the former Minister of Government of Bolivia, Mendez, the former Chief of Staff of the Ministry of Government of Bolivia, and another Bolivian government official. The bribes were paid so that Bryan Berkman’s Florida-based company would obtain and retain business from the Bolivian Ministry of Defense, specifically, an approximately $5.6\\xa0million contract to provide to the Bolivian Ministry of Defense tear gas and other non-lethal equipment. To promote the bribery scheme, Bryan Berkman, Luis Berkman, and Lichtenfeld then laundered the payments to Bolivian government officials through bank accounts in Florida and Bolivia and orchestrated the payment of $582,000 in cash for Murillo and Mendez.',\n",
       " 'All five individuals are charged with one count of conspiracy to commit money laundering. If convicted, they face a maximum penalty of 20 years in prison. A federal district court judge will determine any sentence after considering the U.S. Sentencing Guidelines and other statutory factors.',\n",
       " 'Acting Assistant Attorney General Nicholas L. McQuaid of the Justice Department’s Criminal Division; Acting U.S. Attorney for the Southern District of Florida Juan Antonio Gonzalez; and Special Agent in Charge Anthony Salisbury of Homeland Security Investigations (HSI) Miami office made the announcement.',\n",
       " 'Trial Attorney Jil Simon and Assistant Chief Gerald M. Moody Jr. of the Criminal Division’s Fraud Section and Assistant U.S. Attorney Eli S. Rubin of the U.S. Attorney’s Office for the Southern District of Florida are prosecuting the case. Assistant U.S. Attorney Marx P. Calderón is handling asset forfeiture.',\n",
       " 'The Fraud Section is responsible for investigating and prosecuting all Foreign Corrupt Practices Act (FCPA) matters. Additional information about the Justice Department’s FCPA enforcement efforts can be found at www.justice.gov/criminal/fraud/fcpa.',\n",
       " 'The charges in the complaint are allegations, and the defendants are presumed innocent unless and until proven guilty.']"
      ]
     },
     "execution_count": 72,
     "metadata": {},
     "output_type": "execute_result"
    },
    {
     "data": {
      "text/plain": [
       "'Two Bolivian nationals and three U.S. citizens were arrested on May 21, and May\\xa022, in Florida and Georgia on criminal charges related to their alleged roles in a bribery and money laundering scheme. The former Minister of Government of Bolivia and another former Bolivian official are accused of receiving bribes paid by a U.S. company and individuals to secure a Bolivian government contract, and then using the U.S. financial system to launder those bribes. According to court documents, Arturo Carlos Murillo Prijic, 57, Sergio Rodrigo Mendez Mendizabal, 51, Luis Berkman, 58, Bryan Berkman, 36, and Philip Lichtenfeld, 48, engaged in the bribery scheme between approximately November 2019 and April 2020.\\xa0During that time, Luis Berkman, Bryan Berkman, and Lichtenfeld paid $602,000 in bribes to Bolivian government officials for the benefit of Murillo, the former Minister of Government of Bolivia, Mendez, the former Chief of Staff of the Ministry of Government of Bolivia, and another Bolivian government official. The bribes were paid so that Bryan Berkman’s Florida-based company would obtain and retain business from the Bolivian Ministry of Defense, specifically, an approximately $5.6\\xa0million contract to provide to the Bolivian Ministry of Defense tear gas and other non-lethal equipment. To promote the bribery scheme, Bryan Berkman, Luis Berkman, and Lichtenfeld then laundered the payments to Bolivian government officials through bank accounts in Florida and Bolivia and orchestrated the payment of $582,000 in cash for Murillo and Mendez. All five individuals are charged with one count of conspiracy to commit money laundering. If convicted, they face a maximum penalty of 20 years in prison. A federal district court judge will determine any sentence after considering the U.S. Sentencing Guidelines and other statutory factors. Acting Assistant Attorney General Nicholas L. McQuaid of the Justice Department’s Criminal Division; Acting U.S. Attorney for the Southern District of Florida Juan Antonio Gonzalez; and Special Agent in Charge Anthony Salisbury of Homeland Security Investigations (HSI) Miami office made the announcement. Trial Attorney Jil Simon and Assistant Chief Gerald M. Moody Jr. of the Criminal Division’s Fraud Section and Assistant U.S. Attorney Eli S. Rubin of the U.S. Attorney’s Office for the Southern District of Florida are prosecuting the case. Assistant U.S. Attorney Marx P. Calderón is handling asset forfeiture. The Fraud Section is responsible for investigating and prosecuting all Foreign Corrupt Practices Act (FCPA) matters. Additional information about the Justice Department’s FCPA enforcement efforts can be found at www.justice.gov/criminal/fraud/fcpa. The charges in the complaint are allegations, and the defendants are presumed innocent unless and until proven guilty.'"
      ]
     },
     "execution_count": 72,
     "metadata": {},
     "output_type": "execute_result"
    },
    {
     "data": {
      "text/plain": [
       "'../public_data/former-minister-government-bolivia-owner-florida-based-company-and-three-others-charged.txt'"
      ]
     },
     "execution_count": 72,
     "metadata": {},
     "output_type": "execute_result"
    },
    {
     "data": {
      "text/plain": [
       "2833"
      ]
     },
     "execution_count": 72,
     "metadata": {},
     "output_type": "execute_result"
    }
   ],
   "source": [
    "## from those results, get the link content\n",
    "link_follow = [release.get(\"href\") for release in all_releases_v2 \n",
    "                if \"bolivia\" in release.get(\"href\")]\n",
    "link_follow\n",
    "\n",
    "## add to base url\n",
    "link_withbase = \"https://justice.gov\" + link_follow[0]\n",
    "link_withbase\n",
    "\n",
    "## visit that page and soupify\n",
    "one_pr_page_soupified = BeautifulSoup(requests.get(link_withbase).content, 'lxml')\n",
    "#one_pr_page.prettify()\n",
    "\n",
    "## get all paragraphs with tag div (generic container for content)\n",
    "## that has the attribute we can inspect on the page\n",
    "one_pr_text_list = [p.text for \n",
    "            p in one_pr_page_soupified.find('div', \n",
    "                {'class': \n",
    "            'field field--name-field-pr-body field--type-text-long field--label-hidden'}).find_all('p')]\n",
    "one_pr_text_list\n",
    "\n",
    "## join into a single string\n",
    "one_pr_text_str = \" \".join(one_pr_text_list)\n",
    "one_pr_text_str\n",
    "\n",
    "## can then write to text file\n",
    "pr_fname = \"../public_data\" + re.sub(\"opa\\/pr\\/\", \"\", link_follow[0]) + \".txt\"\n",
    "pr_fname\n",
    "\n",
    "pr_write = open(pr_fname, \"w\")\n",
    "pr_write.write(one_pr_text_str)\n",
    "pr_write.close()"
   ]
  }
 ],
 "metadata": {
  "kernelspec": {
   "display_name": "Python 3 (ipykernel)",
   "language": "python",
   "name": "python3"
  },
  "language_info": {
   "codemirror_mode": {
    "name": "ipython",
    "version": 3
   },
   "file_extension": ".py",
   "mimetype": "text/x-python",
   "name": "python",
   "nbconvert_exporter": "python",
   "pygments_lexer": "ipython3",
   "version": "3.10.5"
  }
 },
 "nbformat": 4,
 "nbformat_minor": 2
}
