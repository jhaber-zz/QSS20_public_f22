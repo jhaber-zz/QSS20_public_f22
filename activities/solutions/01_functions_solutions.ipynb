{
 "cells": [
  {
   "cell_type": "code",
   "execution_count": 1,
   "metadata": {},
   "outputs": [],
   "source": [
    "## imports\n",
    "import pandas as pd\n",
    "import numpy as np\n",
    "import random\n",
    "\n",
    "## print multiple things from same cell\n",
    "from IPython.core.interactiveshell import InteractiveShell\n",
    "InteractiveShell.ast_node_interactivity = \"all\"\n",
    "\n",
    "from datetime import datetime, timedelta"
   ]
  },
  {
   "cell_type": "markdown",
   "metadata": {},
   "source": [
    "# Load data"
   ]
  },
  {
   "cell_type": "code",
   "execution_count": 2,
   "metadata": {
    "scrolled": true
   },
   "outputs": [],
   "source": [
    "## load data on 2020 crimes in DC\n",
    "dc_crim_2020 = pd.read_csv(\"https://opendata.arcgis.com/datasets/f516e0dd7b614b088ad781b0c4002331_2.csv\")\n",
    "\n",
    "## create date of crime\n",
    "dc_crim_2020['report_day'] = pd.to_datetime(dc_crim_2020.REPORT_DAT).\\\n",
    "                                dt.date"
   ]
  },
  {
   "cell_type": "markdown",
   "metadata": {},
   "source": [
    "# 1. Example task and function\n",
    "\n",
    "**Task**: write a function that takes in two arguments--a dataframe and an integer of a Ward number\n",
    "    \n",
    "- The function should subset to:\n",
    "    - That ward\n",
    "    - The ward immediately \"below\" that ward (if focal ward is Ward 2, Ward 1)\n",
    "    - The ward immediately \"above\" that ward (if focal ward is Ward 2, Ward 3)\n",
    "- Find the number of unique crime reports (unique CCN) in each of those 3 wards\n",
    "- Should print the name + # of crimes in the ward with the most unique crime reports of that comparison set \n",
    "\n",
    "For now, don't worry about cases where you input a number outside of 2-7 (so all wards inputted will have a ward above and below)"
   ]
  },
  {
   "cell_type": "markdown",
   "metadata": {},
   "source": [
    "## 1.1 Step one: before writing the function, write the code that goes inside the \"meat\" of the function \n",
    "\n",
    "To do so, focus on making the code work for ward 3"
   ]
  },
  {
   "cell_type": "code",
   "execution_count": 3,
   "metadata": {},
   "outputs": [
    {
     "data": {
      "text/plain": [
       "[3, 2, 4]"
      ]
     },
     "execution_count": 3,
     "metadata": {},
     "output_type": "execute_result"
    },
    {
     "data": {
      "text/plain": [
       "2    4685\n",
       "4    2703\n",
       "3    1708\n",
       "Name: WARD, dtype: int64"
      ]
     },
     "execution_count": 3,
     "metadata": {},
     "output_type": "execute_result"
    },
    {
     "data": {
      "text/html": [
       "<div>\n",
       "<style scoped>\n",
       "    .dataframe tbody tr th:only-of-type {\n",
       "        vertical-align: middle;\n",
       "    }\n",
       "\n",
       "    .dataframe tbody tr th {\n",
       "        vertical-align: top;\n",
       "    }\n",
       "\n",
       "    .dataframe thead th {\n",
       "        text-align: right;\n",
       "    }\n",
       "</style>\n",
       "<table border=\"1\" class=\"dataframe\">\n",
       "  <thead>\n",
       "    <tr style=\"text-align: right;\">\n",
       "      <th></th>\n",
       "      <th>WARD</th>\n",
       "      <th>CCN</th>\n",
       "    </tr>\n",
       "  </thead>\n",
       "  <tbody>\n",
       "    <tr>\n",
       "      <th>0</th>\n",
       "      <td>2</td>\n",
       "      <td>4685</td>\n",
       "    </tr>\n",
       "    <tr>\n",
       "      <th>1</th>\n",
       "      <td>3</td>\n",
       "      <td>1708</td>\n",
       "    </tr>\n",
       "    <tr>\n",
       "      <th>2</th>\n",
       "      <td>4</td>\n",
       "      <td>2701</td>\n",
       "    </tr>\n",
       "  </tbody>\n",
       "</table>\n",
       "</div>"
      ],
      "text/plain": [
       "   WARD   CCN\n",
       "0     2  4685\n",
       "1     3  1708\n",
       "2     4  2701"
      ]
     },
     "execution_count": 3,
     "metadata": {},
     "output_type": "execute_result"
    },
    {
     "data": {
      "text/html": [
       "<div>\n",
       "<style scoped>\n",
       "    .dataframe tbody tr th:only-of-type {\n",
       "        vertical-align: middle;\n",
       "    }\n",
       "\n",
       "    .dataframe tbody tr th {\n",
       "        vertical-align: top;\n",
       "    }\n",
       "\n",
       "    .dataframe thead th {\n",
       "        text-align: right;\n",
       "    }\n",
       "</style>\n",
       "<table border=\"1\" class=\"dataframe\">\n",
       "  <thead>\n",
       "    <tr style=\"text-align: right;\">\n",
       "      <th></th>\n",
       "      <th>WARD</th>\n",
       "      <th>CCN</th>\n",
       "    </tr>\n",
       "  </thead>\n",
       "  <tbody>\n",
       "    <tr>\n",
       "      <th>0</th>\n",
       "      <td>2</td>\n",
       "      <td>4685</td>\n",
       "    </tr>\n",
       "  </tbody>\n",
       "</table>\n",
       "</div>"
      ],
      "text/plain": [
       "   WARD   CCN\n",
       "0     2  4685"
      ]
     },
     "execution_count": 3,
     "metadata": {},
     "output_type": "execute_result"
    },
    {
     "name": "stdout",
     "output_type": "stream",
     "text": [
      "Ward with most reports of neighbors is WARD 2 with N reports: 4685\n"
     ]
    }
   ],
   "source": [
    "## first, get neighboring wards\n",
    "## for ward 3\n",
    "neighbor_wards = [3 - 1, 3 + 1]\n",
    "wards_touse = [3] + neighbor_wards \n",
    "wards_touse\n",
    "\n",
    "## then, use isin command to subset the data\n",
    "## to those words\n",
    "df_focal = dc_crim_2020[dc_crim_2020.WARD.isin(wards_touse)].copy()\n",
    "df_focal.WARD.value_counts()\n",
    "\n",
    "## then, use groupby to find unique\n",
    "ward_ccn = df_focal.groupby('WARD')['CCN'].nunique().reset_index()\n",
    "ward_ccn\n",
    "\n",
    "## finally, get the top one (multiple ways)\n",
    "top_ward = ward_ccn.sort_values(by = 'CCN', ascending = False).head(1)\n",
    "top_ward\n",
    "print(\"Ward with most reports of neighbors is WARD \" + str(top_ward['WARD'].values[0]) +\n",
    "     \" with N reports: \" + str(top_ward.CCN.values[0]))"
   ]
  },
  {
   "cell_type": "markdown",
   "metadata": {},
   "source": [
    "## 1.2 Step two: generalize OUTSIDE the function by creating objects that contain what you'll eventually pass in as parameters"
   ]
  },
  {
   "cell_type": "code",
   "execution_count": 4,
   "metadata": {},
   "outputs": [
    {
     "name": "stdout",
     "output_type": "stream",
     "text": [
      "Ward with most reports of neighbors is WARD 5 with N reports: 4391\n"
     ]
    }
   ],
   "source": [
    "## creating one object with focal ward\n",
    "## and using it in first part of code\n",
    "focal_ward = 6\n",
    "neighbor_wards = [focal_ward - 1, focal_ward + 1]\n",
    "wards_touse = [focal_ward] + neighbor_wards \n",
    "\n",
    "## creating another object with the dataframe\n",
    "## and then replacing the specific dataframe name (dc_crim_2020)\n",
    "df = dc_crim_2020.copy()\n",
    "df_focal = df[df.WARD.isin(wards_touse)].copy()\n",
    "\n",
    "## then, use groupby to find unique\n",
    "ward_ccn = df_focal.groupby('WARD')['CCN'].nunique().reset_index()\n",
    "\n",
    "## finally, get the top one (multiple ways)\n",
    "top_ward = ward_ccn.sort_values(by = 'CCN', ascending = False).head(1)\n",
    "print(\"Ward with most reports of neighbors is WARD \" + str(top_ward['WARD'].values[0]) +\n",
    "     \" with N reports: \" + str(top_ward.CCN.values[0]))"
   ]
  },
  {
   "cell_type": "markdown",
   "metadata": {},
   "source": [
    "## 1.3 Step three: copy and paste that code into a function, add parameters, and add documentation \n"
   ]
  },
  {
   "cell_type": "code",
   "execution_count": 5,
   "metadata": {},
   "outputs": [
    {
     "ename": "NameError",
     "evalue": "name 'compare_wards' is not defined",
     "output_type": "error",
     "traceback": [
      "\u001b[0;31m---------------------------------------------------------------------------\u001b[0m",
      "\u001b[0;31mNameError\u001b[0m                                 Traceback (most recent call last)",
      "\u001b[0;32m<ipython-input-5-a4f31bc9ffc9>\u001b[0m in \u001b[0;36m<module>\u001b[0;34m\u001b[0m\n\u001b[0;32m----> 1\u001b[0;31m \u001b[0mhelp\u001b[0m\u001b[0;34m(\u001b[0m\u001b[0mcompare_wards\u001b[0m\u001b[0;34m)\u001b[0m\u001b[0;34m\u001b[0m\u001b[0;34m\u001b[0m\u001b[0m\n\u001b[0m",
      "\u001b[0;31mNameError\u001b[0m: name 'compare_wards' is not defined"
     ]
    }
   ],
   "source": [
    "help(compare_wards)"
   ]
  },
  {
   "cell_type": "code",
   "execution_count": null,
   "metadata": {},
   "outputs": [],
   "source": [
    "def compare_wards(focal_ward: int, df: pd.DataFrame):\n",
    "    \"\"\"\n",
    "    Prints the ward with the most crime reports of its two neighbors\n",
    "    and the number of reports in that ward\n",
    "        Parameters:\n",
    "            focal_ward (int): An integer between 2 and 7 for wards\n",
    "            df (pd.DataFrame): Dataframe to find the wards in\n",
    "\n",
    "        Returns:\n",
    "            Nothing\n",
    "    \"\"\"\n",
    "    ## get list of wards to use\n",
    "    neighbor_wards = [focal_ward - 1, focal_ward + 1]\n",
    "    wards_touse = [focal_ward] + neighbor_wards \n",
    "    ## subset to those\n",
    "    df_focal = df[df.WARD.isin(wards_touse)].copy()\n",
    "    ## find crimes per ward\n",
    "    ward_ccn = df_focal.groupby('WARD')['CCN'].nunique().reset_index()\n",
    "    ## finally, get the top one \n",
    "    top_ward = ward_ccn.sort_values(by = 'CCN', ascending = False).head(1)\n",
    "    ## print\n",
    "    print(\"Ward with most reports of neighbors is WARD \" + \\\n",
    "          str(top_ward['WARD'].values[0]) +\n",
    "     \" with N reports: \" + str(top_ward.CCN.values[0]) + \\\n",
    "    \" out of following wards \" + \"; \".join([str(x) for x in sorted(wards_touse)]))"
   ]
  },
  {
   "cell_type": "markdown",
   "metadata": {},
   "source": [
    "## 1.4 Step four: execute the function\n",
    "\n",
    "Execute the function two times: once with ward 3 and another time with ward 6"
   ]
  },
  {
   "cell_type": "code",
   "execution_count": null,
   "metadata": {},
   "outputs": [],
   "source": [
    "compare_wards(focal_ward = 3, df = dc_crim_2020)\n",
    "compare_wards(focal_ward = 6, df = dc_crim_2020)\n"
   ]
  },
  {
   "cell_type": "markdown",
   "metadata": {},
   "source": [
    "Repeat the execution but instead of copy/pasting two separate lines of code, use list comprehension to execute repeatedly"
   ]
  },
  {
   "cell_type": "code",
   "execution_count": null,
   "metadata": {},
   "outputs": [],
   "source": [
    "for i in [3, 6]:\n",
    "    compare_wards(focal_ward = i, df = dc_crim_2020)"
   ]
  },
  {
   "cell_type": "code",
   "execution_count": null,
   "metadata": {},
   "outputs": [],
   "source": [
    "[compare_wards(focal_ward = i, df = dc_crim_2020) for i in [3, 6]]"
   ]
  },
  {
   "cell_type": "markdown",
   "metadata": {},
   "source": [
    "## 1.5 Step five: modify as needed to handle more cases\n",
    "\n",
    "**Example**: if `focal_ward` is outside 2-7 range (either integer outside that range or wrong type), skip the calculation and print statements that tell user correct format for parameter to pass in\n",
    "\n",
    "Test these statements by executing the function three times and only last one should print the crime counts:\n",
    "- One with ward as a string\n",
    "- Another with ward equal to 20\n",
    "- A third time with ward equal to 5 "
   ]
  },
  {
   "cell_type": "code",
   "execution_count": null,
   "metadata": {},
   "outputs": [],
   "source": [
    "def compare_wards_werrors(focal_ward: int, df: pd.DataFrame):\n",
    "    \"\"\"\n",
    "    Prints the ward with the most crime reports of its two neighbors\n",
    "    and the number of reports in that ward\n",
    "        Parameters:\n",
    "            focal_ward (int): An integer between 2 and 7 for wards\n",
    "            df (pd.DataFrame): Dataframe to find the wards in\n",
    "\n",
    "        Returns:\n",
    "            Nothing\n",
    "    \"\"\"\n",
    "    ## print statement if input not correct\n",
    "    if not isinstance(focal_ward, int):\n",
    "        print(\"Try again; focal ward needs to be integer\")\n",
    "    elif focal_ward < 2 or focal_ward > 7:\n",
    "        print(\"Try again; focal ward integer needs to be 2 through 7\")\n",
    "    else:\n",
    "        ## get list of wards to use\n",
    "        neighbor_wards = [focal_ward - 1, focal_ward + 1]\n",
    "        wards_touse = [focal_ward] + neighbor_wards \n",
    "        ## subset to those\n",
    "        df_focal = df[df.WARD.isin(wards_touse)].copy()\n",
    "        ## find crimes per ward\n",
    "        ward_ccn = df_focal.groupby('WARD')['CCN'].nunique().reset_index()\n",
    "        ## finally, get the top one \n",
    "        top_ward = ward_ccn.sort_values(by = 'CCN', ascending = False).head(1)\n",
    "        ## print\n",
    "        print(\"Ward with most reports of neighbors is WARD \" + \\\n",
    "          str(top_ward['WARD'].values[0]) +\n",
    "         \" with N reports: \" + str(top_ward.CCN.values[0]) + \\\n",
    "        \" out of following wards \" + \"; \".join([str(x) for x in sorted(wards_touse)]))"
   ]
  },
  {
   "cell_type": "code",
   "execution_count": null,
   "metadata": {},
   "outputs": [],
   "source": [
    "compare_wards_werrors(focal_ward = '5', df = dc_crim_2020)\n"
   ]
  },
  {
   "cell_type": "code",
   "execution_count": null,
   "metadata": {},
   "outputs": [],
   "source": [
    "compare_wards(focal_ward = 20, df = dc_crim_2020)\n",
    "compare_wards(focal_ward = 5, df = dc_crim_2020)"
   ]
  },
  {
   "cell_type": "markdown",
   "metadata": {},
   "source": [
    "# 2. Group activity: writing your own function"
   ]
  },
  {
   "cell_type": "markdown",
   "metadata": {},
   "source": [
    "**Task**: we want to start to explore clustering in the timing/location of crimes. \n",
    "\n",
    "For each crime in CCN_examples, we want to want to look in the remaining crime reports for crime reports that are:\n",
    "\n",
    "- Located in the same ward as the focal crime\n",
    "- Reported within 2 days (plus or minus; inclusive) of the focal crime's date (`report_day`)\n",
    "\n",
    "We want the function to return the percentage of those same-ward, near-time crimes that have the same `OFFENSE` as the focal crime "
   ]
  },
  {
   "cell_type": "code",
   "execution_count": 15,
   "metadata": {},
   "outputs": [],
   "source": [
    "## CCN examples\n",
    "CCN_examples = ['20165648', '20123250']\n"
   ]
  },
  {
   "cell_type": "markdown",
   "metadata": {},
   "source": [
    "## 2.1 Here's code that finds matches for the first crime in CCN examples\n",
    "\n",
    "You can adapt this code for your function"
   ]
  },
  {
   "cell_type": "code",
   "execution_count": 26,
   "metadata": {},
   "outputs": [
    {
     "data": {
      "text/html": [
       "<div>\n",
       "<style scoped>\n",
       "    .dataframe tbody tr th:only-of-type {\n",
       "        vertical-align: middle;\n",
       "    }\n",
       "\n",
       "    .dataframe tbody tr th {\n",
       "        vertical-align: top;\n",
       "    }\n",
       "\n",
       "    .dataframe thead th {\n",
       "        text-align: right;\n",
       "    }\n",
       "</style>\n",
       "<table border=\"1\" class=\"dataframe\">\n",
       "  <thead>\n",
       "    <tr style=\"text-align: right;\">\n",
       "      <th></th>\n",
       "      <th>X</th>\n",
       "      <th>Y</th>\n",
       "      <th>CCN</th>\n",
       "      <th>REPORT_DAT</th>\n",
       "      <th>SHIFT</th>\n",
       "      <th>METHOD</th>\n",
       "      <th>OFFENSE</th>\n",
       "      <th>BLOCK</th>\n",
       "      <th>XBLOCK</th>\n",
       "      <th>YBLOCK</th>\n",
       "      <th>...</th>\n",
       "      <th>CENSUS_TRACT</th>\n",
       "      <th>VOTING_PRECINCT</th>\n",
       "      <th>LATITUDE</th>\n",
       "      <th>LONGITUDE</th>\n",
       "      <th>BID</th>\n",
       "      <th>START_DATE</th>\n",
       "      <th>END_DATE</th>\n",
       "      <th>OBJECTID</th>\n",
       "      <th>OCTO_RECORD_ID</th>\n",
       "      <th>report_day</th>\n",
       "    </tr>\n",
       "  </thead>\n",
       "  <tbody>\n",
       "    <tr>\n",
       "      <th>12008</th>\n",
       "      <td>-77.00748</td>\n",
       "      <td>38.904698</td>\n",
       "      <td>20165648</td>\n",
       "      <td>2020/11/20 02:25:50+00</td>\n",
       "      <td>EVENING</td>\n",
       "      <td>OTHERS</td>\n",
       "      <td>MOTOR VEHICLE THEFT</td>\n",
       "      <td>1 - 99 BLOCK OF PIERCE STREET NE</td>\n",
       "      <td>399351.44</td>\n",
       "      <td>137425.96</td>\n",
       "      <td>...</td>\n",
       "      <td>10603.0</td>\n",
       "      <td>Precinct 144</td>\n",
       "      <td>38.90469</td>\n",
       "      <td>-77.007477</td>\n",
       "      <td>NOMA</td>\n",
       "      <td>2020/11/20 00:45:25+00</td>\n",
       "      <td>2020/11/20 00:50:03+00</td>\n",
       "      <td>213102376</td>\n",
       "      <td>NaN</td>\n",
       "      <td>2020-11-20</td>\n",
       "    </tr>\n",
       "  </tbody>\n",
       "</table>\n",
       "<p>1 rows × 26 columns</p>\n",
       "</div>"
      ],
      "text/plain": [
       "              X          Y       CCN              REPORT_DAT    SHIFT  METHOD  \\\n",
       "12008 -77.00748  38.904698  20165648  2020/11/20 02:25:50+00  EVENING  OTHERS   \n",
       "\n",
       "                   OFFENSE                             BLOCK     XBLOCK  \\\n",
       "12008  MOTOR VEHICLE THEFT  1 - 99 BLOCK OF PIERCE STREET NE  399351.44   \n",
       "\n",
       "          YBLOCK  ...  CENSUS_TRACT VOTING_PRECINCT  LATITUDE  LONGITUDE  \\\n",
       "12008  137425.96  ...       10603.0    Precinct 144  38.90469 -77.007477   \n",
       "\n",
       "        BID              START_DATE                END_DATE   OBJECTID  \\\n",
       "12008  NOMA  2020/11/20 00:45:25+00  2020/11/20 00:50:03+00  213102376   \n",
       "\n",
       "       OCTO_RECORD_ID  report_day  \n",
       "12008             NaN  2020-11-20  \n",
       "\n",
       "[1 rows x 26 columns]"
      ]
     },
     "execution_count": 26,
     "metadata": {},
     "output_type": "execute_result"
    },
    {
     "data": {
      "text/html": [
       "<div>\n",
       "<style scoped>\n",
       "    .dataframe tbody tr th:only-of-type {\n",
       "        vertical-align: middle;\n",
       "    }\n",
       "\n",
       "    .dataframe tbody tr th {\n",
       "        vertical-align: top;\n",
       "    }\n",
       "\n",
       "    .dataframe thead th {\n",
       "        text-align: right;\n",
       "    }\n",
       "</style>\n",
       "<table border=\"1\" class=\"dataframe\">\n",
       "  <thead>\n",
       "    <tr style=\"text-align: right;\">\n",
       "      <th></th>\n",
       "      <th>CCN</th>\n",
       "      <th>WARD</th>\n",
       "    </tr>\n",
       "  </thead>\n",
       "  <tbody>\n",
       "    <tr>\n",
       "      <th>3</th>\n",
       "      <td>21400028</td>\n",
       "      <td>6</td>\n",
       "    </tr>\n",
       "    <tr>\n",
       "      <th>21</th>\n",
       "      <td>20003964</td>\n",
       "      <td>6</td>\n",
       "    </tr>\n",
       "    <tr>\n",
       "      <th>31</th>\n",
       "      <td>20004116</td>\n",
       "      <td>6</td>\n",
       "    </tr>\n",
       "    <tr>\n",
       "      <th>34</th>\n",
       "      <td>20004159</td>\n",
       "      <td>6</td>\n",
       "    </tr>\n",
       "    <tr>\n",
       "      <th>35</th>\n",
       "      <td>20004162</td>\n",
       "      <td>6</td>\n",
       "    </tr>\n",
       "  </tbody>\n",
       "</table>\n",
       "</div>"
      ],
      "text/plain": [
       "         CCN  WARD\n",
       "3   21400028     6\n",
       "21  20003964     6\n",
       "31  20004116     6\n",
       "34  20004159     6\n",
       "35  20004162     6"
      ]
     },
     "execution_count": 26,
     "metadata": {},
     "output_type": "execute_result"
    },
    {
     "data": {
      "text/plain": [
       "12008    2020-11-18\n",
       "Name: report_day, dtype: object"
      ]
     },
     "execution_count": 26,
     "metadata": {},
     "output_type": "execute_result"
    },
    {
     "data": {
      "text/plain": [
       "12008    2020-11-22\n",
       "Name: report_day, dtype: object"
      ]
     },
     "execution_count": 26,
     "metadata": {},
     "output_type": "execute_result"
    }
   ],
   "source": [
    "## information for focal crime\n",
    "crime_num = CCN_examples[0]\n",
    "focal_crime_df = dc_crim_2020[dc_crim_2020.CCN.astype(str) == crime_num].copy()\n",
    "focal_crime_df\n",
    "\n",
    "## crimes in same ward that are not the focal crime\n",
    "crimes_lookin = dc_crim_2020[~dc_crim_2020.CCN.isin([crime_num])].copy()\n",
    "same_ward = crimes_lookin[crimes_lookin.WARD.isin(focal_crime_df.WARD)].copy()\n",
    "same_ward[['CCN', 'WARD']].head()\n",
    "\n",
    "## get the dates 2 days before and after\n",
    "lower_bound = focal_crime_df.report_day - timedelta(days = 2)\n",
    "upper_bound = focal_crime_df.report_day + timedelta(days = 2)\n",
    "\n",
    "lower_bound\n",
    "upper_bound"
   ]
  },
  {
   "cell_type": "code",
   "execution_count": 27,
   "metadata": {},
   "outputs": [
    {
     "data": {
      "text/plain": [
       "0.16129032258064516"
      ]
     },
     "execution_count": 27,
     "metadata": {},
     "output_type": "execute_result"
    }
   ],
   "source": [
    "\n",
    "## filter to same ward within that buffer\n",
    "sw_timebuff = same_ward[(same_ward.report_day >= lower_bound.values[0]) &\n",
    "         (same_ward.report_day <= upper_bound.values[0])]\n",
    "\n",
    "## % of reports that are same offense as focal report\n",
    "sw_timebuff[sw_timebuff.OFFENSE == focal_crime_df.OFFENSE.values[0]].shape[0]/sw_timebuff.shape[0]"
   ]
  },
  {
   "cell_type": "markdown",
   "metadata": {},
   "source": [
    "## 2.2 Generalize into a function that:\n",
    "\n",
    "- Takes in an arbitrary CCN identifier string\n",
    "- Takes in an arbitrary number of days to look for crimes in range of (doesn't need to be flexible enough to handle other time buffers like minutes)\n",
    "\n",
    "Execute the function with the first crime we focus on: `20165648'\n",
    "\n",
    "**Note for solutions**: related to question in class, I added a try/except clause to deal with cases where we submit an id that doesn't exist--- this is optional"
   ]
  },
  {
   "cell_type": "code",
   "execution_count": 31,
   "metadata": {},
   "outputs": [],
   "source": [
    "def summarize_nearby_crimes(crime_num: str, \n",
    "                           days_num: int):\n",
    "    \"\"\"\n",
    "    Finds crimes in the same ward as a focal crime and within a certain\n",
    "    number of days (plus or minus)--- summarizes the % of those crimes that \n",
    "    are the same offense as the focal crime\n",
    "        Parameters:\n",
    "            crime_num (str): CCN id\n",
    "            days_num (int): number of days to look for\n",
    "\n",
    "        Returns:\n",
    "            df_perc_same (pd.DataFrame): 2-col dataframe where one col is\n",
    "            crime # and the other is the % of the same-offense nearby crimes\n",
    "    \"\"\"\n",
    "    ## subset to same ward crime\n",
    "    focal_crime_df = dc_crim_2020[dc_crim_2020.CCN.astype(str) == crime_num].copy()\n",
    "    crimes_lookin = dc_crim_2020[~dc_crim_2020.CCN.isin([crime_num])].copy()\n",
    "    same_ward = crimes_lookin[crimes_lookin.WARD.isin(focal_crime_df.WARD)].copy()\n",
    "\n",
    "    ## get upper and lower bound\n",
    "    lower_bound = focal_crime_df.report_day - timedelta(days = days_num)\n",
    "    upper_bound = focal_crime_df.report_day + timedelta(days = days_num)\n",
    "\n",
    "    ## subset \n",
    "    ## filter to same ward within that buffer\n",
    "    sw_timebuff = same_ward[(same_ward.report_day >= lower_bound.values[0]) &\n",
    "     (same_ward.report_day <= upper_bound.values[0])]\n",
    "\n",
    "    ## % of reports that are same offense as focal report\n",
    "    perc_same = sw_timebuff[sw_timebuff.OFFENSE == focal_crime_df.OFFENSE.values[0]].shape[0]\\\n",
    "                    /sw_timebuff.shape[0]\n",
    "\n",
    "    ## package into dataframe for return\n",
    "    ## note the index = [0] syntax allows us to create\n",
    "    ## a one-row dataframe- other approaches\n",
    "    ## discussed here - https://www.stechies.com/valueerror-using-scalar-values-must-pass-index/\n",
    "    df_perc_same = pd.DataFrame({'CCN': crime_num,\n",
    "                                'perc_same': perc_same},\n",
    "                               index = [0])\n",
    "    return(df_perc_same)"
   ]
  },
  {
   "cell_type": "code",
   "execution_count": 37,
   "metadata": {},
   "outputs": [
    {
     "data": {
      "text/html": [
       "<div>\n",
       "<style scoped>\n",
       "    .dataframe tbody tr th:only-of-type {\n",
       "        vertical-align: middle;\n",
       "    }\n",
       "\n",
       "    .dataframe tbody tr th {\n",
       "        vertical-align: top;\n",
       "    }\n",
       "\n",
       "    .dataframe thead th {\n",
       "        text-align: right;\n",
       "    }\n",
       "</style>\n",
       "<table border=\"1\" class=\"dataframe\">\n",
       "  <thead>\n",
       "    <tr style=\"text-align: right;\">\n",
       "      <th></th>\n",
       "      <th>CCN</th>\n",
       "      <th>perc_same</th>\n",
       "    </tr>\n",
       "  </thead>\n",
       "  <tbody>\n",
       "    <tr>\n",
       "      <th>0</th>\n",
       "      <td>20165648</td>\n",
       "      <td>0.16129</td>\n",
       "    </tr>\n",
       "  </tbody>\n",
       "</table>\n",
       "</div>"
      ],
      "text/plain": [
       "        CCN  perc_same\n",
       "0  20165648    0.16129"
      ]
     },
     "execution_count": 37,
     "metadata": {},
     "output_type": "execute_result"
    }
   ],
   "source": [
    "## see that it reproduces the same as above\n",
    "summarize_nearby_crimes(crime_num = \"20165648\",\n",
    "                       days_num = 2)"
   ]
  },
  {
   "cell_type": "markdown",
   "metadata": {},
   "source": [
    "## 2.3 Use list comprehension to iterate over the two focal crimes in CCN_examples and execute the function repeatedly\n",
    "\n",
    "Since the function returns a specific value (the percentage), eventually store the two results in a pandas dataframe that also contains the crime ID (CCN) that corresponds to that percentage"
   ]
  },
  {
   "cell_type": "code",
   "execution_count": 35,
   "metadata": {},
   "outputs": [
    {
     "data": {
      "text/plain": [
       "[        CCN  perc_same\n",
       " 0  20165648    0.16129,\n",
       "         CCN  perc_same\n",
       " 0  20123250   0.136364]"
      ]
     },
     "execution_count": 35,
     "metadata": {},
     "output_type": "execute_result"
    },
    {
     "data": {
      "text/html": [
       "<div>\n",
       "<style scoped>\n",
       "    .dataframe tbody tr th:only-of-type {\n",
       "        vertical-align: middle;\n",
       "    }\n",
       "\n",
       "    .dataframe tbody tr th {\n",
       "        vertical-align: top;\n",
       "    }\n",
       "\n",
       "    .dataframe thead th {\n",
       "        text-align: right;\n",
       "    }\n",
       "</style>\n",
       "<table border=\"1\" class=\"dataframe\">\n",
       "  <thead>\n",
       "    <tr style=\"text-align: right;\">\n",
       "      <th></th>\n",
       "      <th>CCN</th>\n",
       "      <th>perc_same</th>\n",
       "    </tr>\n",
       "  </thead>\n",
       "  <tbody>\n",
       "    <tr>\n",
       "      <th>0</th>\n",
       "      <td>20165648</td>\n",
       "      <td>0.161290</td>\n",
       "    </tr>\n",
       "    <tr>\n",
       "      <th>0</th>\n",
       "      <td>20123250</td>\n",
       "      <td>0.136364</td>\n",
       "    </tr>\n",
       "  </tbody>\n",
       "</table>\n",
       "</div>"
      ],
      "text/plain": [
       "        CCN  perc_same\n",
       "0  20165648   0.161290\n",
       "0  20123250   0.136364"
      ]
     },
     "execution_count": 35,
     "metadata": {},
     "output_type": "execute_result"
    }
   ],
   "source": [
    "## iterate over the two crime ids in CCN_examples\n",
    "crime_summary_list = [summarize_nearby_crimes(crime_num = one_crime,\n",
    "                                             days_num = 2)\n",
    "                     for one_crime in CCN_examples]\n",
    "\n",
    "## returns a list\n",
    "crime_summary_list\n",
    "\n",
    "## we can then concatenate that into a single dataframe\n",
    "## using this row-binding command: https://pandas.pydata.org/docs/reference/api/pandas.concat.html\n",
    "crime_summary_df = pd.concat(crime_summary_list)\n",
    "crime_summary_df"
   ]
  },
  {
   "cell_type": "markdown",
   "metadata": {},
   "source": [
    "## Optional for pset discussion of try/except\n",
    "\n",
    "To answer in-class question, here's one way to incorporate try/except\n",
    "into the function to deal with cases where the function SHOULD throw an error\n"
   ]
  },
  {
   "cell_type": "code",
   "execution_count": 41,
   "metadata": {},
   "outputs": [],
   "source": [
    "def summarize_nearby_crimes_tryexcept(crime_num: str, \n",
    "                           days_num: int):\n",
    "    \"\"\"\n",
    "    Finds crimes in the same ward as a focal crime and within a certain\n",
    "    number of days (plus or minus)--- summarizes the % of those crimes that \n",
    "    are the same offense as the focal crime\n",
    "        Parameters:\n",
    "            crime_num (str): CCN id\n",
    "            days_num (int): number of days to look for\n",
    "\n",
    "        Returns:\n",
    "            df_perc_same (pd.DataFrame): 2-col dataframe where one col is\n",
    "            crime # and the other is the % of the same-offense nearby crimes\n",
    "    \"\"\"\n",
    "    try:\n",
    "        ## subset to same ward crime\n",
    "        focal_crime_df = dc_crim_2020[dc_crim_2020.CCN.astype(str) == crime_num].copy()\n",
    "        crimes_lookin = dc_crim_2020[~dc_crim_2020.CCN.isin([crime_num])].copy()\n",
    "        same_ward = crimes_lookin[crimes_lookin.WARD.isin(focal_crime_df.WARD)].copy()\n",
    "\n",
    "        ## get upper and lower bound\n",
    "        lower_bound = focal_crime_df.report_day - timedelta(days = days_num)\n",
    "        upper_bound = focal_crime_df.report_day + timedelta(days = days_num)\n",
    "\n",
    "        ## subset \n",
    "        ## filter to same ward within that buffer\n",
    "        sw_timebuff = same_ward[(same_ward.report_day >= lower_bound.values[0]) &\n",
    "         (same_ward.report_day <= upper_bound.values[0])]\n",
    "\n",
    "        ## % of reports that are same offense as focal report\n",
    "        perc_same = sw_timebuff[sw_timebuff.OFFENSE == focal_crime_df.OFFENSE.values[0]].shape[0]\\\n",
    "                        /sw_timebuff.shape[0]\n",
    "\n",
    "        ## package into dataframe for return\n",
    "        ## note the index = [0] syntax allows us to create\n",
    "        ## a one-row dataframe- other approaches\n",
    "        ## discussed here - https://www.stechies.com/valueerror-using-scalar-values-must-pass-index/\n",
    "        df_perc_same = pd.DataFrame({'CCN': crime_num,\n",
    "                                    'perc_same': perc_same},\n",
    "                                   index = [0])\n",
    "        return(df_perc_same)\n",
    "    except: \n",
    "        ## most likely error is that the id doesn't exist in the data\n",
    "        ## checking if that's the case by checking the shape of subsetted\n",
    "        ## df (could also use set intersection)\n",
    "        if dc_crim_2020[dc_crim_2020.CCN.astype(str).isin([crime_num])].shape[0] == 0:\n",
    "            print(\"Check the CCN id you're inputting; id not found in data\")\n",
    "        else:\n",
    "            print(\"Other error\")"
   ]
  },
  {
   "cell_type": "code",
   "execution_count": 42,
   "metadata": {},
   "outputs": [
    {
     "data": {
      "text/html": [
       "<div>\n",
       "<style scoped>\n",
       "    .dataframe tbody tr th:only-of-type {\n",
       "        vertical-align: middle;\n",
       "    }\n",
       "\n",
       "    .dataframe tbody tr th {\n",
       "        vertical-align: top;\n",
       "    }\n",
       "\n",
       "    .dataframe thead th {\n",
       "        text-align: right;\n",
       "    }\n",
       "</style>\n",
       "<table border=\"1\" class=\"dataframe\">\n",
       "  <thead>\n",
       "    <tr style=\"text-align: right;\">\n",
       "      <th></th>\n",
       "      <th>CCN</th>\n",
       "      <th>perc_same</th>\n",
       "    </tr>\n",
       "  </thead>\n",
       "  <tbody>\n",
       "    <tr>\n",
       "      <th>0</th>\n",
       "      <td>20165648</td>\n",
       "      <td>0.16129</td>\n",
       "    </tr>\n",
       "  </tbody>\n",
       "</table>\n",
       "</div>"
      ],
      "text/plain": [
       "        CCN  perc_same\n",
       "0  20165648    0.16129"
      ]
     },
     "execution_count": 42,
     "metadata": {},
     "output_type": "execute_result"
    }
   ],
   "source": [
    "summarize_nearby_crimes_tryexcept(crime_num = \"20165648\",\n",
    "                       days_num = 2)"
   ]
  },
  {
   "cell_type": "code",
   "execution_count": 43,
   "metadata": {},
   "outputs": [
    {
     "name": "stdout",
     "output_type": "stream",
     "text": [
      "Check the CCN id you're inputting; id not found in data\n"
     ]
    }
   ],
   "source": [
    "## example executing with an id that doesn't exist \n",
    "summarize_nearby_crimes_tryexcept(crime_num = \"25\",\n",
    "                       days_num = 2)\n"
   ]
  },
  {
   "cell_type": "code",
   "execution_count": 45,
   "metadata": {},
   "outputs": [
    {
     "name": "stdout",
     "output_type": "stream",
     "text": [
      "Other error\n"
     ]
    }
   ],
   "source": [
    "## example with some other issue- two as string and not integer\n",
    "## could write a more specific if/elif statement to cover this\n",
    "## but we're just defaulting to the other category\n",
    "summarize_nearby_crimes_tryexcept(crime_num = \"20165648\",\n",
    "                       days_num = 'two')"
   ]
  }
 ],
 "metadata": {
  "celltoolbar": "Slideshow",
  "kernelspec": {
   "display_name": "Python 3",
   "language": "python",
   "name": "python3"
  },
  "language_info": {
   "codemirror_mode": {
    "name": "ipython",
    "version": 3
   },
   "file_extension": ".py",
   "mimetype": "text/x-python",
   "name": "python",
   "nbconvert_exporter": "python",
   "pygments_lexer": "ipython3",
   "version": "3.8.3"
  }
 },
 "nbformat": 4,
 "nbformat_minor": 4
}
