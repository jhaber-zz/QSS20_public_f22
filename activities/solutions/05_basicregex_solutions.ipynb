{
 "cells": [
  {
   "cell_type": "markdown",
   "metadata": {},
   "source": [
    "# Imports"
   ]
  },
  {
   "cell_type": "code",
   "execution_count": 1,
   "metadata": {},
   "outputs": [],
   "source": [
    "## imports\n",
    "import pandas as pd\n",
    "import re\n",
    "import numpy as np\n",
    "\n",
    "## print multiple things from same cell\n",
    "from IPython.core.interactiveshell import InteractiveShell\n",
    "InteractiveShell.ast_node_interactivity = \"all\""
   ]
  },
  {
   "cell_type": "markdown",
   "metadata": {},
   "source": [
    "# Load data and show examples"
   ]
  },
  {
   "cell_type": "code",
   "execution_count": 2,
   "metadata": {},
   "outputs": [
    {
     "data": {
      "text/html": [
       "<div>\n",
       "<style scoped>\n",
       "    .dataframe tbody tr th:only-of-type {\n",
       "        vertical-align: middle;\n",
       "    }\n",
       "\n",
       "    .dataframe tbody tr th {\n",
       "        vertical-align: top;\n",
       "    }\n",
       "\n",
       "    .dataframe thead th {\n",
       "        text-align: right;\n",
       "    }\n",
       "</style>\n",
       "<table border=\"1\" class=\"dataframe\">\n",
       "  <thead>\n",
       "    <tr style=\"text-align: right;\">\n",
       "      <th></th>\n",
       "      <th>schoolname</th>\n",
       "      <th>individualispjune2020</th>\n",
       "      <th>participatingincepsy2021</th>\n",
       "      <th>is_elem_exercise</th>\n",
       "      <th>is_charter_exercise</th>\n",
       "      <th>is_highschool_exercise</th>\n",
       "    </tr>\n",
       "  </thead>\n",
       "  <tbody>\n",
       "    <tr>\n",
       "      <th>0</th>\n",
       "      <td>stove prairie elementary school</td>\n",
       "      <td>0</td>\n",
       "      <td>N</td>\n",
       "      <td>True</td>\n",
       "      <td>False</td>\n",
       "      <td>False</td>\n",
       "    </tr>\n",
       "    <tr>\n",
       "      <th>1</th>\n",
       "      <td>stewart county elementary school</td>\n",
       "      <td>0.7603</td>\n",
       "      <td>Y</td>\n",
       "      <td>True</td>\n",
       "      <td>False</td>\n",
       "      <td>False</td>\n",
       "    </tr>\n",
       "    <tr>\n",
       "      <th>2</th>\n",
       "      <td>desert springs elementary school</td>\n",
       "      <td>NaN</td>\n",
       "      <td>N</td>\n",
       "      <td>True</td>\n",
       "      <td>False</td>\n",
       "      <td>False</td>\n",
       "    </tr>\n",
       "    <tr>\n",
       "      <th>3</th>\n",
       "      <td>saunemin elem school</td>\n",
       "      <td>0.38939999999999997</td>\n",
       "      <td>N</td>\n",
       "      <td>True</td>\n",
       "      <td>False</td>\n",
       "      <td>False</td>\n",
       "    </tr>\n",
       "    <tr>\n",
       "      <th>4</th>\n",
       "      <td>fifth district elementary</td>\n",
       "      <td>0.0275</td>\n",
       "      <td>N</td>\n",
       "      <td>True</td>\n",
       "      <td>False</td>\n",
       "      <td>False</td>\n",
       "    </tr>\n",
       "  </tbody>\n",
       "</table>\n",
       "</div>"
      ],
      "text/plain": [
       "                         schoolname individualispjune2020  \\\n",
       "0   stove prairie elementary school                     0   \n",
       "1  stewart county elementary school                0.7603   \n",
       "2  desert springs elementary school                   NaN   \n",
       "3              saunemin elem school   0.38939999999999997   \n",
       "4         fifth district elementary                0.0275   \n",
       "\n",
       "  participatingincepsy2021  is_elem_exercise  is_charter_exercise  \\\n",
       "0                        N              True                False   \n",
       "1                        Y              True                False   \n",
       "2                        N              True                False   \n",
       "3                        N              True                False   \n",
       "4                        N              True                False   \n",
       "\n",
       "   is_highschool_exercise  \n",
       "0                   False  \n",
       "1                   False  \n",
       "2                   False  \n",
       "3                   False  \n",
       "4                   False  "
      ]
     },
     "execution_count": 2,
     "metadata": {},
     "output_type": "execute_result"
    }
   ],
   "source": [
    "schools_df = pd.read_csv(\"../../public_data/schools_df.csv\")\n",
    "schools_df.head()"
   ]
  },
  {
   "cell_type": "markdown",
   "metadata": {},
   "source": [
    "# re.sub illustration\n",
    "\n",
    "**Task**: \n",
    "\n",
    "- Use the dataset: `school_df` and filter to `is_elem_exercise` == True \n",
    "- Using the `schoolname` field, replace the different varieties of elementary school in the data with `elemschool` "
   ]
  },
  {
   "cell_type": "markdown",
   "metadata": {},
   "source": [
    "## Incorrect approach \n",
    "\n",
    "Returns incorrect results that we'll see below"
   ]
  },
  {
   "cell_type": "code",
   "execution_count": 3,
   "metadata": {},
   "outputs": [
    {
     "data": {
      "text/html": [
       "<div>\n",
       "<style scoped>\n",
       "    .dataframe tbody tr th:only-of-type {\n",
       "        vertical-align: middle;\n",
       "    }\n",
       "\n",
       "    .dataframe tbody tr th {\n",
       "        vertical-align: top;\n",
       "    }\n",
       "\n",
       "    .dataframe thead th {\n",
       "        text-align: right;\n",
       "    }\n",
       "</style>\n",
       "<table border=\"1\" class=\"dataframe\">\n",
       "  <thead>\n",
       "    <tr style=\"text-align: right;\">\n",
       "      <th></th>\n",
       "      <th>schoolname</th>\n",
       "      <th>individualispjune2020</th>\n",
       "      <th>participatingincepsy2021</th>\n",
       "      <th>is_elem_exercise</th>\n",
       "      <th>is_charter_exercise</th>\n",
       "      <th>is_highschool_exercise</th>\n",
       "    </tr>\n",
       "  </thead>\n",
       "  <tbody>\n",
       "    <tr>\n",
       "      <th>0</th>\n",
       "      <td>stove prairie elementary school</td>\n",
       "      <td>0</td>\n",
       "      <td>N</td>\n",
       "      <td>True</td>\n",
       "      <td>False</td>\n",
       "      <td>False</td>\n",
       "    </tr>\n",
       "    <tr>\n",
       "      <th>1</th>\n",
       "      <td>stewart county elementary school</td>\n",
       "      <td>0.7603</td>\n",
       "      <td>Y</td>\n",
       "      <td>True</td>\n",
       "      <td>False</td>\n",
       "      <td>False</td>\n",
       "    </tr>\n",
       "    <tr>\n",
       "      <th>2</th>\n",
       "      <td>desert springs elementary school</td>\n",
       "      <td>NaN</td>\n",
       "      <td>N</td>\n",
       "      <td>True</td>\n",
       "      <td>False</td>\n",
       "      <td>False</td>\n",
       "    </tr>\n",
       "    <tr>\n",
       "      <th>3</th>\n",
       "      <td>saunemin elem school</td>\n",
       "      <td>0.38939999999999997</td>\n",
       "      <td>N</td>\n",
       "      <td>True</td>\n",
       "      <td>False</td>\n",
       "      <td>False</td>\n",
       "    </tr>\n",
       "    <tr>\n",
       "      <th>4</th>\n",
       "      <td>fifth district elementary</td>\n",
       "      <td>0.0275</td>\n",
       "      <td>N</td>\n",
       "      <td>True</td>\n",
       "      <td>False</td>\n",
       "      <td>False</td>\n",
       "    </tr>\n",
       "  </tbody>\n",
       "</table>\n",
       "</div>"
      ],
      "text/plain": [
       "                         schoolname individualispjune2020  \\\n",
       "0   stove prairie elementary school                     0   \n",
       "1  stewart county elementary school                0.7603   \n",
       "2  desert springs elementary school                   NaN   \n",
       "3              saunemin elem school   0.38939999999999997   \n",
       "4         fifth district elementary                0.0275   \n",
       "\n",
       "  participatingincepsy2021  is_elem_exercise  is_charter_exercise  \\\n",
       "0                        N              True                False   \n",
       "1                        Y              True                False   \n",
       "2                        N              True                False   \n",
       "3                        N              True                False   \n",
       "4                        N              True                False   \n",
       "\n",
       "   is_highschool_exercise  \n",
       "0                   False  \n",
       "1                   False  \n",
       "2                   False  \n",
       "3                   False  \n",
       "4                   False  "
      ]
     },
     "execution_count": 3,
     "metadata": {},
     "output_type": "execute_result"
    }
   ],
   "source": [
    "elem_ex = schools_df[schools_df.is_elem_exercise].copy()\n",
    "elem_ex.head()"
   ]
  },
  {
   "cell_type": "code",
   "execution_count": 4,
   "metadata": {},
   "outputs": [
    {
     "data": {
      "text/html": [
       "<div>\n",
       "<style scoped>\n",
       "    .dataframe tbody tr th:only-of-type {\n",
       "        vertical-align: middle;\n",
       "    }\n",
       "\n",
       "    .dataframe tbody tr th {\n",
       "        vertical-align: top;\n",
       "    }\n",
       "\n",
       "    .dataframe thead th {\n",
       "        text-align: right;\n",
       "    }\n",
       "</style>\n",
       "<table border=\"1\" class=\"dataframe\">\n",
       "  <thead>\n",
       "    <tr style=\"text-align: right;\">\n",
       "      <th></th>\n",
       "      <th>schoolname</th>\n",
       "      <th>cleaned_name_try1</th>\n",
       "    </tr>\n",
       "  </thead>\n",
       "  <tbody>\n",
       "    <tr>\n",
       "      <th>0</th>\n",
       "      <td>stove prairie elementary school</td>\n",
       "      <td>stove prairie elemschool school</td>\n",
       "    </tr>\n",
       "    <tr>\n",
       "      <th>1</th>\n",
       "      <td>stewart county elementary school</td>\n",
       "      <td>stewart county elemschool school</td>\n",
       "    </tr>\n",
       "    <tr>\n",
       "      <th>2</th>\n",
       "      <td>desert springs elementary school</td>\n",
       "      <td>desert springs elemschool school</td>\n",
       "    </tr>\n",
       "    <tr>\n",
       "      <th>3</th>\n",
       "      <td>saunemin elem school</td>\n",
       "      <td>saunemin elemschool school</td>\n",
       "    </tr>\n",
       "    <tr>\n",
       "      <th>4</th>\n",
       "      <td>fifth district elementary</td>\n",
       "      <td>fifth district elemschool</td>\n",
       "    </tr>\n",
       "    <tr>\n",
       "      <th>5</th>\n",
       "      <td>paint branch elementary</td>\n",
       "      <td>paint branch elemschool</td>\n",
       "    </tr>\n",
       "    <tr>\n",
       "      <th>6</th>\n",
       "      <td>oak hill elem.</td>\n",
       "      <td>oak hill elemschool.</td>\n",
       "    </tr>\n",
       "    <tr>\n",
       "      <th>7</th>\n",
       "      <td>lewis and clark elem.</td>\n",
       "      <td>lewis and clark elemschool.</td>\n",
       "    </tr>\n",
       "    <tr>\n",
       "      <th>8</th>\n",
       "      <td>linden elementary school</td>\n",
       "      <td>linden elemschool school</td>\n",
       "    </tr>\n",
       "    <tr>\n",
       "      <th>9</th>\n",
       "      <td>winchester avenue elementary school</td>\n",
       "      <td>winchester avenue elemschool school</td>\n",
       "    </tr>\n",
       "  </tbody>\n",
       "</table>\n",
       "</div>"
      ],
      "text/plain": [
       "                            schoolname                    cleaned_name_try1\n",
       "0      stove prairie elementary school      stove prairie elemschool school\n",
       "1     stewart county elementary school     stewart county elemschool school\n",
       "2     desert springs elementary school     desert springs elemschool school\n",
       "3                 saunemin elem school           saunemin elemschool school\n",
       "4            fifth district elementary            fifth district elemschool\n",
       "5              paint branch elementary              paint branch elemschool\n",
       "6                       oak hill elem.                 oak hill elemschool.\n",
       "7                lewis and clark elem.          lewis and clark elemschool.\n",
       "8             linden elementary school             linden elemschool school\n",
       "9  winchester avenue elementary school  winchester avenue elemschool school"
      ]
     },
     "execution_count": 4,
     "metadata": {},
     "output_type": "execute_result"
    }
   ],
   "source": [
    "elem_pattern = r\"elementary|elem|elem\\.|elementary school\"\n",
    "\n",
    "new_schools = [re.sub(elem_pattern, \"elemschool\", school) \n",
    "               for school in elem_ex.schoolname]\n",
    "\n",
    "elem_ex['cleaned_name_try1'] = new_schools\n",
    "elem_ex[[\"schoolname\", \"cleaned_name_try1\"]]"
   ]
  },
  {
   "cell_type": "markdown",
   "metadata": {},
   "source": [
    "## A correct approach\n",
    "\n",
    "Addresses issues above with `elementary school` and `elem.`"
   ]
  },
  {
   "cell_type": "code",
   "execution_count": 5,
   "metadata": {},
   "outputs": [
    {
     "data": {
      "text/html": [
       "<div>\n",
       "<style scoped>\n",
       "    .dataframe tbody tr th:only-of-type {\n",
       "        vertical-align: middle;\n",
       "    }\n",
       "\n",
       "    .dataframe tbody tr th {\n",
       "        vertical-align: top;\n",
       "    }\n",
       "\n",
       "    .dataframe thead th {\n",
       "        text-align: right;\n",
       "    }\n",
       "</style>\n",
       "<table border=\"1\" class=\"dataframe\">\n",
       "  <thead>\n",
       "    <tr style=\"text-align: right;\">\n",
       "      <th></th>\n",
       "      <th>schoolname</th>\n",
       "      <th>cleaned_name_try1</th>\n",
       "      <th>cleaned_name_try2</th>\n",
       "    </tr>\n",
       "  </thead>\n",
       "  <tbody>\n",
       "    <tr>\n",
       "      <th>0</th>\n",
       "      <td>stove prairie elementary school</td>\n",
       "      <td>stove prairie elemschool school</td>\n",
       "      <td>stove prairie elemschool</td>\n",
       "    </tr>\n",
       "    <tr>\n",
       "      <th>1</th>\n",
       "      <td>stewart county elementary school</td>\n",
       "      <td>stewart county elemschool school</td>\n",
       "      <td>stewart county elemschool</td>\n",
       "    </tr>\n",
       "    <tr>\n",
       "      <th>2</th>\n",
       "      <td>desert springs elementary school</td>\n",
       "      <td>desert springs elemschool school</td>\n",
       "      <td>desert springs elemschool</td>\n",
       "    </tr>\n",
       "    <tr>\n",
       "      <th>3</th>\n",
       "      <td>saunemin elem school</td>\n",
       "      <td>saunemin elemschool school</td>\n",
       "      <td>saunemin elemschool</td>\n",
       "    </tr>\n",
       "    <tr>\n",
       "      <th>4</th>\n",
       "      <td>fifth district elementary</td>\n",
       "      <td>fifth district elemschool</td>\n",
       "      <td>fifth district elemschool</td>\n",
       "    </tr>\n",
       "    <tr>\n",
       "      <th>5</th>\n",
       "      <td>paint branch elementary</td>\n",
       "      <td>paint branch elemschool</td>\n",
       "      <td>paint branch elemschool</td>\n",
       "    </tr>\n",
       "    <tr>\n",
       "      <th>6</th>\n",
       "      <td>oak hill elem.</td>\n",
       "      <td>oak hill elemschool.</td>\n",
       "      <td>oak hill elemschool</td>\n",
       "    </tr>\n",
       "    <tr>\n",
       "      <th>7</th>\n",
       "      <td>lewis and clark elem.</td>\n",
       "      <td>lewis and clark elemschool.</td>\n",
       "      <td>lewis and clark elemschool</td>\n",
       "    </tr>\n",
       "    <tr>\n",
       "      <th>8</th>\n",
       "      <td>linden elementary school</td>\n",
       "      <td>linden elemschool school</td>\n",
       "      <td>linden elemschool</td>\n",
       "    </tr>\n",
       "    <tr>\n",
       "      <th>9</th>\n",
       "      <td>winchester avenue elementary school</td>\n",
       "      <td>winchester avenue elemschool school</td>\n",
       "      <td>winchester avenue elemschool</td>\n",
       "    </tr>\n",
       "  </tbody>\n",
       "</table>\n",
       "</div>"
      ],
      "text/plain": [
       "                            schoolname                    cleaned_name_try1  \\\n",
       "0      stove prairie elementary school      stove prairie elemschool school   \n",
       "1     stewart county elementary school     stewart county elemschool school   \n",
       "2     desert springs elementary school     desert springs elemschool school   \n",
       "3                 saunemin elem school           saunemin elemschool school   \n",
       "4            fifth district elementary            fifth district elemschool   \n",
       "5              paint branch elementary              paint branch elemschool   \n",
       "6                       oak hill elem.                 oak hill elemschool.   \n",
       "7                lewis and clark elem.          lewis and clark elemschool.   \n",
       "8             linden elementary school             linden elemschool school   \n",
       "9  winchester avenue elementary school  winchester avenue elemschool school   \n",
       "\n",
       "              cleaned_name_try2  \n",
       "0      stove prairie elemschool  \n",
       "1     stewart county elemschool  \n",
       "2     desert springs elemschool  \n",
       "3           saunemin elemschool  \n",
       "4     fifth district elemschool  \n",
       "5       paint branch elemschool  \n",
       "6           oak hill elemschool  \n",
       "7    lewis and clark elemschool  \n",
       "8             linden elemschool  \n",
       "9  winchester avenue elemschool  "
      ]
     },
     "execution_count": 5,
     "metadata": {},
     "output_type": "execute_result"
    }
   ],
   "source": [
    "elem_pattern_try2 = r\"(elem.*)(\\s+)?(school)?\"\n",
    "    \n",
    "new_schools_try2 = [re.sub(elem_pattern_try2, \"elemschool\", school) \n",
    "                   for school in elem_ex.schoolname]    \n",
    "\n",
    "elem_ex['cleaned_name_try2'] = new_schools_try2\n",
    "elem_ex[[\"schoolname\", \"cleaned_name_try1\", \"cleaned_name_try2\"]]"
   ]
  },
  {
   "cell_type": "markdown",
   "metadata": {},
   "source": [
    "# re.findall and re.search illustrations"
   ]
  },
  {
   "cell_type": "markdown",
   "metadata": {},
   "source": [
    "**Task**: \n",
    "\n",
    "- Filter to `is_charter_exercise` == True; note that this contains a mix of schools with charter in the name and schools without\n",
    "- Construct a pattern that, for charter schools, gets the school name prior to appearance of the word charter. School names without charter will not have matches (so Hanover Charter becomes Hanover; Hanover High stays Hanover High)\n"
   ]
  },
  {
   "cell_type": "markdown",
   "metadata": {},
   "source": [
    "## re.findall "
   ]
  },
  {
   "cell_type": "code",
   "execution_count": 6,
   "metadata": {},
   "outputs": [
    {
     "data": {
      "text/html": [
       "<div>\n",
       "<style scoped>\n",
       "    .dataframe tbody tr th:only-of-type {\n",
       "        vertical-align: middle;\n",
       "    }\n",
       "\n",
       "    .dataframe tbody tr th {\n",
       "        vertical-align: top;\n",
       "    }\n",
       "\n",
       "    .dataframe thead th {\n",
       "        text-align: right;\n",
       "    }\n",
       "</style>\n",
       "<table border=\"1\" class=\"dataframe\">\n",
       "  <thead>\n",
       "    <tr style=\"text-align: right;\">\n",
       "      <th></th>\n",
       "      <th>schoolname</th>\n",
       "      <th>individualispjune2020</th>\n",
       "      <th>participatingincepsy2021</th>\n",
       "      <th>is_elem_exercise</th>\n",
       "      <th>is_charter_exercise</th>\n",
       "      <th>is_highschool_exercise</th>\n",
       "    </tr>\n",
       "  </thead>\n",
       "  <tbody>\n",
       "    <tr>\n",
       "      <th>10</th>\n",
       "      <td>frontier elementary school</td>\n",
       "      <td>8.51%</td>\n",
       "      <td>N</td>\n",
       "      <td>False</td>\n",
       "      <td>True</td>\n",
       "      <td>False</td>\n",
       "    </tr>\n",
       "    <tr>\n",
       "      <th>11</th>\n",
       "      <td>life source international charter</td>\n",
       "      <td>0.7201946472019465</td>\n",
       "      <td>Y</td>\n",
       "      <td>False</td>\n",
       "      <td>True</td>\n",
       "      <td>False</td>\n",
       "    </tr>\n",
       "    <tr>\n",
       "      <th>12</th>\n",
       "      <td>east valley senior high</td>\n",
       "      <td>0.45807770961145194</td>\n",
       "      <td>Y</td>\n",
       "      <td>False</td>\n",
       "      <td>True</td>\n",
       "      <td>False</td>\n",
       "    </tr>\n",
       "    <tr>\n",
       "      <th>13</th>\n",
       "      <td>children's community charter</td>\n",
       "      <td>0.8888888888888888</td>\n",
       "      <td>Y</td>\n",
       "      <td>False</td>\n",
       "      <td>True</td>\n",
       "      <td>False</td>\n",
       "    </tr>\n",
       "    <tr>\n",
       "      <th>14</th>\n",
       "      <td>south fork elementary</td>\n",
       "      <td>0.49640287769784175</td>\n",
       "      <td>Y</td>\n",
       "      <td>False</td>\n",
       "      <td>True</td>\n",
       "      <td>False</td>\n",
       "    </tr>\n",
       "    <tr>\n",
       "      <th>15</th>\n",
       "      <td>thomas edison charter academy                 ...</td>\n",
       "      <td>0.2855191256830601</td>\n",
       "      <td>N</td>\n",
       "      <td>False</td>\n",
       "      <td>True</td>\n",
       "      <td>False</td>\n",
       "    </tr>\n",
       "  </tbody>\n",
       "</table>\n",
       "</div>"
      ],
      "text/plain": [
       "                                           schoolname individualispjune2020  \\\n",
       "10                         frontier elementary school                 8.51%   \n",
       "11                  life source international charter    0.7201946472019465   \n",
       "12                            east valley senior high   0.45807770961145194   \n",
       "13                       children's community charter    0.8888888888888888   \n",
       "14                              south fork elementary   0.49640287769784175   \n",
       "15  thomas edison charter academy                 ...    0.2855191256830601   \n",
       "\n",
       "   participatingincepsy2021  is_elem_exercise  is_charter_exercise  \\\n",
       "10                        N             False                 True   \n",
       "11                        Y             False                 True   \n",
       "12                        Y             False                 True   \n",
       "13                        Y             False                 True   \n",
       "14                        Y             False                 True   \n",
       "15                        N             False                 True   \n",
       "\n",
       "    is_highschool_exercise  \n",
       "10                   False  \n",
       "11                   False  \n",
       "12                   False  \n",
       "13                   False  \n",
       "14                   False  \n",
       "15                   False  "
      ]
     },
     "execution_count": 6,
     "metadata": {},
     "output_type": "execute_result"
    }
   ],
   "source": [
    "## filter to charter exercise\n",
    "charter_ex = schools_df[schools_df.is_charter_exercise].copy()\n",
    "charter_ex.head(6)"
   ]
  },
  {
   "cell_type": "code",
   "execution_count": 7,
   "metadata": {},
   "outputs": [
    {
     "data": {
      "text/plain": [
       "[[],\n",
       " [('life source international', 'charter', '', '')],\n",
       " [],\n",
       " [(\"children's community\", 'charter', '', '')],\n",
       " [],\n",
       " [('thomas edison', 'charter', ' ', 'academy')],\n",
       " [('moving everest', 'charter', ' ', 'school')],\n",
       " [],\n",
       " [],\n",
       " [('south valley academy', 'charter', ' ', 'school')],\n",
       " [('brighter choice', 'charter', ' ', 'school')],\n",
       " [('buffalo collegiate', 'charter', ' ', 'school')],\n",
       " [('neighborhood', 'charter', ' ', 'school')],\n",
       " [],\n",
       " [],\n",
       " []]"
      ]
     },
     "execution_count": 7,
     "metadata": {},
     "output_type": "execute_result"
    }
   ],
   "source": [
    "## charter pattern\n",
    "charter_pattern = r\"(.*)\\s+(charter)(\\s+)?(\\w+)?\"\n",
    "\n",
    "## findall \n",
    "test_charter_findall = [re.findall(charter_pattern, \n",
    "                    school) for school in charter_ex.schoolname]\n",
    "\n",
    "## print result\n",
    "test_charter_findall"
   ]
  },
  {
   "cell_type": "code",
   "execution_count": 8,
   "metadata": {},
   "outputs": [
    {
     "name": "stdout",
     "output_type": "stream",
     "text": [
      "life source international\n"
     ]
    }
   ],
   "source": [
    "## show example of one\n",
    "print(test_charter_findall[1][0][0])"
   ]
  },
  {
   "cell_type": "markdown",
   "metadata": {},
   "source": [
    "## re.search"
   ]
  },
  {
   "cell_type": "code",
   "execution_count": 9,
   "metadata": {},
   "outputs": [
    {
     "data": {
      "text/plain": [
       "[None,\n",
       " <re.Match object; span=(0, 33), match='life source international charter'>,\n",
       " None,\n",
       " <re.Match object; span=(0, 28), match=\"children's community charter\">,\n",
       " None,\n",
       " <re.Match object; span=(0, 29), match='thomas edison charter academy'>,\n",
       " <re.Match object; span=(0, 29), match='moving everest charter school'>,\n",
       " None,\n",
       " None,\n",
       " <re.Match object; span=(0, 35), match='south valley academy charter school'>,\n",
       " <re.Match object; span=(0, 30), match='brighter choice charter school'>,\n",
       " <re.Match object; span=(0, 33), match='buffalo collegiate charter school'>,\n",
       " <re.Match object; span=(0, 27), match='neighborhood charter school'>,\n",
       " None,\n",
       " None,\n",
       " None]"
      ]
     },
     "execution_count": 9,
     "metadata": {},
     "output_type": "execute_result"
    }
   ],
   "source": [
    "## get matches\n",
    "test_charter_search = [re.search(charter_pattern, \n",
    "                    school) for school in charter_ex.schoolname]\n",
    "\n",
    "test_charter_search\n"
   ]
  },
  {
   "cell_type": "code",
   "execution_count": 10,
   "metadata": {},
   "outputs": [
    {
     "data": {
      "text/plain": [
       "<re.Match object; span=(0, 29), match='thomas edison charter academy'>"
      ]
     },
     "execution_count": 10,
     "metadata": {},
     "output_type": "execute_result"
    },
    {
     "data": {
      "text/plain": [
       "'thomas edison'"
      ]
     },
     "execution_count": 10,
     "metadata": {},
     "output_type": "execute_result"
    }
   ],
   "source": [
    "## extract matches\n",
    "\n",
    "### here, we're just focusing on the 3rd match or the 5th entry (thomas edison charter academy)\n",
    "### and we're getting the first group from that match\n",
    "thomas_match = test_charter_search[5]\n",
    "thomas_match\n",
    "\n",
    "### example where we're just getting the first group\n",
    "### (name of school before charter)\n",
    "thomas_firstgroup = thomas_match.group(1)\n",
    "thomas_firstgroup\n"
   ]
  },
  {
   "cell_type": "code",
   "execution_count": 11,
   "metadata": {},
   "outputs": [
    {
     "name": "stdout",
     "output_type": "stream",
     "text": [
      "Group 0 is: \n",
      "thomas edison charter academy\n",
      "Group 1 is: \n",
      "thomas edison\n",
      "Group 2 is: \n",
      "charter\n",
      "Group 3 is: \n",
      " \n",
      "Group 4 is: \n",
      "academy\n"
     ]
    }
   ],
   "source": [
    "### iterate over all groups and print\n",
    "for i in range(0, len(thomas_match.groups())+1):\n",
    "    print(\"Group \" + str(i) + \" is: \")\n",
    "    print(thomas_match.group(i))\n",
    "\n",
    "## see error if we go beyond actual number of \n",
    "## groups thomas_match.group(5)"
   ]
  },
  {
   "cell_type": "code",
   "execution_count": 12,
   "metadata": {},
   "outputs": [
    {
     "data": {
      "text/plain": [
       "('thomas edison', 'charter', ' ', 'academy')"
      ]
     },
     "execution_count": 12,
     "metadata": {},
     "output_type": "execute_result"
    },
    {
     "data": {
      "text/plain": [
       "('thomas edison', 'charter')"
      ]
     },
     "execution_count": 12,
     "metadata": {},
     "output_type": "execute_result"
    }
   ],
   "source": [
    "## can also extract the groups as a tuple\n",
    "## example- want to return group 1 and group 2 and paste together\n",
    "thomas_groups_all = thomas_match.groups()\n",
    "thomas_groups_all\n",
    "\n",
    "## slice the tuple\n",
    "thomas_groups_all[0:2]\n"
   ]
  },
  {
   "cell_type": "code",
   "execution_count": 13,
   "metadata": {},
   "outputs": [
    {
     "data": {
      "text/plain": [
       "['',\n",
       " 'life source international',\n",
       " '',\n",
       " \"children's community\",\n",
       " '',\n",
       " 'thomas edison',\n",
       " 'moving everest',\n",
       " '',\n",
       " '',\n",
       " 'south valley academy',\n",
       " 'brighter choice',\n",
       " 'buffalo collegiate',\n",
       " 'neighborhood',\n",
       " '',\n",
       " '',\n",
       " '']"
      ]
     },
     "execution_count": 13,
     "metadata": {},
     "output_type": "execute_result"
    }
   ],
   "source": [
    "## can generalize to the full list with ifelse\n",
    "def get_precharter_name(one_matchobj):\n",
    "    \n",
    "    if one_matchobj:\n",
    "        school_name = one_matchobj.group(1)\n",
    "    else:\n",
    "        school_name = \"\"\n",
    "    \n",
    "    return(school_name)\n",
    "\n",
    "all_charter_match = [get_precharter_name(one_search) \n",
    "                    for one_search in test_charter_search]\n",
    "\n",
    "all_charter_match"
   ]
  },
  {
   "cell_type": "markdown",
   "metadata": {},
   "source": [
    "# Group activity\n",
    "\n",
    "- Filter the data to `is_highschool_exercise` is True \n",
    "- You want to find the names of high schools. Try out some patterns to standardize the high school names (e.g., `high school` and `high` could both become `highschool`)\n",
    "- Then, using some example results, try writing a regex pattern and using re.match to get the name of the school that precedes the `highschool` part of the name (e.g., `new trier highschool` -> `new trier`)\n"
   ]
  },
  {
   "cell_type": "markdown",
   "metadata": {},
   "source": [
    "### Standardizing high school name"
   ]
  },
  {
   "cell_type": "code",
   "execution_count": 14,
   "metadata": {},
   "outputs": [
    {
     "data": {
      "text/plain": [
       "['mount pleasant area jshs',\n",
       " 'huron high school',\n",
       " 'thomson high school',\n",
       " 'kings county office of education highland facility',\n",
       " 'clovis east high',\n",
       " 'camden jr. high school',\n",
       " 'jackson junior high',\n",
       " 'emmett junior high school',\n",
       " 'atkins high',\n",
       " 'lexington senior high',\n",
       " 'temple hs',\n",
       " 'forest hill high school',\n",
       " 'pittsfield high',\n",
       " 'matanzas high school',\n",
       " 'pontiac high school']"
      ]
     },
     "execution_count": 14,
     "metadata": {},
     "output_type": "execute_result"
    }
   ],
   "source": [
    "hs_examples = schools_df[schools_df.is_highschool_exercise].reset_index(drop=True).copy()\n",
    "[name for name in hs_examples['schoolname']]"
   ]
  },
  {
   "cell_type": "code",
   "execution_count": 15,
   "metadata": {},
   "outputs": [
    {
     "data": {
      "text/plain": [
       "['mount pleasant area jshs',\n",
       " 'huron highschool',\n",
       " 'thomson highschool',\n",
       " 'kings county office of education highland facility',\n",
       " 'clovis east highschool',\n",
       " 'camden jr. highschool',\n",
       " 'jackson junior highschool',\n",
       " 'emmett junior highschool',\n",
       " 'atkins highschool',\n",
       " 'lexington senior highschool',\n",
       " 'temple highschool',\n",
       " 'forest hill highschool',\n",
       " 'pittsfield highschool',\n",
       " 'matanzas highschool',\n",
       " 'pontiac highschool']"
      ]
     },
     "execution_count": 15,
     "metadata": {},
     "output_type": "execute_result"
    }
   ],
   "source": [
    "## for now, ignoring jr/senior distinction\n",
    "## and matching on high school, high, and hs\n",
    "\n",
    "## to avoid matching things like highland, \n",
    "## after high or hs, add (\\s|$) that tells it \n",
    "## to either look for a space or look for the \n",
    "## end of the string\n",
    "hs_sub_pattern = r\"(\\shigh(\\s|$)|\\shs(\\s|$)?)(\\s+)?(school)?\"\n",
    "test_pat_examples = [re.sub(hs_sub_pattern, \" highschool\", example) \n",
    "                    for example in hs_examples.schoolname]\n",
    "\n",
    "test_pat_examples"
   ]
  },
  {
   "cell_type": "code",
   "execution_count": 16,
   "metadata": {},
   "outputs": [],
   "source": [
    "### apply over all and assign as a new column\n",
    "### since we're pulling from original df\n",
    "### casting it to string since was object\n",
    "hs_clean_all = [re.sub(hs_sub_pattern, \" highschool\", str(oneschool)) \n",
    "                    for oneschool in hs_examples.schoolname.to_list()]\n",
    "\n",
    "\n",
    "### assign as col\n",
    "hs_examples['school_cleanhs'] = hs_clean_all"
   ]
  },
  {
   "cell_type": "markdown",
   "metadata": {},
   "source": [
    "### With some examples, pulling out name of school before high"
   ]
  },
  {
   "cell_type": "code",
   "execution_count": 17,
   "metadata": {},
   "outputs": [
    {
     "data": {
      "text/plain": [
       "[None,\n",
       " <re.Match object; span=(0, 16), match='huron highschool'>,\n",
       " <re.Match object; span=(0, 18), match='thomson highschool'>,\n",
       " None,\n",
       " <re.Match object; span=(0, 22), match='clovis east highschool'>,\n",
       " <re.Match object; span=(0, 21), match='camden jr. highschool'>,\n",
       " <re.Match object; span=(0, 25), match='jackson junior highschool'>,\n",
       " <re.Match object; span=(0, 24), match='emmett junior highschool'>,\n",
       " <re.Match object; span=(0, 17), match='atkins highschool'>,\n",
       " <re.Match object; span=(0, 27), match='lexington senior highschool'>,\n",
       " <re.Match object; span=(0, 17), match='temple highschool'>,\n",
       " <re.Match object; span=(0, 22), match='forest hill highschool'>,\n",
       " <re.Match object; span=(0, 21), match='pittsfield highschool'>,\n",
       " <re.Match object; span=(0, 19), match='matanzas highschool'>,\n",
       " <re.Match object; span=(0, 18), match='pontiac highschool'>]"
      ]
     },
     "execution_count": 17,
     "metadata": {},
     "output_type": "execute_result"
    },
    {
     "data": {
      "text/plain": [
       "['',\n",
       " 'huron',\n",
       " 'thomson',\n",
       " '',\n",
       " 'clovis east',\n",
       " 'camden jr.',\n",
       " 'jackson junior',\n",
       " 'emmett junior',\n",
       " 'atkins',\n",
       " 'lexington senior',\n",
       " 'temple',\n",
       " 'forest hill',\n",
       " 'pittsfield',\n",
       " 'matanzas',\n",
       " 'pontiac']"
      ]
     },
     "execution_count": 17,
     "metadata": {},
     "output_type": "execute_result"
    }
   ],
   "source": [
    "## using the test_pat_examples and want to get things like huron, thomson, clovis east\n",
    "prehs_pattern = r\"(.*)\\s+(highschool)(\\s+)?(\\w+)?\"\n",
    "\n",
    "schoolname_preh_matchobj  = [re.match(prehs_pattern, school) \n",
    "                             for school in test_pat_examples]\n",
    "\n",
    "schoolname_preh_matchobj\n",
    "\n",
    "## get the first group if exists; else return empty string\n",
    "schoolname_preh = [obj.group(1) if obj else \"\" \n",
    "                   for obj in schoolname_preh_matchobj]\n",
    "schoolname_preh"
   ]
  }
 ],
 "metadata": {
  "kernelspec": {
   "display_name": "Python 3 (ipykernel)",
   "language": "python",
   "name": "python3"
  },
  "language_info": {
   "codemirror_mode": {
    "name": "ipython",
    "version": 3
   },
   "file_extension": ".py",
   "mimetype": "text/x-python",
   "name": "python",
   "nbconvert_exporter": "python",
   "pygments_lexer": "ipython3",
   "version": "3.10.5"
  }
 },
 "nbformat": 4,
 "nbformat_minor": 4
}
