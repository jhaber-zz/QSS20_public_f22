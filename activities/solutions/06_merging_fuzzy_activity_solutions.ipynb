{
 "cells": [
  {
   "cell_type": "markdown",
   "metadata": {},
   "source": [
    "# Imports "
   ]
  },
  {
   "cell_type": "code",
   "execution_count": 1,
   "metadata": {},
   "outputs": [],
   "source": [
    "import pandas as pd\n",
    "import re \n",
    "import numpy as np\n",
    "import os\n",
    "\n",
    "import recordlinkage\n",
    "\n",
    "## repeated printouts\n",
    "from IPython.core.interactiveshell import InteractiveShell\n",
    "InteractiveShell.ast_node_interactivity = \"all\""
   ]
  },
  {
   "cell_type": "markdown",
   "metadata": {},
   "source": [
    "# Run code to load data\n",
    "\n",
    "Reminder: if you moved this activity notebook, you'll need to change the pathname since the relative pathname below relates to the folder structure of our class repo; recommend using the `os.getcwd()` command if lost"
   ]
  },
  {
   "cell_type": "code",
   "execution_count": 2,
   "metadata": {},
   "outputs": [
    {
     "data": {
      "text/plain": [
       "Index(['dba_name', 'business_owner_name', 'naics_code', 'address_no',\n",
       "       'address_pd', 'address_road', 'address_sfx', 'address_city',\n",
       "       'address_zip', 'zip_6dig'],\n",
       "      dtype='object')"
      ]
     },
     "execution_count": 2,
     "metadata": {},
     "output_type": "execute_result"
    },
    {
     "data": {
      "text/plain": [
       "Index(['BorrowerName', 'BorrowerAddress', 'BorrowerCity', 'BorrowerZip',\n",
       "       'FranchiseName', 'NAICSCode', 'BorrowerZip_6dig', 'Race', 'Ethnicity'],\n",
       "      dtype='object')"
      ]
     },
     "execution_count": 2,
     "metadata": {},
     "output_type": "execute_result"
    }
   ],
   "source": [
    "sd = pd.read_csv(\"../../public_data/sd_forfuzzy.csv\")\n",
    "ppp = pd.read_csv(\"../../public_data/ppploans_forfuzzy.csv\")\n",
    "sd.columns\n",
    "ppp.columns"
   ]
  },
  {
   "cell_type": "markdown",
   "metadata": {},
   "source": [
    "# Activity\n",
    "\n",
    "1. Clean the address fields in the respective data sets (eg replace NaN in the San Diego data address fields with \"\" and then paste together)\n"
   ]
  },
  {
   "cell_type": "code",
   "execution_count": 3,
   "metadata": {},
   "outputs": [
    {
     "name": "stdout",
     "output_type": "stream",
     "text": [
      "same result\n"
     ]
    }
   ],
   "source": [
    "# your code to clean address in san diego data\n",
    "\n",
    "## step 1: replace NA with \"\" \n",
    "### get address cols\n",
    "sd_address = [col for col in sd.columns if \"address\" in col]\n",
    "\n",
    "### replace NA for those with \"\"\n",
    "sd[sd_address] = sd[sd_address].fillna(\"\")\n",
    "\n",
    "## step 2: paste together\n",
    "### more manual way\n",
    "sd['address_merged_manual'] = sd.address_no + \" \" + sd.address_pd + \" \" + sd.address_road + \" \" + sd.address_sfx \n",
    "\n",
    "### more automatic way- using row-wise join\n",
    "### to separate by a space\n",
    "sd['address_merged'] = sd[['address_no', 'address_pd', 'address_road', \n",
    "                               'address_sfx']].agg(' '.join, axis=1) \n",
    "\n",
    "if all(sd.address_merged_manual == sd.address_merged):\n",
    "    print(\"same result\")"
   ]
  },
  {
   "cell_type": "markdown",
   "metadata": {},
   "source": [
    "2. Clean the naics code fields in the datasets to extract the first two digits\n"
   ]
  },
  {
   "cell_type": "code",
   "execution_count": 4,
   "metadata": {},
   "outputs": [],
   "source": [
    "# your code to shorten naics code to 2 digits\n",
    "sd['naics_2'] = sd.naics_code.astype(str).str[0:2]\n",
    "ppp['naics_2'] = ppp.NAICSCode.astype(str).str[0:2]\n"
   ]
  },
  {
   "cell_type": "markdown",
   "metadata": {},
   "source": [
    "3. Write code to fuzzy match using different variables to block on between zip code, city name, 2-digit naics sector, etc.; you can either write this code step by step as in the codeexample notebook or consolidate into a function"
   ]
  },
  {
   "cell_type": "code",
   "execution_count": 5,
   "metadata": {},
   "outputs": [],
   "source": [
    "## application 1: blocking on zip code and naics 2-dig\n",
    "\n",
    "### rename 6-dig zip to same in both df\n",
    "### doing in-place rename of PPP to \n",
    "### name in sd\n",
    "ppp.rename(columns = {'BorrowerZip_6dig': 'zip_6dig'},\n",
    "          inplace = True)\n"
   ]
  },
  {
   "cell_type": "code",
   "execution_count": 6,
   "metadata": {},
   "outputs": [
    {
     "data": {
      "text/plain": [
       "<Index>"
      ]
     },
     "execution_count": 6,
     "metadata": {},
     "output_type": "execute_result"
    },
    {
     "data": {
      "text/plain": [
       "<Compare>"
      ]
     },
     "execution_count": 6,
     "metadata": {},
     "output_type": "execute_result"
    },
    {
     "data": {
      "text/plain": [
       "<Compare>"
      ]
     },
     "execution_count": 6,
     "metadata": {},
     "output_type": "execute_result"
    },
    {
     "data": {
      "text/html": [
       "<div>\n",
       "<style scoped>\n",
       "    .dataframe tbody tr th:only-of-type {\n",
       "        vertical-align: middle;\n",
       "    }\n",
       "\n",
       "    .dataframe tbody tr th {\n",
       "        vertical-align: top;\n",
       "    }\n",
       "\n",
       "    .dataframe thead th {\n",
       "        text-align: right;\n",
       "    }\n",
       "</style>\n",
       "<table border=\"1\" class=\"dataframe\">\n",
       "  <thead>\n",
       "    <tr style=\"text-align: right;\">\n",
       "      <th></th>\n",
       "      <th>sd_index</th>\n",
       "      <th>ppp_index</th>\n",
       "    </tr>\n",
       "  </thead>\n",
       "  <tbody>\n",
       "    <tr>\n",
       "      <th>0</th>\n",
       "      <td>170</td>\n",
       "      <td>2934</td>\n",
       "    </tr>\n",
       "    <tr>\n",
       "      <th>1</th>\n",
       "      <td>10</td>\n",
       "      <td>2652</td>\n",
       "    </tr>\n",
       "    <tr>\n",
       "      <th>2</th>\n",
       "      <td>114</td>\n",
       "      <td>2583</td>\n",
       "    </tr>\n",
       "    <tr>\n",
       "      <th>3</th>\n",
       "      <td>222</td>\n",
       "      <td>3707</td>\n",
       "    </tr>\n",
       "    <tr>\n",
       "      <th>4</th>\n",
       "      <td>95</td>\n",
       "      <td>4620</td>\n",
       "    </tr>\n",
       "  </tbody>\n",
       "</table>\n",
       "</div>"
      ],
      "text/plain": [
       "   sd_index  ppp_index\n",
       "0       170       2934\n",
       "1        10       2652\n",
       "2       114       2583\n",
       "3       222       3707\n",
       "4        95       4620"
      ]
     },
     "execution_count": 6,
     "metadata": {},
     "output_type": "execute_result"
    },
    {
     "data": {
      "text/html": [
       "<div>\n",
       "<style scoped>\n",
       "    .dataframe tbody tr th:only-of-type {\n",
       "        vertical-align: middle;\n",
       "    }\n",
       "\n",
       "    .dataframe tbody tr th {\n",
       "        vertical-align: top;\n",
       "    }\n",
       "\n",
       "    .dataframe thead th {\n",
       "        text-align: right;\n",
       "    }\n",
       "</style>\n",
       "<table border=\"1\" class=\"dataframe\">\n",
       "  <thead>\n",
       "    <tr style=\"text-align: right;\">\n",
       "      <th></th>\n",
       "      <th>BorrowerName</th>\n",
       "      <th>dba_name</th>\n",
       "      <th>BorrowerAddress</th>\n",
       "      <th>address_merged</th>\n",
       "      <th>naics_2_SDtaxdata</th>\n",
       "      <th>naics_2_PPPloandata</th>\n",
       "    </tr>\n",
       "  </thead>\n",
       "  <tbody>\n",
       "    <tr>\n",
       "      <th>0</th>\n",
       "      <td>THE LAW OFFICES OF RONSON J. SHAMOUN, APC</td>\n",
       "      <td>LAW OFFICES OF THOMAS T LORD</td>\n",
       "      <td>303 A ST</td>\n",
       "      <td>401 W A ST</td>\n",
       "      <td>54</td>\n",
       "      <td>54</td>\n",
       "    </tr>\n",
       "    <tr>\n",
       "      <th>1</th>\n",
       "      <td>IDSOLUTIONS INC</td>\n",
       "      <td>IDS GROUP INC</td>\n",
       "      <td>2763 CAMINO DEL RIO SOUTH</td>\n",
       "      <td>4445  CAMINO DEL RIO SOUTH</td>\n",
       "      <td>54</td>\n",
       "      <td>54</td>\n",
       "    </tr>\n",
       "    <tr>\n",
       "      <th>2</th>\n",
       "      <td>BRIERTON JONES &amp;#X26; JONES LLP</td>\n",
       "      <td>BRIERTON JONES &amp; JONES LLP</td>\n",
       "      <td>1550 HOTEL CIRCLE N STE 300</td>\n",
       "      <td>1550  HOTEL CIR</td>\n",
       "      <td>54</td>\n",
       "      <td>54</td>\n",
       "    </tr>\n",
       "    <tr>\n",
       "      <th>3</th>\n",
       "      <td>INNO TECH MANUFACTURING INC.</td>\n",
       "      <td>INNO TECH MANUFACTURING INC</td>\n",
       "      <td>10109 CARROLL CANYON RD</td>\n",
       "      <td>10109  CARROLL CANYON RD</td>\n",
       "      <td>33</td>\n",
       "      <td>33</td>\n",
       "    </tr>\n",
       "    <tr>\n",
       "      <th>4</th>\n",
       "      <td>BENEFIT PRO INSURANCE SERVICES, INC.</td>\n",
       "      <td>FIRST COMMAND FINANCIAL SERVICES INC</td>\n",
       "      <td>2655 CAMINO DEL RIO</td>\n",
       "      <td>2650  CAMINO DEL RIO NORTH</td>\n",
       "      <td>52</td>\n",
       "      <td>52</td>\n",
       "    </tr>\n",
       "    <tr>\n",
       "      <th>5</th>\n",
       "      <td>HERITAGE TAX AND INSURANCE SERVICES INC</td>\n",
       "      <td>FIRST COMMAND FINANCIAL SERVICES INC</td>\n",
       "      <td>2650 CAMINO  N 350</td>\n",
       "      <td>2650  CAMINO DEL RIO NORTH</td>\n",
       "      <td>52</td>\n",
       "      <td>52</td>\n",
       "    </tr>\n",
       "    <tr>\n",
       "      <th>6</th>\n",
       "      <td>SAN DIEGO GASTROENTEROLOGY MEDICAL ASSOC</td>\n",
       "      <td>BALBOA NEPHROLOGY MEDICAL GROUP INC</td>\n",
       "      <td>4060 4TH AVE STE 240</td>\n",
       "      <td>4060  04TH AVE</td>\n",
       "      <td>62</td>\n",
       "      <td>62</td>\n",
       "    </tr>\n",
       "    <tr>\n",
       "      <th>7</th>\n",
       "      <td>BEACH PARTNERS LLC</td>\n",
       "      <td>BEACH BUMZZ LLC</td>\n",
       "      <td>718 VENTURA PLACE</td>\n",
       "      <td>978  GARNET AVE</td>\n",
       "      <td>72</td>\n",
       "      <td>72</td>\n",
       "    </tr>\n",
       "    <tr>\n",
       "      <th>8</th>\n",
       "      <td>BKM OFFICEWORKS, LLC</td>\n",
       "      <td>BKM OFFICEWORKS</td>\n",
       "      <td>4780 EASTGATE MALL #100</td>\n",
       "      <td>4780  EASTGATE MALL</td>\n",
       "      <td>42</td>\n",
       "      <td>42</td>\n",
       "    </tr>\n",
       "    <tr>\n",
       "      <th>9</th>\n",
       "      <td>SAN DIEGO SPORTS MEDICINE AND FAMILY HEALTH CE...</td>\n",
       "      <td>SAN DIEGO SPORTS MEDICINE &amp; FAMILY HEALTH CNTR</td>\n",
       "      <td>6699 ALVARADO RD Ste 2100</td>\n",
       "      <td>6699  ALVARADO RD</td>\n",
       "      <td>62</td>\n",
       "      <td>62</td>\n",
       "    </tr>\n",
       "    <tr>\n",
       "      <th>10</th>\n",
       "      <td>CONTRACTING CONCEPTS, INC.</td>\n",
       "      <td>CONTRACTING CONCEPTS INC</td>\n",
       "      <td>4965 71st Street</td>\n",
       "      <td>4965  71ST ST</td>\n",
       "      <td>23</td>\n",
       "      <td>23</td>\n",
       "    </tr>\n",
       "    <tr>\n",
       "      <th>11</th>\n",
       "      <td>CONTRACTING CONCEPTS INC.</td>\n",
       "      <td>CONTRACTING CONCEPTS INC</td>\n",
       "      <td>4965 71st St</td>\n",
       "      <td>4965  71ST ST</td>\n",
       "      <td>23</td>\n",
       "      <td>23</td>\n",
       "    </tr>\n",
       "    <tr>\n",
       "      <th>12</th>\n",
       "      <td>DURAN FREIGHT CORPORATION</td>\n",
       "      <td>DURAN FREIGHT CORPORATION</td>\n",
       "      <td>7295 SIEMPRE VIVA RD</td>\n",
       "      <td>7295  SIEMPRE VIVA RD</td>\n",
       "      <td>48</td>\n",
       "      <td>48</td>\n",
       "    </tr>\n",
       "  </tbody>\n",
       "</table>\n",
       "</div>"
      ],
      "text/plain": [
       "                                         BorrowerName  \\\n",
       "0           THE LAW OFFICES OF RONSON J. SHAMOUN, APC   \n",
       "1                                     IDSOLUTIONS INC   \n",
       "2                     BRIERTON JONES &#X26; JONES LLP   \n",
       "3                        INNO TECH MANUFACTURING INC.   \n",
       "4                BENEFIT PRO INSURANCE SERVICES, INC.   \n",
       "5             HERITAGE TAX AND INSURANCE SERVICES INC   \n",
       "6            SAN DIEGO GASTROENTEROLOGY MEDICAL ASSOC   \n",
       "7                                  BEACH PARTNERS LLC   \n",
       "8                                BKM OFFICEWORKS, LLC   \n",
       "9   SAN DIEGO SPORTS MEDICINE AND FAMILY HEALTH CE...   \n",
       "10                         CONTRACTING CONCEPTS, INC.   \n",
       "11                          CONTRACTING CONCEPTS INC.   \n",
       "12                          DURAN FREIGHT CORPORATION   \n",
       "\n",
       "                                          dba_name  \\\n",
       "0                     LAW OFFICES OF THOMAS T LORD   \n",
       "1                                    IDS GROUP INC   \n",
       "2                       BRIERTON JONES & JONES LLP   \n",
       "3                     INNO TECH MANUFACTURING INC    \n",
       "4             FIRST COMMAND FINANCIAL SERVICES INC   \n",
       "5             FIRST COMMAND FINANCIAL SERVICES INC   \n",
       "6              BALBOA NEPHROLOGY MEDICAL GROUP INC   \n",
       "7                                  BEACH BUMZZ LLC   \n",
       "8                                  BKM OFFICEWORKS   \n",
       "9   SAN DIEGO SPORTS MEDICINE & FAMILY HEALTH CNTR   \n",
       "10                        CONTRACTING CONCEPTS INC   \n",
       "11                        CONTRACTING CONCEPTS INC   \n",
       "12                       DURAN FREIGHT CORPORATION   \n",
       "\n",
       "                BorrowerAddress               address_merged  \\\n",
       "0                      303 A ST                   401 W A ST   \n",
       "1     2763 CAMINO DEL RIO SOUTH  4445  CAMINO DEL RIO SOUTH    \n",
       "2   1550 HOTEL CIRCLE N STE 300              1550  HOTEL CIR   \n",
       "3       10109 CARROLL CANYON RD     10109  CARROLL CANYON RD   \n",
       "4           2655 CAMINO DEL RIO  2650  CAMINO DEL RIO NORTH    \n",
       "5            2650 CAMINO  N 350  2650  CAMINO DEL RIO NORTH    \n",
       "6          4060 4TH AVE STE 240               4060  04TH AVE   \n",
       "7             718 VENTURA PLACE              978  GARNET AVE   \n",
       "8       4780 EASTGATE MALL #100          4780  EASTGATE MALL   \n",
       "9     6699 ALVARADO RD Ste 2100            6699  ALVARADO RD   \n",
       "10             4965 71st Street                4965  71ST ST   \n",
       "11                 4965 71st St                4965  71ST ST   \n",
       "12         7295 SIEMPRE VIVA RD        7295  SIEMPRE VIVA RD   \n",
       "\n",
       "   naics_2_SDtaxdata naics_2_PPPloandata  \n",
       "0                 54                  54  \n",
       "1                 54                  54  \n",
       "2                 54                  54  \n",
       "3                 33                  33  \n",
       "4                 52                  52  \n",
       "5                 52                  52  \n",
       "6                 62                  62  \n",
       "7                 72                  72  \n",
       "8                 42                  42  \n",
       "9                 62                  62  \n",
       "10                23                  23  \n",
       "11                23                  23  \n",
       "12                48                  48  "
      ]
     },
     "execution_count": 6,
     "metadata": {},
     "output_type": "execute_result"
    }
   ],
   "source": [
    "################ Step 1: blocking (exact matches) ###########\n",
    "### initialize an indexer,  tell it blocking var(s), compute candidate links\n",
    "indexer = recordlinkage.Index()\n",
    "indexer.block(['naics_2', 'zip_6dig'])\n",
    "candidate_links = indexer.index(sd, ppp)\n",
    "\n",
    "################ Step 2: fuzzy comparison ###########\n",
    "### initialize a compare class and tell it what strings\n",
    "### to compare (doing address and bname here)\n",
    "thres = 0.7\n",
    "c = recordlinkage.Compare()\n",
    "c.string('dba_name', 'BorrowerName', \n",
    "               method='jarowinkler', threshold= thres)\n",
    "c.string('address_merged', 'BorrowerAddress',\n",
    "              method = \"jarowinkler\", threshold = thres)\n",
    "\n",
    "################ Step 3: combine exact and fuzzy ###########\n",
    "compare_naicszipnameadd = c.compute(candidate_links, sd, ppp)\n",
    "ecm = recordlinkage.ECMClassifier()\n",
    "predicted_matches_ecm = pd.DataFrame(\\\n",
    "                        list(ecm.fit_predict(compare_naicszipnameadd)),\n",
    "                        columns = ['sd_index', 'ppp_index'])\n",
    "predicted_matches_ecm.head() # gives us indices in each data\n",
    "\n",
    "################ Step 4: convert indices to usable data ###########\n",
    "## here, we're using inner join and restricting to only matches\n",
    "sd['sd_index'] = sd.index\n",
    "m1_addsd = pd.merge(predicted_matches_ecm,\n",
    "                   sd[['dba_name', 'sd_index',\n",
    "                    'address_merged', \"naics_2\"]],\n",
    "                   on = \"sd_index\",\n",
    "                   how = \"inner\")\n",
    "ppp['ppp_index'] = ppp.index\n",
    "m2_addp = pd.merge(m1_addsd, \n",
    "                  ppp[['BorrowerName', \n",
    "                        'ppp_index', 'BorrowerAddress',\n",
    "                        'naics_2']],\n",
    "                  on = \"ppp_index\",\n",
    "                  how = \"inner\",\n",
    "                  suffixes = [\"_SDtaxdata\", \"_PPPloandata\"])\n",
    "\n",
    "m2_addp[['BorrowerName', 'dba_name',\n",
    "        \"BorrowerAddress\", 'address_merged',\n",
    "        'naics_2_SDtaxdata',\n",
    "        'naics_2_PPPloandata']] # see some true and some false pos"
   ]
  }
 ],
 "metadata": {
  "kernelspec": {
   "display_name": "Python 3",
   "language": "python",
   "name": "python3"
  },
  "language_info": {
   "codemirror_mode": {
    "name": "ipython",
    "version": 3
   },
   "file_extension": ".py",
   "mimetype": "text/x-python",
   "name": "python",
   "nbconvert_exporter": "python",
   "pygments_lexer": "ipython3",
   "version": "3.8.3"
  }
 },
 "nbformat": 4,
 "nbformat_minor": 4
}
