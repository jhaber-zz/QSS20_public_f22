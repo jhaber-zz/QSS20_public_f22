{
 "cells": [
  {
   "cell_type": "markdown",
   "metadata": {},
   "source": [
    "# Imports"
   ]
  },
  {
   "cell_type": "code",
   "execution_count": 1,
   "metadata": {},
   "outputs": [],
   "source": [
    "## imports\n",
    "import pandas as pd\n",
    "import re\n",
    "import numpy as np\n",
    "\n",
    "## print multiple things from same cell\n",
    "from IPython.core.interactiveshell import InteractiveShell\n",
    "InteractiveShell.ast_node_interactivity = \"all\""
   ]
  },
  {
   "cell_type": "markdown",
   "metadata": {},
   "source": [
    "# Load data and show examples"
   ]
  },
  {
   "cell_type": "code",
   "execution_count": 2,
   "metadata": {},
   "outputs": [],
   "source": [
    "## read in data \n",
    "cep_optin = pd.read_excel(\"https://frac.org/wp-content/uploads/2021SY-CEP_Database_Export.xlsx\")\n",
    "\n",
    "## clean up colnames and make schoolname lowercase\n",
    "new_colnames = [re.sub(\"[^A-Za-z0-9]+\", \"\", col.lower()) for col in cep_optin.columns]\n",
    "cep_optin.columns = new_colnames\n",
    "cep_optin['schoolname_lower'] = cep_optin.schoolname.str.lower()"
   ]
  },
  {
   "cell_type": "code",
   "execution_count": 3,
   "metadata": {},
   "outputs": [],
   "source": [
    "cols_keep = [\"schoolname_lower\", \"individualispjune2020\", \"participatingincepsy2021\"]\n"
   ]
  },
  {
   "cell_type": "code",
   "execution_count": 4,
   "metadata": {},
   "outputs": [],
   "source": [
    "## things to grab 1: elementary schools\n",
    "cep_optin['is_elem'] = np.where(cep_optin.schoolname_lower.str.contains(\"\\s+elem\", regex = True),\n",
    "                True, False)\n",
    "\n",
    "test_schools = cep_optin.loc[(cep_optin.is_elem) &\n",
    "               (cep_optin.schoolname_lower.str.contains(\"elem\\\\.\")) |\n",
    "               (cep_optin.schoolname_lower.str.contains(\"elem\")) |\n",
    "               (cep_optin.schoolname_lower.str.contains(\"elementary\")) |\n",
    "               (cep_optin.schoolname_lower.str.contains(\"esd\")),\n",
    "            'schoolname_lower'].sample(n = 30, random_state = 470)\n",
    "test_schools_show_ids = test_schools.iloc[13:23].index\n",
    "elem_torbind = cep_optin.loc[cep_optin.index.isin(test_schools_show_ids),\n",
    "                       cols_keep].copy().rename(columns = \n",
    "                    {'schoolname_lower': 'schoolname'})\n",
    "elem_torbind['is_elem_exercise'] = True \n",
    "elem_torbind['is_charter_exercise'] = False\n",
    "elem_torbind['is_highschool_exercise'] = False\n",
    "\n",
    "## things to grab 2: charter schools\n",
    "charter_examples = cep_optin.schoolname_lower[cep_optin.schoolname_lower.astype(str).\\\n",
    "                    str.contains(\"charter\")].sample(n = 8,\n",
    "                    random_state = 422).to_list()\n",
    "other_examples = cep_optin.schoolname_lower[~cep_optin.schoolname_lower.astype(str).\\\n",
    "                    str.contains(\"charter\")].sample(n = 8,\n",
    "                    random_state = 422).to_list()\n",
    "combined_examples = charter_examples + other_examples\n",
    "charter_torbind = cep_optin.loc[cep_optin.schoolname_lower.isin(combined_examples),\n",
    "                       cols_keep].copy().rename(columns = \n",
    "                    {'schoolname_lower': 'schoolname'})\n",
    "charter_torbind['is_elem_exercise'] = False\n",
    "charter_torbind['is_charter_exercise'] = True \n",
    "charter_torbind['is_highschool_exercise'] = False \n",
    "\n",
    "## things to grab 3: high schools for self directed activities\n",
    "hs_torbind = cep_optin.loc[cep_optin.schoolname_lower.astype(str).\\\n",
    "                    str.contains(\"high|hs\"), cols_keep].sample(n = 15,\n",
    "                    random_state = 422).rename(columns = \n",
    "                    {'schoolname_lower': 'schoolname'})\n",
    "hs_torbind['is_elem_exercise'] = False\n",
    "hs_torbind['is_charter_exercise'] = False \n",
    "hs_torbind['is_highschool_exercise'] = True\n"
   ]
  },
  {
   "cell_type": "code",
   "execution_count": 16,
   "metadata": {},
   "outputs": [],
   "source": [
    "## rowbind the three using pd.concat \n",
    "schools_df = pd.concat([elem_torbind, charter_torbind, hs_torbind]).drop_duplicates(subset = 'schoolname')\n",
    "\n",
    "## write to private_data\n",
    "schools_df.to_csv(\"../../../public_data/schools_df.csv\", index = False)\n",
    "\n"
   ]
  }
 ],
 "metadata": {
  "kernelspec": {
   "display_name": "Python 3",
   "language": "python",
   "name": "python3"
  },
  "language_info": {
   "codemirror_mode": {
    "name": "ipython",
    "version": 3
   },
   "file_extension": ".py",
   "mimetype": "text/x-python",
   "name": "python",
   "nbconvert_exporter": "python",
   "pygments_lexer": "ipython3",
   "version": "3.8.3"
  }
 },
 "nbformat": 4,
 "nbformat_minor": 4
}
