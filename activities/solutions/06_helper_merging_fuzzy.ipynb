{
 "cells": [
  {
   "cell_type": "markdown",
   "metadata": {},
   "source": [
    "# Imports "
   ]
  },
  {
   "cell_type": "code",
   "execution_count": 1,
   "metadata": {},
   "outputs": [],
   "source": [
    "import pandas as pd\n",
    "import re \n",
    "import numpy as np\n",
    "\n",
    "## repeated printouts\n",
    "from IPython.core.interactiveshell import InteractiveShell\n",
    "InteractiveShell.ast_node_interactivity = \"all\""
   ]
  },
  {
   "cell_type": "code",
   "execution_count": 2,
   "metadata": {},
   "outputs": [],
   "source": [
    "\n",
    "## nltk for string distance\n",
    "import nltk\n",
    "\n",
    "## jarowinkler\n",
    "from pyjarowinkler import distance"
   ]
  },
  {
   "cell_type": "markdown",
   "metadata": {},
   "source": [
    "# Prep data for activities"
   ]
  },
  {
   "cell_type": "code",
   "execution_count": 3,
   "metadata": {},
   "outputs": [],
   "source": [
    "## general link: https://data.sandiego.gov/datasets/business-listings/\n",
    "\n",
    "## active tax certificates\n",
    "sd = pd.read_csv(\"https://seshat.datasd.org/ttcs/sd_businesses_active_datasd.csv\")\n"
   ]
  },
  {
   "cell_type": "code",
   "execution_count": 4,
   "metadata": {},
   "outputs": [],
   "source": [
    "ppp = pd.read_csv(\"https://data.sba.gov/dataset/8aa276e2-6cab-4f86-aca4-a7dde42adf24/resource/c84fa84d-c047-4b66-8056-5748f6a2bfca/download/public_150k_plus_220102.csv\")"
   ]
  },
  {
   "cell_type": "code",
   "execution_count": 5,
   "metadata": {},
   "outputs": [],
   "source": [
    "ppp['BorrowerZip_6dig'] = ppp.BorrowerZip.str.replace(\"\\-.*\", \"\",\n",
    "                                        regex = True)\n",
    "\n",
    "sd[\"zip_6dig\"] = sd.address_zip.str.replace(\"\\-.*\", \"\",\n",
    "                                        regex = True)"
   ]
  },
  {
   "cell_type": "code",
   "execution_count": 7,
   "metadata": {},
   "outputs": [],
   "source": [
    "ppp_SD = ppp.loc[(ppp.BorrowerState == \"CA\") &\n",
    "            (ppp.BorrowerZip_6dig.isin(sd.zip_6dig)) &\n",
    "            (ppp.BorrowerCity.isin([\"San Diego\", \"SAN DIEGO\"]))].copy().drop_duplicates()\n",
    "\n",
    "## subset these further\n",
    "ppp_helpfulfields = [\"BorrowerName\", \"BorrowerAddress\", \"BorrowerCity\", \n",
    "                    \"BorrowerZip\", \"FranchiseName\", \"NAICSCode\", \"BorrowerZip_6dig\",\n",
    "                    \"Race\", \"Ethnicity\"]\n",
    "sd_helpfulfields = [\"dba_name\", \"business_owner_name\", \"naics_code\", \n",
    "                    \"address_no\", \"address_pd\", \"address_road\",\n",
    "                    \"address_sfx\", \"address_city\", \"address_zip\",\n",
    "                   \"zip_6dig\"]\n",
    "\n",
    "klein_patt = r\".*(\\s+)?KLEINFELDER\\s+.*\"\n",
    "klein_possible = [biz for biz in sd.dba_name\n",
    "                 if re.match(klein_patt, biz) is not None]\n",
    "\n",
    "duran_patt = r\".*(\\s+)?DURAN\\s+.*\"\n",
    "duran_possible = [biz for biz in sd.dba_name\n",
    "                 if re.match(duran_patt, biz) is not None]\n",
    "\n",
    "\n",
    "## subset SD data to make more manageable\n",
    "sd_limrows = pd.concat([sd[sd.dba_name.isin(klein_possible)].copy(),\n",
    "        sd[~sd.dba_name.isin(klein_possible)].sample(n = 400, \n",
    "        random_state = 922).copy(),\n",
    "    sd[sd.dba_name == \"DURAN FREIGHT CORPORATION\"],\n",
    "    sd[sd.dba_name.str.contains(\"Salon on 30th\", case = False)],\n",
    "    sd[sd.dba_name.str.contains(\"Maranatha\", case = False)]]).drop_duplicates()\n",
    "\n",
    "## subset and write \n",
    "sd_limrows[sd_helpfulfields].drop_duplicates().to_csv(\"../../../public_data/sd_forfuzzy.csv\", index = False)\n",
    "ppp_SD[ppp_helpfulfields].drop_duplicates().to_csv(\"../../../public_data/ppploans_forfuzzy.csv\", index = False)"
   ]
  }
 ],
 "metadata": {
  "kernelspec": {
   "display_name": "Python 3",
   "language": "python",
   "name": "python3"
  },
  "language_info": {
   "codemirror_mode": {
    "name": "ipython",
    "version": 3
   },
   "file_extension": ".py",
   "mimetype": "text/x-python",
   "name": "python",
   "nbconvert_exporter": "python",
   "pygments_lexer": "ipython3",
   "version": "3.8.3"
  }
 },
 "nbformat": 4,
 "nbformat_minor": 4
}
